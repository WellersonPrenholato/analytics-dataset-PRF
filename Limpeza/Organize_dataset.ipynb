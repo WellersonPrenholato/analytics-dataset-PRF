{
 "cells": [
  {
   "cell_type": "markdown",
   "metadata": {
    "heading_collapsed": true
   },
   "source": [
    "# Biblioteca"
   ]
  },
  {
   "cell_type": "code",
   "execution_count": 1,
   "metadata": {
    "ExecuteTime": {
     "end_time": "2021-01-06T21:52:24.859937Z",
     "start_time": "2021-01-06T21:52:23.846929Z"
    },
    "hidden": true
   },
   "outputs": [],
   "source": [
    "import pandas as pd"
   ]
  },
  {
   "cell_type": "markdown",
   "metadata": {
    "heading_collapsed": true
   },
   "source": [
    "# Carregamento de dados"
   ]
  },
  {
   "cell_type": "code",
   "execution_count": 2,
   "metadata": {
    "ExecuteTime": {
     "end_time": "2021-01-06T21:52:24.869927Z",
     "start_time": "2021-01-06T21:52:24.864928Z"
    },
    "hidden": true
   },
   "outputs": [],
   "source": [
    "endereco = '../BaseDadosSelecionados/'\n",
    "# endereco2 = 'Agrupado_Ocorrencia'\n",
    "nomeArq = 'ES_datatran2019'"
   ]
  },
  {
   "cell_type": "code",
   "execution_count": 3,
   "metadata": {
    "ExecuteTime": {
     "end_time": "2021-01-06T21:52:24.980926Z",
     "start_time": "2021-01-06T21:52:24.878926Z"
    },
    "hidden": true
   },
   "outputs": [],
   "source": [
    "data = pd.read_csv(endereco + nomeArq + '.csv', encoding='ISO-8859-1', sep=';')"
   ]
  },
  {
   "cell_type": "code",
   "execution_count": 4,
   "metadata": {
    "ExecuteTime": {
     "end_time": "2021-01-06T21:52:25.019927Z",
     "start_time": "2021-01-06T21:52:24.984926Z"
    },
    "hidden": true
   },
   "outputs": [
    {
     "data": {
      "text/plain": [
       "(2842, 30)"
      ]
     },
     "execution_count": 4,
     "metadata": {},
     "output_type": "execute_result"
    }
   ],
   "source": [
    "data.shape"
   ]
  },
  {
   "cell_type": "markdown",
   "metadata": {},
   "source": [
    "# Remoção da coluna ES "
   ]
  },
  {
   "cell_type": "code",
   "execution_count": 5,
   "metadata": {
    "ExecuteTime": {
     "end_time": "2021-01-06T21:52:25.075931Z",
     "start_time": "2021-01-06T21:52:25.022925Z"
    }
   },
   "outputs": [
    {
     "data": {
      "text/plain": [
       "SR-ES    2842\n",
       "Name: regional, dtype: int64"
      ]
     },
     "execution_count": 5,
     "metadata": {},
     "output_type": "execute_result"
    }
   ],
   "source": [
    "data['regional'].value_counts()"
   ]
  },
  {
   "cell_type": "code",
   "execution_count": 6,
   "metadata": {
    "ExecuteTime": {
     "end_time": "2021-01-06T21:52:25.108924Z",
     "start_time": "2021-01-06T21:52:25.084931Z"
    }
   },
   "outputs": [
    {
     "data": {
      "text/plain": [
       "ES    2842\n",
       "Name: uf, dtype: int64"
      ]
     },
     "execution_count": 6,
     "metadata": {},
     "output_type": "execute_result"
    }
   ],
   "source": [
    "data['uf'].value_counts()"
   ]
  },
  {
   "cell_type": "code",
   "execution_count": 7,
   "metadata": {
    "ExecuteTime": {
     "end_time": "2021-01-06T21:52:25.140925Z",
     "start_time": "2021-01-06T21:52:25.119930Z"
    }
   },
   "outputs": [],
   "source": [
    "# Remoção dessas colunas, pq as instâncias dessas colunas são iguais em todas linhas\n",
    "colRemove = ['uf', 'regional']\n",
    "\n",
    "#Percorre o vetor removendo esses elementos existentes no dataset\n",
    "for coluna in colRemove:\n",
    "    data.drop(coluna, inplace=True, axis=1)"
   ]
  },
  {
   "cell_type": "markdown",
   "metadata": {},
   "source": [
    "# Numerar coluna uso_solo (Binário)"
   ]
  },
  {
   "cell_type": "code",
   "execution_count": null,
   "metadata": {},
   "outputs": [],
   "source": []
  },
  {
   "cell_type": "code",
   "execution_count": null,
   "metadata": {},
   "outputs": [],
   "source": []
  },
  {
   "cell_type": "markdown",
   "metadata": {},
   "source": [
    "# Salvando o dataframe"
   ]
  },
  {
   "cell_type": "code",
   "execution_count": 8,
   "metadata": {
    "ExecuteTime": {
     "end_time": "2021-01-06T21:52:25.334924Z",
     "start_time": "2021-01-06T21:52:25.148927Z"
    }
   },
   "outputs": [],
   "source": [
    "data.to_csv( '../BaseDadosSelecionados/' + nomeArq + '.csv', encoding='ISO-8859-1', sep=';', index=False)"
   ]
  }
 ],
 "metadata": {
  "kernelspec": {
   "display_name": "Python 3",
   "language": "python",
   "name": "python3"
  },
  "language_info": {
   "codemirror_mode": {
    "name": "ipython",
    "version": 3
   },
   "file_extension": ".py",
   "mimetype": "text/x-python",
   "name": "python",
   "nbconvert_exporter": "python",
   "pygments_lexer": "ipython3",
   "version": "3.7.4"
  }
 },
 "nbformat": 4,
 "nbformat_minor": 4
}
