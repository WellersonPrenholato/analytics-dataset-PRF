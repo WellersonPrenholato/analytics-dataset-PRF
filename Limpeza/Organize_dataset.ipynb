{
 "cells": [
  {
   "cell_type": "markdown",
   "metadata": {},
   "source": [
    "# 1 - Limpa e organiza o dataset\n",
    "1º Algorimto a ser executado após os filtros - Limpando e organizando o dataset."
   ]
  },
  {
   "cell_type": "markdown",
   "metadata": {
    "heading_collapsed": true
   },
   "source": [
    "# Biblioteca"
   ]
  },
  {
   "cell_type": "code",
   "execution_count": 490,
   "metadata": {
    "ExecuteTime": {
     "end_time": "2021-07-09T05:15:36.437924Z",
     "start_time": "2021-07-09T05:15:36.430921Z"
    },
    "hidden": true
   },
   "outputs": [],
   "source": [
    "import pandas as pd\n",
    "import numpy as np"
   ]
  },
  {
   "cell_type": "markdown",
   "metadata": {},
   "source": [
    "# Carregamento de dados"
   ]
  },
  {
   "cell_type": "code",
   "execution_count": 491,
   "metadata": {
    "ExecuteTime": {
     "end_time": "2021-07-09T05:15:36.452920Z",
     "start_time": "2021-07-09T05:15:36.441921Z"
    }
   },
   "outputs": [],
   "source": [
    "endereco = '../BaseDadosSelecionados/'\n",
    "# endereco2 = 'Agrupado_Ocorrencia'\n",
    "nomeArq = 'ES_datatran2020'"
   ]
  },
  {
   "cell_type": "code",
   "execution_count": 492,
   "metadata": {
    "ExecuteTime": {
     "end_time": "2021-07-09T05:15:36.513919Z",
     "start_time": "2021-07-09T05:15:36.456921Z"
    }
   },
   "outputs": [],
   "source": [
    "data = pd.read_csv(endereco + nomeArq + '.csv', encoding='ISO-8859-1', sep=';')"
   ]
  },
  {
   "cell_type": "code",
   "execution_count": 493,
   "metadata": {
    "ExecuteTime": {
     "end_time": "2021-07-09T05:15:36.529922Z",
     "start_time": "2021-07-09T05:15:36.518922Z"
    }
   },
   "outputs": [
    {
     "data": {
      "text/plain": [
       "(2268, 26)"
      ]
     },
     "execution_count": 493,
     "metadata": {},
     "output_type": "execute_result"
    }
   ],
   "source": [
    "data.shape"
   ]
  },
  {
   "cell_type": "markdown",
   "metadata": {},
   "source": [
    "# Remover atributos com dados NULOS"
   ]
  },
  {
   "cell_type": "code",
   "execution_count": 494,
   "metadata": {
    "ExecuteTime": {
     "end_time": "2021-07-09T05:15:36.561919Z",
     "start_time": "2021-07-09T05:15:36.533921Z"
    }
   },
   "outputs": [],
   "source": [
    "#Gera um arquivo .txt com a quantidade de atributos nulos por coluna\n",
    "data.isnull().sum().to_csv('QtdNullAtributos_' + nomeArq + '.csv', sep=';')"
   ]
  },
  {
   "cell_type": "code",
   "execution_count": 1,
   "metadata": {
    "ExecuteTime": {
     "end_time": "2021-07-10T00:38:17.876218Z",
     "start_time": "2021-07-10T00:38:17.832219Z"
    }
   },
   "outputs": [],
   "source": [
    "# data.isnull().sum()"
   ]
  },
  {
   "cell_type": "code",
   "execution_count": 496,
   "metadata": {
    "ExecuteTime": {
     "end_time": "2021-07-09T05:15:36.655920Z",
     "start_time": "2021-07-09T05:15:36.632923Z"
    }
   },
   "outputs": [
    {
     "data": {
      "text/plain": [
       "(2268, 26)"
      ]
     },
     "execution_count": 496,
     "metadata": {},
     "output_type": "execute_result"
    }
   ],
   "source": [
    "data.shape"
   ]
  },
  {
   "cell_type": "code",
   "execution_count": 497,
   "metadata": {
    "ExecuteTime": {
     "end_time": "2021-07-09T05:15:36.687921Z",
     "start_time": "2021-07-09T05:15:36.661922Z"
    }
   },
   "outputs": [],
   "source": [
    "data.dropna(inplace=True)"
   ]
  },
  {
   "cell_type": "code",
   "execution_count": 498,
   "metadata": {
    "ExecuteTime": {
     "end_time": "2021-07-09T05:15:36.719921Z",
     "start_time": "2021-07-09T05:15:36.691921Z"
    }
   },
   "outputs": [
    {
     "data": {
      "text/plain": [
       "(2268, 26)"
      ]
     },
     "execution_count": 498,
     "metadata": {},
     "output_type": "execute_result"
    }
   ],
   "source": [
    "data.shape"
   ]
  },
  {
   "cell_type": "code",
   "execution_count": 499,
   "metadata": {
    "ExecuteTime": {
     "end_time": "2021-07-09T05:15:36.735923Z",
     "start_time": "2021-07-09T05:15:36.723921Z"
    }
   },
   "outputs": [],
   "source": [
    "# data.isnull().sum()"
   ]
  },
  {
   "cell_type": "markdown",
   "metadata": {
    "heading_collapsed": true
   },
   "source": [
    "# Verificação de tipos"
   ]
  },
  {
   "cell_type": "code",
   "execution_count": 500,
   "metadata": {
    "ExecuteTime": {
     "end_time": "2021-07-09T05:15:36.767929Z",
     "start_time": "2021-07-09T05:15:36.740921Z"
    },
    "hidden": true
   },
   "outputs": [
    {
     "data": {
      "text/plain": [
       "id                        float64\n",
       "data_inversa               object\n",
       "dia_semana                 object\n",
       "horario                    object\n",
       "br                        float64\n",
       "km                         object\n",
       "municipio                  object\n",
       "causa_acidente             object\n",
       "tipo_acidente              object\n",
       "classificacao_acidente     object\n",
       "fase_dia                   object\n",
       "sentido_via                object\n",
       "condicao_metereologica     object\n",
       "tipo_pista                 object\n",
       "tracado_via                object\n",
       "uso_solo                   object\n",
       "pessoas                     int64\n",
       "mortos                      int64\n",
       "feridos_leves               int64\n",
       "feridos_graves              int64\n",
       "ilesos                      int64\n",
       "ignorados                   int64\n",
       "feridos                     int64\n",
       "veiculos                    int64\n",
       "latitude                   object\n",
       "longitude                  object\n",
       "dtype: object"
      ]
     },
     "execution_count": 500,
     "metadata": {},
     "output_type": "execute_result"
    }
   ],
   "source": [
    "data.dtypes"
   ]
  },
  {
   "cell_type": "markdown",
   "metadata": {
    "heading_collapsed": true
   },
   "source": [
    "# Ordenar dataset de acordo com o data_inversa"
   ]
  },
  {
   "cell_type": "code",
   "execution_count": 501,
   "metadata": {
    "ExecuteTime": {
     "end_time": "2021-07-09T05:15:36.783921Z",
     "start_time": "2021-07-09T05:15:36.772922Z"
    },
    "hidden": true
   },
   "outputs": [],
   "source": [
    "# Converte as datas para Datetime\n",
    "# data['data_inversa'] = pd.to_datetime(data['data_inversa'])"
   ]
  },
  {
   "cell_type": "code",
   "execution_count": 502,
   "metadata": {
    "ExecuteTime": {
     "end_time": "2021-07-09T05:15:36.815923Z",
     "start_time": "2021-07-09T05:15:36.798923Z"
    },
    "hidden": true
   },
   "outputs": [],
   "source": [
    "# Ordena pela data e salva em um novo DataFrame\n",
    "# data = data.sort_values(by='data_inversa', inplace=True)"
   ]
  },
  {
   "cell_type": "markdown",
   "metadata": {},
   "source": [
    "# Mudança dos dados para o tipo numérico"
   ]
  },
  {
   "cell_type": "code",
   "execution_count": 503,
   "metadata": {
    "ExecuteTime": {
     "end_time": "2021-07-09T05:15:36.847923Z",
     "start_time": "2021-07-09T05:15:36.824924Z"
    }
   },
   "outputs": [],
   "source": [
    "listMudanca = ['dia_semana', 'classificacao_acidente', 'fase_dia', 'sentido_via', 'condicao_metereologica', 'tipo_pista', 'tracado_via', 'uso_solo']"
   ]
  },
  {
   "cell_type": "code",
   "execution_count": 504,
   "metadata": {
    "ExecuteTime": {
     "end_time": "2021-07-09T05:15:37.003921Z",
     "start_time": "2021-07-09T05:15:36.852921Z"
    }
   },
   "outputs": [
    {
     "name": "stdout",
     "output_type": "stream",
     "text": [
      "INDEX: 1\n",
      "*** ANTES ***\n",
      "sábado           372\n",
      "sexta-feira      367\n",
      "domingo          347\n",
      "segunda-feira    312\n",
      "quarta-feira     306\n",
      "quinta-feira     304\n",
      "terça-feira      260\n",
      "Name: dia_semana, dtype: int64\n",
      "=================================\n",
      "*** DEPOIS ***\n",
      "5    372\n",
      "4    367\n",
      "0    347\n",
      "3    312\n",
      "1    306\n",
      "2    304\n",
      "6    260\n",
      "Name: dia_semana, dtype: int64\n",
      "================================================\n",
      "\n",
      "\n",
      "INDEX: 2\n",
      "*** ANTES ***\n",
      "Com Vítimas Feridas    1891\n",
      "Sem Vítimas             267\n",
      "Com Vítimas Fatais      110\n",
      "Name: classificacao_acidente, dtype: int64\n",
      "=================================\n",
      "*** DEPOIS ***\n",
      "1    1891\n",
      "2     267\n",
      "0     110\n",
      "Name: classificacao_acidente, dtype: int64\n",
      "================================================\n",
      "\n",
      "\n",
      "INDEX: 3\n",
      "*** ANTES ***\n",
      "Pleno dia      1216\n",
      "Plena Noite     820\n",
      "Anoitecer       147\n",
      "Amanhecer        85\n",
      "Name: fase_dia, dtype: int64\n",
      "=================================\n",
      "*** DEPOIS ***\n",
      "3    1216\n",
      "2     820\n",
      "1     147\n",
      "0      85\n",
      "Name: fase_dia, dtype: int64\n",
      "================================================\n",
      "\n",
      "\n",
      "INDEX: 4\n",
      "*** ANTES ***\n",
      "Crescente      1277\n",
      "Decrescente     991\n",
      "Name: sentido_via, dtype: int64\n",
      "=================================\n",
      "*** DEPOIS ***\n",
      "0    1277\n",
      "1     991\n",
      "Name: sentido_via, dtype: int64\n",
      "================================================\n",
      "\n",
      "\n",
      "INDEX: 5\n",
      "*** ANTES ***\n",
      "Céu Claro           1235\n",
      "Nublado              493\n",
      "Chuva                274\n",
      "Sol                  193\n",
      "Garoa/Chuvisco        50\n",
      "Ignorado              12\n",
      "Nevoeiro/Neblina      11\n",
      "Name: condicao_metereologica, dtype: int64\n",
      "=================================\n",
      "*** DEPOIS ***\n",
      "1    1235\n",
      "5     493\n",
      "0     274\n",
      "6     193\n",
      "2      50\n",
      "3      12\n",
      "4      11\n",
      "Name: condicao_metereologica, dtype: int64\n",
      "================================================\n",
      "\n",
      "\n",
      "INDEX: 6\n",
      "*** ANTES ***\n",
      "Simples     1259\n",
      "Dupla        643\n",
      "Múltipla     366\n",
      "Name: tipo_pista, dtype: int64\n",
      "=================================\n",
      "*** DEPOIS ***\n",
      "2    1259\n",
      "0     643\n",
      "1     366\n",
      "Name: tipo_pista, dtype: int64\n",
      "================================================\n",
      "\n",
      "\n",
      "INDEX: 7\n",
      "*** ANTES ***\n",
      "Reta                     1302\n",
      "Curva                     407\n",
      "Interseção de vias        198\n",
      "Não Informado             187\n",
      "Desvio Temporário          64\n",
      "Retorno Regulamentado      43\n",
      "Rotatória                  33\n",
      "Ponte                      16\n",
      "Viaduto                    16\n",
      "Túnel                       2\n",
      "Name: tracado_via, dtype: int64\n",
      "=================================\n",
      "*** DEPOIS ***\n",
      "5    1302\n",
      "0     407\n",
      "2     198\n",
      "3     187\n",
      "1      64\n",
      "6      43\n",
      "7      33\n",
      "9      16\n",
      "4      16\n",
      "8       2\n",
      "Name: tracado_via, dtype: int64\n",
      "================================================\n",
      "\n",
      "\n",
      "INDEX: 8\n",
      "*** ANTES ***\n",
      "Sim    1145\n",
      "Não    1123\n",
      "Name: uso_solo, dtype: int64\n",
      "=================================\n",
      "*** DEPOIS ***\n",
      "1    1145\n",
      "0    1123\n",
      "Name: uso_solo, dtype: int64\n",
      "================================================\n",
      "\n",
      "\n"
     ]
    }
   ],
   "source": [
    "index = 1\n",
    "for i in listMudanca:\n",
    "    print(\"INDEX: {}\".format(index))\n",
    "    print(\"*** ANTES ***\")\n",
    "    print(data[i].value_counts())\n",
    "    data[i] = data[i].astype('category')\n",
    "\n",
    "    # Transforma as strings em dados numéricos (preservando a categoria)\n",
    "    data[i] = data[i].cat.codes\n",
    "    print('=================================')\n",
    "    print(\"*** DEPOIS ***\")\n",
    "    print(data[i].value_counts())\n",
    "    print('================================================')\n",
    "    print('\\n')\n",
    "    index+=1"
   ]
  },
  {
   "cell_type": "markdown",
   "metadata": {
    "heading_collapsed": true
   },
   "source": [
    "## Modelo individual"
   ]
  },
  {
   "cell_type": "code",
   "execution_count": 505,
   "metadata": {
    "ExecuteTime": {
     "end_time": "2021-07-09T05:15:37.019920Z",
     "start_time": "2021-07-09T05:15:37.007921Z"
    },
    "hidden": true
   },
   "outputs": [],
   "source": [
    "# data['classificacao_acidente'].value_counts()"
   ]
  },
  {
   "cell_type": "code",
   "execution_count": 506,
   "metadata": {
    "ExecuteTime": {
     "end_time": "2021-07-09T05:15:37.052930Z",
     "start_time": "2021-07-09T05:15:37.024920Z"
    },
    "hidden": true
   },
   "outputs": [],
   "source": [
    "# data['classificacao_acidente'] = data['classificacao_acidente'].astype('category')\n",
    "\n",
    "# # Transforma as strings em dados numéricos (preservando a categoria)\n",
    "# data['classificacao_acidente'] = data['classificacao_acidente'].cat.codes"
   ]
  },
  {
   "cell_type": "code",
   "execution_count": 507,
   "metadata": {
    "ExecuteTime": {
     "end_time": "2021-07-09T05:15:37.084482Z",
     "start_time": "2021-07-09T05:15:37.060921Z"
    },
    "hidden": true,
    "scrolled": true
   },
   "outputs": [],
   "source": [
    "# data['classificacao_acidente'].value_counts()"
   ]
  },
  {
   "cell_type": "markdown",
   "metadata": {
    "heading_collapsed": true
   },
   "source": [
    "# Mudança da vírgula para ponto em latitude e longitude"
   ]
  },
  {
   "cell_type": "code",
   "execution_count": 508,
   "metadata": {
    "ExecuteTime": {
     "end_time": "2021-07-09T05:15:37.148990Z",
     "start_time": "2021-07-09T05:15:37.089922Z"
    },
    "hidden": true
   },
   "outputs": [],
   "source": [
    "data[\"br\"] = data[\"br\"].astype(str)\n",
    "data[\"km\"] = data[\"km\"].astype(str)\n",
    "data[\"latitude\"] = data[\"latitude\"].astype(str)\n",
    "data[\"longitude\"] = data[\"longitude\"].astype(str)\n",
    "\n",
    "# data[\"latitude\"] = [x.replace(',', '.') for x in data[\"latitude\"]]\n",
    "# data[\"latitude\"] = data[\"latitude\"].astype(float)\n",
    "data[\"br\"] = data[\"br\"].str.replace(',', '.')\n",
    "data[\"km\"] = data[\"km\"].str.replace(',', '.')\n",
    "\n",
    "data[\"latitude\"] = data[\"latitude\"].str.replace(',', '.')\n",
    "data[\"longitude\"] = data[\"longitude\"].str.replace(',', '.')"
   ]
  },
  {
   "cell_type": "code",
   "execution_count": 509,
   "metadata": {
    "ExecuteTime": {
     "end_time": "2021-07-09T05:15:37.178986Z",
     "start_time": "2021-07-09T05:15:37.159986Z"
    },
    "hidden": true
   },
   "outputs": [],
   "source": [
    "# data.head(5)"
   ]
  },
  {
   "cell_type": "markdown",
   "metadata": {},
   "source": [
    "# Salvando o dataframe"
   ]
  },
  {
   "cell_type": "code",
   "execution_count": 510,
   "metadata": {
    "ExecuteTime": {
     "end_time": "2021-07-09T05:15:37.288039Z",
     "start_time": "2021-07-09T05:15:37.189006Z"
    }
   },
   "outputs": [],
   "source": [
    "data.to_csv( '../BaseDadosSelecionados/' + nomeArq + '_OrganizadoTeste.csv', encoding='ISO-8859-1', sep=';', index=False)"
   ]
  }
 ],
 "metadata": {
  "kernelspec": {
   "display_name": "Python 3",
   "language": "python",
   "name": "python3"
  },
  "language_info": {
   "codemirror_mode": {
    "name": "ipython",
    "version": 3
   },
   "file_extension": ".py",
   "mimetype": "text/x-python",
   "name": "python",
   "nbconvert_exporter": "python",
   "pygments_lexer": "ipython3",
   "version": "3.8.5"
  }
 },
 "nbformat": 4,
 "nbformat_minor": 4
}
