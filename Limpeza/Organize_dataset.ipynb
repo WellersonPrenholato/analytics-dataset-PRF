{
 "cells": [
  {
   "cell_type": "markdown",
   "metadata": {},
   "source": [
    "# 1 - Limpa e organiza o dataset\n",
    "1º Algorimto a ser executado após os filtros - Limpando e organizando o dataset."
   ]
  },
  {
   "cell_type": "markdown",
   "metadata": {},
   "source": [
    "# Biblioteca"
   ]
  },
  {
   "cell_type": "code",
   "execution_count": 23,
   "metadata": {
    "ExecuteTime": {
     "end_time": "2021-11-25T04:14:59.840581Z",
     "start_time": "2021-11-25T04:14:59.826579Z"
    }
   },
   "outputs": [],
   "source": [
    "import pandas as pd\n",
    "import numpy as np"
   ]
  },
  {
   "cell_type": "markdown",
   "metadata": {},
   "source": [
    "# Carregamento de dados"
   ]
  },
  {
   "cell_type": "code",
   "execution_count": 24,
   "metadata": {
    "ExecuteTime": {
     "end_time": "2021-11-25T04:14:59.856586Z",
     "start_time": "2021-11-25T04:14:59.844581Z"
    }
   },
   "outputs": [],
   "source": [
    "anoArq = '2016'"
   ]
  },
  {
   "cell_type": "code",
   "execution_count": 25,
   "metadata": {
    "ExecuteTime": {
     "end_time": "2021-11-25T04:14:59.872581Z",
     "start_time": "2021-11-25T04:14:59.861582Z"
    }
   },
   "outputs": [],
   "source": [
    "endereco = '../BaseDadosSelecionados/'\n",
    "# endereco2 = 'Agrupado_Ocorrencia'\n",
    "nomeArq = 'ES_datatran'+ anoArq"
   ]
  },
  {
   "cell_type": "code",
   "execution_count": 26,
   "metadata": {
    "ExecuteTime": {
     "end_time": "2021-11-25T04:14:59.935581Z",
     "start_time": "2021-11-25T04:14:59.876580Z"
    }
   },
   "outputs": [],
   "source": [
    "data = pd.read_csv(endereco + nomeArq + '.csv', encoding='ISO-8859-1', sep=';')"
   ]
  },
  {
   "cell_type": "code",
   "execution_count": 27,
   "metadata": {
    "ExecuteTime": {
     "end_time": "2021-11-25T04:14:59.951585Z",
     "start_time": "2021-11-25T04:14:59.940581Z"
    }
   },
   "outputs": [
    {
     "data": {
      "text/plain": [
       "(3004, 26)"
      ]
     },
     "execution_count": 27,
     "metadata": {},
     "output_type": "execute_result"
    }
   ],
   "source": [
    "data.shape"
   ]
  },
  {
   "cell_type": "markdown",
   "metadata": {
    "heading_collapsed": true
   },
   "source": [
    "# Remover atributos com dados NULOS"
   ]
  },
  {
   "cell_type": "code",
   "execution_count": 28,
   "metadata": {
    "ExecuteTime": {
     "end_time": "2021-11-25T04:14:59.984585Z",
     "start_time": "2021-11-25T04:14:59.956581Z"
    },
    "hidden": true
   },
   "outputs": [],
   "source": [
    "#Gera um arquivo .txt com a quantidade de atributos nulos por coluna\n",
    "data.isnull().sum().to_csv('QtdNullAtributos_' + nomeArq + '.csv', sep=';')"
   ]
  },
  {
   "cell_type": "code",
   "execution_count": 29,
   "metadata": {
    "ExecuteTime": {
     "end_time": "2021-11-25T04:14:59.997583Z",
     "start_time": "2021-11-25T04:14:59.990582Z"
    },
    "hidden": true
   },
   "outputs": [],
   "source": [
    "# data.isnull().sum()"
   ]
  },
  {
   "cell_type": "code",
   "execution_count": 30,
   "metadata": {
    "ExecuteTime": {
     "end_time": "2021-11-25T04:15:00.029581Z",
     "start_time": "2021-11-25T04:15:00.015581Z"
    },
    "hidden": true
   },
   "outputs": [
    {
     "data": {
      "text/plain": [
       "(3004, 26)"
      ]
     },
     "execution_count": 30,
     "metadata": {},
     "output_type": "execute_result"
    }
   ],
   "source": [
    "data.shape"
   ]
  },
  {
   "cell_type": "code",
   "execution_count": 31,
   "metadata": {
    "ExecuteTime": {
     "end_time": "2021-11-25T04:15:00.075583Z",
     "start_time": "2021-11-25T04:15:00.040578Z"
    },
    "hidden": true
   },
   "outputs": [],
   "source": [
    "data.dropna(inplace=True)"
   ]
  },
  {
   "cell_type": "code",
   "execution_count": 32,
   "metadata": {
    "ExecuteTime": {
     "end_time": "2021-11-25T04:15:00.105579Z",
     "start_time": "2021-11-25T04:15:00.078579Z"
    },
    "hidden": true
   },
   "outputs": [
    {
     "data": {
      "text/plain": [
       "(3003, 26)"
      ]
     },
     "execution_count": 32,
     "metadata": {},
     "output_type": "execute_result"
    }
   ],
   "source": [
    "data.shape"
   ]
  },
  {
   "cell_type": "code",
   "execution_count": 33,
   "metadata": {
    "ExecuteTime": {
     "end_time": "2021-11-25T04:15:00.120581Z",
     "start_time": "2021-11-25T04:15:00.109581Z"
    },
    "hidden": true
   },
   "outputs": [],
   "source": [
    "# data.isnull().sum()"
   ]
  },
  {
   "cell_type": "markdown",
   "metadata": {
    "heading_collapsed": true
   },
   "source": [
    "# Verificação de tipos"
   ]
  },
  {
   "cell_type": "code",
   "execution_count": 34,
   "metadata": {
    "ExecuteTime": {
     "end_time": "2021-11-25T04:15:00.152586Z",
     "start_time": "2021-11-25T04:15:00.125579Z"
    },
    "hidden": true
   },
   "outputs": [
    {
     "data": {
      "text/plain": [
       "id                          int64\n",
       "data_inversa               object\n",
       "dia_semana                 object\n",
       "horario                    object\n",
       "br                        float64\n",
       "km                         object\n",
       "municipio                  object\n",
       "causa_acidente             object\n",
       "tipo_acidente              object\n",
       "classificacao_acidente     object\n",
       "fase_dia                   object\n",
       "sentido_via                object\n",
       "condicao_metereologica     object\n",
       "tipo_pista                 object\n",
       "tracado_via                object\n",
       "uso_solo                   object\n",
       "pessoas                     int64\n",
       "mortos                      int64\n",
       "feridos_leves               int64\n",
       "feridos_graves              int64\n",
       "ilesos                      int64\n",
       "ignorados                   int64\n",
       "feridos                     int64\n",
       "veiculos                    int64\n",
       "latitude                   object\n",
       "longitude                  object\n",
       "dtype: object"
      ]
     },
     "execution_count": 34,
     "metadata": {},
     "output_type": "execute_result"
    }
   ],
   "source": [
    "data.dtypes"
   ]
  },
  {
   "cell_type": "markdown",
   "metadata": {
    "heading_collapsed": true
   },
   "source": [
    "# Mudança dos dados para o tipo numérico - (Não está sendo utilizado)"
   ]
  },
  {
   "cell_type": "code",
   "execution_count": 35,
   "metadata": {
    "ExecuteTime": {
     "end_time": "2021-11-25T04:15:00.170579Z",
     "start_time": "2021-11-25T04:15:00.157581Z"
    },
    "hidden": true
   },
   "outputs": [],
   "source": [
    "# listMudanca = ['dia_semana', 'classificacao_acidente', 'fase_dia', 'sentido_via', 'condicao_metereologica', 'tipo_pista', 'tracado_via', 'uso_solo']"
   ]
  },
  {
   "cell_type": "code",
   "execution_count": 36,
   "metadata": {
    "ExecuteTime": {
     "end_time": "2021-11-25T04:15:00.216581Z",
     "start_time": "2021-11-25T04:15:00.194579Z"
    },
    "hidden": true
   },
   "outputs": [],
   "source": [
    "# index = 1\n",
    "# for i in listMudanca:\n",
    "#     print(\"INDEX: {}\".format(index))\n",
    "#     print(\"*** ANTES ***\")\n",
    "#     print(data[i].value_counts())\n",
    "#     data[i] = data[i].astype('category')\n",
    "\n",
    "#     # Transforma as strings em dados numéricos (preservando a categoria)\n",
    "#     data[i] = data[i].cat.codes\n",
    "#     print('=================================')\n",
    "#     print(\"*** DEPOIS ***\")\n",
    "#     print(data[i].value_counts())\n",
    "#     print('================================================')\n",
    "#     print('\\n')\n",
    "#     index+=1"
   ]
  },
  {
   "cell_type": "markdown",
   "metadata": {
    "heading_collapsed": true,
    "hidden": true
   },
   "source": [
    "## Modelo individual"
   ]
  },
  {
   "cell_type": "code",
   "execution_count": 37,
   "metadata": {
    "ExecuteTime": {
     "end_time": "2021-11-25T04:15:00.232609Z",
     "start_time": "2021-11-25T04:15:00.221587Z"
    },
    "hidden": true
   },
   "outputs": [],
   "source": [
    "# data['classificacao_acidente'].value_counts()"
   ]
  },
  {
   "cell_type": "code",
   "execution_count": 38,
   "metadata": {
    "ExecuteTime": {
     "end_time": "2021-11-25T04:15:00.263585Z",
     "start_time": "2021-11-25T04:15:00.241582Z"
    },
    "hidden": true
   },
   "outputs": [],
   "source": [
    "# data['classificacao_acidente'] = data['classificacao_acidente'].astype('category')\n",
    "\n",
    "# # Transforma as strings em dados numéricos (preservando a categoria)\n",
    "# data['classificacao_acidente'] = data['classificacao_acidente'].cat.codes"
   ]
  },
  {
   "cell_type": "code",
   "execution_count": 39,
   "metadata": {
    "ExecuteTime": {
     "end_time": "2021-11-25T04:15:00.294578Z",
     "start_time": "2021-11-25T04:15:00.274579Z"
    },
    "hidden": true,
    "scrolled": true
   },
   "outputs": [],
   "source": [
    "# data['classificacao_acidente'].value_counts()"
   ]
  },
  {
   "cell_type": "markdown",
   "metadata": {
    "heading_collapsed": true
   },
   "source": [
    "# Mudança da vírgula para ponto em latitude e longitude"
   ]
  },
  {
   "cell_type": "code",
   "execution_count": 40,
   "metadata": {
    "ExecuteTime": {
     "end_time": "2021-11-25T04:15:00.357585Z",
     "start_time": "2021-11-25T04:15:00.304582Z"
    },
    "hidden": true
   },
   "outputs": [],
   "source": [
    "listCol = ['br', 'km', 'latitude', 'longitude']\n",
    "for i in listCol:\n",
    "    data[i] = data[i].astype(str)\n",
    "    data[i] = data[i].str.replace(',', '.')"
   ]
  },
  {
   "cell_type": "code",
   "execution_count": 41,
   "metadata": {
    "ExecuteTime": {
     "end_time": "2021-11-25T04:15:00.440579Z",
     "start_time": "2021-11-25T04:15:00.361581Z"
    },
    "hidden": true
   },
   "outputs": [
    {
     "data": {
      "text/html": [
       "<div>\n",
       "<style scoped>\n",
       "    .dataframe tbody tr th:only-of-type {\n",
       "        vertical-align: middle;\n",
       "    }\n",
       "\n",
       "    .dataframe tbody tr th {\n",
       "        vertical-align: top;\n",
       "    }\n",
       "\n",
       "    .dataframe thead th {\n",
       "        text-align: right;\n",
       "    }\n",
       "</style>\n",
       "<table border=\"1\" class=\"dataframe\">\n",
       "  <thead>\n",
       "    <tr style=\"text-align: right;\">\n",
       "      <th></th>\n",
       "      <th>id</th>\n",
       "      <th>data_inversa</th>\n",
       "      <th>dia_semana</th>\n",
       "      <th>horario</th>\n",
       "      <th>br</th>\n",
       "      <th>km</th>\n",
       "      <th>municipio</th>\n",
       "      <th>causa_acidente</th>\n",
       "      <th>tipo_acidente</th>\n",
       "      <th>classificacao_acidente</th>\n",
       "      <th>...</th>\n",
       "      <th>pessoas</th>\n",
       "      <th>mortos</th>\n",
       "      <th>feridos_leves</th>\n",
       "      <th>feridos_graves</th>\n",
       "      <th>ilesos</th>\n",
       "      <th>ignorados</th>\n",
       "      <th>feridos</th>\n",
       "      <th>veiculos</th>\n",
       "      <th>latitude</th>\n",
       "      <th>longitude</th>\n",
       "    </tr>\n",
       "  </thead>\n",
       "  <tbody>\n",
       "    <tr>\n",
       "      <th>0</th>\n",
       "      <td>102</td>\n",
       "      <td>2017-01-01</td>\n",
       "      <td>domingo</td>\n",
       "      <td>08:30:00</td>\n",
       "      <td>101.0</td>\n",
       "      <td>186.2</td>\n",
       "      <td>ARACRUZ</td>\n",
       "      <td>Falta de Atenção à Condução</td>\n",
       "      <td>Saída de leito carroçável</td>\n",
       "      <td>Sem Vítimas</td>\n",
       "      <td>...</td>\n",
       "      <td>1</td>\n",
       "      <td>0</td>\n",
       "      <td>0</td>\n",
       "      <td>0</td>\n",
       "      <td>1</td>\n",
       "      <td>0</td>\n",
       "      <td>0</td>\n",
       "      <td>1</td>\n",
       "      <td>-19.67777168</td>\n",
       "      <td>-40.26775181</td>\n",
       "    </tr>\n",
       "    <tr>\n",
       "      <th>1</th>\n",
       "      <td>144</td>\n",
       "      <td>2017-01-01</td>\n",
       "      <td>domingo</td>\n",
       "      <td>13:00:00</td>\n",
       "      <td>262.0</td>\n",
       "      <td>2.2</td>\n",
       "      <td>CARIACICA</td>\n",
       "      <td>Falta de Atenção à Condução</td>\n",
       "      <td>Colisão lateral</td>\n",
       "      <td>Com Vítimas Feridas</td>\n",
       "      <td>...</td>\n",
       "      <td>3</td>\n",
       "      <td>0</td>\n",
       "      <td>1</td>\n",
       "      <td>0</td>\n",
       "      <td>2</td>\n",
       "      <td>0</td>\n",
       "      <td>1</td>\n",
       "      <td>2</td>\n",
       "      <td>-20.36742859</td>\n",
       "      <td>-40.44379056</td>\n",
       "    </tr>\n",
       "    <tr>\n",
       "      <th>2</th>\n",
       "      <td>165</td>\n",
       "      <td>2017-01-01</td>\n",
       "      <td>domingo</td>\n",
       "      <td>15:15:00</td>\n",
       "      <td>262.0</td>\n",
       "      <td>174.3</td>\n",
       "      <td>IBATIBA</td>\n",
       "      <td>Falta de Atenção à Condução</td>\n",
       "      <td>Tombamento</td>\n",
       "      <td>Com Vítimas Feridas</td>\n",
       "      <td>...</td>\n",
       "      <td>2</td>\n",
       "      <td>0</td>\n",
       "      <td>2</td>\n",
       "      <td>0</td>\n",
       "      <td>0</td>\n",
       "      <td>0</td>\n",
       "      <td>2</td>\n",
       "      <td>1</td>\n",
       "      <td>-20.27113451</td>\n",
       "      <td>-41.62388474</td>\n",
       "    </tr>\n",
       "    <tr>\n",
       "      <th>3</th>\n",
       "      <td>195</td>\n",
       "      <td>2017-01-01</td>\n",
       "      <td>domingo</td>\n",
       "      <td>16:50:00</td>\n",
       "      <td>101.0</td>\n",
       "      <td>321</td>\n",
       "      <td>GUARAPARI</td>\n",
       "      <td>Ingestão de Álcool</td>\n",
       "      <td>Colisão transversal</td>\n",
       "      <td>Com Vítimas Feridas</td>\n",
       "      <td>...</td>\n",
       "      <td>3</td>\n",
       "      <td>0</td>\n",
       "      <td>1</td>\n",
       "      <td>0</td>\n",
       "      <td>2</td>\n",
       "      <td>0</td>\n",
       "      <td>1</td>\n",
       "      <td>2</td>\n",
       "      <td>-20.52170405</td>\n",
       "      <td>-40.4783535</td>\n",
       "    </tr>\n",
       "    <tr>\n",
       "      <th>4</th>\n",
       "      <td>197</td>\n",
       "      <td>2017-01-01</td>\n",
       "      <td>domingo</td>\n",
       "      <td>16:55:00</td>\n",
       "      <td>101.0</td>\n",
       "      <td>280.3</td>\n",
       "      <td>SERRA</td>\n",
       "      <td>Defeito Mecânico no Veículo</td>\n",
       "      <td>Colisão traseira</td>\n",
       "      <td>Com Vítimas Feridas</td>\n",
       "      <td>...</td>\n",
       "      <td>3</td>\n",
       "      <td>0</td>\n",
       "      <td>0</td>\n",
       "      <td>2</td>\n",
       "      <td>1</td>\n",
       "      <td>0</td>\n",
       "      <td>2</td>\n",
       "      <td>2</td>\n",
       "      <td>-20.22512156</td>\n",
       "      <td>-40.36140691</td>\n",
       "    </tr>\n",
       "  </tbody>\n",
       "</table>\n",
       "<p>5 rows × 26 columns</p>\n",
       "</div>"
      ],
      "text/plain": [
       "    id data_inversa dia_semana   horario     br     km  municipio  \\\n",
       "0  102   2017-01-01    domingo  08:30:00  101.0  186.2    ARACRUZ   \n",
       "1  144   2017-01-01    domingo  13:00:00  262.0    2.2  CARIACICA   \n",
       "2  165   2017-01-01    domingo  15:15:00  262.0  174.3    IBATIBA   \n",
       "3  195   2017-01-01    domingo  16:50:00  101.0    321  GUARAPARI   \n",
       "4  197   2017-01-01    domingo  16:55:00  101.0  280.3      SERRA   \n",
       "\n",
       "                causa_acidente              tipo_acidente  \\\n",
       "0  Falta de Atenção à Condução  Saída de leito carroçável   \n",
       "1  Falta de Atenção à Condução            Colisão lateral   \n",
       "2  Falta de Atenção à Condução                 Tombamento   \n",
       "3           Ingestão de Álcool        Colisão transversal   \n",
       "4  Defeito Mecânico no Veículo           Colisão traseira   \n",
       "\n",
       "  classificacao_acidente  ... pessoas mortos feridos_leves feridos_graves  \\\n",
       "0            Sem Vítimas  ...       1      0             0              0   \n",
       "1    Com Vítimas Feridas  ...       3      0             1              0   \n",
       "2    Com Vítimas Feridas  ...       2      0             2              0   \n",
       "3    Com Vítimas Feridas  ...       3      0             1              0   \n",
       "4    Com Vítimas Feridas  ...       3      0             0              2   \n",
       "\n",
       "  ilesos ignorados  feridos  veiculos      latitude     longitude  \n",
       "0      1         0        0         1  -19.67777168  -40.26775181  \n",
       "1      2         0        1         2  -20.36742859  -40.44379056  \n",
       "2      0         0        2         1  -20.27113451  -41.62388474  \n",
       "3      2         0        1         2  -20.52170405   -40.4783535  \n",
       "4      1         0        2         2  -20.22512156  -40.36140691  \n",
       "\n",
       "[5 rows x 26 columns]"
      ]
     },
     "execution_count": 41,
     "metadata": {},
     "output_type": "execute_result"
    }
   ],
   "source": [
    "data.head(5)"
   ]
  },
  {
   "cell_type": "markdown",
   "metadata": {
    "heading_collapsed": true
   },
   "source": [
    "# Ordenar dataset de acordo com o 'data_inversa'"
   ]
  },
  {
   "cell_type": "code",
   "execution_count": 42,
   "metadata": {
    "ExecuteTime": {
     "end_time": "2021-11-25T04:15:00.485578Z",
     "start_time": "2021-11-25T04:15:00.444580Z"
    },
    "hidden": true
   },
   "outputs": [],
   "source": [
    "# Converte as datas para Datetime\n",
    "data['data_inversa'] = pd.to_datetime(data['data_inversa'])"
   ]
  },
  {
   "cell_type": "code",
   "execution_count": 43,
   "metadata": {
    "ExecuteTime": {
     "end_time": "2021-11-25T04:15:00.517589Z",
     "start_time": "2021-11-25T04:15:00.489580Z"
    },
    "hidden": true
   },
   "outputs": [],
   "source": [
    "# Ordena pela data e salva em um novo DataFrame\n",
    "data = data.sort_values(by='data_inversa')"
   ]
  },
  {
   "cell_type": "markdown",
   "metadata": {},
   "source": [
    "# Salvando o dataframe"
   ]
  },
  {
   "cell_type": "code",
   "execution_count": 44,
   "metadata": {
    "ExecuteTime": {
     "end_time": "2021-11-25T04:15:00.533584Z",
     "start_time": "2021-11-25T04:15:00.526581Z"
    }
   },
   "outputs": [],
   "source": [
    "endereco2 = 'PorAno/'\n",
    "# endereco2 = 'PorData/'"
   ]
  },
  {
   "cell_type": "code",
   "execution_count": 45,
   "metadata": {
    "ExecuteTime": {
     "end_time": "2021-11-25T04:15:00.767016Z",
     "start_time": "2021-11-25T04:15:00.542579Z"
    }
   },
   "outputs": [],
   "source": [
    "data.to_csv( '../BaseDadosSelecionados/'+endereco2 + nomeArq + '_Organizado.csv', encoding='ISO-8859-1', sep=';', index=False)"
   ]
  }
 ],
 "metadata": {
  "kernelspec": {
   "display_name": "Python 3",
   "language": "python",
   "name": "python3"
  },
  "language_info": {
   "codemirror_mode": {
    "name": "ipython",
    "version": 3
   },
   "file_extension": ".py",
   "mimetype": "text/x-python",
   "name": "python",
   "nbconvert_exporter": "python",
   "pygments_lexer": "ipython3",
   "version": "3.8.5"
  }
 },
 "nbformat": 4,
 "nbformat_minor": 4
}
