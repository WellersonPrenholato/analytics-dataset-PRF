{
 "cells": [
  {
   "cell_type": "markdown",
   "metadata": {},
   "source": [
    "# Biblioteca"
   ]
  },
  {
   "cell_type": "code",
   "execution_count": 834,
   "metadata": {
    "ExecuteTime": {
     "end_time": "2021-03-12T00:24:32.277880Z",
     "start_time": "2021-03-12T00:24:32.265902Z"
    }
   },
   "outputs": [],
   "source": [
    "import pandas as pd\n",
    "import numpy as np"
   ]
  },
  {
   "cell_type": "markdown",
   "metadata": {},
   "source": [
    "# Carregamento de dados"
   ]
  },
  {
   "cell_type": "code",
   "execution_count": 835,
   "metadata": {
    "ExecuteTime": {
     "end_time": "2021-03-12T00:24:32.339766Z",
     "start_time": "2021-03-12T00:24:32.280877Z"
    }
   },
   "outputs": [],
   "source": [
    "endereco = '../BaseDadosSelecionados/'\n",
    "# endereco2 = 'Agrupado_Ocorrencia'\n",
    "nomeArq = 'ES_datatran2019'"
   ]
  },
  {
   "cell_type": "code",
   "execution_count": 836,
   "metadata": {
    "ExecuteTime": {
     "end_time": "2021-03-12T00:24:32.401752Z",
     "start_time": "2021-03-12T00:24:32.347762Z"
    }
   },
   "outputs": [],
   "source": [
    "data = pd.read_csv(endereco + nomeArq + '.csv', encoding='ISO-8859-1', sep=';')"
   ]
  },
  {
   "cell_type": "code",
   "execution_count": 837,
   "metadata": {
    "ExecuteTime": {
     "end_time": "2021-03-12T00:24:32.417746Z",
     "start_time": "2021-03-12T00:24:32.404754Z"
    }
   },
   "outputs": [
    {
     "data": {
      "text/plain": [
       "(2842, 26)"
      ]
     },
     "execution_count": 837,
     "metadata": {},
     "output_type": "execute_result"
    }
   ],
   "source": [
    "data.shape"
   ]
  },
  {
   "cell_type": "markdown",
   "metadata": {
    "heading_collapsed": true
   },
   "source": [
    "# Remover atributos com dados NULOS"
   ]
  },
  {
   "cell_type": "code",
   "execution_count": 838,
   "metadata": {
    "ExecuteTime": {
     "end_time": "2021-03-12T00:24:32.449729Z",
     "start_time": "2021-03-12T00:24:32.421744Z"
    },
    "hidden": true
   },
   "outputs": [],
   "source": [
    "#Gera um arquivo .txt com a quantidade de atributos nulos por coluna\n",
    "data.isnull().sum().to_csv('QtdNullAtributos_' + nomeArq + '.csv', sep=';')"
   ]
  },
  {
   "cell_type": "code",
   "execution_count": 839,
   "metadata": {
    "ExecuteTime": {
     "end_time": "2021-03-12T00:24:32.481709Z",
     "start_time": "2021-03-12T00:24:32.455729Z"
    },
    "hidden": true
   },
   "outputs": [
    {
     "data": {
      "text/plain": [
       "id                        0\n",
       "data_inversa              0\n",
       "dia_semana                0\n",
       "horario                   0\n",
       "br                        0\n",
       "km                        0\n",
       "municipio                 0\n",
       "causa_acidente            0\n",
       "tipo_acidente             0\n",
       "classificacao_acidente    0\n",
       "fase_dia                  0\n",
       "sentido_via               0\n",
       "condicao_metereologica    0\n",
       "tipo_pista                0\n",
       "tracado_via               0\n",
       "uso_solo                  0\n",
       "pessoas                   0\n",
       "mortos                    0\n",
       "feridos_leves             0\n",
       "feridos_graves            0\n",
       "ilesos                    0\n",
       "ignorados                 0\n",
       "feridos                   0\n",
       "veiculos                  0\n",
       "latitude                  0\n",
       "longitude                 0\n",
       "dtype: int64"
      ]
     },
     "execution_count": 839,
     "metadata": {},
     "output_type": "execute_result"
    }
   ],
   "source": [
    "data.isnull().sum()"
   ]
  },
  {
   "cell_type": "code",
   "execution_count": 840,
   "metadata": {
    "ExecuteTime": {
     "end_time": "2021-03-12T00:24:32.497213Z",
     "start_time": "2021-03-12T00:24:32.485228Z"
    },
    "hidden": true
   },
   "outputs": [
    {
     "data": {
      "text/plain": [
       "(2842, 26)"
      ]
     },
     "execution_count": 840,
     "metadata": {},
     "output_type": "execute_result"
    }
   ],
   "source": [
    "data.shape"
   ]
  },
  {
   "cell_type": "code",
   "execution_count": 841,
   "metadata": {
    "ExecuteTime": {
     "end_time": "2021-03-12T00:24:32.529347Z",
     "start_time": "2021-03-12T00:24:32.502209Z"
    },
    "hidden": true
   },
   "outputs": [],
   "source": [
    "data.dropna(inplace=True)"
   ]
  },
  {
   "cell_type": "code",
   "execution_count": 842,
   "metadata": {
    "ExecuteTime": {
     "end_time": "2021-03-12T00:24:32.545338Z",
     "start_time": "2021-03-12T00:24:32.533344Z"
    },
    "hidden": true
   },
   "outputs": [
    {
     "data": {
      "text/plain": [
       "(2842, 26)"
      ]
     },
     "execution_count": 842,
     "metadata": {},
     "output_type": "execute_result"
    }
   ],
   "source": [
    "data.shape"
   ]
  },
  {
   "cell_type": "code",
   "execution_count": 843,
   "metadata": {
    "ExecuteTime": {
     "end_time": "2021-03-12T00:24:32.577320Z",
     "start_time": "2021-03-12T00:24:32.548336Z"
    },
    "hidden": true
   },
   "outputs": [
    {
     "data": {
      "text/plain": [
       "id                        0\n",
       "data_inversa              0\n",
       "dia_semana                0\n",
       "horario                   0\n",
       "br                        0\n",
       "km                        0\n",
       "municipio                 0\n",
       "causa_acidente            0\n",
       "tipo_acidente             0\n",
       "classificacao_acidente    0\n",
       "fase_dia                  0\n",
       "sentido_via               0\n",
       "condicao_metereologica    0\n",
       "tipo_pista                0\n",
       "tracado_via               0\n",
       "uso_solo                  0\n",
       "pessoas                   0\n",
       "mortos                    0\n",
       "feridos_leves             0\n",
       "feridos_graves            0\n",
       "ilesos                    0\n",
       "ignorados                 0\n",
       "feridos                   0\n",
       "veiculos                  0\n",
       "latitude                  0\n",
       "longitude                 0\n",
       "dtype: int64"
      ]
     },
     "execution_count": 843,
     "metadata": {},
     "output_type": "execute_result"
    }
   ],
   "source": [
    "data.isnull().sum()"
   ]
  },
  {
   "cell_type": "markdown",
   "metadata": {},
   "source": [
    "# Numerar coluna uso_solo (Binário)"
   ]
  },
  {
   "cell_type": "code",
   "execution_count": 844,
   "metadata": {
    "ExecuteTime": {
     "end_time": "2021-03-12T00:24:32.623294Z",
     "start_time": "2021-03-12T00:24:32.583316Z"
    }
   },
   "outputs": [
    {
     "name": "stdout",
     "output_type": "stream",
     "text": [
      "<class 'pandas.core.frame.DataFrame'>\n",
      "Int64Index: 2842 entries, 0 to 2841\n",
      "Data columns (total 26 columns):\n",
      " #   Column                  Non-Null Count  Dtype  \n",
      "---  ------                  --------------  -----  \n",
      " 0   id                      2842 non-null   float64\n",
      " 1   data_inversa            2842 non-null   object \n",
      " 2   dia_semana              2842 non-null   object \n",
      " 3   horario                 2842 non-null   object \n",
      " 4   br                      2842 non-null   float64\n",
      " 5   km                      2842 non-null   object \n",
      " 6   municipio               2842 non-null   object \n",
      " 7   causa_acidente          2842 non-null   object \n",
      " 8   tipo_acidente           2842 non-null   object \n",
      " 9   classificacao_acidente  2842 non-null   object \n",
      " 10  fase_dia                2842 non-null   object \n",
      " 11  sentido_via             2842 non-null   object \n",
      " 12  condicao_metereologica  2842 non-null   object \n",
      " 13  tipo_pista              2842 non-null   object \n",
      " 14  tracado_via             2842 non-null   object \n",
      " 15  uso_solo                2842 non-null   object \n",
      " 16  pessoas                 2842 non-null   int64  \n",
      " 17  mortos                  2842 non-null   int64  \n",
      " 18  feridos_leves           2842 non-null   int64  \n",
      " 19  feridos_graves          2842 non-null   int64  \n",
      " 20  ilesos                  2842 non-null   int64  \n",
      " 21  ignorados               2842 non-null   int64  \n",
      " 22  feridos                 2842 non-null   int64  \n",
      " 23  veiculos                2842 non-null   int64  \n",
      " 24  latitude                2842 non-null   object \n",
      " 25  longitude               2842 non-null   object \n",
      "dtypes: float64(2), int64(8), object(16)\n",
      "memory usage: 599.5+ KB\n"
     ]
    }
   ],
   "source": [
    "data.info()"
   ]
  },
  {
   "cell_type": "code",
   "execution_count": 845,
   "metadata": {
    "ExecuteTime": {
     "end_time": "2021-03-12T00:24:32.653277Z",
     "start_time": "2021-03-12T00:24:32.629289Z"
    }
   },
   "outputs": [
    {
     "data": {
      "text/plain": [
       "Sim    1542\n",
       "Não    1300\n",
       "Name: uso_solo, dtype: int64"
      ]
     },
     "execution_count": 845,
     "metadata": {},
     "output_type": "execute_result"
    }
   ],
   "source": [
    "data['uso_solo'].value_counts()"
   ]
  },
  {
   "cell_type": "code",
   "execution_count": 846,
   "metadata": {
    "ExecuteTime": {
     "end_time": "2021-03-12T00:24:32.684258Z",
     "start_time": "2021-03-12T00:24:32.658273Z"
    }
   },
   "outputs": [],
   "source": [
    "data['uso_solo'] = data['uso_solo'].astype('category')"
   ]
  },
  {
   "cell_type": "code",
   "execution_count": 847,
   "metadata": {
    "ExecuteTime": {
     "end_time": "2021-03-12T00:24:32.714784Z",
     "start_time": "2021-03-12T00:24:32.689256Z"
    }
   },
   "outputs": [],
   "source": [
    "# Transforma as strings em dados numéricos (preservando a categoria)\n",
    "data['uso_solo'] = data['uso_solo'].cat.codes"
   ]
  },
  {
   "cell_type": "code",
   "execution_count": 848,
   "metadata": {
    "ExecuteTime": {
     "end_time": "2021-03-12T00:24:32.730774Z",
     "start_time": "2021-03-12T00:24:32.719780Z"
    }
   },
   "outputs": [],
   "source": [
    "# data.info()"
   ]
  },
  {
   "cell_type": "code",
   "execution_count": 849,
   "metadata": {
    "ExecuteTime": {
     "end_time": "2021-03-12T00:24:32.760758Z",
     "start_time": "2021-03-12T00:24:32.736771Z"
    },
    "scrolled": false
   },
   "outputs": [
    {
     "data": {
      "text/plain": [
       "1    1542\n",
       "0    1300\n",
       "Name: uso_solo, dtype: int64"
      ]
     },
     "execution_count": 849,
     "metadata": {},
     "output_type": "execute_result"
    }
   ],
   "source": [
    "data['uso_solo'].value_counts()"
   ]
  },
  {
   "cell_type": "markdown",
   "metadata": {},
   "source": [
    "# Mudança da vírgula para ponto em latitude e longitude"
   ]
  },
  {
   "cell_type": "code",
   "execution_count": 850,
   "metadata": {
    "ExecuteTime": {
     "end_time": "2021-03-12T00:24:32.792738Z",
     "start_time": "2021-03-12T00:24:32.768752Z"
    }
   },
   "outputs": [],
   "source": [
    "# data[\"latitude\"] = data[\"latitude\"].astype(str)\n",
    "data[\"latitude\"] = data[\"latitude\"].replace(',', '.', regex=True, inplace=True)\n",
    "# .replace('#', '.')\n",
    "# data[\"latitude\"] = data[\"latitude\"].astype('float64')"
   ]
  },
  {
   "cell_type": "code",
   "execution_count": 851,
   "metadata": {
    "ExecuteTime": {
     "end_time": "2021-03-12T00:24:32.916669Z",
     "start_time": "2021-03-12T00:24:32.797736Z"
    }
   },
   "outputs": [
    {
     "name": "stdout",
     "output_type": "stream",
     "text": [
      "<class 'pandas.core.frame.DataFrame'>\n",
      "Int64Index: 2842 entries, 0 to 2841\n",
      "Data columns (total 26 columns):\n",
      " #   Column                  Non-Null Count  Dtype  \n",
      "---  ------                  --------------  -----  \n",
      " 0   id                      2842 non-null   float64\n",
      " 1   data_inversa            2842 non-null   object \n",
      " 2   dia_semana              2842 non-null   object \n",
      " 3   horario                 2842 non-null   object \n",
      " 4   br                      2842 non-null   float64\n",
      " 5   km                      2842 non-null   object \n",
      " 6   municipio               2842 non-null   object \n",
      " 7   causa_acidente          2842 non-null   object \n",
      " 8   tipo_acidente           2842 non-null   object \n",
      " 9   classificacao_acidente  2842 non-null   object \n",
      " 10  fase_dia                2842 non-null   object \n",
      " 11  sentido_via             2842 non-null   object \n",
      " 12  condicao_metereologica  2842 non-null   object \n",
      " 13  tipo_pista              2842 non-null   object \n",
      " 14  tracado_via             2842 non-null   object \n",
      " 15  uso_solo                2842 non-null   int8   \n",
      " 16  pessoas                 2842 non-null   int64  \n",
      " 17  mortos                  2842 non-null   int64  \n",
      " 18  feridos_leves           2842 non-null   int64  \n",
      " 19  feridos_graves          2842 non-null   int64  \n",
      " 20  ilesos                  2842 non-null   int64  \n",
      " 21  ignorados               2842 non-null   int64  \n",
      " 22  feridos                 2842 non-null   int64  \n",
      " 23  veiculos                2842 non-null   int64  \n",
      " 24  latitude                2842 non-null   object \n",
      " 25  longitude               2842 non-null   object \n",
      "dtypes: float64(2), int64(8), int8(1), object(15)\n",
      "memory usage: 580.1+ KB\n"
     ]
    }
   ],
   "source": [
    "data.info()"
   ]
  },
  {
   "cell_type": "code",
   "execution_count": 852,
   "metadata": {
    "ExecuteTime": {
     "end_time": "2021-03-12T00:24:32.931665Z",
     "start_time": "2021-03-12T00:24:32.919667Z"
    }
   },
   "outputs": [],
   "source": [
    "# data[\"latitude\"] = [x.replace(\",\", \".\") for x in data[\"longitude\"]]"
   ]
  },
  {
   "cell_type": "markdown",
   "metadata": {},
   "source": [
    "# Salvando o dataframe"
   ]
  },
  {
   "cell_type": "code",
   "execution_count": 853,
   "metadata": {
    "ExecuteTime": {
     "end_time": "2021-03-12T00:24:33.024606Z",
     "start_time": "2021-03-12T00:24:32.936657Z"
    }
   },
   "outputs": [],
   "source": [
    "data.to_csv( '../BaseDadosSelecionados/' + nomeArq + '_Organizado.csv', encoding='ISO-8859-1', sep=';', index=False)"
   ]
  }
 ],
 "metadata": {
  "kernelspec": {
   "display_name": "Python 3",
   "language": "python",
   "name": "python3"
  },
  "language_info": {
   "codemirror_mode": {
    "name": "ipython",
    "version": 3
   },
   "file_extension": ".py",
   "mimetype": "text/x-python",
   "name": "python",
   "nbconvert_exporter": "python",
   "pygments_lexer": "ipython3",
   "version": "3.8.5"
  }
 },
 "nbformat": 4,
 "nbformat_minor": 4
}
