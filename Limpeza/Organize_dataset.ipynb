{
 "cells": [
  {
   "cell_type": "markdown",
   "metadata": {},
   "source": [
    "# 1 - Limpa e organiza o dataset\n",
    "1º Algorimto a ser executado após os filtros - Limpando e organizando o dataset."
   ]
  },
  {
   "cell_type": "markdown",
   "metadata": {
    "heading_collapsed": true
   },
   "source": [
    "# Biblioteca"
   ]
  },
  {
   "cell_type": "code",
   "execution_count": 206,
   "metadata": {
    "ExecuteTime": {
     "end_time": "2021-10-21T05:01:54.226223Z",
     "start_time": "2021-10-21T05:01:54.210222Z"
    },
    "hidden": true
   },
   "outputs": [],
   "source": [
    "import pandas as pd\n",
    "import numpy as np"
   ]
  },
  {
   "cell_type": "markdown",
   "metadata": {},
   "source": [
    "# Carregamento de dados"
   ]
  },
  {
   "cell_type": "code",
   "execution_count": 207,
   "metadata": {
    "ExecuteTime": {
     "end_time": "2021-10-21T05:01:54.241221Z",
     "start_time": "2021-10-21T05:01:54.230223Z"
    }
   },
   "outputs": [],
   "source": [
    "endereco = '../BaseDadosSelecionados/'\n",
    "# endereco2 = 'Agrupado_Ocorrencia'\n",
    "nomeArq = 'ES_datatran2020'"
   ]
  },
  {
   "cell_type": "code",
   "execution_count": 208,
   "metadata": {
    "ExecuteTime": {
     "end_time": "2021-10-21T05:01:54.287219Z",
     "start_time": "2021-10-21T05:01:54.245224Z"
    }
   },
   "outputs": [],
   "source": [
    "data = pd.read_csv(endereco + nomeArq + '.csv', encoding='ISO-8859-1', sep=';')"
   ]
  },
  {
   "cell_type": "code",
   "execution_count": 209,
   "metadata": {
    "ExecuteTime": {
     "end_time": "2021-10-21T05:01:54.318220Z",
     "start_time": "2021-10-21T05:01:54.291223Z"
    }
   },
   "outputs": [
    {
     "data": {
      "text/plain": [
       "(2268, 26)"
      ]
     },
     "execution_count": 209,
     "metadata": {},
     "output_type": "execute_result"
    }
   ],
   "source": [
    "data.shape"
   ]
  },
  {
   "cell_type": "markdown",
   "metadata": {
    "heading_collapsed": true
   },
   "source": [
    "# Remover atributos com dados NULOS"
   ]
  },
  {
   "cell_type": "code",
   "execution_count": 210,
   "metadata": {
    "ExecuteTime": {
     "end_time": "2021-10-21T05:01:54.380223Z",
     "start_time": "2021-10-21T05:01:54.333223Z"
    },
    "hidden": true
   },
   "outputs": [],
   "source": [
    "#Gera um arquivo .txt com a quantidade de atributos nulos por coluna\n",
    "data.isnull().sum().to_csv('QtdNullAtributos_' + nomeArq + '.csv', sep=';')"
   ]
  },
  {
   "cell_type": "code",
   "execution_count": 211,
   "metadata": {
    "ExecuteTime": {
     "end_time": "2021-10-21T05:01:54.410222Z",
     "start_time": "2021-10-21T05:01:54.390222Z"
    },
    "hidden": true
   },
   "outputs": [],
   "source": [
    "# data.isnull().sum()"
   ]
  },
  {
   "cell_type": "code",
   "execution_count": 212,
   "metadata": {
    "ExecuteTime": {
     "end_time": "2021-10-21T05:01:54.426225Z",
     "start_time": "2021-10-21T05:01:54.415223Z"
    },
    "hidden": true
   },
   "outputs": [
    {
     "data": {
      "text/plain": [
       "(2268, 26)"
      ]
     },
     "execution_count": 212,
     "metadata": {},
     "output_type": "execute_result"
    }
   ],
   "source": [
    "data.shape"
   ]
  },
  {
   "cell_type": "code",
   "execution_count": 213,
   "metadata": {
    "ExecuteTime": {
     "end_time": "2021-10-21T05:01:54.474225Z",
     "start_time": "2021-10-21T05:01:54.440224Z"
    },
    "hidden": true
   },
   "outputs": [],
   "source": [
    "data.dropna(inplace=True)"
   ]
  },
  {
   "cell_type": "code",
   "execution_count": 214,
   "metadata": {
    "ExecuteTime": {
     "end_time": "2021-10-21T05:01:54.548220Z",
     "start_time": "2021-10-21T05:01:54.502221Z"
    },
    "hidden": true
   },
   "outputs": [
    {
     "data": {
      "text/plain": [
       "(2268, 26)"
      ]
     },
     "execution_count": 214,
     "metadata": {},
     "output_type": "execute_result"
    }
   ],
   "source": [
    "data.shape"
   ]
  },
  {
   "cell_type": "code",
   "execution_count": 215,
   "metadata": {
    "ExecuteTime": {
     "end_time": "2021-10-21T05:01:54.563222Z",
     "start_time": "2021-10-21T05:01:54.552220Z"
    },
    "hidden": true
   },
   "outputs": [],
   "source": [
    "# data.isnull().sum()"
   ]
  },
  {
   "cell_type": "markdown",
   "metadata": {
    "heading_collapsed": true
   },
   "source": [
    "# Verificação de tipos"
   ]
  },
  {
   "cell_type": "code",
   "execution_count": 216,
   "metadata": {
    "ExecuteTime": {
     "end_time": "2021-10-21T05:01:54.609225Z",
     "start_time": "2021-10-21T05:01:54.573222Z"
    },
    "hidden": true
   },
   "outputs": [
    {
     "data": {
      "text/plain": [
       "id                        float64\n",
       "data_inversa               object\n",
       "dia_semana                 object\n",
       "horario                    object\n",
       "br                        float64\n",
       "km                         object\n",
       "municipio                  object\n",
       "causa_acidente             object\n",
       "tipo_acidente              object\n",
       "classificacao_acidente     object\n",
       "fase_dia                   object\n",
       "sentido_via                object\n",
       "condicao_metereologica     object\n",
       "tipo_pista                 object\n",
       "tracado_via                object\n",
       "uso_solo                   object\n",
       "pessoas                     int64\n",
       "mortos                      int64\n",
       "feridos_leves               int64\n",
       "feridos_graves              int64\n",
       "ilesos                      int64\n",
       "ignorados                   int64\n",
       "feridos                     int64\n",
       "veiculos                    int64\n",
       "latitude                   object\n",
       "longitude                  object\n",
       "dtype: object"
      ]
     },
     "execution_count": 216,
     "metadata": {},
     "output_type": "execute_result"
    }
   ],
   "source": [
    "data.dtypes"
   ]
  },
  {
   "cell_type": "markdown",
   "metadata": {
    "heading_collapsed": true
   },
   "source": [
    "# Mudança dos dados para o tipo numérico - (Não está sendo utilizado)"
   ]
  },
  {
   "cell_type": "code",
   "execution_count": 217,
   "metadata": {
    "ExecuteTime": {
     "end_time": "2021-10-21T05:01:54.640225Z",
     "start_time": "2021-10-21T05:01:54.622222Z"
    },
    "hidden": true
   },
   "outputs": [],
   "source": [
    "# listMudanca = ['dia_semana', 'classificacao_acidente', 'fase_dia', 'sentido_via', 'condicao_metereologica', 'tipo_pista', 'tracado_via', 'uso_solo']"
   ]
  },
  {
   "cell_type": "code",
   "execution_count": 218,
   "metadata": {
    "ExecuteTime": {
     "end_time": "2021-10-21T05:01:54.670750Z",
     "start_time": "2021-10-21T05:01:54.647752Z"
    },
    "hidden": true
   },
   "outputs": [],
   "source": [
    "# index = 1\n",
    "# for i in listMudanca:\n",
    "#     print(\"INDEX: {}\".format(index))\n",
    "#     print(\"*** ANTES ***\")\n",
    "#     print(data[i].value_counts())\n",
    "#     data[i] = data[i].astype('category')\n",
    "\n",
    "#     # Transforma as strings em dados numéricos (preservando a categoria)\n",
    "#     data[i] = data[i].cat.codes\n",
    "#     print('=================================')\n",
    "#     print(\"*** DEPOIS ***\")\n",
    "#     print(data[i].value_counts())\n",
    "#     print('================================================')\n",
    "#     print('\\n')\n",
    "#     index+=1"
   ]
  },
  {
   "cell_type": "markdown",
   "metadata": {
    "heading_collapsed": true,
    "hidden": true
   },
   "source": [
    "## Modelo individual"
   ]
  },
  {
   "cell_type": "code",
   "execution_count": 219,
   "metadata": {
    "ExecuteTime": {
     "end_time": "2021-10-21T05:01:54.701750Z",
     "start_time": "2021-10-21T05:01:54.679749Z"
    },
    "hidden": true
   },
   "outputs": [],
   "source": [
    "# data['classificacao_acidente'].value_counts()"
   ]
  },
  {
   "cell_type": "code",
   "execution_count": 220,
   "metadata": {
    "ExecuteTime": {
     "end_time": "2021-10-21T05:01:54.718752Z",
     "start_time": "2021-10-21T05:01:54.708752Z"
    },
    "hidden": true
   },
   "outputs": [],
   "source": [
    "# data['classificacao_acidente'] = data['classificacao_acidente'].astype('category')\n",
    "\n",
    "# # Transforma as strings em dados numéricos (preservando a categoria)\n",
    "# data['classificacao_acidente'] = data['classificacao_acidente'].cat.codes"
   ]
  },
  {
   "cell_type": "code",
   "execution_count": 221,
   "metadata": {
    "ExecuteTime": {
     "end_time": "2021-10-21T05:01:54.733752Z",
     "start_time": "2021-10-21T05:01:54.723750Z"
    },
    "hidden": true,
    "scrolled": true
   },
   "outputs": [],
   "source": [
    "# data['classificacao_acidente'].value_counts()"
   ]
  },
  {
   "cell_type": "markdown",
   "metadata": {
    "heading_collapsed": true
   },
   "source": [
    "# Mudança da vírgula para ponto em latitude e longitude"
   ]
  },
  {
   "cell_type": "code",
   "execution_count": 222,
   "metadata": {
    "ExecuteTime": {
     "end_time": "2021-10-21T05:01:54.794752Z",
     "start_time": "2021-10-21T05:01:54.738752Z"
    },
    "hidden": true
   },
   "outputs": [],
   "source": [
    "listCol = ['br', 'km', 'latitude', 'longitude']\n",
    "for i in listCol:\n",
    "    data[i] = data[i].astype(str)\n",
    "    data[i] = data[i].str.replace(',', '.')"
   ]
  },
  {
   "cell_type": "code",
   "execution_count": 223,
   "metadata": {
    "ExecuteTime": {
     "end_time": "2021-10-21T05:01:54.887749Z",
     "start_time": "2021-10-21T05:01:54.803754Z"
    },
    "hidden": true
   },
   "outputs": [
    {
     "data": {
      "text/html": [
       "<div>\n",
       "<style scoped>\n",
       "    .dataframe tbody tr th:only-of-type {\n",
       "        vertical-align: middle;\n",
       "    }\n",
       "\n",
       "    .dataframe tbody tr th {\n",
       "        vertical-align: top;\n",
       "    }\n",
       "\n",
       "    .dataframe thead th {\n",
       "        text-align: right;\n",
       "    }\n",
       "</style>\n",
       "<table border=\"1\" class=\"dataframe\">\n",
       "  <thead>\n",
       "    <tr style=\"text-align: right;\">\n",
       "      <th></th>\n",
       "      <th>id</th>\n",
       "      <th>data_inversa</th>\n",
       "      <th>dia_semana</th>\n",
       "      <th>horario</th>\n",
       "      <th>br</th>\n",
       "      <th>km</th>\n",
       "      <th>municipio</th>\n",
       "      <th>causa_acidente</th>\n",
       "      <th>tipo_acidente</th>\n",
       "      <th>classificacao_acidente</th>\n",
       "      <th>...</th>\n",
       "      <th>pessoas</th>\n",
       "      <th>mortos</th>\n",
       "      <th>feridos_leves</th>\n",
       "      <th>feridos_graves</th>\n",
       "      <th>ilesos</th>\n",
       "      <th>ignorados</th>\n",
       "      <th>feridos</th>\n",
       "      <th>veiculos</th>\n",
       "      <th>latitude</th>\n",
       "      <th>longitude</th>\n",
       "    </tr>\n",
       "  </thead>\n",
       "  <tbody>\n",
       "    <tr>\n",
       "      <th>0</th>\n",
       "      <td>260133.0</td>\n",
       "      <td>2020-01-01</td>\n",
       "      <td>quarta-feira</td>\n",
       "      <td>12:30:00</td>\n",
       "      <td>101.0</td>\n",
       "      <td>102.3</td>\n",
       "      <td>SOORETAMA</td>\n",
       "      <td>Ultrapassagem Indevida</td>\n",
       "      <td>Colisão frontal</td>\n",
       "      <td>Com Vítimas Feridas</td>\n",
       "      <td>...</td>\n",
       "      <td>2</td>\n",
       "      <td>0</td>\n",
       "      <td>0</td>\n",
       "      <td>1</td>\n",
       "      <td>1</td>\n",
       "      <td>0</td>\n",
       "      <td>1</td>\n",
       "      <td>2</td>\n",
       "      <td>-18.99655669</td>\n",
       "      <td>-40.00319452</td>\n",
       "    </tr>\n",
       "    <tr>\n",
       "      <th>1</th>\n",
       "      <td>260206.0</td>\n",
       "      <td>2020-01-01</td>\n",
       "      <td>quarta-feira</td>\n",
       "      <td>17:30:00</td>\n",
       "      <td>101.0</td>\n",
       "      <td>431</td>\n",
       "      <td>ATILIO VIVACQUA</td>\n",
       "      <td>Defeito Mecânico no Veículo</td>\n",
       "      <td>Saída de leito carroçável</td>\n",
       "      <td>Sem Vítimas</td>\n",
       "      <td>...</td>\n",
       "      <td>1</td>\n",
       "      <td>0</td>\n",
       "      <td>0</td>\n",
       "      <td>0</td>\n",
       "      <td>1</td>\n",
       "      <td>0</td>\n",
       "      <td>0</td>\n",
       "      <td>1</td>\n",
       "      <td>-21.02634744</td>\n",
       "      <td>-41.16929054</td>\n",
       "    </tr>\n",
       "    <tr>\n",
       "      <th>2</th>\n",
       "      <td>260244.0</td>\n",
       "      <td>2020-01-01</td>\n",
       "      <td>quarta-feira</td>\n",
       "      <td>21:40:00</td>\n",
       "      <td>447.0</td>\n",
       "      <td>12</td>\n",
       "      <td>VILA VELHA</td>\n",
       "      <td>Falta de Atenção do Pedestre</td>\n",
       "      <td>Atropelamento de Pedestre</td>\n",
       "      <td>Com Vítimas Feridas</td>\n",
       "      <td>...</td>\n",
       "      <td>2</td>\n",
       "      <td>0</td>\n",
       "      <td>2</td>\n",
       "      <td>0</td>\n",
       "      <td>0</td>\n",
       "      <td>0</td>\n",
       "      <td>2</td>\n",
       "      <td>1</td>\n",
       "      <td>-20.35784325</td>\n",
       "      <td>-40.3328294</td>\n",
       "    </tr>\n",
       "    <tr>\n",
       "      <th>3</th>\n",
       "      <td>260276.0</td>\n",
       "      <td>2020-01-02</td>\n",
       "      <td>quinta-feira</td>\n",
       "      <td>06:25:00</td>\n",
       "      <td>262.0</td>\n",
       "      <td>1.8</td>\n",
       "      <td>CARIACICA</td>\n",
       "      <td>Falta de Atenção à Condução</td>\n",
       "      <td>Colisão lateral</td>\n",
       "      <td>Com Vítimas Feridas</td>\n",
       "      <td>...</td>\n",
       "      <td>2</td>\n",
       "      <td>0</td>\n",
       "      <td>0</td>\n",
       "      <td>1</td>\n",
       "      <td>1</td>\n",
       "      <td>0</td>\n",
       "      <td>1</td>\n",
       "      <td>2</td>\n",
       "      <td>-20.33295742</td>\n",
       "      <td>-40.35887718</td>\n",
       "    </tr>\n",
       "    <tr>\n",
       "      <th>4</th>\n",
       "      <td>260290.0</td>\n",
       "      <td>2020-01-02</td>\n",
       "      <td>quinta-feira</td>\n",
       "      <td>06:20:00</td>\n",
       "      <td>259.0</td>\n",
       "      <td>25.1</td>\n",
       "      <td>COLATINA</td>\n",
       "      <td>Falta de Atenção à Condução</td>\n",
       "      <td>Tombamento</td>\n",
       "      <td>Com Vítimas Feridas</td>\n",
       "      <td>...</td>\n",
       "      <td>1</td>\n",
       "      <td>0</td>\n",
       "      <td>1</td>\n",
       "      <td>0</td>\n",
       "      <td>0</td>\n",
       "      <td>0</td>\n",
       "      <td>1</td>\n",
       "      <td>1</td>\n",
       "      <td>-19.61785197</td>\n",
       "      <td>-40.48108118</td>\n",
       "    </tr>\n",
       "  </tbody>\n",
       "</table>\n",
       "<p>5 rows × 26 columns</p>\n",
       "</div>"
      ],
      "text/plain": [
       "         id data_inversa    dia_semana   horario     br     km  \\\n",
       "0  260133.0   2020-01-01  quarta-feira  12:30:00  101.0  102.3   \n",
       "1  260206.0   2020-01-01  quarta-feira  17:30:00  101.0    431   \n",
       "2  260244.0   2020-01-01  quarta-feira  21:40:00  447.0     12   \n",
       "3  260276.0   2020-01-02  quinta-feira  06:25:00  262.0    1.8   \n",
       "4  260290.0   2020-01-02  quinta-feira  06:20:00  259.0   25.1   \n",
       "\n",
       "         municipio                causa_acidente              tipo_acidente  \\\n",
       "0        SOORETAMA        Ultrapassagem Indevida            Colisão frontal   \n",
       "1  ATILIO VIVACQUA   Defeito Mecânico no Veículo  Saída de leito carroçável   \n",
       "2       VILA VELHA  Falta de Atenção do Pedestre  Atropelamento de Pedestre   \n",
       "3        CARIACICA   Falta de Atenção à Condução            Colisão lateral   \n",
       "4         COLATINA   Falta de Atenção à Condução                 Tombamento   \n",
       "\n",
       "  classificacao_acidente  ... pessoas mortos feridos_leves feridos_graves  \\\n",
       "0    Com Vítimas Feridas  ...       2      0             0              1   \n",
       "1            Sem Vítimas  ...       1      0             0              0   \n",
       "2    Com Vítimas Feridas  ...       2      0             2              0   \n",
       "3    Com Vítimas Feridas  ...       2      0             0              1   \n",
       "4    Com Vítimas Feridas  ...       1      0             1              0   \n",
       "\n",
       "  ilesos ignorados  feridos  veiculos      latitude     longitude  \n",
       "0      1         0        1         2  -18.99655669  -40.00319452  \n",
       "1      1         0        0         1  -21.02634744  -41.16929054  \n",
       "2      0         0        2         1  -20.35784325   -40.3328294  \n",
       "3      1         0        1         2  -20.33295742  -40.35887718  \n",
       "4      0         0        1         1  -19.61785197  -40.48108118  \n",
       "\n",
       "[5 rows x 26 columns]"
      ]
     },
     "execution_count": 223,
     "metadata": {},
     "output_type": "execute_result"
    }
   ],
   "source": [
    "data.head(5)"
   ]
  },
  {
   "cell_type": "markdown",
   "metadata": {},
   "source": [
    "# Ordenar dataset de acordo com o 'data_inversa'"
   ]
  },
  {
   "cell_type": "code",
   "execution_count": 224,
   "metadata": {
    "ExecuteTime": {
     "end_time": "2021-10-21T05:01:54.918752Z",
     "start_time": "2021-10-21T05:01:54.891753Z"
    }
   },
   "outputs": [],
   "source": [
    "# Converte as datas para Datetime\n",
    "data['data_inversa'] = pd.to_datetime(data['data_inversa'])"
   ]
  },
  {
   "cell_type": "code",
   "execution_count": 225,
   "metadata": {
    "ExecuteTime": {
     "end_time": "2021-10-21T05:01:54.950772Z",
     "start_time": "2021-10-21T05:01:54.923752Z"
    }
   },
   "outputs": [],
   "source": [
    "# Ordena pela data e salva em um novo DataFrame\n",
    "data = data.sort_values(by='data_inversa')"
   ]
  },
  {
   "cell_type": "markdown",
   "metadata": {},
   "source": [
    "# Salvando o dataframe"
   ]
  },
  {
   "cell_type": "code",
   "execution_count": 226,
   "metadata": {
    "ExecuteTime": {
     "end_time": "2021-10-21T05:01:55.234293Z",
     "start_time": "2021-10-21T05:01:54.955286Z"
    }
   },
   "outputs": [],
   "source": [
    "data.to_csv( '../BaseDadosSelecionados/' + nomeArq + '_Organizado.csv', encoding='ISO-8859-1', sep=';', index=False)"
   ]
  }
 ],
 "metadata": {
  "kernelspec": {
   "display_name": "Python 3",
   "language": "python",
   "name": "python3"
  },
  "language_info": {
   "codemirror_mode": {
    "name": "ipython",
    "version": 3
   },
   "file_extension": ".py",
   "mimetype": "text/x-python",
   "name": "python",
   "nbconvert_exporter": "python",
   "pygments_lexer": "ipython3",
   "version": "3.8.5"
  }
 },
 "nbformat": 4,
 "nbformat_minor": 4
}
