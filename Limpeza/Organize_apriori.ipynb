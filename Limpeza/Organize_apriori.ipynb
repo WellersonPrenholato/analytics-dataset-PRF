{
 "cells": [
  {
   "cell_type": "markdown",
   "metadata": {},
   "source": [
    "# ALGORITMO PARA ORGANIZAÇÃO DOS DADOS, O NOME DAS COLUNAS SE JUNTAM COM A INFORMAÇÃO DA CÉLULA.\n",
    "PRÉ-PROCESSAMENTO PARA APLICAÇÃO ALGORITMO APRIORI."
   ]
  },
  {
   "cell_type": "markdown",
   "metadata": {},
   "source": [
    "# Bibliotecas"
   ]
  },
  {
   "cell_type": "code",
   "execution_count": 1,
   "metadata": {
    "ExecuteTime": {
     "end_time": "2021-01-22T02:16:02.421199Z",
     "start_time": "2021-01-22T02:16:00.577201Z"
    }
   },
   "outputs": [],
   "source": [
    "import pandas as pd"
   ]
  },
  {
   "cell_type": "markdown",
   "metadata": {},
   "source": [
    "# Carregamento de dados"
   ]
  },
  {
   "cell_type": "code",
   "execution_count": 2,
   "metadata": {
    "ExecuteTime": {
     "end_time": "2021-01-22T02:16:02.443218Z",
     "start_time": "2021-01-22T02:16:02.430200Z"
    }
   },
   "outputs": [],
   "source": [
    "endereco = '../BaseDadosSelecionados/'\n",
    "nomeArq = 'ES_datatran2019'"
   ]
  },
  {
   "cell_type": "code",
   "execution_count": 3,
   "metadata": {
    "ExecuteTime": {
     "end_time": "2021-01-22T02:16:02.743210Z",
     "start_time": "2021-01-22T02:16:02.460199Z"
    }
   },
   "outputs": [],
   "source": [
    "data = pd.read_csv(endereco + nomeArq +'_Organizado.csv', encoding='ISO-8859-1', sep=';')"
   ]
  },
  {
   "cell_type": "code",
   "execution_count": 4,
   "metadata": {
    "ExecuteTime": {
     "end_time": "2021-01-22T02:16:02.863201Z",
     "start_time": "2021-01-22T02:16:02.756202Z"
    }
   },
   "outputs": [
    {
     "data": {
      "text/plain": [
       "Index(['id', 'data_inversa', 'dia_semana', 'horario', 'br', 'km', 'municipio',\n",
       "       'causa_acidente', 'tipo_acidente', 'classificacao_acidente', 'fase_dia',\n",
       "       'sentido_via', 'condicao_metereologica', 'tipo_pista', 'tracado_via',\n",
       "       'uso_solo', 'pessoas', 'mortos', 'feridos_leves', 'feridos_graves',\n",
       "       'ilesos', 'ignorados', 'feridos', 'veiculos', 'latitude', 'longitude'],\n",
       "      dtype='object')"
      ]
     },
     "execution_count": 4,
     "metadata": {},
     "output_type": "execute_result"
    }
   ],
   "source": [
    "data.columns"
   ]
  },
  {
   "cell_type": "code",
   "execution_count": 5,
   "metadata": {
    "ExecuteTime": {
     "end_time": "2021-01-22T02:16:02.895200Z",
     "start_time": "2021-01-22T02:16:02.874199Z"
    }
   },
   "outputs": [],
   "source": [
    "data['km'] = data['km'].str.replace(',','.')"
   ]
  },
  {
   "cell_type": "code",
   "execution_count": 6,
   "metadata": {
    "ExecuteTime": {
     "end_time": "2021-01-22T02:16:03.061201Z",
     "start_time": "2021-01-22T02:16:02.907199Z"
    },
    "scrolled": true
   },
   "outputs": [
    {
     "data": {
      "text/html": [
       "<div>\n",
       "<style scoped>\n",
       "    .dataframe tbody tr th:only-of-type {\n",
       "        vertical-align: middle;\n",
       "    }\n",
       "\n",
       "    .dataframe tbody tr th {\n",
       "        vertical-align: top;\n",
       "    }\n",
       "\n",
       "    .dataframe thead th {\n",
       "        text-align: right;\n",
       "    }\n",
       "</style>\n",
       "<table border=\"1\" class=\"dataframe\">\n",
       "  <thead>\n",
       "    <tr style=\"text-align: right;\">\n",
       "      <th></th>\n",
       "      <th>id</th>\n",
       "      <th>data_inversa</th>\n",
       "      <th>dia_semana</th>\n",
       "      <th>horario</th>\n",
       "      <th>br</th>\n",
       "      <th>km</th>\n",
       "      <th>municipio</th>\n",
       "      <th>causa_acidente</th>\n",
       "      <th>tipo_acidente</th>\n",
       "      <th>classificacao_acidente</th>\n",
       "      <th>...</th>\n",
       "      <th>pessoas</th>\n",
       "      <th>mortos</th>\n",
       "      <th>feridos_leves</th>\n",
       "      <th>feridos_graves</th>\n",
       "      <th>ilesos</th>\n",
       "      <th>ignorados</th>\n",
       "      <th>feridos</th>\n",
       "      <th>veiculos</th>\n",
       "      <th>latitude</th>\n",
       "      <th>longitude</th>\n",
       "    </tr>\n",
       "  </thead>\n",
       "  <tbody>\n",
       "    <tr>\n",
       "      <th>0</th>\n",
       "      <td>182269.0</td>\n",
       "      <td>2019-01-01</td>\n",
       "      <td>terça-feira</td>\n",
       "      <td>10:00:00</td>\n",
       "      <td>101.0</td>\n",
       "      <td>121.3</td>\n",
       "      <td>SOORETAMA</td>\n",
       "      <td>Condutor Dormindo</td>\n",
       "      <td>Colisão lateral</td>\n",
       "      <td>Com Vítimas Feridas</td>\n",
       "      <td>...</td>\n",
       "      <td>2</td>\n",
       "      <td>0</td>\n",
       "      <td>0</td>\n",
       "      <td>1</td>\n",
       "      <td>1</td>\n",
       "      <td>0</td>\n",
       "      <td>1</td>\n",
       "      <td>2</td>\n",
       "      <td>-19,15490874</td>\n",
       "      <td>-40,08092881</td>\n",
       "    </tr>\n",
       "    <tr>\n",
       "      <th>1</th>\n",
       "      <td>182296.0</td>\n",
       "      <td>2019-01-01</td>\n",
       "      <td>terça-feira</td>\n",
       "      <td>13:40:00</td>\n",
       "      <td>262.0</td>\n",
       "      <td>95</td>\n",
       "      <td>DOMINGOS MARTINS</td>\n",
       "      <td>Não guardar distância de segurança</td>\n",
       "      <td>Engavetamento</td>\n",
       "      <td>Sem Vítimas</td>\n",
       "      <td>...</td>\n",
       "      <td>4</td>\n",
       "      <td>0</td>\n",
       "      <td>0</td>\n",
       "      <td>0</td>\n",
       "      <td>4</td>\n",
       "      <td>0</td>\n",
       "      <td>0</td>\n",
       "      <td>4</td>\n",
       "      <td>-20,3677</td>\n",
       "      <td>-41,0595</td>\n",
       "    </tr>\n",
       "    <tr>\n",
       "      <th>2</th>\n",
       "      <td>182319.0</td>\n",
       "      <td>2019-01-01</td>\n",
       "      <td>terça-feira</td>\n",
       "      <td>16:00:00</td>\n",
       "      <td>101.0</td>\n",
       "      <td>77.1</td>\n",
       "      <td>SAO MATEUS</td>\n",
       "      <td>Falta de Atenção à Condução</td>\n",
       "      <td>Colisão traseira</td>\n",
       "      <td>Com Vítimas Feridas</td>\n",
       "      <td>...</td>\n",
       "      <td>3</td>\n",
       "      <td>0</td>\n",
       "      <td>1</td>\n",
       "      <td>1</td>\n",
       "      <td>1</td>\n",
       "      <td>0</td>\n",
       "      <td>2</td>\n",
       "      <td>2</td>\n",
       "      <td>-18,720545</td>\n",
       "      <td>-39,865883</td>\n",
       "    </tr>\n",
       "    <tr>\n",
       "      <th>3</th>\n",
       "      <td>182350.0</td>\n",
       "      <td>2019-01-01</td>\n",
       "      <td>terça-feira</td>\n",
       "      <td>18:30:00</td>\n",
       "      <td>101.0</td>\n",
       "      <td>299.2</td>\n",
       "      <td>VIANA</td>\n",
       "      <td>Desobediência às normas de trânsito pelo condutor</td>\n",
       "      <td>Colisão transversal</td>\n",
       "      <td>Sem Vítimas</td>\n",
       "      <td>...</td>\n",
       "      <td>3</td>\n",
       "      <td>0</td>\n",
       "      <td>0</td>\n",
       "      <td>0</td>\n",
       "      <td>3</td>\n",
       "      <td>0</td>\n",
       "      <td>0</td>\n",
       "      <td>2</td>\n",
       "      <td>-20,35788487</td>\n",
       "      <td>-40,42651176</td>\n",
       "    </tr>\n",
       "    <tr>\n",
       "      <th>4</th>\n",
       "      <td>182351.0</td>\n",
       "      <td>2019-01-01</td>\n",
       "      <td>terça-feira</td>\n",
       "      <td>18:10:00</td>\n",
       "      <td>262.0</td>\n",
       "      <td>168</td>\n",
       "      <td>IBATIBA</td>\n",
       "      <td>Falta de Atenção à Condução</td>\n",
       "      <td>Queda de ocupante de veículo</td>\n",
       "      <td>Com Vítimas Feridas</td>\n",
       "      <td>...</td>\n",
       "      <td>1</td>\n",
       "      <td>0</td>\n",
       "      <td>0</td>\n",
       "      <td>1</td>\n",
       "      <td>0</td>\n",
       "      <td>0</td>\n",
       "      <td>1</td>\n",
       "      <td>1</td>\n",
       "      <td>-20,265</td>\n",
       "      <td>-41,5732</td>\n",
       "    </tr>\n",
       "  </tbody>\n",
       "</table>\n",
       "<p>5 rows × 26 columns</p>\n",
       "</div>"
      ],
      "text/plain": [
       "         id data_inversa   dia_semana   horario     br     km  \\\n",
       "0  182269.0   2019-01-01  terça-feira  10:00:00  101.0  121.3   \n",
       "1  182296.0   2019-01-01  terça-feira  13:40:00  262.0     95   \n",
       "2  182319.0   2019-01-01  terça-feira  16:00:00  101.0   77.1   \n",
       "3  182350.0   2019-01-01  terça-feira  18:30:00  101.0  299.2   \n",
       "4  182351.0   2019-01-01  terça-feira  18:10:00  262.0    168   \n",
       "\n",
       "          municipio                                     causa_acidente  \\\n",
       "0         SOORETAMA                                  Condutor Dormindo   \n",
       "1  DOMINGOS MARTINS                 Não guardar distância de segurança   \n",
       "2        SAO MATEUS                        Falta de Atenção à Condução   \n",
       "3             VIANA  Desobediência às normas de trânsito pelo condutor   \n",
       "4           IBATIBA                        Falta de Atenção à Condução   \n",
       "\n",
       "                  tipo_acidente classificacao_acidente  ... pessoas mortos  \\\n",
       "0               Colisão lateral    Com Vítimas Feridas  ...       2      0   \n",
       "1                 Engavetamento            Sem Vítimas  ...       4      0   \n",
       "2              Colisão traseira    Com Vítimas Feridas  ...       3      0   \n",
       "3           Colisão transversal            Sem Vítimas  ...       3      0   \n",
       "4  Queda de ocupante de veículo    Com Vítimas Feridas  ...       1      0   \n",
       "\n",
       "  feridos_leves feridos_graves ilesos  ignorados  feridos  veiculos  \\\n",
       "0             0              1      1          0        1         2   \n",
       "1             0              0      4          0        0         4   \n",
       "2             1              1      1          0        2         2   \n",
       "3             0              0      3          0        0         2   \n",
       "4             0              1      0          0        1         1   \n",
       "\n",
       "       latitude     longitude  \n",
       "0  -19,15490874  -40,08092881  \n",
       "1      -20,3677      -41,0595  \n",
       "2    -18,720545    -39,865883  \n",
       "3  -20,35788487  -40,42651176  \n",
       "4       -20,265      -41,5732  \n",
       "\n",
       "[5 rows x 26 columns]"
      ]
     },
     "execution_count": 6,
     "metadata": {},
     "output_type": "execute_result"
    }
   ],
   "source": [
    "data.head()"
   ]
  },
  {
   "cell_type": "code",
   "execution_count": 7,
   "metadata": {
    "ExecuteTime": {
     "end_time": "2021-01-22T02:16:03.083210Z",
     "start_time": "2021-01-22T02:16:03.073199Z"
    }
   },
   "outputs": [],
   "source": [
    "# data = data.astype({\"br\":'object'}) \n",
    "data = data.astype('object')"
   ]
  },
  {
   "cell_type": "code",
   "execution_count": 8,
   "metadata": {
    "ExecuteTime": {
     "end_time": "2021-01-22T02:16:03.148199Z",
     "start_time": "2021-01-22T02:16:03.111200Z"
    }
   },
   "outputs": [
    {
     "data": {
      "text/plain": [
       "id                        object\n",
       "data_inversa              object\n",
       "dia_semana                object\n",
       "horario                   object\n",
       "br                        object\n",
       "km                        object\n",
       "municipio                 object\n",
       "causa_acidente            object\n",
       "tipo_acidente             object\n",
       "classificacao_acidente    object\n",
       "fase_dia                  object\n",
       "sentido_via               object\n",
       "condicao_metereologica    object\n",
       "tipo_pista                object\n",
       "tracado_via               object\n",
       "uso_solo                  object\n",
       "pessoas                   object\n",
       "mortos                    object\n",
       "feridos_leves             object\n",
       "feridos_graves            object\n",
       "ilesos                    object\n",
       "ignorados                 object\n",
       "feridos                   object\n",
       "veiculos                  object\n",
       "latitude                  object\n",
       "longitude                 object\n",
       "dtype: object"
      ]
     },
     "execution_count": 8,
     "metadata": {},
     "output_type": "execute_result"
    }
   ],
   "source": [
    "data.dtypes"
   ]
  },
  {
   "cell_type": "markdown",
   "metadata": {},
   "source": [
    "# Remoção de colunas desnecessárias para análise"
   ]
  },
  {
   "cell_type": "code",
   "execution_count": 9,
   "metadata": {
    "ExecuteTime": {
     "end_time": "2021-01-22T02:16:03.197199Z",
     "start_time": "2021-01-22T02:16:03.155201Z"
    }
   },
   "outputs": [],
   "source": [
    "# Remoção dessas colunas, pq as instâncias dessas colunas são iguais em todas linhas\n",
    "colRemove = ['id', 'horario', 'data_inversa', 'latitude', 'longitude']\n",
    "\n",
    "#Percorre o vetor removendo esses elementos existentes no dataset\n",
    "for coluna in colRemove:\n",
    "    data.drop(coluna, inplace=True, axis=1)"
   ]
  },
  {
   "cell_type": "markdown",
   "metadata": {},
   "source": [
    "# Atribui o nome da coluna nas células"
   ]
  },
  {
   "cell_type": "code",
   "execution_count": 10,
   "metadata": {
    "ExecuteTime": {
     "end_time": "2021-01-22T02:16:03.218207Z",
     "start_time": "2021-01-22T02:16:03.206200Z"
    }
   },
   "outputs": [
    {
     "data": {
      "text/plain": [
       "Index(['dia_semana', 'br', 'km', 'municipio', 'causa_acidente',\n",
       "       'tipo_acidente', 'classificacao_acidente', 'fase_dia', 'sentido_via',\n",
       "       'condicao_metereologica', 'tipo_pista', 'tracado_via', 'uso_solo',\n",
       "       'pessoas', 'mortos', 'feridos_leves', 'feridos_graves', 'ilesos',\n",
       "       'ignorados', 'feridos', 'veiculos'],\n",
       "      dtype='object')"
      ]
     },
     "execution_count": 10,
     "metadata": {},
     "output_type": "execute_result"
    }
   ],
   "source": [
    "data.columns"
   ]
  },
  {
   "cell_type": "code",
   "execution_count": 11,
   "metadata": {
    "ExecuteTime": {
     "end_time": "2021-01-22T02:16:03.257198Z",
     "start_time": "2021-01-22T02:16:03.244201Z"
    }
   },
   "outputs": [],
   "source": [
    "linhas = data.shape[0]\n",
    "colunas = data.shape[1]"
   ]
  },
  {
   "cell_type": "code",
   "execution_count": 12,
   "metadata": {
    "ExecuteTime": {
     "end_time": "2021-01-22T02:16:09.612301Z",
     "start_time": "2021-01-22T02:16:03.263198Z"
    }
   },
   "outputs": [
    {
     "name": "stdout",
     "output_type": "stream",
     "text": [
      "Wall time: 0 ns\n"
     ]
    }
   ],
   "source": [
    "#Nesse dataset por algum motivo, tive que fazer um casting do cabeçalho e do valor da string. Sem isso, erros irão aparecer.\n",
    "%time\n",
    "for i in data.columns:\n",
    "    cabecalho = i;\n",
    "    for j in range(linhas):\n",
    "        if (data.at[j,i]==data.at[j,i]):\n",
    "            data.at[j,i] = str(cabecalho) +'='+ str(data.at[j,i]);"
   ]
  },
  {
   "cell_type": "code",
   "execution_count": 13,
   "metadata": {
    "ExecuteTime": {
     "end_time": "2021-01-22T02:16:09.841302Z",
     "start_time": "2021-01-22T02:16:09.618300Z"
    }
   },
   "outputs": [
    {
     "data": {
      "text/html": [
       "<div>\n",
       "<style scoped>\n",
       "    .dataframe tbody tr th:only-of-type {\n",
       "        vertical-align: middle;\n",
       "    }\n",
       "\n",
       "    .dataframe tbody tr th {\n",
       "        vertical-align: top;\n",
       "    }\n",
       "\n",
       "    .dataframe thead th {\n",
       "        text-align: right;\n",
       "    }\n",
       "</style>\n",
       "<table border=\"1\" class=\"dataframe\">\n",
       "  <thead>\n",
       "    <tr style=\"text-align: right;\">\n",
       "      <th></th>\n",
       "      <th>dia_semana</th>\n",
       "      <th>br</th>\n",
       "      <th>km</th>\n",
       "      <th>municipio</th>\n",
       "      <th>causa_acidente</th>\n",
       "      <th>tipo_acidente</th>\n",
       "      <th>classificacao_acidente</th>\n",
       "      <th>fase_dia</th>\n",
       "      <th>sentido_via</th>\n",
       "      <th>condicao_metereologica</th>\n",
       "      <th>...</th>\n",
       "      <th>tracado_via</th>\n",
       "      <th>uso_solo</th>\n",
       "      <th>pessoas</th>\n",
       "      <th>mortos</th>\n",
       "      <th>feridos_leves</th>\n",
       "      <th>feridos_graves</th>\n",
       "      <th>ilesos</th>\n",
       "      <th>ignorados</th>\n",
       "      <th>feridos</th>\n",
       "      <th>veiculos</th>\n",
       "    </tr>\n",
       "  </thead>\n",
       "  <tbody>\n",
       "    <tr>\n",
       "      <th>0</th>\n",
       "      <td>dia_semana=terça-feira</td>\n",
       "      <td>br=101.0</td>\n",
       "      <td>km=121.3</td>\n",
       "      <td>municipio=SOORETAMA</td>\n",
       "      <td>causa_acidente=Condutor Dormindo</td>\n",
       "      <td>tipo_acidente=Colisão lateral</td>\n",
       "      <td>classificacao_acidente=Com Vítimas Feridas</td>\n",
       "      <td>fase_dia=Pleno dia</td>\n",
       "      <td>sentido_via=Crescente</td>\n",
       "      <td>condicao_metereologica=Céu Claro</td>\n",
       "      <td>...</td>\n",
       "      <td>tracado_via=Reta</td>\n",
       "      <td>uso_solo=0</td>\n",
       "      <td>pessoas=2</td>\n",
       "      <td>mortos=0</td>\n",
       "      <td>feridos_leves=0</td>\n",
       "      <td>feridos_graves=1</td>\n",
       "      <td>ilesos=1</td>\n",
       "      <td>ignorados=0</td>\n",
       "      <td>feridos=1</td>\n",
       "      <td>veiculos=2</td>\n",
       "    </tr>\n",
       "    <tr>\n",
       "      <th>1</th>\n",
       "      <td>dia_semana=terça-feira</td>\n",
       "      <td>br=262.0</td>\n",
       "      <td>km=95</td>\n",
       "      <td>municipio=DOMINGOS MARTINS</td>\n",
       "      <td>causa_acidente=Não guardar distância de segurança</td>\n",
       "      <td>tipo_acidente=Engavetamento</td>\n",
       "      <td>classificacao_acidente=Sem Vítimas</td>\n",
       "      <td>fase_dia=Pleno dia</td>\n",
       "      <td>sentido_via=Decrescente</td>\n",
       "      <td>condicao_metereologica=Céu Claro</td>\n",
       "      <td>...</td>\n",
       "      <td>tracado_via=Reta</td>\n",
       "      <td>uso_solo=1</td>\n",
       "      <td>pessoas=4</td>\n",
       "      <td>mortos=0</td>\n",
       "      <td>feridos_leves=0</td>\n",
       "      <td>feridos_graves=0</td>\n",
       "      <td>ilesos=4</td>\n",
       "      <td>ignorados=0</td>\n",
       "      <td>feridos=0</td>\n",
       "      <td>veiculos=4</td>\n",
       "    </tr>\n",
       "    <tr>\n",
       "      <th>2</th>\n",
       "      <td>dia_semana=terça-feira</td>\n",
       "      <td>br=101.0</td>\n",
       "      <td>km=77.1</td>\n",
       "      <td>municipio=SAO MATEUS</td>\n",
       "      <td>causa_acidente=Falta de Atenção à Condução</td>\n",
       "      <td>tipo_acidente=Colisão traseira</td>\n",
       "      <td>classificacao_acidente=Com Vítimas Feridas</td>\n",
       "      <td>fase_dia=Pleno dia</td>\n",
       "      <td>sentido_via=Decrescente</td>\n",
       "      <td>condicao_metereologica=Céu Claro</td>\n",
       "      <td>...</td>\n",
       "      <td>tracado_via=Desvio Temporário</td>\n",
       "      <td>uso_solo=0</td>\n",
       "      <td>pessoas=3</td>\n",
       "      <td>mortos=0</td>\n",
       "      <td>feridos_leves=1</td>\n",
       "      <td>feridos_graves=1</td>\n",
       "      <td>ilesos=1</td>\n",
       "      <td>ignorados=0</td>\n",
       "      <td>feridos=2</td>\n",
       "      <td>veiculos=2</td>\n",
       "    </tr>\n",
       "    <tr>\n",
       "      <th>3</th>\n",
       "      <td>dia_semana=terça-feira</td>\n",
       "      <td>br=101.0</td>\n",
       "      <td>km=299.2</td>\n",
       "      <td>municipio=VIANA</td>\n",
       "      <td>causa_acidente=Desobediência às normas de trân...</td>\n",
       "      <td>tipo_acidente=Colisão transversal</td>\n",
       "      <td>classificacao_acidente=Sem Vítimas</td>\n",
       "      <td>fase_dia=Anoitecer</td>\n",
       "      <td>sentido_via=Decrescente</td>\n",
       "      <td>condicao_metereologica=Céu Claro</td>\n",
       "      <td>...</td>\n",
       "      <td>tracado_via=Não Informado</td>\n",
       "      <td>uso_solo=1</td>\n",
       "      <td>pessoas=3</td>\n",
       "      <td>mortos=0</td>\n",
       "      <td>feridos_leves=0</td>\n",
       "      <td>feridos_graves=0</td>\n",
       "      <td>ilesos=3</td>\n",
       "      <td>ignorados=0</td>\n",
       "      <td>feridos=0</td>\n",
       "      <td>veiculos=2</td>\n",
       "    </tr>\n",
       "    <tr>\n",
       "      <th>4</th>\n",
       "      <td>dia_semana=terça-feira</td>\n",
       "      <td>br=262.0</td>\n",
       "      <td>km=168</td>\n",
       "      <td>municipio=IBATIBA</td>\n",
       "      <td>causa_acidente=Falta de Atenção à Condução</td>\n",
       "      <td>tipo_acidente=Queda de ocupante de veículo</td>\n",
       "      <td>classificacao_acidente=Com Vítimas Feridas</td>\n",
       "      <td>fase_dia=Anoitecer</td>\n",
       "      <td>sentido_via=Crescente</td>\n",
       "      <td>condicao_metereologica=Céu Claro</td>\n",
       "      <td>...</td>\n",
       "      <td>tracado_via=Reta</td>\n",
       "      <td>uso_solo=0</td>\n",
       "      <td>pessoas=1</td>\n",
       "      <td>mortos=0</td>\n",
       "      <td>feridos_leves=0</td>\n",
       "      <td>feridos_graves=1</td>\n",
       "      <td>ilesos=0</td>\n",
       "      <td>ignorados=0</td>\n",
       "      <td>feridos=1</td>\n",
       "      <td>veiculos=1</td>\n",
       "    </tr>\n",
       "  </tbody>\n",
       "</table>\n",
       "<p>5 rows × 21 columns</p>\n",
       "</div>"
      ],
      "text/plain": [
       "               dia_semana        br        km                   municipio  \\\n",
       "0  dia_semana=terça-feira  br=101.0  km=121.3         municipio=SOORETAMA   \n",
       "1  dia_semana=terça-feira  br=262.0     km=95  municipio=DOMINGOS MARTINS   \n",
       "2  dia_semana=terça-feira  br=101.0   km=77.1        municipio=SAO MATEUS   \n",
       "3  dia_semana=terça-feira  br=101.0  km=299.2             municipio=VIANA   \n",
       "4  dia_semana=terça-feira  br=262.0    km=168           municipio=IBATIBA   \n",
       "\n",
       "                                      causa_acidente  \\\n",
       "0                   causa_acidente=Condutor Dormindo   \n",
       "1  causa_acidente=Não guardar distância de segurança   \n",
       "2         causa_acidente=Falta de Atenção à Condução   \n",
       "3  causa_acidente=Desobediência às normas de trân...   \n",
       "4         causa_acidente=Falta de Atenção à Condução   \n",
       "\n",
       "                                tipo_acidente  \\\n",
       "0               tipo_acidente=Colisão lateral   \n",
       "1                 tipo_acidente=Engavetamento   \n",
       "2              tipo_acidente=Colisão traseira   \n",
       "3           tipo_acidente=Colisão transversal   \n",
       "4  tipo_acidente=Queda de ocupante de veículo   \n",
       "\n",
       "                       classificacao_acidente            fase_dia  \\\n",
       "0  classificacao_acidente=Com Vítimas Feridas  fase_dia=Pleno dia   \n",
       "1          classificacao_acidente=Sem Vítimas  fase_dia=Pleno dia   \n",
       "2  classificacao_acidente=Com Vítimas Feridas  fase_dia=Pleno dia   \n",
       "3          classificacao_acidente=Sem Vítimas  fase_dia=Anoitecer   \n",
       "4  classificacao_acidente=Com Vítimas Feridas  fase_dia=Anoitecer   \n",
       "\n",
       "               sentido_via            condicao_metereologica  ...  \\\n",
       "0    sentido_via=Crescente  condicao_metereologica=Céu Claro  ...   \n",
       "1  sentido_via=Decrescente  condicao_metereologica=Céu Claro  ...   \n",
       "2  sentido_via=Decrescente  condicao_metereologica=Céu Claro  ...   \n",
       "3  sentido_via=Decrescente  condicao_metereologica=Céu Claro  ...   \n",
       "4    sentido_via=Crescente  condicao_metereologica=Céu Claro  ...   \n",
       "\n",
       "                     tracado_via    uso_solo    pessoas    mortos  \\\n",
       "0               tracado_via=Reta  uso_solo=0  pessoas=2  mortos=0   \n",
       "1               tracado_via=Reta  uso_solo=1  pessoas=4  mortos=0   \n",
       "2  tracado_via=Desvio Temporário  uso_solo=0  pessoas=3  mortos=0   \n",
       "3      tracado_via=Não Informado  uso_solo=1  pessoas=3  mortos=0   \n",
       "4               tracado_via=Reta  uso_solo=0  pessoas=1  mortos=0   \n",
       "\n",
       "     feridos_leves    feridos_graves    ilesos    ignorados    feridos  \\\n",
       "0  feridos_leves=0  feridos_graves=1  ilesos=1  ignorados=0  feridos=1   \n",
       "1  feridos_leves=0  feridos_graves=0  ilesos=4  ignorados=0  feridos=0   \n",
       "2  feridos_leves=1  feridos_graves=1  ilesos=1  ignorados=0  feridos=2   \n",
       "3  feridos_leves=0  feridos_graves=0  ilesos=3  ignorados=0  feridos=0   \n",
       "4  feridos_leves=0  feridos_graves=1  ilesos=0  ignorados=0  feridos=1   \n",
       "\n",
       "     veiculos  \n",
       "0  veiculos=2  \n",
       "1  veiculos=4  \n",
       "2  veiculos=2  \n",
       "3  veiculos=2  \n",
       "4  veiculos=1  \n",
       "\n",
       "[5 rows x 21 columns]"
      ]
     },
     "execution_count": 13,
     "metadata": {},
     "output_type": "execute_result"
    }
   ],
   "source": [
    "data.head()"
   ]
  },
  {
   "cell_type": "code",
   "execution_count": 14,
   "metadata": {
    "ExecuteTime": {
     "end_time": "2021-01-22T02:16:09.862301Z",
     "start_time": "2021-01-22T02:16:09.850299Z"
    }
   },
   "outputs": [],
   "source": [
    "#Exclui a linha de posição [0] na base de dados, pois essa linha contém o nome das colunas.\n",
    "#A modificação é salva no arquivo com o 'inplace=True', caso contrário o arquivo não sofre modificação.\n",
    "# data.drop(0, inplace=True)"
   ]
  },
  {
   "cell_type": "code",
   "execution_count": null,
   "metadata": {},
   "outputs": [],
   "source": []
  },
  {
   "cell_type": "markdown",
   "metadata": {},
   "source": [
    "# Salva o resultado em um novo arquivo .csv"
   ]
  },
  {
   "cell_type": "code",
   "execution_count": 15,
   "metadata": {
    "ExecuteTime": {
     "end_time": "2021-01-22T02:16:10.229519Z",
     "start_time": "2021-01-22T02:16:09.876300Z"
    }
   },
   "outputs": [],
   "source": [
    "# Aqui é gerado um novo arquivo na qual contém os resultados aplicados\n",
    "data.to_csv( '../BaseDadosSelecionados/' + nomeArq + '_Apriori.csv', encoding='ISO-8859-1', sep=';', index=False)"
   ]
  }
 ],
 "metadata": {
  "kernelspec": {
   "display_name": "Python 3",
   "language": "python",
   "name": "python3"
  },
  "language_info": {
   "codemirror_mode": {
    "name": "ipython",
    "version": 3
   },
   "file_extension": ".py",
   "mimetype": "text/x-python",
   "name": "python",
   "nbconvert_exporter": "python",
   "pygments_lexer": "ipython3",
   "version": "3.7.4"
  }
 },
 "nbformat": 4,
 "nbformat_minor": 4
}
