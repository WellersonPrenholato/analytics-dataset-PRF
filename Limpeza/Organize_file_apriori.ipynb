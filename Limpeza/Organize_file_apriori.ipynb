{
 "cells": [
  {
   "cell_type": "markdown",
   "metadata": {},
   "source": [
    "# ALGORITMO PARA ORGANIZAÇÃO DOS DADOS, O NOME DAS COLUNAS SE JUNTAM COM A INFORMAÇÃO DA CÉLULA.\n",
    "PRÉ-PROCESSAMENTO PARA APLICAÇÃO ALGORITMO APRIORI."
   ]
  },
  {
   "cell_type": "markdown",
   "metadata": {
    "heading_collapsed": true
   },
   "source": [
    "# Bibliotecas"
   ]
  },
  {
   "cell_type": "code",
   "execution_count": 1,
   "metadata": {
    "ExecuteTime": {
     "end_time": "2021-11-06T05:07:11.452347Z",
     "start_time": "2021-11-06T05:07:10.549106Z"
    },
    "hidden": true
   },
   "outputs": [],
   "source": [
    "import pandas as pd"
   ]
  },
  {
   "cell_type": "markdown",
   "metadata": {},
   "source": [
    "# Carregamento de dados"
   ]
  },
  {
   "cell_type": "code",
   "execution_count": 2,
   "metadata": {
    "ExecuteTime": {
     "end_time": "2021-11-06T05:07:11.468335Z",
     "start_time": "2021-11-06T05:07:11.456336Z"
    }
   },
   "outputs": [],
   "source": [
    "anoArq = '2018'"
   ]
  },
  {
   "cell_type": "code",
   "execution_count": 3,
   "metadata": {
    "ExecuteTime": {
     "end_time": "2021-11-06T05:07:11.484335Z",
     "start_time": "2021-11-06T05:07:11.475338Z"
    }
   },
   "outputs": [],
   "source": [
    "endereco2= 'PorAno/'\n",
    "# endereco2= 'PorData/'"
   ]
  },
  {
   "cell_type": "code",
   "execution_count": 4,
   "metadata": {
    "ExecuteTime": {
     "end_time": "2021-11-06T05:07:11.500338Z",
     "start_time": "2021-11-06T05:07:11.491338Z"
    }
   },
   "outputs": [],
   "source": [
    "if endereco2 == 'PorAno/':\n",
    "    nomeArq = 'ES_datatran' + anoArq +'_Organizado'\n",
    "elif endereco2 == 'PorData/':\n",
    "    nomeArq = 'ES_datatran' + anoArq +'_Org_FilterDate'"
   ]
  },
  {
   "cell_type": "code",
   "execution_count": 5,
   "metadata": {
    "ExecuteTime": {
     "end_time": "2021-11-06T05:07:11.517339Z",
     "start_time": "2021-11-06T05:07:11.506337Z"
    }
   },
   "outputs": [],
   "source": [
    "endereco = '../BaseDadosSelecionados/' + endereco2"
   ]
  },
  {
   "cell_type": "code",
   "execution_count": 6,
   "metadata": {
    "ExecuteTime": {
     "end_time": "2021-11-06T05:07:11.564358Z",
     "start_time": "2021-11-06T05:07:11.522338Z"
    }
   },
   "outputs": [],
   "source": [
    "data = pd.read_csv(endereco + nomeArq +'.csv', encoding='ISO-8859-1', sep=';')"
   ]
  },
  {
   "cell_type": "code",
   "execution_count": 7,
   "metadata": {
    "ExecuteTime": {
     "end_time": "2021-11-06T05:07:11.580347Z",
     "start_time": "2021-11-06T05:07:11.571335Z"
    }
   },
   "outputs": [],
   "source": [
    "# data.columns"
   ]
  },
  {
   "cell_type": "code",
   "execution_count": 8,
   "metadata": {
    "ExecuteTime": {
     "end_time": "2021-11-06T05:07:11.642331Z",
     "start_time": "2021-11-06T05:07:11.587335Z"
    },
    "scrolled": true
   },
   "outputs": [
    {
     "data": {
      "text/html": [
       "<div>\n",
       "<style scoped>\n",
       "    .dataframe tbody tr th:only-of-type {\n",
       "        vertical-align: middle;\n",
       "    }\n",
       "\n",
       "    .dataframe tbody tr th {\n",
       "        vertical-align: top;\n",
       "    }\n",
       "\n",
       "    .dataframe thead th {\n",
       "        text-align: right;\n",
       "    }\n",
       "</style>\n",
       "<table border=\"1\" class=\"dataframe\">\n",
       "  <thead>\n",
       "    <tr style=\"text-align: right;\">\n",
       "      <th></th>\n",
       "      <th>id</th>\n",
       "      <th>data_inversa</th>\n",
       "      <th>dia_semana</th>\n",
       "      <th>horario</th>\n",
       "      <th>br</th>\n",
       "      <th>km</th>\n",
       "      <th>municipio</th>\n",
       "      <th>causa_acidente</th>\n",
       "      <th>tipo_acidente</th>\n",
       "      <th>classificacao_acidente</th>\n",
       "      <th>...</th>\n",
       "      <th>pessoas</th>\n",
       "      <th>mortos</th>\n",
       "      <th>feridos_leves</th>\n",
       "      <th>feridos_graves</th>\n",
       "      <th>ilesos</th>\n",
       "      <th>ignorados</th>\n",
       "      <th>feridos</th>\n",
       "      <th>veiculos</th>\n",
       "      <th>latitude</th>\n",
       "      <th>longitude</th>\n",
       "    </tr>\n",
       "  </thead>\n",
       "  <tbody>\n",
       "    <tr>\n",
       "      <th>0</th>\n",
       "      <td>100090.0</td>\n",
       "      <td>2018-01-01</td>\n",
       "      <td>segunda-feira</td>\n",
       "      <td>15:40:00</td>\n",
       "      <td>262.0</td>\n",
       "      <td>121.3</td>\n",
       "      <td>CONCEICAO DO CASTELO</td>\n",
       "      <td>Ultrapassagem Indevida</td>\n",
       "      <td>Colisão transversal</td>\n",
       "      <td>Com Vítimas Feridas</td>\n",
       "      <td>...</td>\n",
       "      <td>8</td>\n",
       "      <td>0</td>\n",
       "      <td>5</td>\n",
       "      <td>0</td>\n",
       "      <td>2</td>\n",
       "      <td>1</td>\n",
       "      <td>5</td>\n",
       "      <td>4</td>\n",
       "      <td>-20.293757</td>\n",
       "      <td>-41.232615</td>\n",
       "    </tr>\n",
       "    <tr>\n",
       "      <th>1</th>\n",
       "      <td>100098.0</td>\n",
       "      <td>2018-01-01</td>\n",
       "      <td>segunda-feira</td>\n",
       "      <td>16:00:00</td>\n",
       "      <td>101.0</td>\n",
       "      <td>204.0</td>\n",
       "      <td>JOAO NEIVA</td>\n",
       "      <td>Falta de Atenção à Condução</td>\n",
       "      <td>Colisão traseira</td>\n",
       "      <td>Com Vítimas Feridas</td>\n",
       "      <td>...</td>\n",
       "      <td>4</td>\n",
       "      <td>0</td>\n",
       "      <td>1</td>\n",
       "      <td>0</td>\n",
       "      <td>3</td>\n",
       "      <td>0</td>\n",
       "      <td>1</td>\n",
       "      <td>4</td>\n",
       "      <td>-19.747574</td>\n",
       "      <td>-40.377505</td>\n",
       "    </tr>\n",
       "    <tr>\n",
       "      <th>2</th>\n",
       "      <td>100108.0</td>\n",
       "      <td>2018-01-01</td>\n",
       "      <td>segunda-feira</td>\n",
       "      <td>16:30:00</td>\n",
       "      <td>101.0</td>\n",
       "      <td>307.5</td>\n",
       "      <td>VILA VELHA</td>\n",
       "      <td>Velocidade Incompatível</td>\n",
       "      <td>Saída de leito carroçável</td>\n",
       "      <td>Com Vítimas Feridas</td>\n",
       "      <td>...</td>\n",
       "      <td>4</td>\n",
       "      <td>0</td>\n",
       "      <td>3</td>\n",
       "      <td>0</td>\n",
       "      <td>1</td>\n",
       "      <td>0</td>\n",
       "      <td>3</td>\n",
       "      <td>1</td>\n",
       "      <td>-20.402886</td>\n",
       "      <td>-40.455649</td>\n",
       "    </tr>\n",
       "    <tr>\n",
       "      <th>3</th>\n",
       "      <td>100112.0</td>\n",
       "      <td>2018-01-01</td>\n",
       "      <td>segunda-feira</td>\n",
       "      <td>16:00:00</td>\n",
       "      <td>101.0</td>\n",
       "      <td>428.0</td>\n",
       "      <td>ATILIO VIVACQUA</td>\n",
       "      <td>Fenômenos da Natureza</td>\n",
       "      <td>Queda de ocupante de veículo</td>\n",
       "      <td>Com Vítimas Feridas</td>\n",
       "      <td>...</td>\n",
       "      <td>2</td>\n",
       "      <td>0</td>\n",
       "      <td>2</td>\n",
       "      <td>0</td>\n",
       "      <td>0</td>\n",
       "      <td>0</td>\n",
       "      <td>2</td>\n",
       "      <td>1</td>\n",
       "      <td>-20.914650</td>\n",
       "      <td>-41.198690</td>\n",
       "    </tr>\n",
       "    <tr>\n",
       "      <th>4</th>\n",
       "      <td>100481.0</td>\n",
       "      <td>2018-01-02</td>\n",
       "      <td>terça-feira</td>\n",
       "      <td>22:30:00</td>\n",
       "      <td>101.0</td>\n",
       "      <td>269.0</td>\n",
       "      <td>SERRA</td>\n",
       "      <td>Falta de Atenção do Pedestre</td>\n",
       "      <td>Atropelamento de Pedestre</td>\n",
       "      <td>Com Vítimas Feridas</td>\n",
       "      <td>...</td>\n",
       "      <td>3</td>\n",
       "      <td>0</td>\n",
       "      <td>1</td>\n",
       "      <td>0</td>\n",
       "      <td>1</td>\n",
       "      <td>1</td>\n",
       "      <td>1</td>\n",
       "      <td>1</td>\n",
       "      <td>-20.219194</td>\n",
       "      <td>-40.269935</td>\n",
       "    </tr>\n",
       "  </tbody>\n",
       "</table>\n",
       "<p>5 rows × 26 columns</p>\n",
       "</div>"
      ],
      "text/plain": [
       "         id data_inversa     dia_semana   horario     br     km  \\\n",
       "0  100090.0   2018-01-01  segunda-feira  15:40:00  262.0  121.3   \n",
       "1  100098.0   2018-01-01  segunda-feira  16:00:00  101.0  204.0   \n",
       "2  100108.0   2018-01-01  segunda-feira  16:30:00  101.0  307.5   \n",
       "3  100112.0   2018-01-01  segunda-feira  16:00:00  101.0  428.0   \n",
       "4  100481.0   2018-01-02    terça-feira  22:30:00  101.0  269.0   \n",
       "\n",
       "              municipio                causa_acidente  \\\n",
       "0  CONCEICAO DO CASTELO        Ultrapassagem Indevida   \n",
       "1            JOAO NEIVA   Falta de Atenção à Condução   \n",
       "2            VILA VELHA       Velocidade Incompatível   \n",
       "3       ATILIO VIVACQUA         Fenômenos da Natureza   \n",
       "4                 SERRA  Falta de Atenção do Pedestre   \n",
       "\n",
       "                  tipo_acidente classificacao_acidente  ... pessoas mortos  \\\n",
       "0           Colisão transversal    Com Vítimas Feridas  ...       8      0   \n",
       "1              Colisão traseira    Com Vítimas Feridas  ...       4      0   \n",
       "2     Saída de leito carroçável    Com Vítimas Feridas  ...       4      0   \n",
       "3  Queda de ocupante de veículo    Com Vítimas Feridas  ...       2      0   \n",
       "4     Atropelamento de Pedestre    Com Vítimas Feridas  ...       3      0   \n",
       "\n",
       "  feridos_leves feridos_graves ilesos ignorados  feridos  veiculos   latitude  \\\n",
       "0             5              0      2         1        5         4 -20.293757   \n",
       "1             1              0      3         0        1         4 -19.747574   \n",
       "2             3              0      1         0        3         1 -20.402886   \n",
       "3             2              0      0         0        2         1 -20.914650   \n",
       "4             1              0      1         1        1         1 -20.219194   \n",
       "\n",
       "   longitude  \n",
       "0 -41.232615  \n",
       "1 -40.377505  \n",
       "2 -40.455649  \n",
       "3 -41.198690  \n",
       "4 -40.269935  \n",
       "\n",
       "[5 rows x 26 columns]"
      ]
     },
     "execution_count": 8,
     "metadata": {},
     "output_type": "execute_result"
    }
   ],
   "source": [
    "data.head()"
   ]
  },
  {
   "cell_type": "markdown",
   "metadata": {},
   "source": [
    "## Casting importante"
   ]
  },
  {
   "cell_type": "code",
   "execution_count": 9,
   "metadata": {
    "ExecuteTime": {
     "end_time": "2021-11-06T05:07:11.657334Z",
     "start_time": "2021-11-06T05:07:11.649336Z"
    }
   },
   "outputs": [],
   "source": [
    "# IMPORTANTE - NÃO REMOVER ESSE CASTING\n",
    "# data = data.astype({\"br\":'object'}) \n",
    "data = data.astype('object')"
   ]
  },
  {
   "cell_type": "code",
   "execution_count": 10,
   "metadata": {
    "ExecuteTime": {
     "end_time": "2021-11-06T05:07:11.673333Z",
     "start_time": "2021-11-06T05:07:11.661335Z"
    }
   },
   "outputs": [],
   "source": [
    "# data.dtypes"
   ]
  },
  {
   "cell_type": "markdown",
   "metadata": {},
   "source": [
    "# Remoção de colunas desnecessárias para análise no algoritmo apriori"
   ]
  },
  {
   "cell_type": "code",
   "execution_count": 11,
   "metadata": {
    "ExecuteTime": {
     "end_time": "2021-11-06T05:07:11.689333Z",
     "start_time": "2021-11-06T05:07:11.675333Z"
    }
   },
   "outputs": [
    {
     "data": {
      "text/plain": [
       "Index(['id', 'data_inversa', 'dia_semana', 'horario', 'br', 'km', 'municipio',\n",
       "       'causa_acidente', 'tipo_acidente', 'classificacao_acidente', 'fase_dia',\n",
       "       'sentido_via', 'condicao_metereologica', 'tipo_pista', 'tracado_via',\n",
       "       'uso_solo', 'pessoas', 'mortos', 'feridos_leves', 'feridos_graves',\n",
       "       'ilesos', 'ignorados', 'feridos', 'veiculos', 'latitude', 'longitude'],\n",
       "      dtype='object')"
      ]
     },
     "execution_count": 11,
     "metadata": {},
     "output_type": "execute_result"
    }
   ],
   "source": [
    "data.columns"
   ]
  },
  {
   "cell_type": "code",
   "execution_count": 12,
   "metadata": {
    "ExecuteTime": {
     "end_time": "2021-11-06T05:07:11.720335Z",
     "start_time": "2021-11-06T05:07:11.693338Z"
    }
   },
   "outputs": [],
   "source": [
    "# Remoção dessas colunas, pq as instâncias dessas colunas são iguais em todas linhas\n",
    "colRemove = ['id', 'horario', 'data_inversa', 'latitude', 'longitude']\n",
    "\n",
    "#Percorre o vetor removendo esses elementos existentes no dataset\n",
    "for coluna in colRemove:\n",
    "    data.drop(coluna, inplace=True, axis=1)"
   ]
  },
  {
   "cell_type": "code",
   "execution_count": 13,
   "metadata": {
    "ExecuteTime": {
     "end_time": "2021-11-06T05:07:11.784333Z",
     "start_time": "2021-11-06T05:07:11.726341Z"
    }
   },
   "outputs": [
    {
     "data": {
      "text/html": [
       "<div>\n",
       "<style scoped>\n",
       "    .dataframe tbody tr th:only-of-type {\n",
       "        vertical-align: middle;\n",
       "    }\n",
       "\n",
       "    .dataframe tbody tr th {\n",
       "        vertical-align: top;\n",
       "    }\n",
       "\n",
       "    .dataframe thead th {\n",
       "        text-align: right;\n",
       "    }\n",
       "</style>\n",
       "<table border=\"1\" class=\"dataframe\">\n",
       "  <thead>\n",
       "    <tr style=\"text-align: right;\">\n",
       "      <th></th>\n",
       "      <th>dia_semana</th>\n",
       "      <th>br</th>\n",
       "      <th>km</th>\n",
       "      <th>municipio</th>\n",
       "      <th>causa_acidente</th>\n",
       "      <th>tipo_acidente</th>\n",
       "      <th>classificacao_acidente</th>\n",
       "      <th>fase_dia</th>\n",
       "      <th>sentido_via</th>\n",
       "      <th>condicao_metereologica</th>\n",
       "      <th>...</th>\n",
       "      <th>tracado_via</th>\n",
       "      <th>uso_solo</th>\n",
       "      <th>pessoas</th>\n",
       "      <th>mortos</th>\n",
       "      <th>feridos_leves</th>\n",
       "      <th>feridos_graves</th>\n",
       "      <th>ilesos</th>\n",
       "      <th>ignorados</th>\n",
       "      <th>feridos</th>\n",
       "      <th>veiculos</th>\n",
       "    </tr>\n",
       "  </thead>\n",
       "  <tbody>\n",
       "    <tr>\n",
       "      <th>0</th>\n",
       "      <td>segunda-feira</td>\n",
       "      <td>262</td>\n",
       "      <td>121.3</td>\n",
       "      <td>CONCEICAO DO CASTELO</td>\n",
       "      <td>Ultrapassagem Indevida</td>\n",
       "      <td>Colisão transversal</td>\n",
       "      <td>Com Vítimas Feridas</td>\n",
       "      <td>Pleno dia</td>\n",
       "      <td>Crescente</td>\n",
       "      <td>Nublado</td>\n",
       "      <td>...</td>\n",
       "      <td>Reta</td>\n",
       "      <td>Não</td>\n",
       "      <td>8</td>\n",
       "      <td>0</td>\n",
       "      <td>5</td>\n",
       "      <td>0</td>\n",
       "      <td>2</td>\n",
       "      <td>1</td>\n",
       "      <td>5</td>\n",
       "      <td>4</td>\n",
       "    </tr>\n",
       "    <tr>\n",
       "      <th>1</th>\n",
       "      <td>segunda-feira</td>\n",
       "      <td>101</td>\n",
       "      <td>204</td>\n",
       "      <td>JOAO NEIVA</td>\n",
       "      <td>Falta de Atenção à Condução</td>\n",
       "      <td>Colisão traseira</td>\n",
       "      <td>Com Vítimas Feridas</td>\n",
       "      <td>Pleno dia</td>\n",
       "      <td>Decrescente</td>\n",
       "      <td>Nublado</td>\n",
       "      <td>...</td>\n",
       "      <td>Reta</td>\n",
       "      <td>Sim</td>\n",
       "      <td>4</td>\n",
       "      <td>0</td>\n",
       "      <td>1</td>\n",
       "      <td>0</td>\n",
       "      <td>3</td>\n",
       "      <td>0</td>\n",
       "      <td>1</td>\n",
       "      <td>4</td>\n",
       "    </tr>\n",
       "    <tr>\n",
       "      <th>2</th>\n",
       "      <td>segunda-feira</td>\n",
       "      <td>101</td>\n",
       "      <td>307.5</td>\n",
       "      <td>VILA VELHA</td>\n",
       "      <td>Velocidade Incompatível</td>\n",
       "      <td>Saída de leito carroçável</td>\n",
       "      <td>Com Vítimas Feridas</td>\n",
       "      <td>Pleno dia</td>\n",
       "      <td>Crescente</td>\n",
       "      <td>Ignorado</td>\n",
       "      <td>...</td>\n",
       "      <td>Não Informado</td>\n",
       "      <td>Não</td>\n",
       "      <td>4</td>\n",
       "      <td>0</td>\n",
       "      <td>3</td>\n",
       "      <td>0</td>\n",
       "      <td>1</td>\n",
       "      <td>0</td>\n",
       "      <td>3</td>\n",
       "      <td>1</td>\n",
       "    </tr>\n",
       "    <tr>\n",
       "      <th>3</th>\n",
       "      <td>segunda-feira</td>\n",
       "      <td>101</td>\n",
       "      <td>428</td>\n",
       "      <td>ATILIO VIVACQUA</td>\n",
       "      <td>Fenômenos da Natureza</td>\n",
       "      <td>Queda de ocupante de veículo</td>\n",
       "      <td>Com Vítimas Feridas</td>\n",
       "      <td>Pleno dia</td>\n",
       "      <td>Crescente</td>\n",
       "      <td>Chuva</td>\n",
       "      <td>...</td>\n",
       "      <td>Reta</td>\n",
       "      <td>Não</td>\n",
       "      <td>2</td>\n",
       "      <td>0</td>\n",
       "      <td>2</td>\n",
       "      <td>0</td>\n",
       "      <td>0</td>\n",
       "      <td>0</td>\n",
       "      <td>2</td>\n",
       "      <td>1</td>\n",
       "    </tr>\n",
       "    <tr>\n",
       "      <th>4</th>\n",
       "      <td>terça-feira</td>\n",
       "      <td>101</td>\n",
       "      <td>269</td>\n",
       "      <td>SERRA</td>\n",
       "      <td>Falta de Atenção do Pedestre</td>\n",
       "      <td>Atropelamento de Pedestre</td>\n",
       "      <td>Com Vítimas Feridas</td>\n",
       "      <td>Plena Noite</td>\n",
       "      <td>Decrescente</td>\n",
       "      <td>Céu Claro</td>\n",
       "      <td>...</td>\n",
       "      <td>Reta</td>\n",
       "      <td>Sim</td>\n",
       "      <td>3</td>\n",
       "      <td>0</td>\n",
       "      <td>1</td>\n",
       "      <td>0</td>\n",
       "      <td>1</td>\n",
       "      <td>1</td>\n",
       "      <td>1</td>\n",
       "      <td>1</td>\n",
       "    </tr>\n",
       "  </tbody>\n",
       "</table>\n",
       "<p>5 rows × 21 columns</p>\n",
       "</div>"
      ],
      "text/plain": [
       "      dia_semana   br     km             municipio  \\\n",
       "0  segunda-feira  262  121.3  CONCEICAO DO CASTELO   \n",
       "1  segunda-feira  101    204            JOAO NEIVA   \n",
       "2  segunda-feira  101  307.5            VILA VELHA   \n",
       "3  segunda-feira  101    428       ATILIO VIVACQUA   \n",
       "4    terça-feira  101    269                 SERRA   \n",
       "\n",
       "                 causa_acidente                 tipo_acidente  \\\n",
       "0        Ultrapassagem Indevida           Colisão transversal   \n",
       "1   Falta de Atenção à Condução              Colisão traseira   \n",
       "2       Velocidade Incompatível     Saída de leito carroçável   \n",
       "3         Fenômenos da Natureza  Queda de ocupante de veículo   \n",
       "4  Falta de Atenção do Pedestre     Atropelamento de Pedestre   \n",
       "\n",
       "  classificacao_acidente     fase_dia  sentido_via condicao_metereologica  \\\n",
       "0    Com Vítimas Feridas    Pleno dia    Crescente                Nublado   \n",
       "1    Com Vítimas Feridas    Pleno dia  Decrescente                Nublado   \n",
       "2    Com Vítimas Feridas    Pleno dia    Crescente               Ignorado   \n",
       "3    Com Vítimas Feridas    Pleno dia    Crescente                  Chuva   \n",
       "4    Com Vítimas Feridas  Plena Noite  Decrescente              Céu Claro   \n",
       "\n",
       "   ...    tracado_via uso_solo pessoas mortos feridos_leves feridos_graves  \\\n",
       "0  ...           Reta      Não       8      0             5              0   \n",
       "1  ...           Reta      Sim       4      0             1              0   \n",
       "2  ...  Não Informado      Não       4      0             3              0   \n",
       "3  ...           Reta      Não       2      0             2              0   \n",
       "4  ...           Reta      Sim       3      0             1              0   \n",
       "\n",
       "  ilesos ignorados feridos veiculos  \n",
       "0      2         1       5        4  \n",
       "1      3         0       1        4  \n",
       "2      1         0       3        1  \n",
       "3      0         0       2        1  \n",
       "4      1         1       1        1  \n",
       "\n",
       "[5 rows x 21 columns]"
      ]
     },
     "execution_count": 13,
     "metadata": {},
     "output_type": "execute_result"
    }
   ],
   "source": [
    "data.head()"
   ]
  },
  {
   "cell_type": "code",
   "execution_count": 14,
   "metadata": {
    "ExecuteTime": {
     "end_time": "2021-11-06T05:07:11.815336Z",
     "start_time": "2021-11-06T05:07:11.787335Z"
    }
   },
   "outputs": [],
   "source": [
    "# Remoção dessas colunas, pq as instâncias dessas colunas são iguais em todas linhas\n",
    "colRemove = ['br', 'municipio', 'km', 'pessoas', 'mortos', 'feridos_leves', 'feridos_graves', 'ilesos', 'ignorados', 'feridos', 'veiculos']\n",
    "\n",
    "#Percorre o vetor removendo esses elementos existentes no dataset\n",
    "for coluna in colRemove:\n",
    "    data.drop(coluna, inplace=True, axis=1)"
   ]
  },
  {
   "cell_type": "markdown",
   "metadata": {},
   "source": [
    "# Atualiza para letra maiúscula na coluna dia_semana"
   ]
  },
  {
   "cell_type": "code",
   "execution_count": 15,
   "metadata": {
    "ExecuteTime": {
     "end_time": "2021-11-06T05:07:11.907346Z",
     "start_time": "2021-11-06T05:07:11.824347Z"
    }
   },
   "outputs": [],
   "source": [
    "for i in range(data.shape[0]):\n",
    "    # Letra maiúscula na coluna dia_semana\n",
    "    data.at[i, 'dia_semana'] = data.at[i, 'dia_semana'].capitalize()"
   ]
  },
  {
   "cell_type": "code",
   "execution_count": 16,
   "metadata": {
    "ExecuteTime": {
     "end_time": "2021-11-06T05:07:11.939341Z",
     "start_time": "2021-11-06T05:07:11.910337Z"
    }
   },
   "outputs": [
    {
     "data": {
      "text/html": [
       "<div>\n",
       "<style scoped>\n",
       "    .dataframe tbody tr th:only-of-type {\n",
       "        vertical-align: middle;\n",
       "    }\n",
       "\n",
       "    .dataframe tbody tr th {\n",
       "        vertical-align: top;\n",
       "    }\n",
       "\n",
       "    .dataframe thead th {\n",
       "        text-align: right;\n",
       "    }\n",
       "</style>\n",
       "<table border=\"1\" class=\"dataframe\">\n",
       "  <thead>\n",
       "    <tr style=\"text-align: right;\">\n",
       "      <th></th>\n",
       "      <th>dia_semana</th>\n",
       "      <th>causa_acidente</th>\n",
       "      <th>tipo_acidente</th>\n",
       "      <th>classificacao_acidente</th>\n",
       "      <th>fase_dia</th>\n",
       "      <th>sentido_via</th>\n",
       "      <th>condicao_metereologica</th>\n",
       "      <th>tipo_pista</th>\n",
       "      <th>tracado_via</th>\n",
       "      <th>uso_solo</th>\n",
       "    </tr>\n",
       "  </thead>\n",
       "  <tbody>\n",
       "    <tr>\n",
       "      <th>0</th>\n",
       "      <td>Segunda-feira</td>\n",
       "      <td>Ultrapassagem Indevida</td>\n",
       "      <td>Colisão transversal</td>\n",
       "      <td>Com Vítimas Feridas</td>\n",
       "      <td>Pleno dia</td>\n",
       "      <td>Crescente</td>\n",
       "      <td>Nublado</td>\n",
       "      <td>Simples</td>\n",
       "      <td>Reta</td>\n",
       "      <td>Não</td>\n",
       "    </tr>\n",
       "    <tr>\n",
       "      <th>1</th>\n",
       "      <td>Segunda-feira</td>\n",
       "      <td>Falta de Atenção à Condução</td>\n",
       "      <td>Colisão traseira</td>\n",
       "      <td>Com Vítimas Feridas</td>\n",
       "      <td>Pleno dia</td>\n",
       "      <td>Decrescente</td>\n",
       "      <td>Nublado</td>\n",
       "      <td>Simples</td>\n",
       "      <td>Reta</td>\n",
       "      <td>Sim</td>\n",
       "    </tr>\n",
       "    <tr>\n",
       "      <th>2</th>\n",
       "      <td>Segunda-feira</td>\n",
       "      <td>Velocidade Incompatível</td>\n",
       "      <td>Saída de leito carroçável</td>\n",
       "      <td>Com Vítimas Feridas</td>\n",
       "      <td>Pleno dia</td>\n",
       "      <td>Crescente</td>\n",
       "      <td>Ignorado</td>\n",
       "      <td>Simples</td>\n",
       "      <td>Não Informado</td>\n",
       "      <td>Não</td>\n",
       "    </tr>\n",
       "    <tr>\n",
       "      <th>3</th>\n",
       "      <td>Segunda-feira</td>\n",
       "      <td>Fenômenos da Natureza</td>\n",
       "      <td>Queda de ocupante de veículo</td>\n",
       "      <td>Com Vítimas Feridas</td>\n",
       "      <td>Pleno dia</td>\n",
       "      <td>Crescente</td>\n",
       "      <td>Chuva</td>\n",
       "      <td>Simples</td>\n",
       "      <td>Reta</td>\n",
       "      <td>Não</td>\n",
       "    </tr>\n",
       "    <tr>\n",
       "      <th>4</th>\n",
       "      <td>Terça-feira</td>\n",
       "      <td>Falta de Atenção do Pedestre</td>\n",
       "      <td>Atropelamento de Pedestre</td>\n",
       "      <td>Com Vítimas Feridas</td>\n",
       "      <td>Plena Noite</td>\n",
       "      <td>Decrescente</td>\n",
       "      <td>Céu Claro</td>\n",
       "      <td>Dupla</td>\n",
       "      <td>Reta</td>\n",
       "      <td>Sim</td>\n",
       "    </tr>\n",
       "  </tbody>\n",
       "</table>\n",
       "</div>"
      ],
      "text/plain": [
       "      dia_semana                causa_acidente                 tipo_acidente  \\\n",
       "0  Segunda-feira        Ultrapassagem Indevida           Colisão transversal   \n",
       "1  Segunda-feira   Falta de Atenção à Condução              Colisão traseira   \n",
       "2  Segunda-feira       Velocidade Incompatível     Saída de leito carroçável   \n",
       "3  Segunda-feira         Fenômenos da Natureza  Queda de ocupante de veículo   \n",
       "4    Terça-feira  Falta de Atenção do Pedestre     Atropelamento de Pedestre   \n",
       "\n",
       "  classificacao_acidente     fase_dia  sentido_via condicao_metereologica  \\\n",
       "0    Com Vítimas Feridas    Pleno dia    Crescente                Nublado   \n",
       "1    Com Vítimas Feridas    Pleno dia  Decrescente                Nublado   \n",
       "2    Com Vítimas Feridas    Pleno dia    Crescente               Ignorado   \n",
       "3    Com Vítimas Feridas    Pleno dia    Crescente                  Chuva   \n",
       "4    Com Vítimas Feridas  Plena Noite  Decrescente              Céu Claro   \n",
       "\n",
       "  tipo_pista    tracado_via uso_solo  \n",
       "0    Simples           Reta      Não  \n",
       "1    Simples           Reta      Sim  \n",
       "2    Simples  Não Informado      Não  \n",
       "3    Simples           Reta      Não  \n",
       "4      Dupla           Reta      Sim  "
      ]
     },
     "execution_count": 16,
     "metadata": {},
     "output_type": "execute_result"
    }
   ],
   "source": [
    "data.head()"
   ]
  },
  {
   "cell_type": "markdown",
   "metadata": {},
   "source": [
    "# Junção do nome da coluna as células"
   ]
  },
  {
   "cell_type": "code",
   "execution_count": 17,
   "metadata": {
    "ExecuteTime": {
     "end_time": "2021-11-06T05:07:11.955332Z",
     "start_time": "2021-11-06T05:07:11.944336Z"
    }
   },
   "outputs": [
    {
     "data": {
      "text/plain": [
       "Index(['dia_semana', 'causa_acidente', 'tipo_acidente',\n",
       "       'classificacao_acidente', 'fase_dia', 'sentido_via',\n",
       "       'condicao_metereologica', 'tipo_pista', 'tracado_via', 'uso_solo'],\n",
       "      dtype='object')"
      ]
     },
     "execution_count": 17,
     "metadata": {},
     "output_type": "execute_result"
    }
   ],
   "source": [
    "data.columns"
   ]
  },
  {
   "cell_type": "code",
   "execution_count": 18,
   "metadata": {
    "ExecuteTime": {
     "end_time": "2021-11-06T05:07:11.970335Z",
     "start_time": "2021-11-06T05:07:11.958338Z"
    }
   },
   "outputs": [],
   "source": [
    "linhas = data.shape[0]\n",
    "colunas = data.shape[1]"
   ]
  },
  {
   "cell_type": "code",
   "execution_count": 19,
   "metadata": {
    "ExecuteTime": {
     "end_time": "2021-11-06T05:07:12.929799Z",
     "start_time": "2021-11-06T05:07:11.973333Z"
    }
   },
   "outputs": [
    {
     "name": "stdout",
     "output_type": "stream",
     "text": [
      "Wall time: 0 ns\n"
     ]
    }
   ],
   "source": [
    "# Nesse dataset por algum motivo, tive que fazer um casting do cabeçalho e do valor da string. Sem isso, erros irão aparecer.\n",
    "%time\n",
    "for i in data.columns:\n",
    "    cabecalho = i;\n",
    "    for j in range(linhas):\n",
    "        if (data.at[j,i]==data.at[j,i]):\n",
    "            data.at[j,i] = str(cabecalho) +'='+ str(data.at[j,i]);"
   ]
  },
  {
   "cell_type": "code",
   "execution_count": 20,
   "metadata": {
    "ExecuteTime": {
     "end_time": "2021-11-06T05:07:12.961811Z",
     "start_time": "2021-11-06T05:07:12.933808Z"
    }
   },
   "outputs": [
    {
     "data": {
      "text/html": [
       "<div>\n",
       "<style scoped>\n",
       "    .dataframe tbody tr th:only-of-type {\n",
       "        vertical-align: middle;\n",
       "    }\n",
       "\n",
       "    .dataframe tbody tr th {\n",
       "        vertical-align: top;\n",
       "    }\n",
       "\n",
       "    .dataframe thead th {\n",
       "        text-align: right;\n",
       "    }\n",
       "</style>\n",
       "<table border=\"1\" class=\"dataframe\">\n",
       "  <thead>\n",
       "    <tr style=\"text-align: right;\">\n",
       "      <th></th>\n",
       "      <th>dia_semana</th>\n",
       "      <th>causa_acidente</th>\n",
       "      <th>tipo_acidente</th>\n",
       "      <th>classificacao_acidente</th>\n",
       "      <th>fase_dia</th>\n",
       "      <th>sentido_via</th>\n",
       "      <th>condicao_metereologica</th>\n",
       "      <th>tipo_pista</th>\n",
       "      <th>tracado_via</th>\n",
       "      <th>uso_solo</th>\n",
       "    </tr>\n",
       "  </thead>\n",
       "  <tbody>\n",
       "    <tr>\n",
       "      <th>0</th>\n",
       "      <td>dia_semana=Segunda-feira</td>\n",
       "      <td>causa_acidente=Ultrapassagem Indevida</td>\n",
       "      <td>tipo_acidente=Colisão transversal</td>\n",
       "      <td>classificacao_acidente=Com Vítimas Feridas</td>\n",
       "      <td>fase_dia=Pleno dia</td>\n",
       "      <td>sentido_via=Crescente</td>\n",
       "      <td>condicao_metereologica=Nublado</td>\n",
       "      <td>tipo_pista=Simples</td>\n",
       "      <td>tracado_via=Reta</td>\n",
       "      <td>uso_solo=Não</td>\n",
       "    </tr>\n",
       "    <tr>\n",
       "      <th>1</th>\n",
       "      <td>dia_semana=Segunda-feira</td>\n",
       "      <td>causa_acidente=Falta de Atenção à Condução</td>\n",
       "      <td>tipo_acidente=Colisão traseira</td>\n",
       "      <td>classificacao_acidente=Com Vítimas Feridas</td>\n",
       "      <td>fase_dia=Pleno dia</td>\n",
       "      <td>sentido_via=Decrescente</td>\n",
       "      <td>condicao_metereologica=Nublado</td>\n",
       "      <td>tipo_pista=Simples</td>\n",
       "      <td>tracado_via=Reta</td>\n",
       "      <td>uso_solo=Sim</td>\n",
       "    </tr>\n",
       "    <tr>\n",
       "      <th>2</th>\n",
       "      <td>dia_semana=Segunda-feira</td>\n",
       "      <td>causa_acidente=Velocidade Incompatível</td>\n",
       "      <td>tipo_acidente=Saída de leito carroçável</td>\n",
       "      <td>classificacao_acidente=Com Vítimas Feridas</td>\n",
       "      <td>fase_dia=Pleno dia</td>\n",
       "      <td>sentido_via=Crescente</td>\n",
       "      <td>condicao_metereologica=Ignorado</td>\n",
       "      <td>tipo_pista=Simples</td>\n",
       "      <td>tracado_via=Não Informado</td>\n",
       "      <td>uso_solo=Não</td>\n",
       "    </tr>\n",
       "    <tr>\n",
       "      <th>3</th>\n",
       "      <td>dia_semana=Segunda-feira</td>\n",
       "      <td>causa_acidente=Fenômenos da Natureza</td>\n",
       "      <td>tipo_acidente=Queda de ocupante de veículo</td>\n",
       "      <td>classificacao_acidente=Com Vítimas Feridas</td>\n",
       "      <td>fase_dia=Pleno dia</td>\n",
       "      <td>sentido_via=Crescente</td>\n",
       "      <td>condicao_metereologica=Chuva</td>\n",
       "      <td>tipo_pista=Simples</td>\n",
       "      <td>tracado_via=Reta</td>\n",
       "      <td>uso_solo=Não</td>\n",
       "    </tr>\n",
       "    <tr>\n",
       "      <th>4</th>\n",
       "      <td>dia_semana=Terça-feira</td>\n",
       "      <td>causa_acidente=Falta de Atenção do Pedestre</td>\n",
       "      <td>tipo_acidente=Atropelamento de Pedestre</td>\n",
       "      <td>classificacao_acidente=Com Vítimas Feridas</td>\n",
       "      <td>fase_dia=Plena Noite</td>\n",
       "      <td>sentido_via=Decrescente</td>\n",
       "      <td>condicao_metereologica=Céu Claro</td>\n",
       "      <td>tipo_pista=Dupla</td>\n",
       "      <td>tracado_via=Reta</td>\n",
       "      <td>uso_solo=Sim</td>\n",
       "    </tr>\n",
       "  </tbody>\n",
       "</table>\n",
       "</div>"
      ],
      "text/plain": [
       "                 dia_semana                               causa_acidente  \\\n",
       "0  dia_semana=Segunda-feira        causa_acidente=Ultrapassagem Indevida   \n",
       "1  dia_semana=Segunda-feira   causa_acidente=Falta de Atenção à Condução   \n",
       "2  dia_semana=Segunda-feira       causa_acidente=Velocidade Incompatível   \n",
       "3  dia_semana=Segunda-feira         causa_acidente=Fenômenos da Natureza   \n",
       "4    dia_semana=Terça-feira  causa_acidente=Falta de Atenção do Pedestre   \n",
       "\n",
       "                                tipo_acidente  \\\n",
       "0           tipo_acidente=Colisão transversal   \n",
       "1              tipo_acidente=Colisão traseira   \n",
       "2     tipo_acidente=Saída de leito carroçável   \n",
       "3  tipo_acidente=Queda de ocupante de veículo   \n",
       "4     tipo_acidente=Atropelamento de Pedestre   \n",
       "\n",
       "                       classificacao_acidente              fase_dia  \\\n",
       "0  classificacao_acidente=Com Vítimas Feridas    fase_dia=Pleno dia   \n",
       "1  classificacao_acidente=Com Vítimas Feridas    fase_dia=Pleno dia   \n",
       "2  classificacao_acidente=Com Vítimas Feridas    fase_dia=Pleno dia   \n",
       "3  classificacao_acidente=Com Vítimas Feridas    fase_dia=Pleno dia   \n",
       "4  classificacao_acidente=Com Vítimas Feridas  fase_dia=Plena Noite   \n",
       "\n",
       "               sentido_via            condicao_metereologica  \\\n",
       "0    sentido_via=Crescente    condicao_metereologica=Nublado   \n",
       "1  sentido_via=Decrescente    condicao_metereologica=Nublado   \n",
       "2    sentido_via=Crescente   condicao_metereologica=Ignorado   \n",
       "3    sentido_via=Crescente      condicao_metereologica=Chuva   \n",
       "4  sentido_via=Decrescente  condicao_metereologica=Céu Claro   \n",
       "\n",
       "           tipo_pista                tracado_via      uso_solo  \n",
       "0  tipo_pista=Simples           tracado_via=Reta  uso_solo=Não  \n",
       "1  tipo_pista=Simples           tracado_via=Reta  uso_solo=Sim  \n",
       "2  tipo_pista=Simples  tracado_via=Não Informado  uso_solo=Não  \n",
       "3  tipo_pista=Simples           tracado_via=Reta  uso_solo=Não  \n",
       "4    tipo_pista=Dupla           tracado_via=Reta  uso_solo=Sim  "
      ]
     },
     "execution_count": 20,
     "metadata": {},
     "output_type": "execute_result"
    }
   ],
   "source": [
    "data.head()"
   ]
  },
  {
   "cell_type": "code",
   "execution_count": 21,
   "metadata": {
    "ExecuteTime": {
     "end_time": "2021-11-06T05:07:12.977804Z",
     "start_time": "2021-11-06T05:07:12.968811Z"
    }
   },
   "outputs": [],
   "source": [
    "#Exclui a linha de posição [0] na base de dados, pois essa linha contém o nome das colunas.\n",
    "# A modificação é salva no arquivo com o 'inplace=True', caso contrário o arquivo não sofre modificação.\n",
    "# data.drop(0, inplace=True)"
   ]
  },
  {
   "cell_type": "markdown",
   "metadata": {},
   "source": [
    "# Salva o resultado em um novo arquivo .csv"
   ]
  },
  {
   "cell_type": "code",
   "execution_count": 22,
   "metadata": {
    "ExecuteTime": {
     "end_time": "2021-11-06T05:07:12.993806Z",
     "start_time": "2021-11-06T05:07:12.981813Z"
    }
   },
   "outputs": [],
   "source": [
    "if endereco2 == 'PorAno/':\n",
    "    nomeArq = 'ES_datatran' + anoArq +'_Org'\n",
    "elif endereco2 == 'PorData/':\n",
    "    nomeArq = 'ES_datatran' + anoArq +'_Org_FilterDate'"
   ]
  },
  {
   "cell_type": "code",
   "execution_count": 23,
   "metadata": {
    "ExecuteTime": {
     "end_time": "2021-11-06T05:07:13.138812Z",
     "start_time": "2021-11-06T05:07:13.003811Z"
    }
   },
   "outputs": [],
   "source": [
    "# Aqui é gerado um novo arquivo na qual contém os resultados aplicados\n",
    "# data.to_csv( '../Apriori/' + endereco2 + nomeArq + '_Apriori.csv', encoding='ISO-8859-1', sep=';', index=False, header=None)"
   ]
  }
 ],
 "metadata": {
  "kernelspec": {
   "display_name": "Python 3",
   "language": "python",
   "name": "python3"
  },
  "language_info": {
   "codemirror_mode": {
    "name": "ipython",
    "version": 3
   },
   "file_extension": ".py",
   "mimetype": "text/x-python",
   "name": "python",
   "nbconvert_exporter": "python",
   "pygments_lexer": "ipython3",
   "version": "3.8.5"
  }
 },
 "nbformat": 4,
 "nbformat_minor": 4
}
