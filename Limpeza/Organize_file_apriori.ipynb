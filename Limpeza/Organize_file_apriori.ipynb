{
 "cells": [
  {
   "cell_type": "markdown",
   "metadata": {},
   "source": [
    "# ALGORITMO PARA ORGANIZAÇÃO DOS DADOS, O NOME DAS COLUNAS SE JUNTAM COM A INFORMAÇÃO DA CÉLULA.\n",
    "PRÉ-PROCESSAMENTO PARA APLICAÇÃO ALGORITMO APRIORI."
   ]
  },
  {
   "cell_type": "markdown",
   "metadata": {},
   "source": [
    "# Bibliotecas"
   ]
  },
  {
   "cell_type": "code",
   "execution_count": 148,
   "metadata": {
    "ExecuteTime": {
     "end_time": "2021-10-21T05:34:02.798078Z",
     "start_time": "2021-10-21T05:34:02.791075Z"
    }
   },
   "outputs": [],
   "source": [
    "import pandas as pd"
   ]
  },
  {
   "cell_type": "markdown",
   "metadata": {},
   "source": [
    "# Carregamento de dados"
   ]
  },
  {
   "cell_type": "code",
   "execution_count": 149,
   "metadata": {
    "ExecuteTime": {
     "end_time": "2021-10-21T05:34:02.830079Z",
     "start_time": "2021-10-21T05:34:02.802078Z"
    }
   },
   "outputs": [],
   "source": [
    "anoArq = '2020'"
   ]
  },
  {
   "cell_type": "code",
   "execution_count": 150,
   "metadata": {
    "ExecuteTime": {
     "end_time": "2021-10-21T05:34:02.846073Z",
     "start_time": "2021-10-21T05:34:02.835076Z"
    }
   },
   "outputs": [],
   "source": [
    "endereco2= 'PorAno/'\n",
    "# endereco2= 'PorData/'"
   ]
  },
  {
   "cell_type": "code",
   "execution_count": 151,
   "metadata": {
    "ExecuteTime": {
     "end_time": "2021-10-21T05:34:02.862077Z",
     "start_time": "2021-10-21T05:34:02.850075Z"
    }
   },
   "outputs": [],
   "source": [
    "if endereco2 == 'PorAno/':\n",
    "    nomeArq = 'ES_datatran' + anoArq +'_Organizado'\n",
    "elif endereco2 == 'PorData/':\n",
    "    nomeArq = 'ES_datatran' + anoArq +'_Org_FilterDate'"
   ]
  },
  {
   "cell_type": "code",
   "execution_count": 152,
   "metadata": {
    "ExecuteTime": {
     "end_time": "2021-10-21T05:34:02.878074Z",
     "start_time": "2021-10-21T05:34:02.866075Z"
    }
   },
   "outputs": [],
   "source": [
    "endereco = '../BaseDadosSelecionados/' + endereco2"
   ]
  },
  {
   "cell_type": "code",
   "execution_count": 153,
   "metadata": {
    "ExecuteTime": {
     "end_time": "2021-10-21T05:34:02.942074Z",
     "start_time": "2021-10-21T05:34:02.882075Z"
    }
   },
   "outputs": [],
   "source": [
    "data = pd.read_csv(endereco + nomeArq +'.csv', encoding='ISO-8859-1', sep=';')"
   ]
  },
  {
   "cell_type": "code",
   "execution_count": 154,
   "metadata": {
    "ExecuteTime": {
     "end_time": "2021-10-21T05:34:02.962076Z",
     "start_time": "2021-10-21T05:34:02.950074Z"
    }
   },
   "outputs": [],
   "source": [
    "# data.columns"
   ]
  },
  {
   "cell_type": "code",
   "execution_count": 155,
   "metadata": {
    "ExecuteTime": {
     "end_time": "2021-10-21T05:34:03.148075Z",
     "start_time": "2021-10-21T05:34:02.973074Z"
    },
    "scrolled": true
   },
   "outputs": [
    {
     "data": {
      "text/html": [
       "<div>\n",
       "<style scoped>\n",
       "    .dataframe tbody tr th:only-of-type {\n",
       "        vertical-align: middle;\n",
       "    }\n",
       "\n",
       "    .dataframe tbody tr th {\n",
       "        vertical-align: top;\n",
       "    }\n",
       "\n",
       "    .dataframe thead th {\n",
       "        text-align: right;\n",
       "    }\n",
       "</style>\n",
       "<table border=\"1\" class=\"dataframe\">\n",
       "  <thead>\n",
       "    <tr style=\"text-align: right;\">\n",
       "      <th></th>\n",
       "      <th>id</th>\n",
       "      <th>data_inversa</th>\n",
       "      <th>dia_semana</th>\n",
       "      <th>horario</th>\n",
       "      <th>br</th>\n",
       "      <th>km</th>\n",
       "      <th>municipio</th>\n",
       "      <th>causa_acidente</th>\n",
       "      <th>tipo_acidente</th>\n",
       "      <th>classificacao_acidente</th>\n",
       "      <th>...</th>\n",
       "      <th>pessoas</th>\n",
       "      <th>mortos</th>\n",
       "      <th>feridos_leves</th>\n",
       "      <th>feridos_graves</th>\n",
       "      <th>ilesos</th>\n",
       "      <th>ignorados</th>\n",
       "      <th>feridos</th>\n",
       "      <th>veiculos</th>\n",
       "      <th>latitude</th>\n",
       "      <th>longitude</th>\n",
       "    </tr>\n",
       "  </thead>\n",
       "  <tbody>\n",
       "    <tr>\n",
       "      <th>0</th>\n",
       "      <td>260133.0</td>\n",
       "      <td>2020-01-01</td>\n",
       "      <td>quarta-feira</td>\n",
       "      <td>12:30:00</td>\n",
       "      <td>101.0</td>\n",
       "      <td>102.3</td>\n",
       "      <td>SOORETAMA</td>\n",
       "      <td>Ultrapassagem Indevida</td>\n",
       "      <td>Colisão frontal</td>\n",
       "      <td>Com Vítimas Feridas</td>\n",
       "      <td>...</td>\n",
       "      <td>2</td>\n",
       "      <td>0</td>\n",
       "      <td>0</td>\n",
       "      <td>1</td>\n",
       "      <td>1</td>\n",
       "      <td>0</td>\n",
       "      <td>1</td>\n",
       "      <td>2</td>\n",
       "      <td>-18.996557</td>\n",
       "      <td>-40.003195</td>\n",
       "    </tr>\n",
       "    <tr>\n",
       "      <th>1</th>\n",
       "      <td>260206.0</td>\n",
       "      <td>2020-01-01</td>\n",
       "      <td>quarta-feira</td>\n",
       "      <td>17:30:00</td>\n",
       "      <td>101.0</td>\n",
       "      <td>431.0</td>\n",
       "      <td>ATILIO VIVACQUA</td>\n",
       "      <td>Defeito Mecânico no Veículo</td>\n",
       "      <td>Saída de leito carroçável</td>\n",
       "      <td>Sem Vítimas</td>\n",
       "      <td>...</td>\n",
       "      <td>1</td>\n",
       "      <td>0</td>\n",
       "      <td>0</td>\n",
       "      <td>0</td>\n",
       "      <td>1</td>\n",
       "      <td>0</td>\n",
       "      <td>0</td>\n",
       "      <td>1</td>\n",
       "      <td>-21.026347</td>\n",
       "      <td>-41.169291</td>\n",
       "    </tr>\n",
       "    <tr>\n",
       "      <th>2</th>\n",
       "      <td>260244.0</td>\n",
       "      <td>2020-01-01</td>\n",
       "      <td>quarta-feira</td>\n",
       "      <td>21:40:00</td>\n",
       "      <td>447.0</td>\n",
       "      <td>12.0</td>\n",
       "      <td>VILA VELHA</td>\n",
       "      <td>Falta de Atenção do Pedestre</td>\n",
       "      <td>Atropelamento de Pedestre</td>\n",
       "      <td>Com Vítimas Feridas</td>\n",
       "      <td>...</td>\n",
       "      <td>2</td>\n",
       "      <td>0</td>\n",
       "      <td>2</td>\n",
       "      <td>0</td>\n",
       "      <td>0</td>\n",
       "      <td>0</td>\n",
       "      <td>2</td>\n",
       "      <td>1</td>\n",
       "      <td>-20.357843</td>\n",
       "      <td>-40.332829</td>\n",
       "    </tr>\n",
       "    <tr>\n",
       "      <th>3</th>\n",
       "      <td>260336.0</td>\n",
       "      <td>2020-01-01</td>\n",
       "      <td>quarta-feira</td>\n",
       "      <td>17:30:00</td>\n",
       "      <td>101.0</td>\n",
       "      <td>120.0</td>\n",
       "      <td>SOORETAMA</td>\n",
       "      <td>Falta de Atenção à Condução</td>\n",
       "      <td>Saída de leito carroçável</td>\n",
       "      <td>Sem Vítimas</td>\n",
       "      <td>...</td>\n",
       "      <td>1</td>\n",
       "      <td>0</td>\n",
       "      <td>0</td>\n",
       "      <td>0</td>\n",
       "      <td>0</td>\n",
       "      <td>1</td>\n",
       "      <td>0</td>\n",
       "      <td>1</td>\n",
       "      <td>-19.143853</td>\n",
       "      <td>-40.075102</td>\n",
       "    </tr>\n",
       "    <tr>\n",
       "      <th>4</th>\n",
       "      <td>260276.0</td>\n",
       "      <td>2020-01-02</td>\n",
       "      <td>quinta-feira</td>\n",
       "      <td>06:25:00</td>\n",
       "      <td>262.0</td>\n",
       "      <td>1.8</td>\n",
       "      <td>CARIACICA</td>\n",
       "      <td>Falta de Atenção à Condução</td>\n",
       "      <td>Colisão lateral</td>\n",
       "      <td>Com Vítimas Feridas</td>\n",
       "      <td>...</td>\n",
       "      <td>2</td>\n",
       "      <td>0</td>\n",
       "      <td>0</td>\n",
       "      <td>1</td>\n",
       "      <td>1</td>\n",
       "      <td>0</td>\n",
       "      <td>1</td>\n",
       "      <td>2</td>\n",
       "      <td>-20.332957</td>\n",
       "      <td>-40.358877</td>\n",
       "    </tr>\n",
       "  </tbody>\n",
       "</table>\n",
       "<p>5 rows × 26 columns</p>\n",
       "</div>"
      ],
      "text/plain": [
       "         id data_inversa    dia_semana   horario     br     km  \\\n",
       "0  260133.0   2020-01-01  quarta-feira  12:30:00  101.0  102.3   \n",
       "1  260206.0   2020-01-01  quarta-feira  17:30:00  101.0  431.0   \n",
       "2  260244.0   2020-01-01  quarta-feira  21:40:00  447.0   12.0   \n",
       "3  260336.0   2020-01-01  quarta-feira  17:30:00  101.0  120.0   \n",
       "4  260276.0   2020-01-02  quinta-feira  06:25:00  262.0    1.8   \n",
       "\n",
       "         municipio                causa_acidente              tipo_acidente  \\\n",
       "0        SOORETAMA        Ultrapassagem Indevida            Colisão frontal   \n",
       "1  ATILIO VIVACQUA   Defeito Mecânico no Veículo  Saída de leito carroçável   \n",
       "2       VILA VELHA  Falta de Atenção do Pedestre  Atropelamento de Pedestre   \n",
       "3        SOORETAMA   Falta de Atenção à Condução  Saída de leito carroçável   \n",
       "4        CARIACICA   Falta de Atenção à Condução            Colisão lateral   \n",
       "\n",
       "  classificacao_acidente  ... pessoas mortos feridos_leves feridos_graves  \\\n",
       "0    Com Vítimas Feridas  ...       2      0             0              1   \n",
       "1            Sem Vítimas  ...       1      0             0              0   \n",
       "2    Com Vítimas Feridas  ...       2      0             2              0   \n",
       "3            Sem Vítimas  ...       1      0             0              0   \n",
       "4    Com Vítimas Feridas  ...       2      0             0              1   \n",
       "\n",
       "  ilesos ignorados  feridos  veiculos   latitude  longitude  \n",
       "0      1         0        1         2 -18.996557 -40.003195  \n",
       "1      1         0        0         1 -21.026347 -41.169291  \n",
       "2      0         0        2         1 -20.357843 -40.332829  \n",
       "3      0         1        0         1 -19.143853 -40.075102  \n",
       "4      1         0        1         2 -20.332957 -40.358877  \n",
       "\n",
       "[5 rows x 26 columns]"
      ]
     },
     "execution_count": 155,
     "metadata": {},
     "output_type": "execute_result"
    }
   ],
   "source": [
    "data.head()"
   ]
  },
  {
   "cell_type": "code",
   "execution_count": 156,
   "metadata": {
    "ExecuteTime": {
     "end_time": "2021-10-21T05:34:03.178075Z",
     "start_time": "2021-10-21T05:34:03.155074Z"
    }
   },
   "outputs": [],
   "source": [
    "# IMPORTANTE - NÃO REMOVER ESSE CASTING\n",
    "# data = data.astype({\"br\":'object'}) \n",
    "data = data.astype('object')"
   ]
  },
  {
   "cell_type": "code",
   "execution_count": 157,
   "metadata": {
    "ExecuteTime": {
     "end_time": "2021-10-21T05:34:03.226075Z",
     "start_time": "2021-10-21T05:34:03.202077Z"
    }
   },
   "outputs": [],
   "source": [
    "# data.dtypes"
   ]
  },
  {
   "cell_type": "markdown",
   "metadata": {},
   "source": [
    "# Remoção de colunas desnecessárias para análise"
   ]
  },
  {
   "cell_type": "code",
   "execution_count": 158,
   "metadata": {
    "ExecuteTime": {
     "end_time": "2021-10-21T05:34:03.318074Z",
     "start_time": "2021-10-21T05:34:03.244074Z"
    }
   },
   "outputs": [],
   "source": [
    "# Remoção dessas colunas, pq as instâncias dessas colunas são iguais em todas linhas\n",
    "colRemove = ['id', 'horario', 'data_inversa', 'latitude', 'longitude']\n",
    "\n",
    "#Percorre o vetor removendo esses elementos existentes no dataset\n",
    "for coluna in colRemove:\n",
    "    data.drop(coluna, inplace=True, axis=1)"
   ]
  },
  {
   "cell_type": "markdown",
   "metadata": {},
   "source": [
    "# Atribui o nome da coluna nas células"
   ]
  },
  {
   "cell_type": "code",
   "execution_count": 159,
   "metadata": {
    "ExecuteTime": {
     "end_time": "2021-10-21T05:34:03.350077Z",
     "start_time": "2021-10-21T05:34:03.324075Z"
    }
   },
   "outputs": [
    {
     "data": {
      "text/plain": [
       "Index(['dia_semana', 'br', 'km', 'municipio', 'causa_acidente',\n",
       "       'tipo_acidente', 'classificacao_acidente', 'fase_dia', 'sentido_via',\n",
       "       'condicao_metereologica', 'tipo_pista', 'tracado_via', 'uso_solo',\n",
       "       'pessoas', 'mortos', 'feridos_leves', 'feridos_graves', 'ilesos',\n",
       "       'ignorados', 'feridos', 'veiculos'],\n",
       "      dtype='object')"
      ]
     },
     "execution_count": 159,
     "metadata": {},
     "output_type": "execute_result"
    }
   ],
   "source": [
    "data.columns"
   ]
  },
  {
   "cell_type": "code",
   "execution_count": 160,
   "metadata": {
    "ExecuteTime": {
     "end_time": "2021-10-21T05:34:03.366079Z",
     "start_time": "2021-10-21T05:34:03.355076Z"
    }
   },
   "outputs": [],
   "source": [
    "linhas = data.shape[0]\n",
    "colunas = data.shape[1]"
   ]
  },
  {
   "cell_type": "code",
   "execution_count": 161,
   "metadata": {
    "ExecuteTime": {
     "end_time": "2021-10-21T05:34:06.985299Z",
     "start_time": "2021-10-21T05:34:03.370606Z"
    }
   },
   "outputs": [
    {
     "name": "stdout",
     "output_type": "stream",
     "text": [
      "Wall time: 0 ns\n"
     ]
    }
   ],
   "source": [
    "# Nesse dataset por algum motivo, tive que fazer um casting do cabeçalho e do valor da string. Sem isso, erros irão aparecer.\n",
    "%time\n",
    "for i in data.columns:\n",
    "    cabecalho = i;\n",
    "    for j in range(linhas):\n",
    "        if (data.at[j,i]==data.at[j,i]):\n",
    "            data.at[j,i] = str(cabecalho) +'='+ str(data.at[j,i]);"
   ]
  },
  {
   "cell_type": "code",
   "execution_count": 162,
   "metadata": {
    "ExecuteTime": {
     "end_time": "2021-10-21T05:34:07.078302Z",
     "start_time": "2021-10-21T05:34:06.988302Z"
    }
   },
   "outputs": [
    {
     "data": {
      "text/html": [
       "<div>\n",
       "<style scoped>\n",
       "    .dataframe tbody tr th:only-of-type {\n",
       "        vertical-align: middle;\n",
       "    }\n",
       "\n",
       "    .dataframe tbody tr th {\n",
       "        vertical-align: top;\n",
       "    }\n",
       "\n",
       "    .dataframe thead th {\n",
       "        text-align: right;\n",
       "    }\n",
       "</style>\n",
       "<table border=\"1\" class=\"dataframe\">\n",
       "  <thead>\n",
       "    <tr style=\"text-align: right;\">\n",
       "      <th></th>\n",
       "      <th>dia_semana</th>\n",
       "      <th>br</th>\n",
       "      <th>km</th>\n",
       "      <th>municipio</th>\n",
       "      <th>causa_acidente</th>\n",
       "      <th>tipo_acidente</th>\n",
       "      <th>classificacao_acidente</th>\n",
       "      <th>fase_dia</th>\n",
       "      <th>sentido_via</th>\n",
       "      <th>condicao_metereologica</th>\n",
       "      <th>...</th>\n",
       "      <th>tracado_via</th>\n",
       "      <th>uso_solo</th>\n",
       "      <th>pessoas</th>\n",
       "      <th>mortos</th>\n",
       "      <th>feridos_leves</th>\n",
       "      <th>feridos_graves</th>\n",
       "      <th>ilesos</th>\n",
       "      <th>ignorados</th>\n",
       "      <th>feridos</th>\n",
       "      <th>veiculos</th>\n",
       "    </tr>\n",
       "  </thead>\n",
       "  <tbody>\n",
       "    <tr>\n",
       "      <th>0</th>\n",
       "      <td>dia_semana=quarta-feira</td>\n",
       "      <td>br=101.0</td>\n",
       "      <td>km=102.3</td>\n",
       "      <td>municipio=SOORETAMA</td>\n",
       "      <td>causa_acidente=Ultrapassagem Indevida</td>\n",
       "      <td>tipo_acidente=Colisão frontal</td>\n",
       "      <td>classificacao_acidente=Com Vítimas Feridas</td>\n",
       "      <td>fase_dia=Pleno dia</td>\n",
       "      <td>sentido_via=Decrescente</td>\n",
       "      <td>condicao_metereologica=Sol</td>\n",
       "      <td>...</td>\n",
       "      <td>tracado_via=Não Informado</td>\n",
       "      <td>uso_solo=Não</td>\n",
       "      <td>pessoas=2</td>\n",
       "      <td>mortos=0</td>\n",
       "      <td>feridos_leves=0</td>\n",
       "      <td>feridos_graves=1</td>\n",
       "      <td>ilesos=1</td>\n",
       "      <td>ignorados=0</td>\n",
       "      <td>feridos=1</td>\n",
       "      <td>veiculos=2</td>\n",
       "    </tr>\n",
       "    <tr>\n",
       "      <th>1</th>\n",
       "      <td>dia_semana=quarta-feira</td>\n",
       "      <td>br=101.0</td>\n",
       "      <td>km=431.0</td>\n",
       "      <td>municipio=ATILIO VIVACQUA</td>\n",
       "      <td>causa_acidente=Defeito Mecânico no Veículo</td>\n",
       "      <td>tipo_acidente=Saída de leito carroçável</td>\n",
       "      <td>classificacao_acidente=Sem Vítimas</td>\n",
       "      <td>fase_dia=Pleno dia</td>\n",
       "      <td>sentido_via=Decrescente</td>\n",
       "      <td>condicao_metereologica=Sol</td>\n",
       "      <td>...</td>\n",
       "      <td>tracado_via=Curva</td>\n",
       "      <td>uso_solo=Não</td>\n",
       "      <td>pessoas=1</td>\n",
       "      <td>mortos=0</td>\n",
       "      <td>feridos_leves=0</td>\n",
       "      <td>feridos_graves=0</td>\n",
       "      <td>ilesos=1</td>\n",
       "      <td>ignorados=0</td>\n",
       "      <td>feridos=0</td>\n",
       "      <td>veiculos=1</td>\n",
       "    </tr>\n",
       "    <tr>\n",
       "      <th>2</th>\n",
       "      <td>dia_semana=quarta-feira</td>\n",
       "      <td>br=447.0</td>\n",
       "      <td>km=12.0</td>\n",
       "      <td>municipio=VILA VELHA</td>\n",
       "      <td>causa_acidente=Falta de Atenção do Pedestre</td>\n",
       "      <td>tipo_acidente=Atropelamento de Pedestre</td>\n",
       "      <td>classificacao_acidente=Com Vítimas Feridas</td>\n",
       "      <td>fase_dia=Plena Noite</td>\n",
       "      <td>sentido_via=Crescente</td>\n",
       "      <td>condicao_metereologica=Céu Claro</td>\n",
       "      <td>...</td>\n",
       "      <td>tracado_via=Reta</td>\n",
       "      <td>uso_solo=Sim</td>\n",
       "      <td>pessoas=2</td>\n",
       "      <td>mortos=0</td>\n",
       "      <td>feridos_leves=2</td>\n",
       "      <td>feridos_graves=0</td>\n",
       "      <td>ilesos=0</td>\n",
       "      <td>ignorados=0</td>\n",
       "      <td>feridos=2</td>\n",
       "      <td>veiculos=1</td>\n",
       "    </tr>\n",
       "    <tr>\n",
       "      <th>3</th>\n",
       "      <td>dia_semana=quarta-feira</td>\n",
       "      <td>br=101.0</td>\n",
       "      <td>km=120.0</td>\n",
       "      <td>municipio=SOORETAMA</td>\n",
       "      <td>causa_acidente=Falta de Atenção à Condução</td>\n",
       "      <td>tipo_acidente=Saída de leito carroçável</td>\n",
       "      <td>classificacao_acidente=Sem Vítimas</td>\n",
       "      <td>fase_dia=Pleno dia</td>\n",
       "      <td>sentido_via=Crescente</td>\n",
       "      <td>condicao_metereologica=Céu Claro</td>\n",
       "      <td>...</td>\n",
       "      <td>tracado_via=Reta</td>\n",
       "      <td>uso_solo=Não</td>\n",
       "      <td>pessoas=1</td>\n",
       "      <td>mortos=0</td>\n",
       "      <td>feridos_leves=0</td>\n",
       "      <td>feridos_graves=0</td>\n",
       "      <td>ilesos=0</td>\n",
       "      <td>ignorados=1</td>\n",
       "      <td>feridos=0</td>\n",
       "      <td>veiculos=1</td>\n",
       "    </tr>\n",
       "    <tr>\n",
       "      <th>4</th>\n",
       "      <td>dia_semana=quinta-feira</td>\n",
       "      <td>br=262.0</td>\n",
       "      <td>km=1.8</td>\n",
       "      <td>municipio=CARIACICA</td>\n",
       "      <td>causa_acidente=Falta de Atenção à Condução</td>\n",
       "      <td>tipo_acidente=Colisão lateral</td>\n",
       "      <td>classificacao_acidente=Com Vítimas Feridas</td>\n",
       "      <td>fase_dia=Pleno dia</td>\n",
       "      <td>sentido_via=Crescente</td>\n",
       "      <td>condicao_metereologica=Céu Claro</td>\n",
       "      <td>...</td>\n",
       "      <td>tracado_via=Reta</td>\n",
       "      <td>uso_solo=Sim</td>\n",
       "      <td>pessoas=2</td>\n",
       "      <td>mortos=0</td>\n",
       "      <td>feridos_leves=0</td>\n",
       "      <td>feridos_graves=1</td>\n",
       "      <td>ilesos=1</td>\n",
       "      <td>ignorados=0</td>\n",
       "      <td>feridos=1</td>\n",
       "      <td>veiculos=2</td>\n",
       "    </tr>\n",
       "  </tbody>\n",
       "</table>\n",
       "<p>5 rows × 21 columns</p>\n",
       "</div>"
      ],
      "text/plain": [
       "                dia_semana        br        km                  municipio  \\\n",
       "0  dia_semana=quarta-feira  br=101.0  km=102.3        municipio=SOORETAMA   \n",
       "1  dia_semana=quarta-feira  br=101.0  km=431.0  municipio=ATILIO VIVACQUA   \n",
       "2  dia_semana=quarta-feira  br=447.0   km=12.0       municipio=VILA VELHA   \n",
       "3  dia_semana=quarta-feira  br=101.0  km=120.0        municipio=SOORETAMA   \n",
       "4  dia_semana=quinta-feira  br=262.0    km=1.8        municipio=CARIACICA   \n",
       "\n",
       "                                causa_acidente  \\\n",
       "0        causa_acidente=Ultrapassagem Indevida   \n",
       "1   causa_acidente=Defeito Mecânico no Veículo   \n",
       "2  causa_acidente=Falta de Atenção do Pedestre   \n",
       "3   causa_acidente=Falta de Atenção à Condução   \n",
       "4   causa_acidente=Falta de Atenção à Condução   \n",
       "\n",
       "                             tipo_acidente  \\\n",
       "0            tipo_acidente=Colisão frontal   \n",
       "1  tipo_acidente=Saída de leito carroçável   \n",
       "2  tipo_acidente=Atropelamento de Pedestre   \n",
       "3  tipo_acidente=Saída de leito carroçável   \n",
       "4            tipo_acidente=Colisão lateral   \n",
       "\n",
       "                       classificacao_acidente              fase_dia  \\\n",
       "0  classificacao_acidente=Com Vítimas Feridas    fase_dia=Pleno dia   \n",
       "1          classificacao_acidente=Sem Vítimas    fase_dia=Pleno dia   \n",
       "2  classificacao_acidente=Com Vítimas Feridas  fase_dia=Plena Noite   \n",
       "3          classificacao_acidente=Sem Vítimas    fase_dia=Pleno dia   \n",
       "4  classificacao_acidente=Com Vítimas Feridas    fase_dia=Pleno dia   \n",
       "\n",
       "               sentido_via            condicao_metereologica  ...  \\\n",
       "0  sentido_via=Decrescente        condicao_metereologica=Sol  ...   \n",
       "1  sentido_via=Decrescente        condicao_metereologica=Sol  ...   \n",
       "2    sentido_via=Crescente  condicao_metereologica=Céu Claro  ...   \n",
       "3    sentido_via=Crescente  condicao_metereologica=Céu Claro  ...   \n",
       "4    sentido_via=Crescente  condicao_metereologica=Céu Claro  ...   \n",
       "\n",
       "                 tracado_via      uso_solo    pessoas    mortos  \\\n",
       "0  tracado_via=Não Informado  uso_solo=Não  pessoas=2  mortos=0   \n",
       "1          tracado_via=Curva  uso_solo=Não  pessoas=1  mortos=0   \n",
       "2           tracado_via=Reta  uso_solo=Sim  pessoas=2  mortos=0   \n",
       "3           tracado_via=Reta  uso_solo=Não  pessoas=1  mortos=0   \n",
       "4           tracado_via=Reta  uso_solo=Sim  pessoas=2  mortos=0   \n",
       "\n",
       "     feridos_leves    feridos_graves    ilesos    ignorados    feridos  \\\n",
       "0  feridos_leves=0  feridos_graves=1  ilesos=1  ignorados=0  feridos=1   \n",
       "1  feridos_leves=0  feridos_graves=0  ilesos=1  ignorados=0  feridos=0   \n",
       "2  feridos_leves=2  feridos_graves=0  ilesos=0  ignorados=0  feridos=2   \n",
       "3  feridos_leves=0  feridos_graves=0  ilesos=0  ignorados=1  feridos=0   \n",
       "4  feridos_leves=0  feridos_graves=1  ilesos=1  ignorados=0  feridos=1   \n",
       "\n",
       "     veiculos  \n",
       "0  veiculos=2  \n",
       "1  veiculos=1  \n",
       "2  veiculos=1  \n",
       "3  veiculos=1  \n",
       "4  veiculos=2  \n",
       "\n",
       "[5 rows x 21 columns]"
      ]
     },
     "execution_count": 162,
     "metadata": {},
     "output_type": "execute_result"
    }
   ],
   "source": [
    "data.head()"
   ]
  },
  {
   "cell_type": "code",
   "execution_count": 163,
   "metadata": {
    "ExecuteTime": {
     "end_time": "2021-10-21T05:34:07.093301Z",
     "start_time": "2021-10-21T05:34:07.082305Z"
    }
   },
   "outputs": [],
   "source": [
    "#Exclui a linha de posição [0] na base de dados, pois essa linha contém o nome das colunas.\n",
    "# A modificação é salva no arquivo com o 'inplace=True', caso contrário o arquivo não sofre modificação.\n",
    "# data.drop(0, inplace=True)"
   ]
  },
  {
   "cell_type": "markdown",
   "metadata": {},
   "source": [
    "# Salva o resultado em um novo arquivo .csv"
   ]
  },
  {
   "cell_type": "code",
   "execution_count": 165,
   "metadata": {
    "ExecuteTime": {
     "end_time": "2021-10-21T05:34:07.250304Z",
     "start_time": "2021-10-21T05:34:07.114304Z"
    }
   },
   "outputs": [],
   "source": [
    "# Aqui é gerado um novo arquivo na qual contém os resultados aplicados\n",
    "data.to_csv( '../Apriori/' + endereco2 + nomeArq + '_Apriori.csv', encoding='ISO-8859-1', sep=';', index=False, header=None)"
   ]
  }
 ],
 "metadata": {
  "kernelspec": {
   "display_name": "Python 3",
   "language": "python",
   "name": "python3"
  },
  "language_info": {
   "codemirror_mode": {
    "name": "ipython",
    "version": 3
   },
   "file_extension": ".py",
   "mimetype": "text/x-python",
   "name": "python",
   "nbconvert_exporter": "python",
   "pygments_lexer": "ipython3",
   "version": "3.8.5"
  }
 },
 "nbformat": 4,
 "nbformat_minor": 4
}
