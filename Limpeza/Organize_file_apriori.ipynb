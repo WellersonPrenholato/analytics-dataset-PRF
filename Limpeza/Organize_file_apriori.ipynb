{
 "cells": [
  {
   "cell_type": "markdown",
   "metadata": {},
   "source": [
    "# ALGORITMO PARA ORGANIZAÇÃO DOS DADOS, O NOME DAS COLUNAS SE JUNTAM COM A INFORMAÇÃO DA CÉLULA.\n",
    "PRÉ-PROCESSAMENTO PARA APLICAÇÃO ALGORITMO APRIORI."
   ]
  },
  {
   "cell_type": "markdown",
   "metadata": {},
   "source": [
    "# Bibliotecas"
   ]
  },
  {
   "cell_type": "code",
   "execution_count": 31,
   "metadata": {
    "ExecuteTime": {
     "end_time": "2021-12-28T22:21:49.979656Z",
     "start_time": "2021-12-28T22:21:49.963657Z"
    }
   },
   "outputs": [],
   "source": [
    "import pandas as pd\n",
    "import numpy as np"
   ]
  },
  {
   "cell_type": "markdown",
   "metadata": {},
   "source": [
    "# Carregamento de dados"
   ]
  },
  {
   "cell_type": "code",
   "execution_count": 32,
   "metadata": {
    "ExecuteTime": {
     "end_time": "2021-12-28T22:21:49.995655Z",
     "start_time": "2021-12-28T22:21:49.983656Z"
    }
   },
   "outputs": [],
   "source": [
    "endereco2= 'PorAno/'"
   ]
  },
  {
   "cell_type": "code",
   "execution_count": 33,
   "metadata": {
    "ExecuteTime": {
     "end_time": "2021-12-28T22:21:50.010658Z",
     "start_time": "2021-12-28T22:21:50.000658Z"
    }
   },
   "outputs": [],
   "source": [
    "nomeArq = 'ES_datatranCompleto'"
   ]
  },
  {
   "cell_type": "code",
   "execution_count": 34,
   "metadata": {
    "ExecuteTime": {
     "end_time": "2021-12-28T22:21:50.026659Z",
     "start_time": "2021-12-28T22:21:50.014656Z"
    }
   },
   "outputs": [],
   "source": [
    "endereco = '../BaseDadosSelecionados/' + endereco2"
   ]
  },
  {
   "cell_type": "code",
   "execution_count": 35,
   "metadata": {
    "ExecuteTime": {
     "end_time": "2021-12-28T22:21:50.138657Z",
     "start_time": "2021-12-28T22:21:50.030658Z"
    }
   },
   "outputs": [],
   "source": [
    "data = pd.read_csv(endereco + nomeArq +'_Ref_Removed.csv', encoding='ISO-8859-1', sep=';')"
   ]
  },
  {
   "cell_type": "code",
   "execution_count": 36,
   "metadata": {
    "ExecuteTime": {
     "end_time": "2021-12-28T22:21:50.170659Z",
     "start_time": "2021-12-28T22:21:50.147658Z"
    }
   },
   "outputs": [],
   "source": [
    "# data.columns"
   ]
  },
  {
   "cell_type": "code",
   "execution_count": 37,
   "metadata": {
    "ExecuteTime": {
     "end_time": "2021-12-28T22:21:50.249657Z",
     "start_time": "2021-12-28T22:21:50.175657Z"
    },
    "scrolled": true
   },
   "outputs": [
    {
     "data": {
      "text/html": [
       "<div>\n",
       "<style scoped>\n",
       "    .dataframe tbody tr th:only-of-type {\n",
       "        vertical-align: middle;\n",
       "    }\n",
       "\n",
       "    .dataframe tbody tr th {\n",
       "        vertical-align: top;\n",
       "    }\n",
       "\n",
       "    .dataframe thead th {\n",
       "        text-align: right;\n",
       "    }\n",
       "</style>\n",
       "<table border=\"1\" class=\"dataframe\">\n",
       "  <thead>\n",
       "    <tr style=\"text-align: right;\">\n",
       "      <th></th>\n",
       "      <th>id</th>\n",
       "      <th>data_inversa</th>\n",
       "      <th>dia_semana</th>\n",
       "      <th>hora_horario</th>\n",
       "      <th>horario</th>\n",
       "      <th>br</th>\n",
       "      <th>km</th>\n",
       "      <th>municipio</th>\n",
       "      <th>causa_acidente</th>\n",
       "      <th>tipo_acidente</th>\n",
       "      <th>...</th>\n",
       "      <th>mortos</th>\n",
       "      <th>feridos_leves</th>\n",
       "      <th>feridos_graves</th>\n",
       "      <th>ilesos</th>\n",
       "      <th>ignorados</th>\n",
       "      <th>feridos</th>\n",
       "      <th>veiculos</th>\n",
       "      <th>latitude</th>\n",
       "      <th>longitude</th>\n",
       "      <th>change_data</th>\n",
       "    </tr>\n",
       "  </thead>\n",
       "  <tbody>\n",
       "    <tr>\n",
       "      <th>0</th>\n",
       "      <td>102</td>\n",
       "      <td>2017-01-01</td>\n",
       "      <td>Domingo</td>\n",
       "      <td>8</td>\n",
       "      <td>08:30:00</td>\n",
       "      <td>101.0</td>\n",
       "      <td>186.2</td>\n",
       "      <td>Aracruz</td>\n",
       "      <td>Falta de Atenção à Condução</td>\n",
       "      <td>Saída de leito carroçável</td>\n",
       "      <td>...</td>\n",
       "      <td>0</td>\n",
       "      <td>0</td>\n",
       "      <td>0</td>\n",
       "      <td>1</td>\n",
       "      <td>0</td>\n",
       "      <td>0</td>\n",
       "      <td>1</td>\n",
       "      <td>-19,67777168</td>\n",
       "      <td>-40,26775181</td>\n",
       "      <td>OK</td>\n",
       "    </tr>\n",
       "    <tr>\n",
       "      <th>1</th>\n",
       "      <td>144</td>\n",
       "      <td>2017-01-01</td>\n",
       "      <td>Domingo</td>\n",
       "      <td>13</td>\n",
       "      <td>13:00:00</td>\n",
       "      <td>101.0</td>\n",
       "      <td>2.2</td>\n",
       "      <td>Cariacica</td>\n",
       "      <td>Falta de Atenção à Condução</td>\n",
       "      <td>Colisão lateral</td>\n",
       "      <td>...</td>\n",
       "      <td>0</td>\n",
       "      <td>1</td>\n",
       "      <td>0</td>\n",
       "      <td>2</td>\n",
       "      <td>0</td>\n",
       "      <td>1</td>\n",
       "      <td>2</td>\n",
       "      <td>-20,36742859</td>\n",
       "      <td>-40,44379056</td>\n",
       "      <td>BR-262.0 -&gt; BR-101.0</td>\n",
       "    </tr>\n",
       "    <tr>\n",
       "      <th>2</th>\n",
       "      <td>165</td>\n",
       "      <td>2017-01-01</td>\n",
       "      <td>Domingo</td>\n",
       "      <td>15</td>\n",
       "      <td>15:15:00</td>\n",
       "      <td>262.0</td>\n",
       "      <td>174.3</td>\n",
       "      <td>Ibatiba</td>\n",
       "      <td>Falta de Atenção à Condução</td>\n",
       "      <td>Tombamento</td>\n",
       "      <td>...</td>\n",
       "      <td>0</td>\n",
       "      <td>2</td>\n",
       "      <td>0</td>\n",
       "      <td>0</td>\n",
       "      <td>0</td>\n",
       "      <td>2</td>\n",
       "      <td>1</td>\n",
       "      <td>-20,27113451</td>\n",
       "      <td>-41,62388474</td>\n",
       "      <td>OK</td>\n",
       "    </tr>\n",
       "    <tr>\n",
       "      <th>3</th>\n",
       "      <td>195</td>\n",
       "      <td>2017-01-01</td>\n",
       "      <td>Domingo</td>\n",
       "      <td>16</td>\n",
       "      <td>16:50:00</td>\n",
       "      <td>101.0</td>\n",
       "      <td>321.0</td>\n",
       "      <td>Guarapari</td>\n",
       "      <td>Ingestão de Álcool</td>\n",
       "      <td>Colisão transversal</td>\n",
       "      <td>...</td>\n",
       "      <td>0</td>\n",
       "      <td>1</td>\n",
       "      <td>0</td>\n",
       "      <td>2</td>\n",
       "      <td>0</td>\n",
       "      <td>1</td>\n",
       "      <td>2</td>\n",
       "      <td>-20,52170405</td>\n",
       "      <td>-40,4783535</td>\n",
       "      <td>OK</td>\n",
       "    </tr>\n",
       "    <tr>\n",
       "      <th>4</th>\n",
       "      <td>197</td>\n",
       "      <td>2017-01-01</td>\n",
       "      <td>Domingo</td>\n",
       "      <td>16</td>\n",
       "      <td>16:55:00</td>\n",
       "      <td>101.0</td>\n",
       "      <td>280.3</td>\n",
       "      <td>Serra</td>\n",
       "      <td>Defeito Mecânico no Veículo</td>\n",
       "      <td>Colisão traseira</td>\n",
       "      <td>...</td>\n",
       "      <td>0</td>\n",
       "      <td>0</td>\n",
       "      <td>2</td>\n",
       "      <td>1</td>\n",
       "      <td>0</td>\n",
       "      <td>2</td>\n",
       "      <td>2</td>\n",
       "      <td>-20,22512156</td>\n",
       "      <td>-40,36140691</td>\n",
       "      <td>OK</td>\n",
       "    </tr>\n",
       "  </tbody>\n",
       "</table>\n",
       "<p>5 rows × 28 columns</p>\n",
       "</div>"
      ],
      "text/plain": [
       "    id data_inversa dia_semana  hora_horario   horario     br     km  \\\n",
       "0  102   2017-01-01    Domingo             8  08:30:00  101.0  186.2   \n",
       "1  144   2017-01-01    Domingo            13  13:00:00  101.0    2.2   \n",
       "2  165   2017-01-01    Domingo            15  15:15:00  262.0  174.3   \n",
       "3  195   2017-01-01    Domingo            16  16:50:00  101.0  321.0   \n",
       "4  197   2017-01-01    Domingo            16  16:55:00  101.0  280.3   \n",
       "\n",
       "   municipio               causa_acidente              tipo_acidente  ...  \\\n",
       "0    Aracruz  Falta de Atenção à Condução  Saída de leito carroçável  ...   \n",
       "1  Cariacica  Falta de Atenção à Condução            Colisão lateral  ...   \n",
       "2    Ibatiba  Falta de Atenção à Condução                 Tombamento  ...   \n",
       "3  Guarapari           Ingestão de Álcool        Colisão transversal  ...   \n",
       "4      Serra  Defeito Mecânico no Veículo           Colisão traseira  ...   \n",
       "\n",
       "  mortos feridos_leves feridos_graves ilesos ignorados feridos veiculos  \\\n",
       "0      0             0              0      1         0       0        1   \n",
       "1      0             1              0      2         0       1        2   \n",
       "2      0             2              0      0         0       2        1   \n",
       "3      0             1              0      2         0       1        2   \n",
       "4      0             0              2      1         0       2        2   \n",
       "\n",
       "       latitude     longitude           change_data  \n",
       "0  -19,67777168  -40,26775181                    OK  \n",
       "1  -20,36742859  -40,44379056  BR-262.0 -> BR-101.0  \n",
       "2  -20,27113451  -41,62388474                    OK  \n",
       "3  -20,52170405   -40,4783535                    OK  \n",
       "4  -20,22512156  -40,36140691                    OK  \n",
       "\n",
       "[5 rows x 28 columns]"
      ]
     },
     "execution_count": 37,
     "metadata": {},
     "output_type": "execute_result"
    }
   ],
   "source": [
    "data.head()"
   ]
  },
  {
   "cell_type": "markdown",
   "metadata": {
    "heading_collapsed": true
   },
   "source": [
    "## Casting importante"
   ]
  },
  {
   "cell_type": "code",
   "execution_count": 38,
   "metadata": {
    "ExecuteTime": {
     "end_time": "2021-12-28T22:21:50.281658Z",
     "start_time": "2021-12-28T22:21:50.258660Z"
    },
    "hidden": true
   },
   "outputs": [],
   "source": [
    "# IMPORTANTE - NÃO REMOVER ESSE CASTING\n",
    "# data = data.astype({\"br\":'object'}) \n",
    "data = data.astype('object')"
   ]
  },
  {
   "cell_type": "code",
   "execution_count": 39,
   "metadata": {
    "ExecuteTime": {
     "end_time": "2021-12-28T22:21:50.297657Z",
     "start_time": "2021-12-28T22:21:50.287659Z"
    },
    "hidden": true
   },
   "outputs": [],
   "source": [
    "# data.dtypes"
   ]
  },
  {
   "cell_type": "markdown",
   "metadata": {
    "heading_collapsed": true
   },
   "source": [
    "# Remoção de colunas desnecessárias para análise no algoritmo apriori"
   ]
  },
  {
   "cell_type": "code",
   "execution_count": 40,
   "metadata": {
    "ExecuteTime": {
     "end_time": "2021-12-28T22:21:50.312657Z",
     "start_time": "2021-12-28T22:21:50.302659Z"
    },
    "hidden": true
   },
   "outputs": [
    {
     "data": {
      "text/plain": [
       "Index(['id', 'data_inversa', 'dia_semana', 'hora_horario', 'horario', 'br',\n",
       "       'km', 'municipio', 'causa_acidente', 'tipo_acidente',\n",
       "       'classificacao_acidente', 'fase_dia', 'sentido_via',\n",
       "       'condicao_metereologica', 'tipo_pista', 'tracado_via', 'uso_solo',\n",
       "       'pessoas', 'mortos', 'feridos_leves', 'feridos_graves', 'ilesos',\n",
       "       'ignorados', 'feridos', 'veiculos', 'latitude', 'longitude',\n",
       "       'change_data'],\n",
       "      dtype='object')"
      ]
     },
     "execution_count": 40,
     "metadata": {},
     "output_type": "execute_result"
    }
   ],
   "source": [
    "data.columns"
   ]
  },
  {
   "cell_type": "code",
   "execution_count": 41,
   "metadata": {
    "ExecuteTime": {
     "end_time": "2021-12-28T22:21:50.360655Z",
     "start_time": "2021-12-28T22:21:50.316656Z"
    },
    "hidden": true
   },
   "outputs": [],
   "source": [
    "# Remoção dessas colunas, pq as instâncias dessas colunas são iguais em todas linhas\n",
    "colRemove = ['id', 'horario', 'data_inversa', 'latitude', 'longitude']\n",
    "\n",
    "#Percorre o vetor removendo esses elementos existentes no dataset\n",
    "for coluna in colRemove:\n",
    "    data.drop(coluna, inplace=True, axis=1)"
   ]
  },
  {
   "cell_type": "code",
   "execution_count": 42,
   "metadata": {
    "ExecuteTime": {
     "end_time": "2021-12-28T22:21:50.423655Z",
     "start_time": "2021-12-28T22:21:50.363656Z"
    },
    "hidden": true
   },
   "outputs": [
    {
     "data": {
      "text/html": [
       "<div>\n",
       "<style scoped>\n",
       "    .dataframe tbody tr th:only-of-type {\n",
       "        vertical-align: middle;\n",
       "    }\n",
       "\n",
       "    .dataframe tbody tr th {\n",
       "        vertical-align: top;\n",
       "    }\n",
       "\n",
       "    .dataframe thead th {\n",
       "        text-align: right;\n",
       "    }\n",
       "</style>\n",
       "<table border=\"1\" class=\"dataframe\">\n",
       "  <thead>\n",
       "    <tr style=\"text-align: right;\">\n",
       "      <th></th>\n",
       "      <th>dia_semana</th>\n",
       "      <th>hora_horario</th>\n",
       "      <th>br</th>\n",
       "      <th>km</th>\n",
       "      <th>municipio</th>\n",
       "      <th>causa_acidente</th>\n",
       "      <th>tipo_acidente</th>\n",
       "      <th>classificacao_acidente</th>\n",
       "      <th>fase_dia</th>\n",
       "      <th>sentido_via</th>\n",
       "      <th>...</th>\n",
       "      <th>uso_solo</th>\n",
       "      <th>pessoas</th>\n",
       "      <th>mortos</th>\n",
       "      <th>feridos_leves</th>\n",
       "      <th>feridos_graves</th>\n",
       "      <th>ilesos</th>\n",
       "      <th>ignorados</th>\n",
       "      <th>feridos</th>\n",
       "      <th>veiculos</th>\n",
       "      <th>change_data</th>\n",
       "    </tr>\n",
       "  </thead>\n",
       "  <tbody>\n",
       "    <tr>\n",
       "      <th>0</th>\n",
       "      <td>Domingo</td>\n",
       "      <td>8</td>\n",
       "      <td>101</td>\n",
       "      <td>186.2</td>\n",
       "      <td>Aracruz</td>\n",
       "      <td>Falta de Atenção à Condução</td>\n",
       "      <td>Saída de leito carroçável</td>\n",
       "      <td>Sem Vítimas</td>\n",
       "      <td>Pleno dia</td>\n",
       "      <td>Decrescente</td>\n",
       "      <td>...</td>\n",
       "      <td>Não</td>\n",
       "      <td>1</td>\n",
       "      <td>0</td>\n",
       "      <td>0</td>\n",
       "      <td>0</td>\n",
       "      <td>1</td>\n",
       "      <td>0</td>\n",
       "      <td>0</td>\n",
       "      <td>1</td>\n",
       "      <td>OK</td>\n",
       "    </tr>\n",
       "    <tr>\n",
       "      <th>1</th>\n",
       "      <td>Domingo</td>\n",
       "      <td>13</td>\n",
       "      <td>101</td>\n",
       "      <td>2.2</td>\n",
       "      <td>Cariacica</td>\n",
       "      <td>Falta de Atenção à Condução</td>\n",
       "      <td>Colisão lateral</td>\n",
       "      <td>Com Vítimas Feridas</td>\n",
       "      <td>Pleno dia</td>\n",
       "      <td>Decrescente</td>\n",
       "      <td>...</td>\n",
       "      <td>Sim</td>\n",
       "      <td>3</td>\n",
       "      <td>0</td>\n",
       "      <td>1</td>\n",
       "      <td>0</td>\n",
       "      <td>2</td>\n",
       "      <td>0</td>\n",
       "      <td>1</td>\n",
       "      <td>2</td>\n",
       "      <td>BR-262.0 -&gt; BR-101.0</td>\n",
       "    </tr>\n",
       "    <tr>\n",
       "      <th>2</th>\n",
       "      <td>Domingo</td>\n",
       "      <td>15</td>\n",
       "      <td>262</td>\n",
       "      <td>174.3</td>\n",
       "      <td>Ibatiba</td>\n",
       "      <td>Falta de Atenção à Condução</td>\n",
       "      <td>Tombamento</td>\n",
       "      <td>Com Vítimas Feridas</td>\n",
       "      <td>Pleno dia</td>\n",
       "      <td>Crescente</td>\n",
       "      <td>...</td>\n",
       "      <td>Não</td>\n",
       "      <td>2</td>\n",
       "      <td>0</td>\n",
       "      <td>2</td>\n",
       "      <td>0</td>\n",
       "      <td>0</td>\n",
       "      <td>0</td>\n",
       "      <td>2</td>\n",
       "      <td>1</td>\n",
       "      <td>OK</td>\n",
       "    </tr>\n",
       "    <tr>\n",
       "      <th>3</th>\n",
       "      <td>Domingo</td>\n",
       "      <td>16</td>\n",
       "      <td>101</td>\n",
       "      <td>321</td>\n",
       "      <td>Guarapari</td>\n",
       "      <td>Ingestão de Álcool</td>\n",
       "      <td>Colisão transversal</td>\n",
       "      <td>Com Vítimas Feridas</td>\n",
       "      <td>Pleno dia</td>\n",
       "      <td>Crescente</td>\n",
       "      <td>...</td>\n",
       "      <td>Não</td>\n",
       "      <td>3</td>\n",
       "      <td>0</td>\n",
       "      <td>1</td>\n",
       "      <td>0</td>\n",
       "      <td>2</td>\n",
       "      <td>0</td>\n",
       "      <td>1</td>\n",
       "      <td>2</td>\n",
       "      <td>OK</td>\n",
       "    </tr>\n",
       "    <tr>\n",
       "      <th>4</th>\n",
       "      <td>Domingo</td>\n",
       "      <td>16</td>\n",
       "      <td>101</td>\n",
       "      <td>280.3</td>\n",
       "      <td>Serra</td>\n",
       "      <td>Defeito Mecânico no Veículo</td>\n",
       "      <td>Colisão traseira</td>\n",
       "      <td>Com Vítimas Feridas</td>\n",
       "      <td>Pleno dia</td>\n",
       "      <td>Crescente</td>\n",
       "      <td>...</td>\n",
       "      <td>Não</td>\n",
       "      <td>3</td>\n",
       "      <td>0</td>\n",
       "      <td>0</td>\n",
       "      <td>2</td>\n",
       "      <td>1</td>\n",
       "      <td>0</td>\n",
       "      <td>2</td>\n",
       "      <td>2</td>\n",
       "      <td>OK</td>\n",
       "    </tr>\n",
       "  </tbody>\n",
       "</table>\n",
       "<p>5 rows × 23 columns</p>\n",
       "</div>"
      ],
      "text/plain": [
       "  dia_semana hora_horario   br     km  municipio               causa_acidente  \\\n",
       "0    Domingo            8  101  186.2    Aracruz  Falta de Atenção à Condução   \n",
       "1    Domingo           13  101    2.2  Cariacica  Falta de Atenção à Condução   \n",
       "2    Domingo           15  262  174.3    Ibatiba  Falta de Atenção à Condução   \n",
       "3    Domingo           16  101    321  Guarapari           Ingestão de Álcool   \n",
       "4    Domingo           16  101  280.3      Serra  Defeito Mecânico no Veículo   \n",
       "\n",
       "               tipo_acidente classificacao_acidente   fase_dia  sentido_via  \\\n",
       "0  Saída de leito carroçável            Sem Vítimas  Pleno dia  Decrescente   \n",
       "1            Colisão lateral    Com Vítimas Feridas  Pleno dia  Decrescente   \n",
       "2                 Tombamento    Com Vítimas Feridas  Pleno dia    Crescente   \n",
       "3        Colisão transversal    Com Vítimas Feridas  Pleno dia    Crescente   \n",
       "4           Colisão traseira    Com Vítimas Feridas  Pleno dia    Crescente   \n",
       "\n",
       "   ... uso_solo pessoas mortos feridos_leves feridos_graves ilesos ignorados  \\\n",
       "0  ...      Não       1      0             0              0      1         0   \n",
       "1  ...      Sim       3      0             1              0      2         0   \n",
       "2  ...      Não       2      0             2              0      0         0   \n",
       "3  ...      Não       3      0             1              0      2         0   \n",
       "4  ...      Não       3      0             0              2      1         0   \n",
       "\n",
       "  feridos veiculos           change_data  \n",
       "0       0        1                    OK  \n",
       "1       1        2  BR-262.0 -> BR-101.0  \n",
       "2       2        1                    OK  \n",
       "3       1        2                    OK  \n",
       "4       2        2                    OK  \n",
       "\n",
       "[5 rows x 23 columns]"
      ]
     },
     "execution_count": 42,
     "metadata": {},
     "output_type": "execute_result"
    }
   ],
   "source": [
    "data.head()"
   ]
  },
  {
   "cell_type": "markdown",
   "metadata": {
    "heading_collapsed": true
   },
   "source": [
    "# Categorização da coluna 'feridos'"
   ]
  },
  {
   "cell_type": "code",
   "execution_count": 43,
   "metadata": {
    "ExecuteTime": {
     "end_time": "2021-12-28T22:21:50.438656Z",
     "start_time": "2021-12-28T22:21:50.434658Z"
    },
    "hidden": true
   },
   "outputs": [],
   "source": [
    "# data['feridos'].value_counts()"
   ]
  },
  {
   "cell_type": "code",
   "execution_count": 44,
   "metadata": {
    "ExecuteTime": {
     "end_time": "2021-12-28T22:21:50.454655Z",
     "start_time": "2021-12-28T22:21:50.442656Z"
    },
    "hidden": true
   },
   "outputs": [],
   "source": [
    "# idx = 22\n",
    "# new_col = 0\n",
    "# data.insert(loc=idx, column='feridos_tf', value=new_col)"
   ]
  },
  {
   "cell_type": "code",
   "execution_count": 45,
   "metadata": {
    "ExecuteTime": {
     "end_time": "2021-12-28T22:21:50.469656Z",
     "start_time": "2021-12-28T22:21:50.458657Z"
    },
    "hidden": true
   },
   "outputs": [],
   "source": [
    "# data['feridos_tf'] = np.where((data.feridos <= 0), 'Não', data.feridos_tf)\n",
    "# data['feridos_tf'] = np.where((data.feridos > 0), 'Sim', data.feridos_tf)"
   ]
  },
  {
   "cell_type": "code",
   "execution_count": 46,
   "metadata": {
    "ExecuteTime": {
     "end_time": "2021-12-28T22:21:50.485657Z",
     "start_time": "2021-12-28T22:21:50.477658Z"
    },
    "hidden": true
   },
   "outputs": [],
   "source": [
    "# data['feridos_tf'].value_counts()"
   ]
  },
  {
   "cell_type": "markdown",
   "metadata": {
    "heading_collapsed": true
   },
   "source": [
    "# Categorização da coluna 'mortos'"
   ]
  },
  {
   "cell_type": "code",
   "execution_count": 47,
   "metadata": {
    "ExecuteTime": {
     "end_time": "2021-12-28T22:21:50.501662Z",
     "start_time": "2021-12-28T22:21:50.493656Z"
    },
    "hidden": true
   },
   "outputs": [],
   "source": [
    "# data['mortos'].value_counts()"
   ]
  },
  {
   "cell_type": "code",
   "execution_count": 48,
   "metadata": {
    "ExecuteTime": {
     "end_time": "2021-12-28T22:21:50.517656Z",
     "start_time": "2021-12-28T22:21:50.507657Z"
    },
    "hidden": true
   },
   "outputs": [],
   "source": [
    "# idx = 22\n",
    "# new_col = 0\n",
    "# data.insert(loc=idx, column='mortos_tf', value=new_col)"
   ]
  },
  {
   "cell_type": "code",
   "execution_count": 49,
   "metadata": {
    "ExecuteTime": {
     "end_time": "2021-12-28T22:21:50.533657Z",
     "start_time": "2021-12-28T22:21:50.523657Z"
    },
    "hidden": true
   },
   "outputs": [],
   "source": [
    "# data['mortos_tf'] = np.where((data.mortos <= 0), 'Não', data.mortos_tf)\n",
    "# data['mortos_tf'] = np.where((data.mortos > 0), 'Sim', data.mortos_tf)"
   ]
  },
  {
   "cell_type": "code",
   "execution_count": 50,
   "metadata": {
    "ExecuteTime": {
     "end_time": "2021-12-28T22:21:50.549657Z",
     "start_time": "2021-12-28T22:21:50.541658Z"
    },
    "hidden": true
   },
   "outputs": [],
   "source": [
    "# data['mortos_tf'].value_counts()"
   ]
  },
  {
   "cell_type": "markdown",
   "metadata": {
    "heading_collapsed": true
   },
   "source": [
    "# Remoção de colunas não categóricas"
   ]
  },
  {
   "cell_type": "code",
   "execution_count": 51,
   "metadata": {
    "ExecuteTime": {
     "end_time": "2021-12-28T22:21:50.645655Z",
     "start_time": "2021-12-28T22:21:50.564657Z"
    },
    "hidden": true
   },
   "outputs": [],
   "source": [
    "# Remoção dessas colunas, pq as instâncias dessas colunas são iguais em todas linhas\n",
    "colRemove = ['br', 'municipio', 'km', 'pessoas', 'mortos', 'feridos_leves', 'feridos_graves', 'ilesos', 'ignorados', 'feridos', 'veiculos', 'change_data']\n",
    "\n",
    "#Percorre o vetor removendo esses elementos existentes no dataset\n",
    "for coluna in colRemove:\n",
    "    data.drop(coluna, inplace=True, axis=1)"
   ]
  },
  {
   "cell_type": "code",
   "execution_count": 52,
   "metadata": {
    "ExecuteTime": {
     "end_time": "2021-12-28T22:21:50.693658Z",
     "start_time": "2021-12-28T22:21:50.650657Z"
    },
    "hidden": true,
    "scrolled": false
   },
   "outputs": [
    {
     "data": {
      "text/html": [
       "<div>\n",
       "<style scoped>\n",
       "    .dataframe tbody tr th:only-of-type {\n",
       "        vertical-align: middle;\n",
       "    }\n",
       "\n",
       "    .dataframe tbody tr th {\n",
       "        vertical-align: top;\n",
       "    }\n",
       "\n",
       "    .dataframe thead th {\n",
       "        text-align: right;\n",
       "    }\n",
       "</style>\n",
       "<table border=\"1\" class=\"dataframe\">\n",
       "  <thead>\n",
       "    <tr style=\"text-align: right;\">\n",
       "      <th></th>\n",
       "      <th>dia_semana</th>\n",
       "      <th>hora_horario</th>\n",
       "      <th>causa_acidente</th>\n",
       "      <th>tipo_acidente</th>\n",
       "      <th>classificacao_acidente</th>\n",
       "      <th>fase_dia</th>\n",
       "      <th>sentido_via</th>\n",
       "      <th>condicao_metereologica</th>\n",
       "      <th>tipo_pista</th>\n",
       "      <th>tracado_via</th>\n",
       "      <th>uso_solo</th>\n",
       "    </tr>\n",
       "  </thead>\n",
       "  <tbody>\n",
       "    <tr>\n",
       "      <th>0</th>\n",
       "      <td>Domingo</td>\n",
       "      <td>8</td>\n",
       "      <td>Falta de Atenção à Condução</td>\n",
       "      <td>Saída de leito carroçável</td>\n",
       "      <td>Sem Vítimas</td>\n",
       "      <td>Pleno dia</td>\n",
       "      <td>Decrescente</td>\n",
       "      <td>Sol</td>\n",
       "      <td>Simples</td>\n",
       "      <td>Curva</td>\n",
       "      <td>Não</td>\n",
       "    </tr>\n",
       "    <tr>\n",
       "      <th>1</th>\n",
       "      <td>Domingo</td>\n",
       "      <td>13</td>\n",
       "      <td>Falta de Atenção à Condução</td>\n",
       "      <td>Colisão lateral</td>\n",
       "      <td>Com Vítimas Feridas</td>\n",
       "      <td>Pleno dia</td>\n",
       "      <td>Decrescente</td>\n",
       "      <td>Sol</td>\n",
       "      <td>Dupla</td>\n",
       "      <td>Reta</td>\n",
       "      <td>Sim</td>\n",
       "    </tr>\n",
       "    <tr>\n",
       "      <th>2</th>\n",
       "      <td>Domingo</td>\n",
       "      <td>15</td>\n",
       "      <td>Falta de Atenção à Condução</td>\n",
       "      <td>Tombamento</td>\n",
       "      <td>Com Vítimas Feridas</td>\n",
       "      <td>Pleno dia</td>\n",
       "      <td>Crescente</td>\n",
       "      <td>Sol</td>\n",
       "      <td>Simples</td>\n",
       "      <td>Reta</td>\n",
       "      <td>Não</td>\n",
       "    </tr>\n",
       "    <tr>\n",
       "      <th>3</th>\n",
       "      <td>Domingo</td>\n",
       "      <td>16</td>\n",
       "      <td>Ingestão de Álcool</td>\n",
       "      <td>Colisão transversal</td>\n",
       "      <td>Com Vítimas Feridas</td>\n",
       "      <td>Pleno dia</td>\n",
       "      <td>Crescente</td>\n",
       "      <td>Céu Claro</td>\n",
       "      <td>Simples</td>\n",
       "      <td>Reta</td>\n",
       "      <td>Não</td>\n",
       "    </tr>\n",
       "    <tr>\n",
       "      <th>4</th>\n",
       "      <td>Domingo</td>\n",
       "      <td>16</td>\n",
       "      <td>Defeito Mecânico no Veículo</td>\n",
       "      <td>Colisão traseira</td>\n",
       "      <td>Com Vítimas Feridas</td>\n",
       "      <td>Pleno dia</td>\n",
       "      <td>Crescente</td>\n",
       "      <td>Sol</td>\n",
       "      <td>Múltipla</td>\n",
       "      <td>Reta</td>\n",
       "      <td>Não</td>\n",
       "    </tr>\n",
       "  </tbody>\n",
       "</table>\n",
       "</div>"
      ],
      "text/plain": [
       "  dia_semana hora_horario               causa_acidente  \\\n",
       "0    Domingo            8  Falta de Atenção à Condução   \n",
       "1    Domingo           13  Falta de Atenção à Condução   \n",
       "2    Domingo           15  Falta de Atenção à Condução   \n",
       "3    Domingo           16           Ingestão de Álcool   \n",
       "4    Domingo           16  Defeito Mecânico no Veículo   \n",
       "\n",
       "               tipo_acidente classificacao_acidente   fase_dia  sentido_via  \\\n",
       "0  Saída de leito carroçável            Sem Vítimas  Pleno dia  Decrescente   \n",
       "1            Colisão lateral    Com Vítimas Feridas  Pleno dia  Decrescente   \n",
       "2                 Tombamento    Com Vítimas Feridas  Pleno dia    Crescente   \n",
       "3        Colisão transversal    Com Vítimas Feridas  Pleno dia    Crescente   \n",
       "4           Colisão traseira    Com Vítimas Feridas  Pleno dia    Crescente   \n",
       "\n",
       "  condicao_metereologica tipo_pista tracado_via uso_solo  \n",
       "0                    Sol    Simples       Curva      Não  \n",
       "1                    Sol      Dupla        Reta      Sim  \n",
       "2                    Sol    Simples        Reta      Não  \n",
       "3              Céu Claro    Simples        Reta      Não  \n",
       "4                    Sol   Múltipla        Reta      Não  "
      ]
     },
     "execution_count": 52,
     "metadata": {},
     "output_type": "execute_result"
    }
   ],
   "source": [
    "data.head()"
   ]
  },
  {
   "cell_type": "markdown",
   "metadata": {
    "heading_collapsed": true
   },
   "source": [
    "# Atualiza para letra maiúscula na coluna dia_semana"
   ]
  },
  {
   "cell_type": "code",
   "execution_count": 53,
   "metadata": {
    "ExecuteTime": {
     "end_time": "2021-12-28T22:21:51.120669Z",
     "start_time": "2021-12-28T22:21:50.702656Z"
    },
    "hidden": true
   },
   "outputs": [],
   "source": [
    "for i in range(data.shape[0]):\n",
    "    # Letra maiúscula na coluna dia_semana\n",
    "    data.at[i, 'dia_semana'] = data.at[i, 'dia_semana'].capitalize()"
   ]
  },
  {
   "cell_type": "code",
   "execution_count": 54,
   "metadata": {
    "ExecuteTime": {
     "end_time": "2021-12-28T22:21:51.167653Z",
     "start_time": "2021-12-28T22:21:51.123659Z"
    },
    "hidden": true
   },
   "outputs": [
    {
     "data": {
      "text/html": [
       "<div>\n",
       "<style scoped>\n",
       "    .dataframe tbody tr th:only-of-type {\n",
       "        vertical-align: middle;\n",
       "    }\n",
       "\n",
       "    .dataframe tbody tr th {\n",
       "        vertical-align: top;\n",
       "    }\n",
       "\n",
       "    .dataframe thead th {\n",
       "        text-align: right;\n",
       "    }\n",
       "</style>\n",
       "<table border=\"1\" class=\"dataframe\">\n",
       "  <thead>\n",
       "    <tr style=\"text-align: right;\">\n",
       "      <th></th>\n",
       "      <th>dia_semana</th>\n",
       "      <th>hora_horario</th>\n",
       "      <th>causa_acidente</th>\n",
       "      <th>tipo_acidente</th>\n",
       "      <th>classificacao_acidente</th>\n",
       "      <th>fase_dia</th>\n",
       "      <th>sentido_via</th>\n",
       "      <th>condicao_metereologica</th>\n",
       "      <th>tipo_pista</th>\n",
       "      <th>tracado_via</th>\n",
       "      <th>uso_solo</th>\n",
       "    </tr>\n",
       "  </thead>\n",
       "  <tbody>\n",
       "    <tr>\n",
       "      <th>0</th>\n",
       "      <td>Domingo</td>\n",
       "      <td>8</td>\n",
       "      <td>Falta de Atenção à Condução</td>\n",
       "      <td>Saída de leito carroçável</td>\n",
       "      <td>Sem Vítimas</td>\n",
       "      <td>Pleno dia</td>\n",
       "      <td>Decrescente</td>\n",
       "      <td>Sol</td>\n",
       "      <td>Simples</td>\n",
       "      <td>Curva</td>\n",
       "      <td>Não</td>\n",
       "    </tr>\n",
       "    <tr>\n",
       "      <th>1</th>\n",
       "      <td>Domingo</td>\n",
       "      <td>13</td>\n",
       "      <td>Falta de Atenção à Condução</td>\n",
       "      <td>Colisão lateral</td>\n",
       "      <td>Com Vítimas Feridas</td>\n",
       "      <td>Pleno dia</td>\n",
       "      <td>Decrescente</td>\n",
       "      <td>Sol</td>\n",
       "      <td>Dupla</td>\n",
       "      <td>Reta</td>\n",
       "      <td>Sim</td>\n",
       "    </tr>\n",
       "    <tr>\n",
       "      <th>2</th>\n",
       "      <td>Domingo</td>\n",
       "      <td>15</td>\n",
       "      <td>Falta de Atenção à Condução</td>\n",
       "      <td>Tombamento</td>\n",
       "      <td>Com Vítimas Feridas</td>\n",
       "      <td>Pleno dia</td>\n",
       "      <td>Crescente</td>\n",
       "      <td>Sol</td>\n",
       "      <td>Simples</td>\n",
       "      <td>Reta</td>\n",
       "      <td>Não</td>\n",
       "    </tr>\n",
       "    <tr>\n",
       "      <th>3</th>\n",
       "      <td>Domingo</td>\n",
       "      <td>16</td>\n",
       "      <td>Ingestão de Álcool</td>\n",
       "      <td>Colisão transversal</td>\n",
       "      <td>Com Vítimas Feridas</td>\n",
       "      <td>Pleno dia</td>\n",
       "      <td>Crescente</td>\n",
       "      <td>Céu Claro</td>\n",
       "      <td>Simples</td>\n",
       "      <td>Reta</td>\n",
       "      <td>Não</td>\n",
       "    </tr>\n",
       "    <tr>\n",
       "      <th>4</th>\n",
       "      <td>Domingo</td>\n",
       "      <td>16</td>\n",
       "      <td>Defeito Mecânico no Veículo</td>\n",
       "      <td>Colisão traseira</td>\n",
       "      <td>Com Vítimas Feridas</td>\n",
       "      <td>Pleno dia</td>\n",
       "      <td>Crescente</td>\n",
       "      <td>Sol</td>\n",
       "      <td>Múltipla</td>\n",
       "      <td>Reta</td>\n",
       "      <td>Não</td>\n",
       "    </tr>\n",
       "  </tbody>\n",
       "</table>\n",
       "</div>"
      ],
      "text/plain": [
       "  dia_semana hora_horario               causa_acidente  \\\n",
       "0    Domingo            8  Falta de Atenção à Condução   \n",
       "1    Domingo           13  Falta de Atenção à Condução   \n",
       "2    Domingo           15  Falta de Atenção à Condução   \n",
       "3    Domingo           16           Ingestão de Álcool   \n",
       "4    Domingo           16  Defeito Mecânico no Veículo   \n",
       "\n",
       "               tipo_acidente classificacao_acidente   fase_dia  sentido_via  \\\n",
       "0  Saída de leito carroçável            Sem Vítimas  Pleno dia  Decrescente   \n",
       "1            Colisão lateral    Com Vítimas Feridas  Pleno dia  Decrescente   \n",
       "2                 Tombamento    Com Vítimas Feridas  Pleno dia    Crescente   \n",
       "3        Colisão transversal    Com Vítimas Feridas  Pleno dia    Crescente   \n",
       "4           Colisão traseira    Com Vítimas Feridas  Pleno dia    Crescente   \n",
       "\n",
       "  condicao_metereologica tipo_pista tracado_via uso_solo  \n",
       "0                    Sol    Simples       Curva      Não  \n",
       "1                    Sol      Dupla        Reta      Sim  \n",
       "2                    Sol    Simples        Reta      Não  \n",
       "3              Céu Claro    Simples        Reta      Não  \n",
       "4                    Sol   Múltipla        Reta      Não  "
      ]
     },
     "execution_count": 54,
     "metadata": {},
     "output_type": "execute_result"
    }
   ],
   "source": [
    "data.head()"
   ]
  },
  {
   "cell_type": "markdown",
   "metadata": {
    "heading_collapsed": true
   },
   "source": [
    "# Junção do nome da coluna as células"
   ]
  },
  {
   "cell_type": "code",
   "execution_count": 55,
   "metadata": {
    "ExecuteTime": {
     "end_time": "2021-12-28T22:21:51.183656Z",
     "start_time": "2021-12-28T22:21:51.170656Z"
    },
    "hidden": true
   },
   "outputs": [
    {
     "data": {
      "text/plain": [
       "Index(['dia_semana', 'hora_horario', 'causa_acidente', 'tipo_acidente',\n",
       "       'classificacao_acidente', 'fase_dia', 'sentido_via',\n",
       "       'condicao_metereologica', 'tipo_pista', 'tracado_via', 'uso_solo'],\n",
       "      dtype='object')"
      ]
     },
     "execution_count": 55,
     "metadata": {},
     "output_type": "execute_result"
    }
   ],
   "source": [
    "data.columns"
   ]
  },
  {
   "cell_type": "code",
   "execution_count": 56,
   "metadata": {
    "ExecuteTime": {
     "end_time": "2021-12-28T22:21:51.199654Z",
     "start_time": "2021-12-28T22:21:51.186656Z"
    },
    "hidden": true
   },
   "outputs": [],
   "source": [
    "linhas = data.shape[0]\n",
    "colunas = data.shape[1]"
   ]
  },
  {
   "cell_type": "code",
   "execution_count": 57,
   "metadata": {
    "ExecuteTime": {
     "end_time": "2021-12-28T22:21:53.649497Z",
     "start_time": "2021-12-28T22:21:51.202657Z"
    },
    "hidden": true
   },
   "outputs": [
    {
     "name": "stdout",
     "output_type": "stream",
     "text": [
      "Wall time: 0 ns\n"
     ]
    }
   ],
   "source": [
    "# Nesse dataset por algum motivo, tive que fazer um casting do cabeçalho e do valor da string. Sem isso, erros irão aparecer.\n",
    "%time\n",
    "for i in data.columns:\n",
    "    cabecalho = i;\n",
    "    for j in range(linhas):\n",
    "        if (data.at[j,i]==data.at[j,i]):\n",
    "            data.at[j,i] = str(cabecalho) +'='+ str(data.at[j,i]);"
   ]
  },
  {
   "cell_type": "code",
   "execution_count": 58,
   "metadata": {
    "ExecuteTime": {
     "end_time": "2021-12-28T22:21:53.697445Z",
     "start_time": "2021-12-28T22:21:53.652444Z"
    },
    "hidden": true
   },
   "outputs": [
    {
     "data": {
      "text/html": [
       "<div>\n",
       "<style scoped>\n",
       "    .dataframe tbody tr th:only-of-type {\n",
       "        vertical-align: middle;\n",
       "    }\n",
       "\n",
       "    .dataframe tbody tr th {\n",
       "        vertical-align: top;\n",
       "    }\n",
       "\n",
       "    .dataframe thead th {\n",
       "        text-align: right;\n",
       "    }\n",
       "</style>\n",
       "<table border=\"1\" class=\"dataframe\">\n",
       "  <thead>\n",
       "    <tr style=\"text-align: right;\">\n",
       "      <th></th>\n",
       "      <th>dia_semana</th>\n",
       "      <th>hora_horario</th>\n",
       "      <th>causa_acidente</th>\n",
       "      <th>tipo_acidente</th>\n",
       "      <th>classificacao_acidente</th>\n",
       "      <th>fase_dia</th>\n",
       "      <th>sentido_via</th>\n",
       "      <th>condicao_metereologica</th>\n",
       "      <th>tipo_pista</th>\n",
       "      <th>tracado_via</th>\n",
       "      <th>uso_solo</th>\n",
       "    </tr>\n",
       "  </thead>\n",
       "  <tbody>\n",
       "    <tr>\n",
       "      <th>0</th>\n",
       "      <td>dia_semana=Domingo</td>\n",
       "      <td>hora_horario=8</td>\n",
       "      <td>causa_acidente=Falta de Atenção à Condução</td>\n",
       "      <td>tipo_acidente=Saída de leito carroçável</td>\n",
       "      <td>classificacao_acidente=Sem Vítimas</td>\n",
       "      <td>fase_dia=Pleno dia</td>\n",
       "      <td>sentido_via=Decrescente</td>\n",
       "      <td>condicao_metereologica=Sol</td>\n",
       "      <td>tipo_pista=Simples</td>\n",
       "      <td>tracado_via=Curva</td>\n",
       "      <td>uso_solo=Não</td>\n",
       "    </tr>\n",
       "    <tr>\n",
       "      <th>1</th>\n",
       "      <td>dia_semana=Domingo</td>\n",
       "      <td>hora_horario=13</td>\n",
       "      <td>causa_acidente=Falta de Atenção à Condução</td>\n",
       "      <td>tipo_acidente=Colisão lateral</td>\n",
       "      <td>classificacao_acidente=Com Vítimas Feridas</td>\n",
       "      <td>fase_dia=Pleno dia</td>\n",
       "      <td>sentido_via=Decrescente</td>\n",
       "      <td>condicao_metereologica=Sol</td>\n",
       "      <td>tipo_pista=Dupla</td>\n",
       "      <td>tracado_via=Reta</td>\n",
       "      <td>uso_solo=Sim</td>\n",
       "    </tr>\n",
       "    <tr>\n",
       "      <th>2</th>\n",
       "      <td>dia_semana=Domingo</td>\n",
       "      <td>hora_horario=15</td>\n",
       "      <td>causa_acidente=Falta de Atenção à Condução</td>\n",
       "      <td>tipo_acidente=Tombamento</td>\n",
       "      <td>classificacao_acidente=Com Vítimas Feridas</td>\n",
       "      <td>fase_dia=Pleno dia</td>\n",
       "      <td>sentido_via=Crescente</td>\n",
       "      <td>condicao_metereologica=Sol</td>\n",
       "      <td>tipo_pista=Simples</td>\n",
       "      <td>tracado_via=Reta</td>\n",
       "      <td>uso_solo=Não</td>\n",
       "    </tr>\n",
       "    <tr>\n",
       "      <th>3</th>\n",
       "      <td>dia_semana=Domingo</td>\n",
       "      <td>hora_horario=16</td>\n",
       "      <td>causa_acidente=Ingestão de Álcool</td>\n",
       "      <td>tipo_acidente=Colisão transversal</td>\n",
       "      <td>classificacao_acidente=Com Vítimas Feridas</td>\n",
       "      <td>fase_dia=Pleno dia</td>\n",
       "      <td>sentido_via=Crescente</td>\n",
       "      <td>condicao_metereologica=Céu Claro</td>\n",
       "      <td>tipo_pista=Simples</td>\n",
       "      <td>tracado_via=Reta</td>\n",
       "      <td>uso_solo=Não</td>\n",
       "    </tr>\n",
       "    <tr>\n",
       "      <th>4</th>\n",
       "      <td>dia_semana=Domingo</td>\n",
       "      <td>hora_horario=16</td>\n",
       "      <td>causa_acidente=Defeito Mecânico no Veículo</td>\n",
       "      <td>tipo_acidente=Colisão traseira</td>\n",
       "      <td>classificacao_acidente=Com Vítimas Feridas</td>\n",
       "      <td>fase_dia=Pleno dia</td>\n",
       "      <td>sentido_via=Crescente</td>\n",
       "      <td>condicao_metereologica=Sol</td>\n",
       "      <td>tipo_pista=Múltipla</td>\n",
       "      <td>tracado_via=Reta</td>\n",
       "      <td>uso_solo=Não</td>\n",
       "    </tr>\n",
       "  </tbody>\n",
       "</table>\n",
       "</div>"
      ],
      "text/plain": [
       "           dia_semana     hora_horario  \\\n",
       "0  dia_semana=Domingo   hora_horario=8   \n",
       "1  dia_semana=Domingo  hora_horario=13   \n",
       "2  dia_semana=Domingo  hora_horario=15   \n",
       "3  dia_semana=Domingo  hora_horario=16   \n",
       "4  dia_semana=Domingo  hora_horario=16   \n",
       "\n",
       "                               causa_acidente  \\\n",
       "0  causa_acidente=Falta de Atenção à Condução   \n",
       "1  causa_acidente=Falta de Atenção à Condução   \n",
       "2  causa_acidente=Falta de Atenção à Condução   \n",
       "3           causa_acidente=Ingestão de Álcool   \n",
       "4  causa_acidente=Defeito Mecânico no Veículo   \n",
       "\n",
       "                             tipo_acidente  \\\n",
       "0  tipo_acidente=Saída de leito carroçável   \n",
       "1            tipo_acidente=Colisão lateral   \n",
       "2                 tipo_acidente=Tombamento   \n",
       "3        tipo_acidente=Colisão transversal   \n",
       "4           tipo_acidente=Colisão traseira   \n",
       "\n",
       "                       classificacao_acidente            fase_dia  \\\n",
       "0          classificacao_acidente=Sem Vítimas  fase_dia=Pleno dia   \n",
       "1  classificacao_acidente=Com Vítimas Feridas  fase_dia=Pleno dia   \n",
       "2  classificacao_acidente=Com Vítimas Feridas  fase_dia=Pleno dia   \n",
       "3  classificacao_acidente=Com Vítimas Feridas  fase_dia=Pleno dia   \n",
       "4  classificacao_acidente=Com Vítimas Feridas  fase_dia=Pleno dia   \n",
       "\n",
       "               sentido_via            condicao_metereologica  \\\n",
       "0  sentido_via=Decrescente        condicao_metereologica=Sol   \n",
       "1  sentido_via=Decrescente        condicao_metereologica=Sol   \n",
       "2    sentido_via=Crescente        condicao_metereologica=Sol   \n",
       "3    sentido_via=Crescente  condicao_metereologica=Céu Claro   \n",
       "4    sentido_via=Crescente        condicao_metereologica=Sol   \n",
       "\n",
       "            tipo_pista        tracado_via      uso_solo  \n",
       "0   tipo_pista=Simples  tracado_via=Curva  uso_solo=Não  \n",
       "1     tipo_pista=Dupla   tracado_via=Reta  uso_solo=Sim  \n",
       "2   tipo_pista=Simples   tracado_via=Reta  uso_solo=Não  \n",
       "3   tipo_pista=Simples   tracado_via=Reta  uso_solo=Não  \n",
       "4  tipo_pista=Múltipla   tracado_via=Reta  uso_solo=Não  "
      ]
     },
     "execution_count": 58,
     "metadata": {},
     "output_type": "execute_result"
    }
   ],
   "source": [
    "data.head()"
   ]
  },
  {
   "cell_type": "code",
   "execution_count": 59,
   "metadata": {
    "ExecuteTime": {
     "end_time": "2021-12-28T22:21:53.713445Z",
     "start_time": "2021-12-28T22:21:53.701445Z"
    },
    "hidden": true
   },
   "outputs": [],
   "source": [
    "#Exclui a linha de posição [0] na base de dados, pois essa linha contém o nome das colunas.\n",
    "# A modificação é salva no arquivo com o 'inplace=True', caso contrário o arquivo não sofre modificação.\n",
    "# data.drop(0, inplace=True)"
   ]
  },
  {
   "cell_type": "markdown",
   "metadata": {},
   "source": [
    "# Salva o resultado em um novo arquivo .csv"
   ]
  },
  {
   "cell_type": "code",
   "execution_count": 60,
   "metadata": {
    "ExecuteTime": {
     "end_time": "2021-12-28T22:21:53.855679Z",
     "start_time": "2021-12-28T22:21:53.717447Z"
    }
   },
   "outputs": [],
   "source": [
    "# Aqui é gerado um novo arquivo na qual contém os resultados aplicados\n",
    "data.to_csv( '../Apriori/' + endereco2 + nomeArq + '_Apriori.csv', encoding='ISO-8859-1', sep=';', index=False, header=None)"
   ]
  }
 ],
 "metadata": {
  "kernelspec": {
   "display_name": "Python 3",
   "language": "python",
   "name": "python3"
  },
  "language_info": {
   "codemirror_mode": {
    "name": "ipython",
    "version": 3
   },
   "file_extension": ".py",
   "mimetype": "text/x-python",
   "name": "python",
   "nbconvert_exporter": "python",
   "pygments_lexer": "ipython3",
   "version": "3.8.5"
  }
 },
 "nbformat": 4,
 "nbformat_minor": 4
}
