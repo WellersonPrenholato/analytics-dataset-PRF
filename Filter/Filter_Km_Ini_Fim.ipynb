{
 "cells": [
  {
   "cell_type": "markdown",
   "metadata": {},
   "source": [
    "### Utilizado para identificar algumas informações referentes as BRs\n",
    "Identificar o min e max de cada BR, ligada aos dados dos anos de 2018, 2019 e 2020."
   ]
  },
  {
   "cell_type": "markdown",
   "metadata": {
    "heading_collapsed": true
   },
   "source": [
    "# Biblioteca"
   ]
  },
  {
   "cell_type": "code",
   "execution_count": 1,
   "metadata": {
    "ExecuteTime": {
     "end_time": "2021-07-10T01:49:14.649788Z",
     "start_time": "2021-07-10T01:49:13.218622Z"
    },
    "hidden": true
   },
   "outputs": [],
   "source": [
    "import pandas as pd"
   ]
  },
  {
   "cell_type": "markdown",
   "metadata": {
    "heading_collapsed": true
   },
   "source": [
    "# Carregamento de dados"
   ]
  },
  {
   "cell_type": "code",
   "execution_count": 2,
   "metadata": {
    "ExecuteTime": {
     "end_time": "2021-07-10T01:49:14.681332Z",
     "start_time": "2021-07-10T01:49:14.665786Z"
    },
    "hidden": true
   },
   "outputs": [],
   "source": [
    "endereco = '../BaseDadosSelecionados/'\n",
    "# endereco2 = 'Agrupado_Ocorrencia'\n",
    "nomeArq2018 = 'ES_datatran2018_Organizado'\n",
    "nomeArq2019 = 'ES_datatran2019_Organizado'\n",
    "nomeArq2020 = 'ES_datatran2020_Organizado'"
   ]
  },
  {
   "cell_type": "code",
   "execution_count": 3,
   "metadata": {
    "ExecuteTime": {
     "end_time": "2021-07-10T01:49:14.977386Z",
     "start_time": "2021-07-10T01:49:14.706331Z"
    },
    "hidden": true
   },
   "outputs": [],
   "source": [
    "data2018 = pd.read_csv(endereco + nomeArq2018 + '.csv', encoding='ISO-8859-1', sep=';')\n",
    "data2019 = pd.read_csv(endereco + nomeArq2019 + '.csv', encoding='ISO-8859-1', sep=';')\n",
    "data2020 = pd.read_csv(endereco + nomeArq2020 + '.csv', encoding='ISO-8859-1', sep=';')"
   ]
  },
  {
   "cell_type": "code",
   "execution_count": 4,
   "metadata": {
    "ExecuteTime": {
     "end_time": "2021-07-10T01:49:15.024392Z",
     "start_time": "2021-07-10T01:49:14.984389Z"
    },
    "hidden": true
   },
   "outputs": [],
   "source": [
    "# Concatenação de todos os anos\n",
    "data = pd.concat([data2018, data2019, data2020], ignore_index=True)"
   ]
  },
  {
   "cell_type": "markdown",
   "metadata": {
    "heading_collapsed": true
   },
   "source": [
    "# DataShape"
   ]
  },
  {
   "cell_type": "code",
   "execution_count": 5,
   "metadata": {
    "ExecuteTime": {
     "end_time": "2021-07-10T01:49:15.117586Z",
     "start_time": "2021-07-10T01:49:15.077588Z"
    },
    "hidden": true
   },
   "outputs": [
    {
     "data": {
      "text/plain": [
       "(2640, 26)"
      ]
     },
     "execution_count": 5,
     "metadata": {},
     "output_type": "execute_result"
    }
   ],
   "source": [
    "data2018.shape"
   ]
  },
  {
   "cell_type": "code",
   "execution_count": 6,
   "metadata": {
    "ExecuteTime": {
     "end_time": "2021-07-10T01:49:15.149584Z",
     "start_time": "2021-07-10T01:49:15.126582Z"
    },
    "hidden": true
   },
   "outputs": [
    {
     "data": {
      "text/plain": [
       "(2842, 26)"
      ]
     },
     "execution_count": 6,
     "metadata": {},
     "output_type": "execute_result"
    }
   ],
   "source": [
    "data2019.shape"
   ]
  },
  {
   "cell_type": "code",
   "execution_count": 7,
   "metadata": {
    "ExecuteTime": {
     "end_time": "2021-07-10T01:49:15.165580Z",
     "start_time": "2021-07-10T01:49:15.153582Z"
    },
    "hidden": true
   },
   "outputs": [
    {
     "data": {
      "text/plain": [
       "(2268, 26)"
      ]
     },
     "execution_count": 7,
     "metadata": {},
     "output_type": "execute_result"
    }
   ],
   "source": [
    "data2020.shape"
   ]
  },
  {
   "cell_type": "code",
   "execution_count": 8,
   "metadata": {
    "ExecuteTime": {
     "end_time": "2021-07-10T01:49:15.181582Z",
     "start_time": "2021-07-10T01:49:15.170580Z"
    },
    "hidden": true,
    "scrolled": true
   },
   "outputs": [
    {
     "data": {
      "text/plain": [
       "(7750, 26)"
      ]
     },
     "execution_count": 8,
     "metadata": {},
     "output_type": "execute_result"
    }
   ],
   "source": [
    "data.shape"
   ]
  },
  {
   "cell_type": "markdown",
   "metadata": {
    "heading_collapsed": true
   },
   "source": [
    "# Contagem de BRs"
   ]
  },
  {
   "cell_type": "code",
   "execution_count": 9,
   "metadata": {
    "ExecuteTime": {
     "end_time": "2021-07-10T01:49:15.213581Z",
     "start_time": "2021-07-10T01:49:15.189582Z"
    },
    "hidden": true,
    "scrolled": true
   },
   "outputs": [
    {
     "data": {
      "text/plain": [
       "101.0    5540\n",
       "262.0    1573\n",
       "259.0     347\n",
       "482.0     149\n",
       "393.0     103\n",
       "447.0      30\n",
       "484.0       7\n",
       "342.0       1\n",
       "Name: br, dtype: int64"
      ]
     },
     "execution_count": 9,
     "metadata": {},
     "output_type": "execute_result"
    }
   ],
   "source": [
    "data['br'].value_counts()"
   ]
  },
  {
   "cell_type": "markdown",
   "metadata": {
    "hidden": true
   },
   "source": [
    "### 2018\n",
    "- 101.0    1904\n",
    "- 262.0     570\n",
    "- 259.0     125\n",
    "- 393.0      29\n",
    "- 447.0       7\n",
    "- 482.0       5"
   ]
  },
  {
   "cell_type": "markdown",
   "metadata": {
    "hidden": true
   },
   "source": [
    "### 2019\n",
    "- 101.0    2031\n",
    "- 262.0     571\n",
    "- 259.0     121\n",
    "- 482.0      67\n",
    "- 393.0      41\n",
    "- 447.0       8\n",
    "- 484.0       2\n",
    "- 342.0       1"
   ]
  },
  {
   "cell_type": "markdown",
   "metadata": {
    "hidden": true
   },
   "source": [
    "### 2020\n",
    "- 101.0    1605\n",
    "- 262.0     432\n",
    "- 259.0     101\n",
    "- 482.0      77\n",
    "- 393.0      33\n",
    "- 447.0      15\n",
    "- 484.0       5"
   ]
  },
  {
   "cell_type": "code",
   "execution_count": 10,
   "metadata": {
    "ExecuteTime": {
     "end_time": "2021-07-10T01:49:15.245606Z",
     "start_time": "2021-07-10T01:49:15.220582Z"
    },
    "hidden": true
   },
   "outputs": [
    {
     "data": {
      "text/plain": [
       "1205      0.0\n",
       "7246      0.0\n",
       "5847      0.0\n",
       "5922      0.0\n",
       "1240      0.0\n",
       "        ...  \n",
       "2365    459.7\n",
       "676     459.9\n",
       "6447    460.2\n",
       "4875    460.5\n",
       "995     460.9\n",
       "Name: km, Length: 7750, dtype: float64"
      ]
     },
     "execution_count": 10,
     "metadata": {},
     "output_type": "execute_result"
    }
   ],
   "source": [
    "data['km'].sort_values(ascending=True)"
   ]
  },
  {
   "cell_type": "code",
   "execution_count": 11,
   "metadata": {
    "ExecuteTime": {
     "end_time": "2021-07-10T01:49:15.261586Z",
     "start_time": "2021-07-10T01:49:15.249581Z"
    },
    "hidden": true
   },
   "outputs": [
    {
     "data": {
      "text/plain": [
       "0.0"
      ]
     },
     "execution_count": 11,
     "metadata": {},
     "output_type": "execute_result"
    }
   ],
   "source": [
    "data['km'].min()"
   ]
  },
  {
   "cell_type": "code",
   "execution_count": 12,
   "metadata": {
    "ExecuteTime": {
     "end_time": "2021-07-10T01:49:15.293610Z",
     "start_time": "2021-07-10T01:49:15.266583Z"
    },
    "hidden": true,
    "scrolled": false
   },
   "outputs": [
    {
     "data": {
      "text/plain": [
       "460.9"
      ]
     },
     "execution_count": 12,
     "metadata": {},
     "output_type": "execute_result"
    }
   ],
   "source": [
    "data['km'].max()"
   ]
  },
  {
   "cell_type": "markdown",
   "metadata": {
    "heading_collapsed": true
   },
   "source": [
    "# 2018"
   ]
  },
  {
   "cell_type": "code",
   "execution_count": 13,
   "metadata": {
    "ExecuteTime": {
     "end_time": "2021-07-10T01:49:15.325584Z",
     "start_time": "2021-07-10T01:49:15.297581Z"
    },
    "hidden": true,
    "scrolled": true
   },
   "outputs": [
    {
     "data": {
      "text/plain": [
       "101.0    1904\n",
       "262.0     570\n",
       "259.0     125\n",
       "393.0      29\n",
       "447.0       7\n",
       "482.0       5\n",
       "Name: br, dtype: int64"
      ]
     },
     "execution_count": 13,
     "metadata": {},
     "output_type": "execute_result"
    }
   ],
   "source": [
    "data2018['br'].value_counts()"
   ]
  },
  {
   "cell_type": "code",
   "execution_count": 14,
   "metadata": {
    "ExecuteTime": {
     "end_time": "2021-07-10T01:49:15.341589Z",
     "start_time": "2021-07-10T01:49:15.331583Z"
    },
    "hidden": true
   },
   "outputs": [],
   "source": [
    "nomesBrs = ['101.0', '262.0', '259.0', '393.0', '447.0', '482.0']\n",
    "nomeBr = ['482.0']"
   ]
  },
  {
   "cell_type": "markdown",
   "metadata": {
    "heading_collapsed": true,
    "hidden": true
   },
   "source": [
    "## BR - Min e Max"
   ]
  },
  {
   "cell_type": "code",
   "execution_count": 15,
   "metadata": {
    "ExecuteTime": {
     "end_time": "2021-07-10T01:49:15.387583Z",
     "start_time": "2021-07-10T01:49:15.345582Z"
    },
    "hidden": true
   },
   "outputs": [
    {
     "data": {
      "text/plain": [
       "id                                         180494\n",
       "data_inversa                           2018-12-23\n",
       "dia_semana                            terça-feira\n",
       "horario                                  21:30:00\n",
       "br                                            482\n",
       "km                                             21\n",
       "municipio                 CACHOEIRO DE ITAPEMIRIM\n",
       "causa_acidente            Velocidade Incompatível\n",
       "tipo_acidente                          Tombamento\n",
       "classificacao_acidente        Com Vítimas Feridas\n",
       "fase_dia                                Pleno dia\n",
       "sentido_via                           Decrescente\n",
       "condicao_metereologica                  Céu Claro\n",
       "tipo_pista                                Simples\n",
       "tracado_via                                  Reta\n",
       "uso_solo                                        0\n",
       "pessoas                                        11\n",
       "mortos                                          1\n",
       "feridos_leves                                   1\n",
       "feridos_graves                                  8\n",
       "ilesos                                          3\n",
       "ignorados                                       0\n",
       "feridos                                         8\n",
       "veiculos                                        2\n",
       "latitude                                 -20.8064\n",
       "longitude                                -41.0826\n",
       "dtype: object"
      ]
     },
     "execution_count": 15,
     "metadata": {},
     "output_type": "execute_result"
    }
   ],
   "source": [
    "data2018[data2018.br.isin(nomeBr)].max()"
   ]
  },
  {
   "cell_type": "code",
   "execution_count": 16,
   "metadata": {
    "ExecuteTime": {
     "end_time": "2021-07-10T01:49:15.435588Z",
     "start_time": "2021-07-10T01:49:15.395583Z"
    },
    "hidden": true
   },
   "outputs": [
    {
     "data": {
      "text/plain": [
       "id                                                                   129933\n",
       "data_inversa                                                     2018-04-24\n",
       "dia_semana                                                          domingo\n",
       "horario                                                            08:00:00\n",
       "br                                                                      482\n",
       "km                                                                       17\n",
       "municipio                                           CACHOEIRO DE ITAPEMIRIM\n",
       "causa_acidente            Desobediência às normas de trânsito pelo condutor\n",
       "tipo_acidente                                       Atropelamento de Animal\n",
       "classificacao_acidente                                   Com Vítimas Fatais\n",
       "fase_dia                                                          Anoitecer\n",
       "sentido_via                                                       Crescente\n",
       "condicao_metereologica                                            Céu Claro\n",
       "tipo_pista                                                          Simples\n",
       "tracado_via                                                           Curva\n",
       "uso_solo                                                                  0\n",
       "pessoas                                                                   1\n",
       "mortos                                                                    0\n",
       "feridos_leves                                                             0\n",
       "feridos_graves                                                            0\n",
       "ilesos                                                                    0\n",
       "ignorados                                                                 0\n",
       "feridos                                                                   0\n",
       "veiculos                                                                  1\n",
       "latitude                                                           -20.8393\n",
       "longitude                                                          -41.0892\n",
       "dtype: object"
      ]
     },
     "execution_count": 16,
     "metadata": {},
     "output_type": "execute_result"
    }
   ],
   "source": [
    "data2018[data2018.br.isin(nomeBr)].min()"
   ]
  },
  {
   "cell_type": "markdown",
   "metadata": {
    "heading_collapsed": true
   },
   "source": [
    "# 2019"
   ]
  },
  {
   "cell_type": "code",
   "execution_count": 17,
   "metadata": {
    "ExecuteTime": {
     "end_time": "2021-07-10T01:49:15.464583Z",
     "start_time": "2021-07-10T01:49:15.442588Z"
    },
    "hidden": true
   },
   "outputs": [
    {
     "data": {
      "text/plain": [
       "101.0    2031\n",
       "262.0     571\n",
       "259.0     121\n",
       "482.0      67\n",
       "393.0      41\n",
       "447.0       8\n",
       "484.0       2\n",
       "342.0       1\n",
       "Name: br, dtype: int64"
      ]
     },
     "execution_count": 17,
     "metadata": {},
     "output_type": "execute_result"
    }
   ],
   "source": [
    "data2019['br'].value_counts()"
   ]
  },
  {
   "cell_type": "code",
   "execution_count": 18,
   "metadata": {
    "ExecuteTime": {
     "end_time": "2021-07-10T01:49:15.480582Z",
     "start_time": "2021-07-10T01:49:15.470582Z"
    },
    "hidden": true
   },
   "outputs": [],
   "source": [
    "nomesBrs = ['101.0', '262.0', '259.0', '393.0', '447.0', '482.0', '484.0', '342.0']\n",
    "nomeBr = ['393.0']"
   ]
  },
  {
   "cell_type": "markdown",
   "metadata": {
    "heading_collapsed": true,
    "hidden": true
   },
   "source": [
    "## BR - Min e Max"
   ]
  },
  {
   "cell_type": "code",
   "execution_count": 19,
   "metadata": {
    "ExecuteTime": {
     "end_time": "2021-07-10T01:49:15.527584Z",
     "start_time": "2021-07-10T01:49:15.486583Z"
    },
    "hidden": true
   },
   "outputs": [
    {
     "data": {
      "text/plain": [
       "id                                         257031\n",
       "data_inversa                           2019-12-18\n",
       "dia_semana                            terça-feira\n",
       "horario                                  23:00:00\n",
       "br                                            393\n",
       "km                                           26.4\n",
       "municipio                                   MUQUI\n",
       "causa_acidente            Velocidade Incompatível\n",
       "tipo_acidente                          Tombamento\n",
       "classificacao_acidente                Sem Vítimas\n",
       "fase_dia                                Pleno dia\n",
       "sentido_via                           Decrescente\n",
       "condicao_metereologica                    Nublado\n",
       "tipo_pista                                Simples\n",
       "tracado_via                             Rotatória\n",
       "uso_solo                                        1\n",
       "pessoas                                         9\n",
       "mortos                                          1\n",
       "feridos_leves                                   3\n",
       "feridos_graves                                  3\n",
       "ilesos                                          3\n",
       "ignorados                                       1\n",
       "feridos                                         6\n",
       "veiculos                                        2\n",
       "latitude                                 -20.8249\n",
       "longitude                                -41.1593\n",
       "dtype: object"
      ]
     },
     "execution_count": 19,
     "metadata": {},
     "output_type": "execute_result"
    }
   ],
   "source": [
    "data2019[data2019.br.isin(nomeBr)].max()"
   ]
  },
  {
   "cell_type": "code",
   "execution_count": 20,
   "metadata": {
    "ExecuteTime": {
     "end_time": "2021-07-10T01:49:15.559582Z",
     "start_time": "2021-07-10T01:49:15.531582Z"
    },
    "hidden": true
   },
   "outputs": [
    {
     "data": {
      "text/plain": [
       "id                                         183822\n",
       "data_inversa                           2019-01-06\n",
       "dia_semana                                domingo\n",
       "horario                                  01:00:00\n",
       "br                                            393\n",
       "km                                              0\n",
       "municipio                 CACHOEIRO DE ITAPEMIRIM\n",
       "causa_acidente                   Animais na Pista\n",
       "tipo_acidente             Atropelamento de Animal\n",
       "classificacao_acidente         Com Vítimas Fatais\n",
       "fase_dia                                Amanhecer\n",
       "sentido_via                             Crescente\n",
       "condicao_metereologica                      Chuva\n",
       "tipo_pista                                  Dupla\n",
       "tracado_via                                 Curva\n",
       "uso_solo                                        0\n",
       "pessoas                                         1\n",
       "mortos                                          0\n",
       "feridos_leves                                   0\n",
       "feridos_graves                                  0\n",
       "ilesos                                          0\n",
       "ignorados                                       0\n",
       "feridos                                         0\n",
       "veiculos                                        1\n",
       "latitude                                 -20.9537\n",
       "longitude                                -41.3569\n",
       "dtype: object"
      ]
     },
     "execution_count": 20,
     "metadata": {},
     "output_type": "execute_result"
    }
   ],
   "source": [
    "data2019[data2019.br.isin(nomeBr)].min()"
   ]
  },
  {
   "cell_type": "markdown",
   "metadata": {
    "heading_collapsed": true
   },
   "source": [
    "# 2020"
   ]
  },
  {
   "cell_type": "code",
   "execution_count": 21,
   "metadata": {
    "ExecuteTime": {
     "end_time": "2021-07-10T01:49:15.591591Z",
     "start_time": "2021-07-10T01:49:15.563585Z"
    },
    "hidden": true
   },
   "outputs": [
    {
     "data": {
      "text/plain": [
       "101.0    1605\n",
       "262.0     432\n",
       "259.0     101\n",
       "482.0      77\n",
       "393.0      33\n",
       "447.0      15\n",
       "484.0       5\n",
       "Name: br, dtype: int64"
      ]
     },
     "execution_count": 21,
     "metadata": {},
     "output_type": "execute_result"
    }
   ],
   "source": [
    "data2020['br'].value_counts()"
   ]
  },
  {
   "cell_type": "code",
   "execution_count": 22,
   "metadata": {
    "ExecuteTime": {
     "end_time": "2021-07-10T01:49:15.607583Z",
     "start_time": "2021-07-10T01:49:15.595583Z"
    },
    "hidden": true
   },
   "outputs": [],
   "source": [
    "nomesBrs = ['101.0', '262.0', '259.0', '393.0', '447.0', '482.0', '484.0', '342.0']\n",
    "nomeBr = ['482.0']"
   ]
  },
  {
   "cell_type": "markdown",
   "metadata": {
    "heading_collapsed": true,
    "hidden": true
   },
   "source": [
    "## BR - Min e Max"
   ]
  },
  {
   "cell_type": "code",
   "execution_count": 23,
   "metadata": {
    "ExecuteTime": {
     "end_time": "2021-07-10T01:49:15.655584Z",
     "start_time": "2021-07-10T01:49:15.611583Z"
    },
    "hidden": true
   },
   "outputs": [
    {
     "data": {
      "text/plain": [
       "id                                         324211\n",
       "data_inversa                           2020-11-27\n",
       "dia_semana                            terça-feira\n",
       "horario                                  23:50:00\n",
       "br                                            482\n",
       "km                                          133.8\n",
       "municipio                       JERONIMO MONTEIRO\n",
       "causa_acidente            Velocidade Incompatível\n",
       "tipo_acidente                          Tombamento\n",
       "classificacao_acidente                Sem Vítimas\n",
       "fase_dia                                Pleno dia\n",
       "sentido_via                           Decrescente\n",
       "condicao_metereologica                        Sol\n",
       "tipo_pista                                Simples\n",
       "tracado_via                             Rotatória\n",
       "uso_solo                                        1\n",
       "pessoas                                         6\n",
       "mortos                                          2\n",
       "feridos_leves                                   5\n",
       "feridos_graves                                  3\n",
       "ilesos                                          2\n",
       "ignorados                                       2\n",
       "feridos                                         5\n",
       "veiculos                                        3\n",
       "latitude                                 -20.7093\n",
       "longitude                                -41.0835\n",
       "dtype: object"
      ]
     },
     "execution_count": 23,
     "metadata": {},
     "output_type": "execute_result"
    }
   ],
   "source": [
    "data2020[data2020.br.isin(nomeBr)].max()"
   ]
  },
  {
   "cell_type": "code",
   "execution_count": 24,
   "metadata": {
    "ExecuteTime": {
     "end_time": "2021-07-10T01:49:15.703581Z",
     "start_time": "2021-07-10T01:49:15.660582Z"
    },
    "hidden": true
   },
   "outputs": [
    {
     "data": {
      "text/plain": [
       "id                                         260679\n",
       "data_inversa                           2020-01-03\n",
       "dia_semana                                domingo\n",
       "horario                                  00:50:00\n",
       "br                                            482\n",
       "km                                            8.5\n",
       "municipio                                  ALEGRE\n",
       "causa_acidente                   Animais na Pista\n",
       "tipo_acidente             Atropelamento de Animal\n",
       "classificacao_acidente         Com Vítimas Fatais\n",
       "fase_dia                                Amanhecer\n",
       "sentido_via                             Crescente\n",
       "condicao_metereologica                      Chuva\n",
       "tipo_pista                                  Dupla\n",
       "tracado_via                                 Curva\n",
       "uso_solo                                        0\n",
       "pessoas                                         1\n",
       "mortos                                          0\n",
       "feridos_leves                                   0\n",
       "feridos_graves                                  0\n",
       "ilesos                                          0\n",
       "ignorados                                       0\n",
       "feridos                                         0\n",
       "veiculos                                        1\n",
       "latitude                                  -20.866\n",
       "longitude                                 -41.838\n",
       "dtype: object"
      ]
     },
     "execution_count": 24,
     "metadata": {},
     "output_type": "execute_result"
    }
   ],
   "source": [
    "data2020[data2020.br.isin(nomeBr)].min()"
   ]
  },
  {
   "cell_type": "markdown",
   "metadata": {},
   "source": [
    "# Salvando o dataframe"
   ]
  },
  {
   "cell_type": "code",
   "execution_count": 25,
   "metadata": {
    "ExecuteTime": {
     "end_time": "2021-07-10T01:49:15.717199Z",
     "start_time": "2021-07-10T01:49:15.708198Z"
    }
   },
   "outputs": [],
   "source": [
    "# data_filtrado.to_csv( '../BaseDadosSelecionados/' + nomeArq + '_FiltroData.csv', encoding='ISO-8859-1', sep=';', index=False)"
   ]
  }
 ],
 "metadata": {
  "kernelspec": {
   "display_name": "Python 3",
   "language": "python",
   "name": "python3"
  },
  "language_info": {
   "codemirror_mode": {
    "name": "ipython",
    "version": 3
   },
   "file_extension": ".py",
   "mimetype": "text/x-python",
   "name": "python",
   "nbconvert_exporter": "python",
   "pygments_lexer": "ipython3",
   "version": "3.8.5"
  }
 },
 "nbformat": 4,
 "nbformat_minor": 4
}
