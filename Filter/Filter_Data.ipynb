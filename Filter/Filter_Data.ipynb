{
 "cells": [
  {
   "cell_type": "markdown",
   "metadata": {
    "heading_collapsed": true
   },
   "source": [
    "# Biblioteca"
   ]
  },
  {
   "cell_type": "code",
   "execution_count": 12,
   "metadata": {
    "ExecuteTime": {
     "end_time": "2021-03-11T18:48:50.194615Z",
     "start_time": "2021-03-11T18:48:50.177625Z"
    },
    "hidden": true
   },
   "outputs": [],
   "source": [
    "import pandas as pd"
   ]
  },
  {
   "cell_type": "markdown",
   "metadata": {},
   "source": [
    "# Carregamento de dados"
   ]
  },
  {
   "cell_type": "code",
   "execution_count": 13,
   "metadata": {
    "ExecuteTime": {
     "end_time": "2021-03-11T18:48:50.226596Z",
     "start_time": "2021-03-11T18:48:50.198613Z"
    }
   },
   "outputs": [],
   "source": [
    "endereco = '../BaseDadosSelecionados/'\n",
    "# endereco2 = 'Agrupado_Ocorrencia'\n",
    "nomeArq = 'ES_datatran2020'"
   ]
  },
  {
   "cell_type": "code",
   "execution_count": 14,
   "metadata": {
    "ExecuteTime": {
     "end_time": "2021-03-11T18:48:50.242587Z",
     "start_time": "2021-03-11T18:48:50.231594Z"
    }
   },
   "outputs": [],
   "source": [
    "dataInicio = '2020-08-15'\n",
    "dataFim = '2020-12-23'"
   ]
  },
  {
   "cell_type": "code",
   "execution_count": 15,
   "metadata": {
    "ExecuteTime": {
     "end_time": "2021-03-11T18:48:50.290559Z",
     "start_time": "2021-03-11T18:48:50.246585Z"
    }
   },
   "outputs": [],
   "source": [
    "data = pd.read_csv(endereco + nomeArq + '.csv', encoding='ISO-8859-1', sep=';')"
   ]
  },
  {
   "cell_type": "code",
   "execution_count": 16,
   "metadata": {
    "ExecuteTime": {
     "end_time": "2021-03-11T18:48:50.322543Z",
     "start_time": "2021-03-11T18:48:50.301554Z"
    }
   },
   "outputs": [
    {
     "data": {
      "text/plain": [
       "(2268, 26)"
      ]
     },
     "execution_count": 16,
     "metadata": {},
     "output_type": "execute_result"
    }
   ],
   "source": [
    "data.shape"
   ]
  },
  {
   "cell_type": "markdown",
   "metadata": {},
   "source": [
    "# Filtrar pela Data"
   ]
  },
  {
   "cell_type": "code",
   "execution_count": 17,
   "metadata": {
    "ExecuteTime": {
     "end_time": "2021-03-11T18:48:50.338532Z",
     "start_time": "2021-03-11T18:48:50.327541Z"
    }
   },
   "outputs": [],
   "source": [
    "data['data_inversa'] = pd.to_datetime(data['data_inversa'])"
   ]
  },
  {
   "cell_type": "code",
   "execution_count": 18,
   "metadata": {
    "ExecuteTime": {
     "end_time": "2021-03-11T18:48:50.353523Z",
     "start_time": "2021-03-11T18:48:50.343530Z"
    }
   },
   "outputs": [],
   "source": [
    "selecao = (data['data_inversa'] >= dataInicio) & (data['data_inversa'] <= dataFim)"
   ]
  },
  {
   "cell_type": "code",
   "execution_count": 19,
   "metadata": {
    "ExecuteTime": {
     "end_time": "2021-03-11T18:48:50.384506Z",
     "start_time": "2021-03-11T18:48:50.359521Z"
    }
   },
   "outputs": [],
   "source": [
    "data_filtrado = data[selecao]"
   ]
  },
  {
   "cell_type": "code",
   "execution_count": 20,
   "metadata": {
    "ExecuteTime": {
     "end_time": "2021-03-11T18:48:50.400497Z",
     "start_time": "2021-03-11T18:48:50.388503Z"
    }
   },
   "outputs": [],
   "source": [
    "# data_filtrado"
   ]
  },
  {
   "cell_type": "code",
   "execution_count": 21,
   "metadata": {
    "ExecuteTime": {
     "end_time": "2021-03-11T18:48:50.431480Z",
     "start_time": "2021-03-11T18:48:50.408495Z"
    }
   },
   "outputs": [
    {
     "data": {
      "text/plain": [
       "Timestamp('2020-08-15 00:00:00')"
      ]
     },
     "execution_count": 21,
     "metadata": {},
     "output_type": "execute_result"
    }
   ],
   "source": [
    "data_filtrado['data_inversa'].min()"
   ]
  },
  {
   "cell_type": "code",
   "execution_count": 22,
   "metadata": {
    "ExecuteTime": {
     "end_time": "2021-03-11T18:48:50.462461Z",
     "start_time": "2021-03-11T18:48:50.435478Z"
    }
   },
   "outputs": [
    {
     "data": {
      "text/plain": [
       "Timestamp('2020-11-30 00:00:00')"
      ]
     },
     "execution_count": 22,
     "metadata": {},
     "output_type": "execute_result"
    }
   ],
   "source": [
    "data_filtrado['data_inversa'].max()"
   ]
  },
  {
   "cell_type": "markdown",
   "metadata": {},
   "source": [
    "# Salvando o dataframe"
   ]
  },
  {
   "cell_type": "code",
   "execution_count": 23,
   "metadata": {
    "ExecuteTime": {
     "end_time": "2021-03-11T18:48:50.525428Z",
     "start_time": "2021-03-11T18:48:50.466460Z"
    }
   },
   "outputs": [],
   "source": [
    "data_filtrado.to_csv( '../BaseDadosSelecionados/' + nomeArq + '_FiltroData.csv', encoding='ISO-8859-1', sep=';', index=False)"
   ]
  }
 ],
 "metadata": {
  "kernelspec": {
   "display_name": "Python 3",
   "language": "python",
   "name": "python3"
  },
  "language_info": {
   "codemirror_mode": {
    "name": "ipython",
    "version": 3
   },
   "file_extension": ".py",
   "mimetype": "text/x-python",
   "name": "python",
   "nbconvert_exporter": "python",
   "pygments_lexer": "ipython3",
   "version": "3.8.5"
  }
 },
 "nbformat": 4,
 "nbformat_minor": 4
}
