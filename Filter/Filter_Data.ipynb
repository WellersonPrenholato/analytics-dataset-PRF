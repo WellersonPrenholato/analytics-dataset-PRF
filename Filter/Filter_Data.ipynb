{
 "cells": [
  {
   "cell_type": "markdown",
   "metadata": {},
   "source": [
    "# Filtro de dados de acordo com a data\n",
    "A filtragem é feita com base na data inicial de 15/08/[2018-2019-2020] até a data final de 23/12/[2018-2019-2020].<br>\n",
    "Os anos são alternados, podendo ser eles: 2018, 2019 e 2020."
   ]
  },
  {
   "cell_type": "markdown",
   "metadata": {
    "heading_collapsed": true
   },
   "source": [
    "# Biblioteca"
   ]
  },
  {
   "cell_type": "code",
   "execution_count": 76,
   "metadata": {
    "ExecuteTime": {
     "end_time": "2021-10-21T05:08:46.311554Z",
     "start_time": "2021-10-21T05:08:46.297584Z"
    },
    "hidden": true
   },
   "outputs": [],
   "source": [
    "import pandas as pd"
   ]
  },
  {
   "cell_type": "markdown",
   "metadata": {
    "heading_collapsed": true
   },
   "source": [
    "# Carregamento de dados"
   ]
  },
  {
   "cell_type": "code",
   "execution_count": 77,
   "metadata": {
    "ExecuteTime": {
     "end_time": "2021-10-21T05:08:46.327557Z",
     "start_time": "2021-10-21T05:08:46.315556Z"
    },
    "hidden": true
   },
   "outputs": [],
   "source": [
    "anoArq = '2020'"
   ]
  },
  {
   "cell_type": "code",
   "execution_count": 78,
   "metadata": {
    "ExecuteTime": {
     "end_time": "2021-10-21T05:08:46.343565Z",
     "start_time": "2021-10-21T05:08:46.331569Z"
    },
    "hidden": true
   },
   "outputs": [],
   "source": [
    "endereco = '../BaseDadosSelecionados/'\n",
    "# endereco2 = 'Agrupado_Ocorrencia'\n",
    "nomeArq = 'ES_datatran'+ anoArq +'_Organizado'"
   ]
  },
  {
   "cell_type": "code",
   "execution_count": 79,
   "metadata": {
    "ExecuteTime": {
     "end_time": "2021-10-21T05:08:46.359557Z",
     "start_time": "2021-10-21T05:08:46.346556Z"
    },
    "hidden": true
   },
   "outputs": [],
   "source": [
    "dataInicio = anoArq +'-08-15'\n",
    "dataFim = anoArq +'-12-23'"
   ]
  },
  {
   "cell_type": "code",
   "execution_count": 80,
   "metadata": {
    "ExecuteTime": {
     "end_time": "2021-10-21T05:08:46.423559Z",
     "start_time": "2021-10-21T05:08:46.364556Z"
    },
    "hidden": true
   },
   "outputs": [],
   "source": [
    "data = pd.read_csv(endereco + nomeArq + '.csv', encoding='ISO-8859-1', sep=';')"
   ]
  },
  {
   "cell_type": "code",
   "execution_count": 81,
   "metadata": {
    "ExecuteTime": {
     "end_time": "2021-10-21T05:08:46.439558Z",
     "start_time": "2021-10-21T05:08:46.428560Z"
    },
    "hidden": true
   },
   "outputs": [
    {
     "data": {
      "text/plain": [
       "(2268, 26)"
      ]
     },
     "execution_count": 81,
     "metadata": {},
     "output_type": "execute_result"
    }
   ],
   "source": [
    "data.shape"
   ]
  },
  {
   "cell_type": "code",
   "execution_count": 82,
   "metadata": {
    "ExecuteTime": {
     "end_time": "2021-10-21T05:08:46.455556Z",
     "start_time": "2021-10-21T05:08:46.445558Z"
    },
    "hidden": true
   },
   "outputs": [],
   "source": [
    "# data.head(5)"
   ]
  },
  {
   "cell_type": "markdown",
   "metadata": {
    "heading_collapsed": true
   },
   "source": [
    "# Filtragem pela Data"
   ]
  },
  {
   "cell_type": "code",
   "execution_count": 83,
   "metadata": {
    "ExecuteTime": {
     "end_time": "2021-10-21T05:08:46.487556Z",
     "start_time": "2021-10-21T05:08:46.464559Z"
    },
    "hidden": true
   },
   "outputs": [],
   "source": [
    "data['data_inversa'] = pd.to_datetime(data['data_inversa'])"
   ]
  },
  {
   "cell_type": "code",
   "execution_count": 84,
   "metadata": {
    "ExecuteTime": {
     "end_time": "2021-10-21T05:08:46.519559Z",
     "start_time": "2021-10-21T05:08:46.494556Z"
    },
    "hidden": true
   },
   "outputs": [],
   "source": [
    "selecao = (data['data_inversa'] >= dataInicio) & (data['data_inversa'] <= dataFim)"
   ]
  },
  {
   "cell_type": "code",
   "execution_count": 85,
   "metadata": {
    "ExecuteTime": {
     "end_time": "2021-10-21T05:08:46.535556Z",
     "start_time": "2021-10-21T05:08:46.525557Z"
    },
    "hidden": true
   },
   "outputs": [],
   "source": [
    "data_filtrado = data[selecao]"
   ]
  },
  {
   "cell_type": "code",
   "execution_count": 86,
   "metadata": {
    "ExecuteTime": {
     "end_time": "2021-10-21T05:08:46.551559Z",
     "start_time": "2021-10-21T05:08:46.539557Z"
    },
    "hidden": true
   },
   "outputs": [],
   "source": [
    "# data_filtrado"
   ]
  },
  {
   "cell_type": "code",
   "execution_count": 87,
   "metadata": {
    "ExecuteTime": {
     "end_time": "2021-10-21T05:08:46.583556Z",
     "start_time": "2021-10-21T05:08:46.558557Z"
    },
    "hidden": true
   },
   "outputs": [
    {
     "data": {
      "text/plain": [
       "Timestamp('2020-08-15 00:00:00')"
      ]
     },
     "execution_count": 87,
     "metadata": {},
     "output_type": "execute_result"
    }
   ],
   "source": [
    "data_filtrado['data_inversa'].min()"
   ]
  },
  {
   "cell_type": "code",
   "execution_count": 88,
   "metadata": {
    "ExecuteTime": {
     "end_time": "2021-10-21T05:08:46.614084Z",
     "start_time": "2021-10-21T05:08:46.587558Z"
    },
    "hidden": true
   },
   "outputs": [
    {
     "data": {
      "text/plain": [
       "Timestamp('2020-11-30 00:00:00')"
      ]
     },
     "execution_count": 88,
     "metadata": {},
     "output_type": "execute_result"
    }
   ],
   "source": [
    "data_filtrado['data_inversa'].max()"
   ]
  },
  {
   "cell_type": "markdown",
   "metadata": {
    "heading_collapsed": true
   },
   "source": [
    "# Salvando a filtragem um novo dataframe"
   ]
  },
  {
   "cell_type": "code",
   "execution_count": 89,
   "metadata": {
    "ExecuteTime": {
     "end_time": "2021-10-21T05:08:46.630090Z",
     "start_time": "2021-10-21T05:08:46.618086Z"
    },
    "hidden": true
   },
   "outputs": [],
   "source": [
    "nomeArqSaida = 'ES_datatran'+ anoArq +'_Org'"
   ]
  },
  {
   "cell_type": "code",
   "execution_count": 90,
   "metadata": {
    "ExecuteTime": {
     "end_time": "2021-10-21T05:08:46.709084Z",
     "start_time": "2021-10-21T05:08:46.635087Z"
    },
    "hidden": true
   },
   "outputs": [],
   "source": [
    "data_filtrado.to_csv( '../BaseDadosSelecionados/' + nomeArqSaida + '_FilterDate.csv', encoding='ISO-8859-1', sep=';', index=False)"
   ]
  }
 ],
 "metadata": {
  "kernelspec": {
   "display_name": "Python 3",
   "language": "python",
   "name": "python3"
  },
  "language_info": {
   "codemirror_mode": {
    "name": "ipython",
    "version": 3
   },
   "file_extension": ".py",
   "mimetype": "text/x-python",
   "name": "python",
   "nbconvert_exporter": "python",
   "pygments_lexer": "ipython3",
   "version": "3.8.5"
  }
 },
 "nbformat": 4,
 "nbformat_minor": 4
}
