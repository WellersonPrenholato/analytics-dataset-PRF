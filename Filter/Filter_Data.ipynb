{
 "cells": [
  {
   "cell_type": "markdown",
   "metadata": {},
   "source": [
    "# Filtro de dados de acordo com a data\n",
    "A filtragem é feita com base na data inicial de 15/08/[2018-2019-2020] até a data final de 23/12/[2018-2019-2020].<br>\n",
    "Os anos são alternados, podendo ser eles: 2018, 2019 e 2020."
   ]
  },
  {
   "cell_type": "markdown",
   "metadata": {
    "heading_collapsed": true
   },
   "source": [
    "# Biblioteca"
   ]
  },
  {
   "cell_type": "code",
   "execution_count": 1,
   "metadata": {
    "ExecuteTime": {
     "end_time": "2021-07-10T01:37:48.832697Z",
     "start_time": "2021-07-10T01:37:47.162572Z"
    },
    "hidden": true
   },
   "outputs": [],
   "source": [
    "import pandas as pd"
   ]
  },
  {
   "cell_type": "markdown",
   "metadata": {
    "heading_collapsed": true
   },
   "source": [
    "# Carregamento de dados"
   ]
  },
  {
   "cell_type": "code",
   "execution_count": 2,
   "metadata": {
    "ExecuteTime": {
     "end_time": "2021-07-10T01:37:48.851225Z",
     "start_time": "2021-07-10T01:37:48.840698Z"
    },
    "hidden": true
   },
   "outputs": [],
   "source": [
    "anoArq = '2020'"
   ]
  },
  {
   "cell_type": "code",
   "execution_count": 3,
   "metadata": {
    "ExecuteTime": {
     "end_time": "2021-07-10T01:37:48.879226Z",
     "start_time": "2021-07-10T01:37:48.862225Z"
    },
    "hidden": true
   },
   "outputs": [],
   "source": [
    "endereco = '../BaseDadosSelecionados/'\n",
    "# endereco2 = 'Agrupado_Ocorrencia'\n",
    "nomeArq = 'ES_datatran'+ anoArq +'_Organizado'"
   ]
  },
  {
   "cell_type": "code",
   "execution_count": 4,
   "metadata": {
    "ExecuteTime": {
     "end_time": "2021-07-10T01:37:48.911224Z",
     "start_time": "2021-07-10T01:37:48.888223Z"
    },
    "hidden": true
   },
   "outputs": [],
   "source": [
    "dataInicio = anoArq +'-08-15'\n",
    "dataFim = anoArq +'-12-23'"
   ]
  },
  {
   "cell_type": "code",
   "execution_count": 5,
   "metadata": {
    "ExecuteTime": {
     "end_time": "2021-07-10T01:37:49.004223Z",
     "start_time": "2021-07-10T01:37:48.921223Z"
    },
    "hidden": true
   },
   "outputs": [],
   "source": [
    "data = pd.read_csv(endereco + nomeArq + '.csv', encoding='ISO-8859-1', sep=';')"
   ]
  },
  {
   "cell_type": "code",
   "execution_count": 6,
   "metadata": {
    "ExecuteTime": {
     "end_time": "2021-07-10T01:37:49.050925Z",
     "start_time": "2021-07-10T01:37:49.008225Z"
    },
    "hidden": true
   },
   "outputs": [
    {
     "data": {
      "text/plain": [
       "(2268, 26)"
      ]
     },
     "execution_count": 6,
     "metadata": {},
     "output_type": "execute_result"
    }
   ],
   "source": [
    "data.shape"
   ]
  },
  {
   "cell_type": "code",
   "execution_count": 7,
   "metadata": {
    "ExecuteTime": {
     "end_time": "2021-07-10T01:37:49.067921Z",
     "start_time": "2021-07-10T01:37:49.057922Z"
    },
    "hidden": true
   },
   "outputs": [],
   "source": [
    "# data.head(5)"
   ]
  },
  {
   "cell_type": "markdown",
   "metadata": {
    "heading_collapsed": true
   },
   "source": [
    "# Filtragem pela Data"
   ]
  },
  {
   "cell_type": "code",
   "execution_count": 8,
   "metadata": {
    "ExecuteTime": {
     "end_time": "2021-07-10T01:37:49.096921Z",
     "start_time": "2021-07-10T01:37:49.076919Z"
    },
    "hidden": true
   },
   "outputs": [],
   "source": [
    "data['data_inversa'] = pd.to_datetime(data['data_inversa'])"
   ]
  },
  {
   "cell_type": "code",
   "execution_count": 9,
   "metadata": {
    "ExecuteTime": {
     "end_time": "2021-07-10T01:37:49.127921Z",
     "start_time": "2021-07-10T01:37:49.103920Z"
    },
    "hidden": true
   },
   "outputs": [],
   "source": [
    "selecao = (data['data_inversa'] >= dataInicio) & (data['data_inversa'] <= dataFim)"
   ]
  },
  {
   "cell_type": "code",
   "execution_count": 10,
   "metadata": {
    "ExecuteTime": {
     "end_time": "2021-07-10T01:37:49.143919Z",
     "start_time": "2021-07-10T01:37:49.135946Z"
    },
    "hidden": true
   },
   "outputs": [],
   "source": [
    "data_filtrado = data[selecao]"
   ]
  },
  {
   "cell_type": "code",
   "execution_count": 11,
   "metadata": {
    "ExecuteTime": {
     "end_time": "2021-07-10T01:37:49.158921Z",
     "start_time": "2021-07-10T01:37:49.147921Z"
    },
    "hidden": true
   },
   "outputs": [],
   "source": [
    "# data_filtrado"
   ]
  },
  {
   "cell_type": "code",
   "execution_count": 12,
   "metadata": {
    "ExecuteTime": {
     "end_time": "2021-07-10T01:37:49.174941Z",
     "start_time": "2021-07-10T01:37:49.162920Z"
    },
    "hidden": true
   },
   "outputs": [
    {
     "data": {
      "text/plain": [
       "Timestamp('2020-08-15 00:00:00')"
      ]
     },
     "execution_count": 12,
     "metadata": {},
     "output_type": "execute_result"
    }
   ],
   "source": [
    "data_filtrado['data_inversa'].min()"
   ]
  },
  {
   "cell_type": "code",
   "execution_count": 13,
   "metadata": {
    "ExecuteTime": {
     "end_time": "2021-07-10T01:37:49.204921Z",
     "start_time": "2021-07-10T01:37:49.178921Z"
    },
    "hidden": true
   },
   "outputs": [
    {
     "data": {
      "text/plain": [
       "Timestamp('2020-11-30 00:00:00')"
      ]
     },
     "execution_count": 13,
     "metadata": {},
     "output_type": "execute_result"
    }
   ],
   "source": [
    "data_filtrado['data_inversa'].max()"
   ]
  },
  {
   "cell_type": "markdown",
   "metadata": {
    "heading_collapsed": true
   },
   "source": [
    "# Salvando a filtragem um novo dataframe"
   ]
  },
  {
   "cell_type": "code",
   "execution_count": 14,
   "metadata": {
    "ExecuteTime": {
     "end_time": "2021-07-10T01:37:49.220924Z",
     "start_time": "2021-07-10T01:37:49.209921Z"
    },
    "hidden": true
   },
   "outputs": [],
   "source": [
    "data_filtrado.to_csv( '../BaseDadosSelecionados/' + nomeArq + '_FiltroData.csv', encoding='ISO-8859-1', sep=';', index=False)"
   ]
  }
 ],
 "metadata": {
  "kernelspec": {
   "display_name": "Python 3",
   "language": "python",
   "name": "python3"
  },
  "language_info": {
   "codemirror_mode": {
    "name": "ipython",
    "version": 3
   },
   "file_extension": ".py",
   "mimetype": "text/x-python",
   "name": "python",
   "nbconvert_exporter": "python",
   "pygments_lexer": "ipython3",
   "version": "3.8.5"
  }
 },
 "nbformat": 4,
 "nbformat_minor": 4
}
