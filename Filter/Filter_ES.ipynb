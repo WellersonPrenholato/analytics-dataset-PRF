{
 "cells": [
  {
   "cell_type": "markdown",
   "metadata": {},
   "source": [
    "# Biblioteca"
   ]
  },
  {
   "cell_type": "code",
   "execution_count": 1,
   "metadata": {
    "ExecuteTime": {
     "end_time": "2021-01-06T21:48:27.061541Z",
     "start_time": "2021-01-06T21:48:25.499845Z"
    }
   },
   "outputs": [],
   "source": [
    "import pandas as pd"
   ]
  },
  {
   "cell_type": "markdown",
   "metadata": {},
   "source": [
    "# Carregamento de dados"
   ]
  },
  {
   "cell_type": "code",
   "execution_count": 2,
   "metadata": {
    "ExecuteTime": {
     "end_time": "2021-01-06T21:48:27.082549Z",
     "start_time": "2021-01-06T21:48:27.069536Z"
    }
   },
   "outputs": [],
   "source": [
    "endereco = '../BaseDados/'\n",
    "# nomeArq = 'acidentes2018_todas_causas_tipos'\n",
    "# nomeArq = 'acidentes2019_todas_causas_tipos'\n",
    "endereco2 = 'Agrupado_Ocorrencia/'\n",
    "nomeArq = 'datatran2018'"
   ]
  },
  {
   "cell_type": "code",
   "execution_count": 3,
   "metadata": {
    "ExecuteTime": {
     "end_time": "2021-01-06T21:48:28.478597Z",
     "start_time": "2021-01-06T21:48:27.089538Z"
    }
   },
   "outputs": [],
   "source": [
    "data = pd.read_csv(endereco + endereco2 + nomeArq +'.csv', encoding='ISO-8859-1', sep=';')"
   ]
  },
  {
   "cell_type": "markdown",
   "metadata": {},
   "source": [
    "# Seleciona apenas linhas do ES"
   ]
  },
  {
   "cell_type": "code",
   "execution_count": 4,
   "metadata": {
    "ExecuteTime": {
     "end_time": "2021-01-06T21:48:28.598137Z",
     "start_time": "2021-01-06T21:48:28.485599Z"
    },
    "scrolled": true
   },
   "outputs": [
    {
     "data": {
      "text/plain": [
       "(69295, 30)"
      ]
     },
     "execution_count": 4,
     "metadata": {},
     "output_type": "execute_result"
    }
   ],
   "source": [
    "data.shape"
   ]
  },
  {
   "cell_type": "code",
   "execution_count": 5,
   "metadata": {
    "ExecuteTime": {
     "end_time": "2021-01-06T21:48:28.725647Z",
     "start_time": "2021-01-06T21:48:28.603124Z"
    },
    "code_folding": []
   },
   "outputs": [],
   "source": [
    "#Inicialmente faço a remoção de todos Estados diferentes do ES\n",
    "data = data.drop(data[data['uf'] != 'ES'].index)"
   ]
  },
  {
   "cell_type": "code",
   "execution_count": 6,
   "metadata": {
    "ExecuteTime": {
     "end_time": "2021-01-06T21:48:28.740648Z",
     "start_time": "2021-01-06T21:48:28.730649Z"
    },
    "scrolled": true
   },
   "outputs": [
    {
     "data": {
      "text/plain": [
       "(2642, 30)"
      ]
     },
     "execution_count": 6,
     "metadata": {},
     "output_type": "execute_result"
    }
   ],
   "source": [
    "data.shape"
   ]
  },
  {
   "cell_type": "markdown",
   "metadata": {
    "ExecuteTime": {
     "end_time": "2020-12-24T19:03:26.288809Z",
     "start_time": "2020-12-24T19:03:26.283763Z"
    }
   },
   "source": [
    "# Remoção de atributos NULOS"
   ]
  },
  {
   "cell_type": "code",
   "execution_count": 7,
   "metadata": {
    "ExecuteTime": {
     "end_time": "2021-01-06T21:48:28.803650Z",
     "start_time": "2021-01-06T21:48:28.747651Z"
    }
   },
   "outputs": [],
   "source": [
    "#Gera um arquivo .txt com a quantidade de atributos nulos por coluna\n",
    "data.isnull().sum().to_csv('QtdNullAtributos_' + nomeArq + '.csv', sep=';')"
   ]
  },
  {
   "cell_type": "markdown",
   "metadata": {},
   "source": [
    "# Salvando o dataframe"
   ]
  },
  {
   "cell_type": "code",
   "execution_count": 8,
   "metadata": {
    "ExecuteTime": {
     "end_time": "2021-01-06T21:48:28.819649Z",
     "start_time": "2021-01-06T21:48:28.815648Z"
    }
   },
   "outputs": [],
   "source": [
    "# data.to_csv( '../Deploy/' +'ES_' + nomeArq + '.csv', encoding='ISO-8859-1', sep=';', index=False)"
   ]
  },
  {
   "cell_type": "code",
   "execution_count": 9,
   "metadata": {
    "ExecuteTime": {
     "end_time": "2021-01-06T21:48:28.927701Z",
     "start_time": "2021-01-06T21:48:28.825663Z"
    }
   },
   "outputs": [],
   "source": [
    "# Aqui é gerado um novo arquivo na qual contém os resultados aplicados\n",
    "data.to_csv( '../BaseDadosSelecionados/' +'ES_' + nomeArq + '.csv', encoding='ISO-8859-1', sep=';', index=False)"
   ]
  },
  {
   "cell_type": "code",
   "execution_count": 10,
   "metadata": {
    "ExecuteTime": {
     "end_time": "2021-01-06T21:48:28.938700Z",
     "start_time": "2021-01-06T21:48:28.932700Z"
    }
   },
   "outputs": [],
   "source": [
    "# data = pd.read_csv('../BaseDadosSelecionados/ ' +'ES_' + nomeArq + '.csv', encoding='ISO-8859-1', sep=';')"
   ]
  },
  {
   "cell_type": "code",
   "execution_count": 11,
   "metadata": {
    "ExecuteTime": {
     "end_time": "2021-01-06T21:48:29.087767Z",
     "start_time": "2021-01-06T21:48:28.947695Z"
    },
    "scrolled": false
   },
   "outputs": [
    {
     "data": {
      "text/html": [
       "<div>\n",
       "<style scoped>\n",
       "    .dataframe tbody tr th:only-of-type {\n",
       "        vertical-align: middle;\n",
       "    }\n",
       "\n",
       "    .dataframe tbody tr th {\n",
       "        vertical-align: top;\n",
       "    }\n",
       "\n",
       "    .dataframe thead th {\n",
       "        text-align: right;\n",
       "    }\n",
       "</style>\n",
       "<table border=\"1\" class=\"dataframe\">\n",
       "  <thead>\n",
       "    <tr style=\"text-align: right;\">\n",
       "      <th></th>\n",
       "      <th>id</th>\n",
       "      <th>data_inversa</th>\n",
       "      <th>dia_semana</th>\n",
       "      <th>horario</th>\n",
       "      <th>uf</th>\n",
       "      <th>br</th>\n",
       "      <th>km</th>\n",
       "      <th>municipio</th>\n",
       "      <th>causa_acidente</th>\n",
       "      <th>tipo_acidente</th>\n",
       "      <th>...</th>\n",
       "      <th>feridos_graves</th>\n",
       "      <th>ilesos</th>\n",
       "      <th>ignorados</th>\n",
       "      <th>feridos</th>\n",
       "      <th>veiculos</th>\n",
       "      <th>latitude</th>\n",
       "      <th>longitude</th>\n",
       "      <th>regional</th>\n",
       "      <th>delegacia</th>\n",
       "      <th>uop</th>\n",
       "    </tr>\n",
       "  </thead>\n",
       "  <tbody>\n",
       "    <tr>\n",
       "      <th>100</th>\n",
       "      <td>100090.0</td>\n",
       "      <td>2018-01-01</td>\n",
       "      <td>segunda-feira</td>\n",
       "      <td>15:40:00</td>\n",
       "      <td>ES</td>\n",
       "      <td>262.0</td>\n",
       "      <td>121,3</td>\n",
       "      <td>CONCEICAO DO CASTELO</td>\n",
       "      <td>Ultrapassagem Indevida</td>\n",
       "      <td>Colisão transversal</td>\n",
       "      <td>...</td>\n",
       "      <td>0</td>\n",
       "      <td>2</td>\n",
       "      <td>1</td>\n",
       "      <td>5</td>\n",
       "      <td>4</td>\n",
       "      <td>-20,29375747</td>\n",
       "      <td>-41,23261549</td>\n",
       "      <td>SR-ES</td>\n",
       "      <td>DEL12/1</td>\n",
       "      <td>UOP02/ES</td>\n",
       "    </tr>\n",
       "    <tr>\n",
       "      <th>107</th>\n",
       "      <td>100098.0</td>\n",
       "      <td>2018-01-01</td>\n",
       "      <td>segunda-feira</td>\n",
       "      <td>16:00:00</td>\n",
       "      <td>ES</td>\n",
       "      <td>101.0</td>\n",
       "      <td>204</td>\n",
       "      <td>JOAO NEIVA</td>\n",
       "      <td>Falta de Atenção à Condução</td>\n",
       "      <td>Colisão traseira</td>\n",
       "      <td>...</td>\n",
       "      <td>0</td>\n",
       "      <td>3</td>\n",
       "      <td>0</td>\n",
       "      <td>1</td>\n",
       "      <td>4</td>\n",
       "      <td>-19,74757427</td>\n",
       "      <td>-40,37750512</td>\n",
       "      <td>SR-ES</td>\n",
       "      <td>DEL12/2</td>\n",
       "      <td>UOP01/ES</td>\n",
       "    </tr>\n",
       "    <tr>\n",
       "      <th>115</th>\n",
       "      <td>100108.0</td>\n",
       "      <td>2018-01-01</td>\n",
       "      <td>segunda-feira</td>\n",
       "      <td>16:30:00</td>\n",
       "      <td>ES</td>\n",
       "      <td>101.0</td>\n",
       "      <td>307,5</td>\n",
       "      <td>VILA VELHA</td>\n",
       "      <td>Velocidade Incompatível</td>\n",
       "      <td>Saída de leito carroçável</td>\n",
       "      <td>...</td>\n",
       "      <td>0</td>\n",
       "      <td>1</td>\n",
       "      <td>0</td>\n",
       "      <td>3</td>\n",
       "      <td>1</td>\n",
       "      <td>-20,40288592</td>\n",
       "      <td>-40,4556486</td>\n",
       "      <td>SR-ES</td>\n",
       "      <td>DEL12/3</td>\n",
       "      <td>UOP01/ES</td>\n",
       "    </tr>\n",
       "    <tr>\n",
       "      <th>119</th>\n",
       "      <td>100112.0</td>\n",
       "      <td>2018-01-01</td>\n",
       "      <td>segunda-feira</td>\n",
       "      <td>16:00:00</td>\n",
       "      <td>ES</td>\n",
       "      <td>101.0</td>\n",
       "      <td>428</td>\n",
       "      <td>ATILIO VIVACQUA</td>\n",
       "      <td>Fenômenos da Natureza</td>\n",
       "      <td>Queda de ocupante de veículo</td>\n",
       "      <td>...</td>\n",
       "      <td>0</td>\n",
       "      <td>0</td>\n",
       "      <td>0</td>\n",
       "      <td>2</td>\n",
       "      <td>1</td>\n",
       "      <td>-20,91465</td>\n",
       "      <td>-41,19869</td>\n",
       "      <td>SR-ES</td>\n",
       "      <td>DEL12/3</td>\n",
       "      <td>UOP02/ES</td>\n",
       "    </tr>\n",
       "    <tr>\n",
       "      <th>204</th>\n",
       "      <td>100210.0</td>\n",
       "      <td>2018-01-02</td>\n",
       "      <td>terça-feira</td>\n",
       "      <td>00:38:00</td>\n",
       "      <td>ES</td>\n",
       "      <td>101.0</td>\n",
       "      <td>42</td>\n",
       "      <td>CONCEICAO DA BARRA</td>\n",
       "      <td>Restrição de Visibilidade</td>\n",
       "      <td>Colisão lateral</td>\n",
       "      <td>...</td>\n",
       "      <td>0</td>\n",
       "      <td>1</td>\n",
       "      <td>0</td>\n",
       "      <td>6</td>\n",
       "      <td>2</td>\n",
       "      <td>-18,517017</td>\n",
       "      <td>-39,913296</td>\n",
       "      <td>SR-ES</td>\n",
       "      <td>DEL12/4</td>\n",
       "      <td>UOP02/ES</td>\n",
       "    </tr>\n",
       "    <tr>\n",
       "      <th>...</th>\n",
       "      <td>...</td>\n",
       "      <td>...</td>\n",
       "      <td>...</td>\n",
       "      <td>...</td>\n",
       "      <td>...</td>\n",
       "      <td>...</td>\n",
       "      <td>...</td>\n",
       "      <td>...</td>\n",
       "      <td>...</td>\n",
       "      <td>...</td>\n",
       "      <td>...</td>\n",
       "      <td>...</td>\n",
       "      <td>...</td>\n",
       "      <td>...</td>\n",
       "      <td>...</td>\n",
       "      <td>...</td>\n",
       "      <td>...</td>\n",
       "      <td>...</td>\n",
       "      <td>...</td>\n",
       "      <td>...</td>\n",
       "      <td>...</td>\n",
       "    </tr>\n",
       "    <tr>\n",
       "      <th>69103</th>\n",
       "      <td>213451.0</td>\n",
       "      <td>2018-10-23</td>\n",
       "      <td>terça-feira</td>\n",
       "      <td>03:30:00</td>\n",
       "      <td>ES</td>\n",
       "      <td>393.0</td>\n",
       "      <td>7</td>\n",
       "      <td>CACHOEIRO DE ITAPEMIRIM</td>\n",
       "      <td>Animais na Pista</td>\n",
       "      <td>Tombamento</td>\n",
       "      <td>...</td>\n",
       "      <td>0</td>\n",
       "      <td>0</td>\n",
       "      <td>0</td>\n",
       "      <td>1</td>\n",
       "      <td>1</td>\n",
       "      <td>-20,83382573</td>\n",
       "      <td>-41,22671127</td>\n",
       "      <td>SR-ES</td>\n",
       "      <td>DEL12/3</td>\n",
       "      <td>UOP02/ES</td>\n",
       "    </tr>\n",
       "    <tr>\n",
       "      <th>69123</th>\n",
       "      <td>215224.0</td>\n",
       "      <td>2018-04-05</td>\n",
       "      <td>quinta-feira</td>\n",
       "      <td>17:00:00</td>\n",
       "      <td>ES</td>\n",
       "      <td>101.0</td>\n",
       "      <td>270,6</td>\n",
       "      <td>SERRA</td>\n",
       "      <td>Falta de Atenção à Condução</td>\n",
       "      <td>Colisão lateral</td>\n",
       "      <td>...</td>\n",
       "      <td>0</td>\n",
       "      <td>1</td>\n",
       "      <td>0</td>\n",
       "      <td>1</td>\n",
       "      <td>2</td>\n",
       "      <td>-20,23</td>\n",
       "      <td>-40,273</td>\n",
       "      <td>SR-ES</td>\n",
       "      <td>DEL12/2</td>\n",
       "      <td>UOP01/ES</td>\n",
       "    </tr>\n",
       "    <tr>\n",
       "      <th>69138</th>\n",
       "      <td>218129.0</td>\n",
       "      <td>2018-08-05</td>\n",
       "      <td>domingo</td>\n",
       "      <td>08:50:00</td>\n",
       "      <td>ES</td>\n",
       "      <td>101.0</td>\n",
       "      <td>271,2</td>\n",
       "      <td>SERRA</td>\n",
       "      <td>Falta de Atenção à Condução</td>\n",
       "      <td>Colisão traseira</td>\n",
       "      <td>...</td>\n",
       "      <td>0</td>\n",
       "      <td>2</td>\n",
       "      <td>0</td>\n",
       "      <td>0</td>\n",
       "      <td>2</td>\n",
       "      <td>-20,22712702</td>\n",
       "      <td>-40,28434932</td>\n",
       "      <td>SR-ES</td>\n",
       "      <td>DEL12/2</td>\n",
       "      <td>UOP01/ES</td>\n",
       "    </tr>\n",
       "    <tr>\n",
       "      <th>69221</th>\n",
       "      <td>234111.0</td>\n",
       "      <td>2018-06-25</td>\n",
       "      <td>segunda-feira</td>\n",
       "      <td>19:00:00</td>\n",
       "      <td>ES</td>\n",
       "      <td>101.0</td>\n",
       "      <td>292</td>\n",
       "      <td>CARIACICA</td>\n",
       "      <td>Falta de Atenção à Condução</td>\n",
       "      <td>Colisão traseira</td>\n",
       "      <td>...</td>\n",
       "      <td>0</td>\n",
       "      <td>1</td>\n",
       "      <td>0</td>\n",
       "      <td>2</td>\n",
       "      <td>2</td>\n",
       "      <td>-20,30650512</td>\n",
       "      <td>-40,39488717</td>\n",
       "      <td>SR-ES</td>\n",
       "      <td>DEL12/1</td>\n",
       "      <td>UOP01/ES</td>\n",
       "    </tr>\n",
       "    <tr>\n",
       "      <th>69251</th>\n",
       "      <td>240085.0</td>\n",
       "      <td>2018-03-21</td>\n",
       "      <td>quarta-feira</td>\n",
       "      <td>06:30:00</td>\n",
       "      <td>ES</td>\n",
       "      <td>101.0</td>\n",
       "      <td>263,1</td>\n",
       "      <td>SERRA</td>\n",
       "      <td>Não guardar distância de segurança</td>\n",
       "      <td>Colisão traseira</td>\n",
       "      <td>...</td>\n",
       "      <td>1</td>\n",
       "      <td>1</td>\n",
       "      <td>0</td>\n",
       "      <td>3</td>\n",
       "      <td>2</td>\n",
       "      <td>-20,10199943</td>\n",
       "      <td>-40,3452301</td>\n",
       "      <td>SR-ES</td>\n",
       "      <td>DEL12/2</td>\n",
       "      <td>UOP01/ES</td>\n",
       "    </tr>\n",
       "  </tbody>\n",
       "</table>\n",
       "<p>2642 rows × 30 columns</p>\n",
       "</div>"
      ],
      "text/plain": [
       "             id data_inversa     dia_semana   horario  uf     br     km  \\\n",
       "100    100090.0   2018-01-01  segunda-feira  15:40:00  ES  262.0  121,3   \n",
       "107    100098.0   2018-01-01  segunda-feira  16:00:00  ES  101.0    204   \n",
       "115    100108.0   2018-01-01  segunda-feira  16:30:00  ES  101.0  307,5   \n",
       "119    100112.0   2018-01-01  segunda-feira  16:00:00  ES  101.0    428   \n",
       "204    100210.0   2018-01-02    terça-feira  00:38:00  ES  101.0     42   \n",
       "...         ...          ...            ...       ...  ..    ...    ...   \n",
       "69103  213451.0   2018-10-23    terça-feira  03:30:00  ES  393.0      7   \n",
       "69123  215224.0   2018-04-05   quinta-feira  17:00:00  ES  101.0  270,6   \n",
       "69138  218129.0   2018-08-05        domingo  08:50:00  ES  101.0  271,2   \n",
       "69221  234111.0   2018-06-25  segunda-feira  19:00:00  ES  101.0    292   \n",
       "69251  240085.0   2018-03-21   quarta-feira  06:30:00  ES  101.0  263,1   \n",
       "\n",
       "                     municipio                      causa_acidente  \\\n",
       "100       CONCEICAO DO CASTELO              Ultrapassagem Indevida   \n",
       "107                 JOAO NEIVA         Falta de Atenção à Condução   \n",
       "115                 VILA VELHA             Velocidade Incompatível   \n",
       "119            ATILIO VIVACQUA               Fenômenos da Natureza   \n",
       "204         CONCEICAO DA BARRA           Restrição de Visibilidade   \n",
       "...                        ...                                 ...   \n",
       "69103  CACHOEIRO DE ITAPEMIRIM                    Animais na Pista   \n",
       "69123                    SERRA         Falta de Atenção à Condução   \n",
       "69138                    SERRA         Falta de Atenção à Condução   \n",
       "69221                CARIACICA         Falta de Atenção à Condução   \n",
       "69251                    SERRA  Não guardar distância de segurança   \n",
       "\n",
       "                      tipo_acidente  ... feridos_graves ilesos ignorados  \\\n",
       "100             Colisão transversal  ...              0      2         1   \n",
       "107                Colisão traseira  ...              0      3         0   \n",
       "115       Saída de leito carroçável  ...              0      1         0   \n",
       "119    Queda de ocupante de veículo  ...              0      0         0   \n",
       "204                 Colisão lateral  ...              0      1         0   \n",
       "...                             ...  ...            ...    ...       ...   \n",
       "69103                    Tombamento  ...              0      0         0   \n",
       "69123               Colisão lateral  ...              0      1         0   \n",
       "69138              Colisão traseira  ...              0      2         0   \n",
       "69221              Colisão traseira  ...              0      1         0   \n",
       "69251              Colisão traseira  ...              1      1         0   \n",
       "\n",
       "      feridos veiculos      latitude     longitude  regional  delegacia  \\\n",
       "100         5        4  -20,29375747  -41,23261549     SR-ES    DEL12/1   \n",
       "107         1        4  -19,74757427  -40,37750512     SR-ES    DEL12/2   \n",
       "115         3        1  -20,40288592   -40,4556486     SR-ES    DEL12/3   \n",
       "119         2        1     -20,91465     -41,19869     SR-ES    DEL12/3   \n",
       "204         6        2    -18,517017    -39,913296     SR-ES    DEL12/4   \n",
       "...       ...      ...           ...           ...       ...        ...   \n",
       "69103       1        1  -20,83382573  -41,22671127     SR-ES    DEL12/3   \n",
       "69123       1        2        -20,23       -40,273     SR-ES    DEL12/2   \n",
       "69138       0        2  -20,22712702  -40,28434932     SR-ES    DEL12/2   \n",
       "69221       2        2  -20,30650512  -40,39488717     SR-ES    DEL12/1   \n",
       "69251       3        2  -20,10199943   -40,3452301     SR-ES    DEL12/2   \n",
       "\n",
       "            uop  \n",
       "100    UOP02/ES  \n",
       "107    UOP01/ES  \n",
       "115    UOP01/ES  \n",
       "119    UOP02/ES  \n",
       "204    UOP02/ES  \n",
       "...         ...  \n",
       "69103  UOP02/ES  \n",
       "69123  UOP01/ES  \n",
       "69138  UOP01/ES  \n",
       "69221  UOP01/ES  \n",
       "69251  UOP01/ES  \n",
       "\n",
       "[2642 rows x 30 columns]"
      ]
     },
     "execution_count": 11,
     "metadata": {},
     "output_type": "execute_result"
    }
   ],
   "source": [
    "data"
   ]
  },
  {
   "cell_type": "markdown",
   "metadata": {},
   "source": [
    "# Listando Causa dos acidentes"
   ]
  },
  {
   "cell_type": "code",
   "execution_count": 12,
   "metadata": {
    "ExecuteTime": {
     "end_time": "2021-01-06T21:48:29.116767Z",
     "start_time": "2021-01-06T21:48:29.098767Z"
    }
   },
   "outputs": [
    {
     "data": {
      "text/plain": [
       "Falta de Atenção à Condução                                                       1108\n",
       "Desobediência às normas de trânsito pelo condutor                                  377\n",
       "Velocidade Incompatível                                                            207\n",
       "Ingestão de Álcool                                                                 159\n",
       "Não guardar distância de segurança                                                 149\n",
       "Defeito Mecânico no Veículo                                                        129\n",
       "Falta de Atenção do Pedestre                                                        92\n",
       "Pista Escorregadia                                                                  78\n",
       "Condutor Dormindo                                                                   73\n",
       "Ultrapassagem Indevida                                                              48\n",
       "Animais na Pista                                                                    36\n",
       "Avarias e/ou desgaste excessivo no pneu                                             35\n",
       "Defeito na Via                                                                      31\n",
       "Mal Súbito                                                                          24\n",
       "Objeto estático sobre o leito carroçável                                            17\n",
       "Carga excessiva e/ou mal acondicionada                                              14\n",
       "Desobediência às normas de trânsito pelo pedestre                                   14\n",
       "Restrição de Visibilidade                                                           13\n",
       "Agressão Externa                                                                    13\n",
       "Fenômenos da Natureza                                                                8\n",
       "Ingestão de Substâncias Psicoativas                                                  6\n",
       "Ingestão de álcool e/ou substâncias psicoativas pelo pedestre                        4\n",
       "Deficiência ou não Acionamento do Sistema de Iluminação/Sinalização do Veículo       4\n",
       "Sinalização da via insuficiente ou inadequada                                        3\n",
       "Name: causa_acidente, dtype: int64"
      ]
     },
     "execution_count": 12,
     "metadata": {},
     "output_type": "execute_result"
    }
   ],
   "source": [
    "data['causa_acidente'].value_counts()"
   ]
  },
  {
   "cell_type": "code",
   "execution_count": null,
   "metadata": {},
   "outputs": [],
   "source": []
  }
 ],
 "metadata": {
  "kernelspec": {
   "display_name": "Python 3",
   "language": "python",
   "name": "python3"
  },
  "language_info": {
   "codemirror_mode": {
    "name": "ipython",
    "version": 3
   },
   "file_extension": ".py",
   "mimetype": "text/x-python",
   "name": "python",
   "nbconvert_exporter": "python",
   "pygments_lexer": "ipython3",
   "version": "3.7.4"
  }
 },
 "nbformat": 4,
 "nbformat_minor": 4
}
