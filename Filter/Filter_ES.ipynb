{
 "cells": [
  {
   "cell_type": "markdown",
   "metadata": {},
   "source": [
    "# Filtro de dados de acordo com o estado do Espírito Santo\n",
    "A filtragem é para utilizar apenas dados do Espírito Santo.<br>\n",
    "Algumas colunas consideradas irrelevantes também são removidas."
   ]
  },
  {
   "cell_type": "markdown",
   "metadata": {
    "heading_collapsed": true
   },
   "source": [
    "# Biblioteca"
   ]
  },
  {
   "cell_type": "code",
   "execution_count": 1,
   "metadata": {
    "ExecuteTime": {
     "end_time": "2021-11-12T03:42:52.002009Z",
     "start_time": "2021-11-12T03:42:49.503510Z"
    },
    "hidden": true
   },
   "outputs": [],
   "source": [
    "import pandas as pd"
   ]
  },
  {
   "cell_type": "markdown",
   "metadata": {},
   "source": [
    "# Carregamento de dados"
   ]
  },
  {
   "cell_type": "code",
   "execution_count": 2,
   "metadata": {
    "ExecuteTime": {
     "end_time": "2021-11-12T03:42:52.033013Z",
     "start_time": "2021-11-12T03:42:52.011016Z"
    }
   },
   "outputs": [],
   "source": [
    "endereco = '../BaseDados/'\n",
    "# nomeArq = 'acidentes2019_todas_causas_tipos'\n",
    "# endereco2 = 'Todas_Causas_Tipos/'\n",
    "# endereco2 = 'Agrupado_Pessoa/'\n",
    "endereco2 = 'Agrupado_Ocorrencia/'\n",
    "nomeArq = 'datatran2018'"
   ]
  },
  {
   "cell_type": "code",
   "execution_count": 3,
   "metadata": {
    "ExecuteTime": {
     "end_time": "2021-11-12T03:42:52.864012Z",
     "start_time": "2021-11-12T03:42:52.048014Z"
    }
   },
   "outputs": [],
   "source": [
    "data = pd.read_csv(endereco + endereco2 + nomeArq +'.csv', encoding='ISO-8859-1', sep=';')"
   ]
  },
  {
   "cell_type": "markdown",
   "metadata": {},
   "source": [
    "# Seleciona apenas linhas do ES"
   ]
  },
  {
   "cell_type": "code",
   "execution_count": 4,
   "metadata": {
    "ExecuteTime": {
     "end_time": "2021-11-12T03:42:52.896011Z",
     "start_time": "2021-11-12T03:42:52.867010Z"
    },
    "scrolled": true
   },
   "outputs": [
    {
     "data": {
      "text/plain": [
       "(69295, 30)"
      ]
     },
     "execution_count": 4,
     "metadata": {},
     "output_type": "execute_result"
    }
   ],
   "source": [
    "data.shape"
   ]
  },
  {
   "cell_type": "code",
   "execution_count": 5,
   "metadata": {
    "ExecuteTime": {
     "end_time": "2021-11-12T03:42:53.008017Z",
     "start_time": "2021-11-12T03:42:52.899013Z"
    },
    "code_folding": []
   },
   "outputs": [],
   "source": [
    "#Inicialmente faço a remoção de todos Estados diferentes do ES\n",
    "data = data.drop(data[data['uf'] != 'ES'].index)"
   ]
  },
  {
   "cell_type": "code",
   "execution_count": 6,
   "metadata": {
    "ExecuteTime": {
     "end_time": "2021-11-12T03:42:53.024018Z",
     "start_time": "2021-11-12T03:42:53.012011Z"
    },
    "scrolled": true
   },
   "outputs": [
    {
     "data": {
      "text/plain": [
       "(2642, 30)"
      ]
     },
     "execution_count": 6,
     "metadata": {},
     "output_type": "execute_result"
    }
   ],
   "source": [
    "data.shape"
   ]
  },
  {
   "cell_type": "markdown",
   "metadata": {
    "ExecuteTime": {
     "end_time": "2020-12-24T19:03:26.288809Z",
     "start_time": "2020-12-24T19:03:26.283763Z"
    }
   },
   "source": [
    "# Análise e Remoção de atributos NULOS"
   ]
  },
  {
   "cell_type": "code",
   "execution_count": 7,
   "metadata": {
    "ExecuteTime": {
     "end_time": "2021-11-12T03:42:53.058022Z",
     "start_time": "2021-11-12T03:42:53.029014Z"
    }
   },
   "outputs": [],
   "source": [
    "#Gera um arquivo .txt com a quantidade de atributos nulos por coluna\n",
    "data.isnull().sum().to_csv('QtdNullAtributos_' + nomeArq + '.csv', sep=';')"
   ]
  },
  {
   "cell_type": "code",
   "execution_count": 8,
   "metadata": {
    "ExecuteTime": {
     "end_time": "2021-11-12T03:42:53.088012Z",
     "start_time": "2021-11-12T03:42:53.064017Z"
    },
    "scrolled": false
   },
   "outputs": [
    {
     "data": {
      "text/plain": [
       "id                        0\n",
       "data_inversa              0\n",
       "dia_semana                0\n",
       "horario                   0\n",
       "uf                        0\n",
       "br                        2\n",
       "km                        2\n",
       "municipio                 0\n",
       "causa_acidente            0\n",
       "tipo_acidente             0\n",
       "classificacao_acidente    0\n",
       "fase_dia                  0\n",
       "sentido_via               0\n",
       "condicao_metereologica    0\n",
       "tipo_pista                0\n",
       "tracado_via               0\n",
       "uso_solo                  0\n",
       "pessoas                   0\n",
       "mortos                    0\n",
       "feridos_leves             0\n",
       "feridos_graves            0\n",
       "ilesos                    0\n",
       "ignorados                 0\n",
       "feridos                   0\n",
       "veiculos                  0\n",
       "latitude                  0\n",
       "longitude                 0\n",
       "regional                  0\n",
       "delegacia                 0\n",
       "uop                       0\n",
       "dtype: int64"
      ]
     },
     "execution_count": 8,
     "metadata": {},
     "output_type": "execute_result"
    }
   ],
   "source": [
    "data.isnull().sum()"
   ]
  },
  {
   "cell_type": "code",
   "execution_count": 35,
   "metadata": {
    "ExecuteTime": {
     "end_time": "2021-11-12T04:12:51.245517Z",
     "start_time": "2021-11-12T04:12:51.166518Z"
    }
   },
   "outputs": [
    {
     "data": {
      "text/html": [
       "<div>\n",
       "<style scoped>\n",
       "    .dataframe tbody tr th:only-of-type {\n",
       "        vertical-align: middle;\n",
       "    }\n",
       "\n",
       "    .dataframe tbody tr th {\n",
       "        vertical-align: top;\n",
       "    }\n",
       "\n",
       "    .dataframe thead th {\n",
       "        text-align: right;\n",
       "    }\n",
       "</style>\n",
       "<table border=\"1\" class=\"dataframe\">\n",
       "  <thead>\n",
       "    <tr style=\"text-align: right;\">\n",
       "      <th></th>\n",
       "      <th>id</th>\n",
       "      <th>data_inversa</th>\n",
       "      <th>dia_semana</th>\n",
       "      <th>horario</th>\n",
       "      <th>br</th>\n",
       "      <th>km</th>\n",
       "      <th>municipio</th>\n",
       "      <th>causa_acidente</th>\n",
       "      <th>tipo_acidente</th>\n",
       "      <th>classificacao_acidente</th>\n",
       "      <th>...</th>\n",
       "      <th>pessoas</th>\n",
       "      <th>mortos</th>\n",
       "      <th>feridos_leves</th>\n",
       "      <th>feridos_graves</th>\n",
       "      <th>ilesos</th>\n",
       "      <th>ignorados</th>\n",
       "      <th>feridos</th>\n",
       "      <th>veiculos</th>\n",
       "      <th>latitude</th>\n",
       "      <th>longitude</th>\n",
       "    </tr>\n",
       "  </thead>\n",
       "  <tbody>\n",
       "    <tr>\n",
       "      <th>24073</th>\n",
       "      <td>130542.0</td>\n",
       "      <td>2018-04-27</td>\n",
       "      <td>sexta-feira</td>\n",
       "      <td>14:45:00</td>\n",
       "      <td>NaN</td>\n",
       "      <td>NaN</td>\n",
       "      <td>CARIACICA</td>\n",
       "      <td>Não guardar distância de segurança</td>\n",
       "      <td>Colisão traseira</td>\n",
       "      <td>Com Vítimas Feridas</td>\n",
       "      <td>...</td>\n",
       "      <td>3</td>\n",
       "      <td>0</td>\n",
       "      <td>1</td>\n",
       "      <td>1</td>\n",
       "      <td>1</td>\n",
       "      <td>0</td>\n",
       "      <td>2</td>\n",
       "      <td>2</td>\n",
       "      <td>-20,3297645</td>\n",
       "      <td>-40,3981661</td>\n",
       "    </tr>\n",
       "    <tr>\n",
       "      <th>54071</th>\n",
       "      <td>165685.0</td>\n",
       "      <td>2018-10-15</td>\n",
       "      <td>segunda-feira</td>\n",
       "      <td>18:00:00</td>\n",
       "      <td>NaN</td>\n",
       "      <td>NaN</td>\n",
       "      <td>ITAPEMIRIM</td>\n",
       "      <td>Velocidade Incompatível</td>\n",
       "      <td>Colisão lateral</td>\n",
       "      <td>Com Vítimas Feridas</td>\n",
       "      <td>...</td>\n",
       "      <td>2</td>\n",
       "      <td>0</td>\n",
       "      <td>0</td>\n",
       "      <td>1</td>\n",
       "      <td>1</td>\n",
       "      <td>0</td>\n",
       "      <td>1</td>\n",
       "      <td>2</td>\n",
       "      <td>-20,92793294</td>\n",
       "      <td>-41,07942581</td>\n",
       "    </tr>\n",
       "  </tbody>\n",
       "</table>\n",
       "<p>2 rows × 26 columns</p>\n",
       "</div>"
      ],
      "text/plain": [
       "             id data_inversa     dia_semana   horario  br   km   municipio  \\\n",
       "24073  130542.0   2018-04-27    sexta-feira  14:45:00 NaN  NaN   CARIACICA   \n",
       "54071  165685.0   2018-10-15  segunda-feira  18:00:00 NaN  NaN  ITAPEMIRIM   \n",
       "\n",
       "                           causa_acidente     tipo_acidente  \\\n",
       "24073  Não guardar distância de segurança  Colisão traseira   \n",
       "54071             Velocidade Incompatível   Colisão lateral   \n",
       "\n",
       "      classificacao_acidente  ... pessoas mortos feridos_leves feridos_graves  \\\n",
       "24073    Com Vítimas Feridas  ...       3      0             1              1   \n",
       "54071    Com Vítimas Feridas  ...       2      0             0              1   \n",
       "\n",
       "      ilesos ignorados  feridos  veiculos      latitude     longitude  \n",
       "24073      1         0        2         2   -20,3297645   -40,3981661  \n",
       "54071      1         0        1         2  -20,92793294  -41,07942581  \n",
       "\n",
       "[2 rows x 26 columns]"
      ]
     },
     "execution_count": 35,
     "metadata": {},
     "output_type": "execute_result"
    }
   ],
   "source": [
    "data[data.isnull().any(axis=1)]"
   ]
  },
  {
   "cell_type": "markdown",
   "metadata": {},
   "source": [
    "# Remoção da coluna UF,REGIONAL, DELEGACIA e UOP."
   ]
  },
  {
   "cell_type": "code",
   "execution_count": 9,
   "metadata": {
    "ExecuteTime": {
     "end_time": "2021-11-12T03:42:53.119011Z",
     "start_time": "2021-11-12T03:42:53.097013Z"
    }
   },
   "outputs": [
    {
     "data": {
      "text/plain": [
       "SR-ES    2642\n",
       "Name: regional, dtype: int64"
      ]
     },
     "execution_count": 9,
     "metadata": {},
     "output_type": "execute_result"
    }
   ],
   "source": [
    "data['regional'].value_counts()"
   ]
  },
  {
   "cell_type": "code",
   "execution_count": 10,
   "metadata": {
    "ExecuteTime": {
     "end_time": "2021-11-12T03:42:53.167011Z",
     "start_time": "2021-11-12T03:42:53.132026Z"
    }
   },
   "outputs": [
    {
     "data": {
      "text/plain": [
       "ES    2642\n",
       "Name: uf, dtype: int64"
      ]
     },
     "execution_count": 10,
     "metadata": {},
     "output_type": "execute_result"
    }
   ],
   "source": [
    "data['uf'].value_counts()"
   ]
  },
  {
   "cell_type": "code",
   "execution_count": 11,
   "metadata": {
    "ExecuteTime": {
     "end_time": "2021-11-12T03:42:53.214011Z",
     "start_time": "2021-11-12T03:42:53.170013Z"
    }
   },
   "outputs": [],
   "source": [
    "# Remoção dessas colunas, pq as instâncias dessas colunas são iguais em todas linhas\n",
    "colRemove = ['uf', 'regional', 'delegacia', 'uop']\n",
    "\n",
    "#Percorre o vetor removendo esses elementos existentes no dataset\n",
    "for coluna in colRemove:\n",
    "    data.drop(coluna, inplace=True, axis=1)"
   ]
  },
  {
   "cell_type": "markdown",
   "metadata": {},
   "source": [
    "# Salvando o dataframe"
   ]
  },
  {
   "cell_type": "code",
   "execution_count": 12,
   "metadata": {
    "ExecuteTime": {
     "end_time": "2021-11-12T03:42:53.246012Z",
     "start_time": "2021-11-12T03:42:53.225009Z"
    }
   },
   "outputs": [],
   "source": [
    "# data.to_csv( '../Deploy/' +'ES_' + nomeArq + '.csv', encoding='ISO-8859-1', sep=';', index=False)"
   ]
  },
  {
   "cell_type": "code",
   "execution_count": 13,
   "metadata": {
    "ExecuteTime": {
     "end_time": "2021-11-12T03:42:53.263016Z",
     "start_time": "2021-11-12T03:42:53.252012Z"
    }
   },
   "outputs": [],
   "source": [
    "# Aqui é gerado um novo arquivo na qual contém os resultados aplicados\n",
    "# data.to_csv( '../BaseDadosSelecionados/' +'ES_' + nomeArq + '.csv', encoding='ISO-8859-1', sep=';', index=False)"
   ]
  },
  {
   "cell_type": "markdown",
   "metadata": {},
   "source": [
    "# Listando Causa dos acidentes"
   ]
  },
  {
   "cell_type": "code",
   "execution_count": 14,
   "metadata": {
    "ExecuteTime": {
     "end_time": "2021-11-12T03:42:53.295013Z",
     "start_time": "2021-11-12T03:42:53.267013Z"
    }
   },
   "outputs": [
    {
     "data": {
      "text/plain": [
       "Falta de Atenção à Condução                                                       1108\n",
       "Desobediência às normas de trânsito pelo condutor                                  377\n",
       "Velocidade Incompatível                                                            207\n",
       "Ingestão de Álcool                                                                 159\n",
       "Não guardar distância de segurança                                                 149\n",
       "Defeito Mecânico no Veículo                                                        129\n",
       "Falta de Atenção do Pedestre                                                        92\n",
       "Pista Escorregadia                                                                  78\n",
       "Condutor Dormindo                                                                   73\n",
       "Ultrapassagem Indevida                                                              48\n",
       "Animais na Pista                                                                    36\n",
       "Avarias e/ou desgaste excessivo no pneu                                             35\n",
       "Defeito na Via                                                                      31\n",
       "Mal Súbito                                                                          24\n",
       "Objeto estático sobre o leito carroçável                                            17\n",
       "Desobediência às normas de trânsito pelo pedestre                                   14\n",
       "Carga excessiva e/ou mal acondicionada                                              14\n",
       "Restrição de Visibilidade                                                           13\n",
       "Agressão Externa                                                                    13\n",
       "Fenômenos da Natureza                                                                8\n",
       "Ingestão de Substâncias Psicoativas                                                  6\n",
       "Deficiência ou não Acionamento do Sistema de Iluminação/Sinalização do Veículo       4\n",
       "Ingestão de álcool e/ou substâncias psicoativas pelo pedestre                        4\n",
       "Sinalização da via insuficiente ou inadequada                                        3\n",
       "Name: causa_acidente, dtype: int64"
      ]
     },
     "execution_count": 14,
     "metadata": {},
     "output_type": "execute_result"
    }
   ],
   "source": [
    "data['causa_acidente'].value_counts()"
   ]
  }
 ],
 "metadata": {
  "kernelspec": {
   "display_name": "Python 3",
   "language": "python",
   "name": "python3"
  },
  "language_info": {
   "codemirror_mode": {
    "name": "ipython",
    "version": 3
   },
   "file_extension": ".py",
   "mimetype": "text/x-python",
   "name": "python",
   "nbconvert_exporter": "python",
   "pygments_lexer": "ipython3",
   "version": "3.8.5"
  }
 },
 "nbformat": 4,
 "nbformat_minor": 4
}
