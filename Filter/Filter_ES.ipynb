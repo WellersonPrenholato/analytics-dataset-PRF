{
 "cells": [
  {
   "cell_type": "markdown",
   "metadata": {
    "heading_collapsed": true
   },
   "source": [
    "# Biblioteca"
   ]
  },
  {
   "cell_type": "code",
   "execution_count": 31,
   "metadata": {
    "ExecuteTime": {
     "end_time": "2021-03-11T18:50:58.501184Z",
     "start_time": "2021-03-11T18:50:58.496182Z"
    },
    "hidden": true
   },
   "outputs": [],
   "source": [
    "import pandas as pd"
   ]
  },
  {
   "cell_type": "markdown",
   "metadata": {},
   "source": [
    "# Carregamento de dados"
   ]
  },
  {
   "cell_type": "code",
   "execution_count": 32,
   "metadata": {
    "ExecuteTime": {
     "end_time": "2021-03-11T18:50:58.532428Z",
     "start_time": "2021-03-11T18:50:58.509441Z"
    }
   },
   "outputs": [],
   "source": [
    "endereco = '../BaseDados/'\n",
    "# nomeArq = 'acidentes2019_todas_causas_tipos'\n",
    "# endereco2 = 'Todas_Causas_Tipos/'\n",
    "# endereco2 = 'Agrupado_Pessoa/'\n",
    "endereco2 = 'Agrupado_Ocorrencia/'\n",
    "nomeArq = 'datatran2019'"
   ]
  },
  {
   "cell_type": "code",
   "execution_count": 33,
   "metadata": {
    "ExecuteTime": {
     "end_time": "2021-03-11T18:50:59.233809Z",
     "start_time": "2021-03-11T18:50:58.537426Z"
    }
   },
   "outputs": [],
   "source": [
    "data = pd.read_csv(endereco + endereco2 + nomeArq +'.csv', encoding='ISO-8859-1', sep=';')"
   ]
  },
  {
   "cell_type": "markdown",
   "metadata": {
    "heading_collapsed": true
   },
   "source": [
    "# Seleciona apenas linhas do ES"
   ]
  },
  {
   "cell_type": "code",
   "execution_count": 34,
   "metadata": {
    "ExecuteTime": {
     "end_time": "2021-03-11T18:50:59.249802Z",
     "start_time": "2021-03-11T18:50:59.237807Z"
    },
    "hidden": true,
    "scrolled": true
   },
   "outputs": [
    {
     "data": {
      "text/plain": [
       "(67446, 30)"
      ]
     },
     "execution_count": 34,
     "metadata": {},
     "output_type": "execute_result"
    }
   ],
   "source": [
    "data.shape"
   ]
  },
  {
   "cell_type": "code",
   "execution_count": 35,
   "metadata": {
    "ExecuteTime": {
     "end_time": "2021-03-11T18:50:59.359906Z",
     "start_time": "2021-03-11T18:50:59.254797Z"
    },
    "code_folding": [],
    "hidden": true
   },
   "outputs": [],
   "source": [
    "#Inicialmente faço a remoção de todos Estados diferentes do ES\n",
    "data = data.drop(data[data['uf'] != 'ES'].index)"
   ]
  },
  {
   "cell_type": "code",
   "execution_count": 36,
   "metadata": {
    "ExecuteTime": {
     "end_time": "2021-03-11T18:50:59.375852Z",
     "start_time": "2021-03-11T18:50:59.362862Z"
    },
    "hidden": true,
    "scrolled": true
   },
   "outputs": [
    {
     "data": {
      "text/plain": [
       "(2842, 30)"
      ]
     },
     "execution_count": 36,
     "metadata": {},
     "output_type": "execute_result"
    }
   ],
   "source": [
    "data.shape"
   ]
  },
  {
   "cell_type": "markdown",
   "metadata": {
    "ExecuteTime": {
     "end_time": "2020-12-24T19:03:26.288809Z",
     "start_time": "2020-12-24T19:03:26.283763Z"
    },
    "heading_collapsed": true
   },
   "source": [
    "# Análise e Remoção de atributos NULOS"
   ]
  },
  {
   "cell_type": "code",
   "execution_count": 37,
   "metadata": {
    "ExecuteTime": {
     "end_time": "2021-03-11T18:50:59.439303Z",
     "start_time": "2021-03-11T18:50:59.377854Z"
    },
    "hidden": true
   },
   "outputs": [],
   "source": [
    "#Gera um arquivo .txt com a quantidade de atributos nulos por coluna\n",
    "data.isnull().sum().to_csv('QtdNullAtributos_' + nomeArq + '.csv', sep=';')"
   ]
  },
  {
   "cell_type": "code",
   "execution_count": 38,
   "metadata": {
    "ExecuteTime": {
     "end_time": "2021-03-11T18:50:59.454719Z",
     "start_time": "2021-03-11T18:50:59.442726Z"
    },
    "hidden": true,
    "scrolled": true
   },
   "outputs": [],
   "source": [
    "# data.isnull().sum()"
   ]
  },
  {
   "cell_type": "markdown",
   "metadata": {},
   "source": [
    "# Remoção da coluna UF,REGIONAL, DELEGACIA e UOP."
   ]
  },
  {
   "cell_type": "code",
   "execution_count": 39,
   "metadata": {
    "ExecuteTime": {
     "end_time": "2021-03-11T18:50:59.486715Z",
     "start_time": "2021-03-11T18:50:59.459716Z"
    }
   },
   "outputs": [
    {
     "data": {
      "text/plain": [
       "SR-ES    2842\n",
       "Name: regional, dtype: int64"
      ]
     },
     "execution_count": 39,
     "metadata": {},
     "output_type": "execute_result"
    }
   ],
   "source": [
    "data['regional'].value_counts()"
   ]
  },
  {
   "cell_type": "code",
   "execution_count": 40,
   "metadata": {
    "ExecuteTime": {
     "end_time": "2021-03-11T18:50:59.518697Z",
     "start_time": "2021-03-11T18:50:59.490712Z"
    }
   },
   "outputs": [
    {
     "data": {
      "text/plain": [
       "ES    2842\n",
       "Name: uf, dtype: int64"
      ]
     },
     "execution_count": 40,
     "metadata": {},
     "output_type": "execute_result"
    }
   ],
   "source": [
    "data['uf'].value_counts()"
   ]
  },
  {
   "cell_type": "code",
   "execution_count": 41,
   "metadata": {
    "ExecuteTime": {
     "end_time": "2021-03-11T18:50:59.552702Z",
     "start_time": "2021-03-11T18:50:59.521695Z"
    }
   },
   "outputs": [],
   "source": [
    "# Remoção dessas colunas, pq as instâncias dessas colunas são iguais em todas linhas\n",
    "colRemove = ['uf', 'regional', 'delegacia', 'uop']\n",
    "\n",
    "#Percorre o vetor removendo esses elementos existentes no dataset\n",
    "for coluna in colRemove:\n",
    "    data.drop(coluna, inplace=True, axis=1)"
   ]
  },
  {
   "cell_type": "markdown",
   "metadata": {},
   "source": [
    "# Salvando o dataframe"
   ]
  },
  {
   "cell_type": "code",
   "execution_count": 42,
   "metadata": {
    "ExecuteTime": {
     "end_time": "2021-03-11T18:50:59.565697Z",
     "start_time": "2021-03-11T18:50:59.557702Z"
    }
   },
   "outputs": [],
   "source": [
    "# data.to_csv( '../Deploy/' +'ES_' + nomeArq + '.csv', encoding='ISO-8859-1', sep=';', index=False)"
   ]
  },
  {
   "cell_type": "code",
   "execution_count": 43,
   "metadata": {
    "ExecuteTime": {
     "end_time": "2021-03-11T18:50:59.641818Z",
     "start_time": "2021-03-11T18:50:59.569694Z"
    }
   },
   "outputs": [],
   "source": [
    "# Aqui é gerado um novo arquivo na qual contém os resultados aplicados\n",
    "data.to_csv( '../BaseDadosSelecionados/' +'ES_' + nomeArq + '.csv', encoding='ISO-8859-1', sep=';', index=False)"
   ]
  },
  {
   "cell_type": "code",
   "execution_count": 44,
   "metadata": {
    "ExecuteTime": {
     "end_time": "2021-03-11T18:50:59.657812Z",
     "start_time": "2021-03-11T18:50:59.644819Z"
    },
    "scrolled": false
   },
   "outputs": [],
   "source": [
    "# data"
   ]
  },
  {
   "cell_type": "markdown",
   "metadata": {},
   "source": [
    "# Listando Causa dos acidentes"
   ]
  },
  {
   "cell_type": "code",
   "execution_count": 45,
   "metadata": {
    "ExecuteTime": {
     "end_time": "2021-03-11T18:50:59.720798Z",
     "start_time": "2021-03-11T18:50:59.660810Z"
    }
   },
   "outputs": [
    {
     "data": {
      "text/plain": [
       "Falta de Atenção à Condução                                                       1148\n",
       "Desobediência às normas de trânsito pelo condutor                                  479\n",
       "Não guardar distância de segurança                                                 182\n",
       "Velocidade Incompatível                                                            180\n",
       "Ingestão de Álcool                                                                 175\n",
       "Defeito Mecânico no Veículo                                                        141\n",
       "Falta de Atenção do Pedestre                                                       105\n",
       "Condutor Dormindo                                                                   80\n",
       "Pista Escorregadia                                                                  65\n",
       "Animais na Pista                                                                    49\n",
       "Ultrapassagem Indevida                                                              40\n",
       "Mal Súbito                                                                          25\n",
       "Defeito na Via                                                                      23\n",
       "Desobediência às normas de trânsito pelo pedestre                                   23\n",
       "Avarias e/ou desgaste excessivo no pneu                                             21\n",
       "Restrição de Visibilidade                                                           19\n",
       "Objeto estático sobre o leito carroçável                                            18\n",
       "Agressão Externa                                                                    18\n",
       "Carga excessiva e/ou mal acondicionada                                              17\n",
       "Sinalização da via insuficiente ou inadequada                                       10\n",
       "Ingestão de álcool e/ou substâncias psicoativas pelo pedestre                        8\n",
       "Deficiência ou não Acionamento do Sistema de Iluminação/Sinalização do Veículo       7\n",
       "Fenômenos da Natureza                                                                5\n",
       "Ingestão de Substâncias Psicoativas                                                  4\n",
       "Name: causa_acidente, dtype: int64"
      ]
     },
     "execution_count": 45,
     "metadata": {},
     "output_type": "execute_result"
    }
   ],
   "source": [
    "data['causa_acidente'].value_counts()"
   ]
  },
  {
   "cell_type": "code",
   "execution_count": null,
   "metadata": {},
   "outputs": [],
   "source": []
  }
 ],
 "metadata": {
  "kernelspec": {
   "display_name": "Python 3",
   "language": "python",
   "name": "python3"
  },
  "language_info": {
   "codemirror_mode": {
    "name": "ipython",
    "version": 3
   },
   "file_extension": ".py",
   "mimetype": "text/x-python",
   "name": "python",
   "nbconvert_exporter": "python",
   "pygments_lexer": "ipython3",
   "version": "3.8.5"
  }
 },
 "nbformat": 4,
 "nbformat_minor": 4
}
