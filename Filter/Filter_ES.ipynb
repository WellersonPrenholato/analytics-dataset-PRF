{
 "cells": [
  {
   "cell_type": "markdown",
   "metadata": {
    "heading_collapsed": true
   },
   "source": [
    "# Biblioteca"
   ]
  },
  {
   "cell_type": "code",
   "execution_count": 1,
   "metadata": {
    "ExecuteTime": {
     "end_time": "2021-01-21T01:14:22.948459Z",
     "start_time": "2021-01-21T01:14:21.665418Z"
    },
    "hidden": true
   },
   "outputs": [],
   "source": [
    "import pandas as pd"
   ]
  },
  {
   "cell_type": "markdown",
   "metadata": {},
   "source": [
    "# Carregamento de dados"
   ]
  },
  {
   "cell_type": "code",
   "execution_count": 2,
   "metadata": {
    "ExecuteTime": {
     "end_time": "2021-01-21T01:14:22.959415Z",
     "start_time": "2021-01-21T01:14:22.953415Z"
    }
   },
   "outputs": [],
   "source": [
    "endereco = '../BaseDados/'\n",
    "# nomeArq = 'acidentes2019_todas_causas_tipos'\n",
    "# endereco2 = 'Todas_Causas_Tipos/'\n",
    "# endereco2 = 'Agrupado_Pessoa/'\n",
    "endereco2 = 'Agrupado_Ocorrencia/'\n",
    "nomeArq = 'datatran2019'"
   ]
  },
  {
   "cell_type": "code",
   "execution_count": 3,
   "metadata": {
    "ExecuteTime": {
     "end_time": "2021-01-21T01:14:24.023412Z",
     "start_time": "2021-01-21T01:14:22.965416Z"
    }
   },
   "outputs": [],
   "source": [
    "data = pd.read_csv(endereco + endereco2 + nomeArq +'.csv', encoding='ISO-8859-1', sep=';')"
   ]
  },
  {
   "cell_type": "markdown",
   "metadata": {
    "heading_collapsed": true
   },
   "source": [
    "# Seleciona apenas linhas do ES"
   ]
  },
  {
   "cell_type": "code",
   "execution_count": 4,
   "metadata": {
    "ExecuteTime": {
     "end_time": "2021-01-21T01:14:24.082419Z",
     "start_time": "2021-01-21T01:14:24.031417Z"
    },
    "hidden": true,
    "scrolled": true
   },
   "outputs": [
    {
     "data": {
      "text/plain": [
       "(67446, 30)"
      ]
     },
     "execution_count": 4,
     "metadata": {},
     "output_type": "execute_result"
    }
   ],
   "source": [
    "data.shape"
   ]
  },
  {
   "cell_type": "code",
   "execution_count": 5,
   "metadata": {
    "ExecuteTime": {
     "end_time": "2021-01-21T01:14:24.269416Z",
     "start_time": "2021-01-21T01:14:24.086418Z"
    },
    "code_folding": [],
    "hidden": true
   },
   "outputs": [],
   "source": [
    "#Inicialmente faço a remoção de todos Estados diferentes do ES\n",
    "data = data.drop(data[data['uf'] != 'ES'].index)"
   ]
  },
  {
   "cell_type": "code",
   "execution_count": 6,
   "metadata": {
    "ExecuteTime": {
     "end_time": "2021-01-21T01:14:24.281417Z",
     "start_time": "2021-01-21T01:14:24.272417Z"
    },
    "hidden": true,
    "scrolled": true
   },
   "outputs": [
    {
     "data": {
      "text/plain": [
       "(2842, 30)"
      ]
     },
     "execution_count": 6,
     "metadata": {},
     "output_type": "execute_result"
    }
   ],
   "source": [
    "data.shape"
   ]
  },
  {
   "cell_type": "markdown",
   "metadata": {
    "ExecuteTime": {
     "end_time": "2020-12-24T19:03:26.288809Z",
     "start_time": "2020-12-24T19:03:26.283763Z"
    },
    "heading_collapsed": true
   },
   "source": [
    "# Análise e Remoção de atributos NULOS"
   ]
  },
  {
   "cell_type": "code",
   "execution_count": 7,
   "metadata": {
    "ExecuteTime": {
     "end_time": "2021-01-21T01:14:24.357414Z",
     "start_time": "2021-01-21T01:14:24.285415Z"
    },
    "hidden": true
   },
   "outputs": [],
   "source": [
    "#Gera um arquivo .txt com a quantidade de atributos nulos por coluna\n",
    "data.isnull().sum().to_csv('QtdNullAtributos_' + nomeArq + '.csv', sep=';')"
   ]
  },
  {
   "cell_type": "code",
   "execution_count": 8,
   "metadata": {
    "ExecuteTime": {
     "end_time": "2021-01-21T01:14:24.371417Z",
     "start_time": "2021-01-21T01:14:24.365415Z"
    },
    "hidden": true,
    "scrolled": true
   },
   "outputs": [],
   "source": [
    "# data.isnull().sum()"
   ]
  },
  {
   "cell_type": "markdown",
   "metadata": {},
   "source": [
    "# Remoção da coluna UF,REGIONAL, DELEGACIA e UOP."
   ]
  },
  {
   "cell_type": "code",
   "execution_count": 9,
   "metadata": {
    "ExecuteTime": {
     "end_time": "2021-01-21T01:14:24.393419Z",
     "start_time": "2021-01-21T01:14:24.377421Z"
    }
   },
   "outputs": [
    {
     "data": {
      "text/plain": [
       "SR-ES    2842\n",
       "Name: regional, dtype: int64"
      ]
     },
     "execution_count": 9,
     "metadata": {},
     "output_type": "execute_result"
    }
   ],
   "source": [
    "data['regional'].value_counts()"
   ]
  },
  {
   "cell_type": "code",
   "execution_count": 10,
   "metadata": {
    "ExecuteTime": {
     "end_time": "2021-01-21T01:14:24.412416Z",
     "start_time": "2021-01-21T01:14:24.398416Z"
    }
   },
   "outputs": [
    {
     "data": {
      "text/plain": [
       "ES    2842\n",
       "Name: uf, dtype: int64"
      ]
     },
     "execution_count": 10,
     "metadata": {},
     "output_type": "execute_result"
    }
   ],
   "source": [
    "data['uf'].value_counts()"
   ]
  },
  {
   "cell_type": "code",
   "execution_count": 11,
   "metadata": {
    "ExecuteTime": {
     "end_time": "2021-01-21T01:14:24.444417Z",
     "start_time": "2021-01-21T01:14:24.417414Z"
    }
   },
   "outputs": [],
   "source": [
    "# Remoção dessas colunas, pq as instâncias dessas colunas são iguais em todas linhas\n",
    "colRemove = ['uf', 'regional', 'delegacia', 'uop']\n",
    "\n",
    "#Percorre o vetor removendo esses elementos existentes no dataset\n",
    "for coluna in colRemove:\n",
    "    data.drop(coluna, inplace=True, axis=1)"
   ]
  },
  {
   "cell_type": "markdown",
   "metadata": {},
   "source": [
    "# Salvando o dataframe"
   ]
  },
  {
   "cell_type": "code",
   "execution_count": 12,
   "metadata": {
    "ExecuteTime": {
     "end_time": "2021-01-21T01:14:24.457416Z",
     "start_time": "2021-01-21T01:14:24.450417Z"
    }
   },
   "outputs": [],
   "source": [
    "# data.to_csv( '../Deploy/' +'ES_' + nomeArq + '.csv', encoding='ISO-8859-1', sep=';', index=False)"
   ]
  },
  {
   "cell_type": "code",
   "execution_count": 13,
   "metadata": {
    "ExecuteTime": {
     "end_time": "2021-01-21T01:14:24.572420Z",
     "start_time": "2021-01-21T01:14:24.463416Z"
    }
   },
   "outputs": [],
   "source": [
    "# Aqui é gerado um novo arquivo na qual contém os resultados aplicados\n",
    "data.to_csv( '../BaseDadosSelecionados/' +'ES_' + nomeArq + '.csv', encoding='ISO-8859-1', sep=';', index=False)"
   ]
  },
  {
   "cell_type": "code",
   "execution_count": 14,
   "metadata": {
    "ExecuteTime": {
     "end_time": "2021-01-21T01:14:24.589417Z",
     "start_time": "2021-01-21T01:14:24.581417Z"
    },
    "scrolled": false
   },
   "outputs": [],
   "source": [
    "# data"
   ]
  },
  {
   "cell_type": "markdown",
   "metadata": {
    "heading_collapsed": true
   },
   "source": [
    "# Listando Causa dos acidentes"
   ]
  },
  {
   "cell_type": "code",
   "execution_count": 15,
   "metadata": {
    "ExecuteTime": {
     "end_time": "2021-01-21T01:14:24.667414Z",
     "start_time": "2021-01-21T01:14:24.596417Z"
    },
    "hidden": true
   },
   "outputs": [
    {
     "data": {
      "text/plain": [
       "Falta de Atenção à Condução                                                       1148\n",
       "Desobediência às normas de trânsito pelo condutor                                  479\n",
       "Não guardar distância de segurança                                                 182\n",
       "Velocidade Incompatível                                                            180\n",
       "Ingestão de Álcool                                                                 175\n",
       "Defeito Mecânico no Veículo                                                        141\n",
       "Falta de Atenção do Pedestre                                                       105\n",
       "Condutor Dormindo                                                                   80\n",
       "Pista Escorregadia                                                                  65\n",
       "Animais na Pista                                                                    49\n",
       "Ultrapassagem Indevida                                                              40\n",
       "Mal Súbito                                                                          25\n",
       "Desobediência às normas de trânsito pelo pedestre                                   23\n",
       "Defeito na Via                                                                      23\n",
       "Avarias e/ou desgaste excessivo no pneu                                             21\n",
       "Restrição de Visibilidade                                                           19\n",
       "Agressão Externa                                                                    18\n",
       "Objeto estático sobre o leito carroçável                                            18\n",
       "Carga excessiva e/ou mal acondicionada                                              17\n",
       "Sinalização da via insuficiente ou inadequada                                       10\n",
       "Ingestão de álcool e/ou substâncias psicoativas pelo pedestre                        8\n",
       "Deficiência ou não Acionamento do Sistema de Iluminação/Sinalização do Veículo       7\n",
       "Fenômenos da Natureza                                                                5\n",
       "Ingestão de Substâncias Psicoativas                                                  4\n",
       "Name: causa_acidente, dtype: int64"
      ]
     },
     "execution_count": 15,
     "metadata": {},
     "output_type": "execute_result"
    }
   ],
   "source": [
    "data['causa_acidente'].value_counts()"
   ]
  },
  {
   "cell_type": "code",
   "execution_count": null,
   "metadata": {
    "hidden": true
   },
   "outputs": [],
   "source": []
  }
 ],
 "metadata": {
  "kernelspec": {
   "display_name": "Python 3",
   "language": "python",
   "name": "python3"
  },
  "language_info": {
   "codemirror_mode": {
    "name": "ipython",
    "version": 3
   },
   "file_extension": ".py",
   "mimetype": "text/x-python",
   "name": "python",
   "nbconvert_exporter": "python",
   "pygments_lexer": "ipython3",
   "version": "3.7.4"
  }
 },
 "nbformat": 4,
 "nbformat_minor": 4
}
