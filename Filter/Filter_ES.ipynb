{
 "cells": [
  {
   "cell_type": "markdown",
   "metadata": {},
   "source": [
    "# Filtro de dados de acordo com o estado do Espírito Santo\n",
    "A filtragem é para utilizar apenas dados do Espírito Santo.<br>\n",
    "Algumas colunas consideradas irrelevantes também são removidas."
   ]
  },
  {
   "cell_type": "markdown",
   "metadata": {
    "heading_collapsed": true
   },
   "source": [
    "# Biblioteca"
   ]
  },
  {
   "cell_type": "code",
   "execution_count": 29,
   "metadata": {
    "ExecuteTime": {
     "end_time": "2021-10-21T04:23:48.172641Z",
     "start_time": "2021-10-21T04:23:48.163639Z"
    },
    "hidden": true
   },
   "outputs": [],
   "source": [
    "import pandas as pd"
   ]
  },
  {
   "cell_type": "markdown",
   "metadata": {},
   "source": [
    "# Carregamento de dados"
   ]
  },
  {
   "cell_type": "code",
   "execution_count": 30,
   "metadata": {
    "ExecuteTime": {
     "end_time": "2021-10-21T04:23:48.188637Z",
     "start_time": "2021-10-21T04:23:48.175637Z"
    }
   },
   "outputs": [],
   "source": [
    "endereco = '../BaseDados/'\n",
    "# nomeArq = 'acidentes2019_todas_causas_tipos'\n",
    "# endereco2 = 'Todas_Causas_Tipos/'\n",
    "# endereco2 = 'Agrupado_Pessoa/'\n",
    "endereco2 = 'Agrupado_Ocorrencia/'\n",
    "nomeArq = 'datatran2018'"
   ]
  },
  {
   "cell_type": "code",
   "execution_count": 31,
   "metadata": {
    "ExecuteTime": {
     "end_time": "2021-10-21T04:23:48.776693Z",
     "start_time": "2021-10-21T04:23:48.193638Z"
    }
   },
   "outputs": [],
   "source": [
    "data = pd.read_csv(endereco + endereco2 + nomeArq +'.csv', encoding='ISO-8859-1', sep=';')"
   ]
  },
  {
   "cell_type": "markdown",
   "metadata": {},
   "source": [
    "# Seleciona apenas linhas do ES"
   ]
  },
  {
   "cell_type": "code",
   "execution_count": 32,
   "metadata": {
    "ExecuteTime": {
     "end_time": "2021-10-21T04:23:48.792634Z",
     "start_time": "2021-10-21T04:23:48.782639Z"
    },
    "scrolled": true
   },
   "outputs": [
    {
     "data": {
      "text/plain": [
       "(57247, 30)"
      ]
     },
     "execution_count": 32,
     "metadata": {},
     "output_type": "execute_result"
    }
   ],
   "source": [
    "data.shape"
   ]
  },
  {
   "cell_type": "code",
   "execution_count": 33,
   "metadata": {
    "ExecuteTime": {
     "end_time": "2021-10-21T04:23:48.871635Z",
     "start_time": "2021-10-21T04:23:48.795639Z"
    },
    "code_folding": []
   },
   "outputs": [],
   "source": [
    "#Inicialmente faço a remoção de todos Estados diferentes do ES\n",
    "data = data.drop(data[data['uf'] != 'ES'].index)"
   ]
  },
  {
   "cell_type": "code",
   "execution_count": 34,
   "metadata": {
    "ExecuteTime": {
     "end_time": "2021-10-21T04:23:48.887637Z",
     "start_time": "2021-10-21T04:23:48.875635Z"
    },
    "scrolled": true
   },
   "outputs": [
    {
     "data": {
      "text/plain": [
       "(2268, 30)"
      ]
     },
     "execution_count": 34,
     "metadata": {},
     "output_type": "execute_result"
    }
   ],
   "source": [
    "data.shape"
   ]
  },
  {
   "cell_type": "markdown",
   "metadata": {
    "ExecuteTime": {
     "end_time": "2020-12-24T19:03:26.288809Z",
     "start_time": "2020-12-24T19:03:26.283763Z"
    },
    "heading_collapsed": true
   },
   "source": [
    "# Análise e Remoção de atributos NULOS"
   ]
  },
  {
   "cell_type": "code",
   "execution_count": 35,
   "metadata": {
    "ExecuteTime": {
     "end_time": "2021-10-21T04:23:48.935635Z",
     "start_time": "2021-10-21T04:23:48.893641Z"
    },
    "hidden": true
   },
   "outputs": [],
   "source": [
    "#Gera um arquivo .txt com a quantidade de atributos nulos por coluna\n",
    "data.isnull().sum().to_csv('QtdNullAtributos_' + nomeArq + '.csv', sep=';')"
   ]
  },
  {
   "cell_type": "code",
   "execution_count": 36,
   "metadata": {
    "ExecuteTime": {
     "end_time": "2021-10-21T04:23:48.951638Z",
     "start_time": "2021-10-21T04:23:48.941636Z"
    },
    "hidden": true,
    "scrolled": true
   },
   "outputs": [],
   "source": [
    "# data.isnull().sum()"
   ]
  },
  {
   "cell_type": "markdown",
   "metadata": {
    "heading_collapsed": true
   },
   "source": [
    "# Remoção da coluna UF,REGIONAL, DELEGACIA e UOP."
   ]
  },
  {
   "cell_type": "code",
   "execution_count": 37,
   "metadata": {
    "ExecuteTime": {
     "end_time": "2021-10-21T04:23:49.004635Z",
     "start_time": "2021-10-21T04:23:48.956639Z"
    },
    "hidden": true
   },
   "outputs": [
    {
     "data": {
      "text/plain": [
       "SR-ES    2268\n",
       "Name: regional, dtype: int64"
      ]
     },
     "execution_count": 37,
     "metadata": {},
     "output_type": "execute_result"
    }
   ],
   "source": [
    "data['regional'].value_counts()"
   ]
  },
  {
   "cell_type": "code",
   "execution_count": 38,
   "metadata": {
    "ExecuteTime": {
     "end_time": "2021-10-21T04:23:49.030636Z",
     "start_time": "2021-10-21T04:23:49.012636Z"
    },
    "hidden": true
   },
   "outputs": [
    {
     "data": {
      "text/plain": [
       "ES    2268\n",
       "Name: uf, dtype: int64"
      ]
     },
     "execution_count": 38,
     "metadata": {},
     "output_type": "execute_result"
    }
   ],
   "source": [
    "data['uf'].value_counts()"
   ]
  },
  {
   "cell_type": "code",
   "execution_count": 39,
   "metadata": {
    "ExecuteTime": {
     "end_time": "2021-10-21T04:23:49.062641Z",
     "start_time": "2021-10-21T04:23:49.035639Z"
    },
    "hidden": true
   },
   "outputs": [],
   "source": [
    "# Remoção dessas colunas, pq as instâncias dessas colunas são iguais em todas linhas\n",
    "colRemove = ['uf', 'regional', 'delegacia', 'uop']\n",
    "\n",
    "#Percorre o vetor removendo esses elementos existentes no dataset\n",
    "for coluna in colRemove:\n",
    "    data.drop(coluna, inplace=True, axis=1)"
   ]
  },
  {
   "cell_type": "markdown",
   "metadata": {},
   "source": [
    "# Salvando o dataframe"
   ]
  },
  {
   "cell_type": "code",
   "execution_count": 40,
   "metadata": {
    "ExecuteTime": {
     "end_time": "2021-10-21T04:23:49.078637Z",
     "start_time": "2021-10-21T04:23:49.067637Z"
    }
   },
   "outputs": [],
   "source": [
    "# data.to_csv( '../Deploy/' +'ES_' + nomeArq + '.csv', encoding='ISO-8859-1', sep=';', index=False)"
   ]
  },
  {
   "cell_type": "code",
   "execution_count": 41,
   "metadata": {
    "ExecuteTime": {
     "end_time": "2021-10-21T04:23:49.189649Z",
     "start_time": "2021-10-21T04:23:49.089639Z"
    }
   },
   "outputs": [],
   "source": [
    "# Aqui é gerado um novo arquivo na qual contém os resultados aplicados\n",
    "data.to_csv( '../BaseDadosSelecionados/' +'ES_' + nomeArq + '.csv', encoding='ISO-8859-1', sep=';', index=False)"
   ]
  },
  {
   "cell_type": "markdown",
   "metadata": {},
   "source": [
    "# Listando Causa dos acidentes"
   ]
  },
  {
   "cell_type": "code",
   "execution_count": 42,
   "metadata": {
    "ExecuteTime": {
     "end_time": "2021-10-21T04:23:49.220635Z",
     "start_time": "2021-10-21T04:23:49.192637Z"
    }
   },
   "outputs": [
    {
     "data": {
      "text/plain": [
       "Falta de Atenção à Condução                                                       922\n",
       "Desobediência às normas de trânsito pelo condutor                                 386\n",
       "Ingestão de Álcool                                                                175\n",
       "Velocidade Incompatível                                                           168\n",
       "Não guardar distância de segurança                                                113\n",
       "Defeito Mecânico no Veículo                                                        93\n",
       "Falta de Atenção do Pedestre                                                       77\n",
       "Pista Escorregadia                                                                 67\n",
       "Condutor Dormindo                                                                  46\n",
       "Ultrapassagem Indevida                                                             41\n",
       "Animais na Pista                                                                   33\n",
       "Avarias e/ou desgaste excessivo no pneu                                            23\n",
       "Mal Súbito                                                                         22\n",
       "Restrição de Visibilidade                                                          21\n",
       "Desobediência às normas de trânsito pelo pedestre                                  15\n",
       "Carga excessiva e/ou mal acondicionada                                             13\n",
       "Defeito na Via                                                                     12\n",
       "Objeto estático sobre o leito carroçável                                           12\n",
       "Agressão Externa                                                                    7\n",
       "Ingestão de Substâncias Psicoativas                                                 6\n",
       "Ingestão de álcool e/ou substâncias psicoativas pelo pedestre                       5\n",
       "Deficiência ou não Acionamento do Sistema de Iluminação/Sinalização do Veículo      4\n",
       "Sinalização da via insuficiente ou inadequada                                       4\n",
       "Fenômenos da Natureza                                                               3\n",
       "Name: causa_acidente, dtype: int64"
      ]
     },
     "execution_count": 42,
     "metadata": {},
     "output_type": "execute_result"
    }
   ],
   "source": [
    "data['causa_acidente'].value_counts()"
   ]
  }
 ],
 "metadata": {
  "kernelspec": {
   "display_name": "Python 3",
   "language": "python",
   "name": "python3"
  },
  "language_info": {
   "codemirror_mode": {
    "name": "ipython",
    "version": 3
   },
   "file_extension": ".py",
   "mimetype": "text/x-python",
   "name": "python",
   "nbconvert_exporter": "python",
   "pygments_lexer": "ipython3",
   "version": "3.8.5"
  }
 },
 "nbformat": 4,
 "nbformat_minor": 4
}
