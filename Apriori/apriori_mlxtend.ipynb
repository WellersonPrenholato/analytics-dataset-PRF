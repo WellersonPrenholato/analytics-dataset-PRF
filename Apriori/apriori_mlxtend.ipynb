{
 "cells": [
  {
   "cell_type": "markdown",
   "metadata": {
    "heading_collapsed": true
   },
   "source": [
    "### Execução do algoritmo Apriori - Biblioteca mlxtend\n",
    "http://rasbt.github.io/mlxtend/"
   ]
  },
  {
   "cell_type": "markdown",
   "metadata": {
    "heading_collapsed": true
   },
   "source": [
    "# Bibliotecas"
   ]
  },
  {
   "cell_type": "code",
   "execution_count": 305,
   "metadata": {
    "ExecuteTime": {
     "end_time": "2021-12-28T22:44:33.381335Z",
     "start_time": "2021-12-28T22:44:33.369336Z"
    },
    "hidden": true
   },
   "outputs": [],
   "source": [
    "import pandas as pd\n",
    "from mlxtend.preprocessing import TransactionEncoder\n",
    "from mlxtend.frequent_patterns import apriori, association_rules\n",
    "from decimal import Decimal"
   ]
  },
  {
   "cell_type": "markdown",
   "metadata": {
    "heading_collapsed": true
   },
   "source": [
    "# Carregamento dos Dados - .csv"
   ]
  },
  {
   "cell_type": "code",
   "execution_count": 306,
   "metadata": {
    "ExecuteTime": {
     "end_time": "2021-12-28T22:44:33.397352Z",
     "start_time": "2021-12-28T22:44:33.385337Z"
    },
    "hidden": true
   },
   "outputs": [],
   "source": [
    "# endereco = '../BaseDadosSelecionados/'\n",
    "# endereco2 = 'Agrupado_Ocorrencia'"
   ]
  },
  {
   "cell_type": "code",
   "execution_count": 307,
   "metadata": {
    "ExecuteTime": {
     "end_time": "2021-12-28T22:44:33.413330Z",
     "start_time": "2021-12-28T22:44:33.401331Z"
    },
    "hidden": true
   },
   "outputs": [],
   "source": [
    "# anoArq = '2018'\n",
    "# nomeArq = 'ES_datatran' + anoArq +'_Org_Apriori'"
   ]
  },
  {
   "cell_type": "code",
   "execution_count": 308,
   "metadata": {
    "ExecuteTime": {
     "end_time": "2021-12-28T22:44:33.429332Z",
     "start_time": "2021-12-28T22:44:33.417331Z"
    },
    "hidden": true
   },
   "outputs": [],
   "source": [
    "endereco= 'PorAno/'"
   ]
  },
  {
   "cell_type": "code",
   "execution_count": 309,
   "metadata": {
    "ExecuteTime": {
     "end_time": "2021-12-28T22:44:33.445332Z",
     "start_time": "2021-12-28T22:44:33.433330Z"
    },
    "hidden": true
   },
   "outputs": [],
   "source": [
    "nomeArq = 'ES_datatranCompleto'\n",
    "nomeArq2 = nomeArq + '_Apriori'"
   ]
  },
  {
   "cell_type": "code",
   "execution_count": 310,
   "metadata": {
    "ExecuteTime": {
     "end_time": "2021-12-28T22:44:33.524504Z",
     "start_time": "2021-12-28T22:44:33.450331Z"
    },
    "hidden": true
   },
   "outputs": [],
   "source": [
    "data = pd.read_csv(endereco + nomeArq2 + '.csv', encoding='ISO-8859-1', sep=';', header=None)"
   ]
  },
  {
   "cell_type": "code",
   "execution_count": 311,
   "metadata": {
    "ExecuteTime": {
     "end_time": "2021-12-28T22:44:33.540502Z",
     "start_time": "2021-12-28T22:44:33.528505Z"
    },
    "hidden": true
   },
   "outputs": [
    {
     "data": {
      "text/plain": [
       "(7723, 11)"
      ]
     },
     "execution_count": 311,
     "metadata": {},
     "output_type": "execute_result"
    }
   ],
   "source": [
    "data.shape"
   ]
  },
  {
   "cell_type": "code",
   "execution_count": 312,
   "metadata": {
    "ExecuteTime": {
     "end_time": "2021-12-28T22:44:33.571502Z",
     "start_time": "2021-12-28T22:44:33.547505Z"
    },
    "hidden": true
   },
   "outputs": [
    {
     "data": {
      "text/html": [
       "<div>\n",
       "<style scoped>\n",
       "    .dataframe tbody tr th:only-of-type {\n",
       "        vertical-align: middle;\n",
       "    }\n",
       "\n",
       "    .dataframe tbody tr th {\n",
       "        vertical-align: top;\n",
       "    }\n",
       "\n",
       "    .dataframe thead th {\n",
       "        text-align: right;\n",
       "    }\n",
       "</style>\n",
       "<table border=\"1\" class=\"dataframe\">\n",
       "  <thead>\n",
       "    <tr style=\"text-align: right;\">\n",
       "      <th></th>\n",
       "      <th>0</th>\n",
       "      <th>1</th>\n",
       "      <th>2</th>\n",
       "      <th>3</th>\n",
       "      <th>4</th>\n",
       "      <th>5</th>\n",
       "      <th>6</th>\n",
       "      <th>7</th>\n",
       "      <th>8</th>\n",
       "      <th>9</th>\n",
       "      <th>10</th>\n",
       "    </tr>\n",
       "  </thead>\n",
       "  <tbody>\n",
       "    <tr>\n",
       "      <th>0</th>\n",
       "      <td>dia_semana=Domingo</td>\n",
       "      <td>hora_horario=8</td>\n",
       "      <td>causa_acidente=Falta de Atenção à Condução</td>\n",
       "      <td>tipo_acidente=Saída de leito carroçável</td>\n",
       "      <td>classificacao_acidente=Sem Vítimas</td>\n",
       "      <td>fase_dia=Pleno dia</td>\n",
       "      <td>sentido_via=Decrescente</td>\n",
       "      <td>condicao_metereologica=Sol</td>\n",
       "      <td>tipo_pista=Simples</td>\n",
       "      <td>tracado_via=Curva</td>\n",
       "      <td>uso_solo=Não</td>\n",
       "    </tr>\n",
       "    <tr>\n",
       "      <th>1</th>\n",
       "      <td>dia_semana=Domingo</td>\n",
       "      <td>hora_horario=13</td>\n",
       "      <td>causa_acidente=Falta de Atenção à Condução</td>\n",
       "      <td>tipo_acidente=Colisão lateral</td>\n",
       "      <td>classificacao_acidente=Com Vítimas Feridas</td>\n",
       "      <td>fase_dia=Pleno dia</td>\n",
       "      <td>sentido_via=Decrescente</td>\n",
       "      <td>condicao_metereologica=Sol</td>\n",
       "      <td>tipo_pista=Dupla</td>\n",
       "      <td>tracado_via=Reta</td>\n",
       "      <td>uso_solo=Sim</td>\n",
       "    </tr>\n",
       "    <tr>\n",
       "      <th>2</th>\n",
       "      <td>dia_semana=Domingo</td>\n",
       "      <td>hora_horario=15</td>\n",
       "      <td>causa_acidente=Falta de Atenção à Condução</td>\n",
       "      <td>tipo_acidente=Tombamento</td>\n",
       "      <td>classificacao_acidente=Com Vítimas Feridas</td>\n",
       "      <td>fase_dia=Pleno dia</td>\n",
       "      <td>sentido_via=Crescente</td>\n",
       "      <td>condicao_metereologica=Sol</td>\n",
       "      <td>tipo_pista=Simples</td>\n",
       "      <td>tracado_via=Reta</td>\n",
       "      <td>uso_solo=Não</td>\n",
       "    </tr>\n",
       "    <tr>\n",
       "      <th>3</th>\n",
       "      <td>dia_semana=Domingo</td>\n",
       "      <td>hora_horario=16</td>\n",
       "      <td>causa_acidente=Ingestão de Álcool</td>\n",
       "      <td>tipo_acidente=Colisão transversal</td>\n",
       "      <td>classificacao_acidente=Com Vítimas Feridas</td>\n",
       "      <td>fase_dia=Pleno dia</td>\n",
       "      <td>sentido_via=Crescente</td>\n",
       "      <td>condicao_metereologica=Céu Claro</td>\n",
       "      <td>tipo_pista=Simples</td>\n",
       "      <td>tracado_via=Reta</td>\n",
       "      <td>uso_solo=Não</td>\n",
       "    </tr>\n",
       "    <tr>\n",
       "      <th>4</th>\n",
       "      <td>dia_semana=Domingo</td>\n",
       "      <td>hora_horario=16</td>\n",
       "      <td>causa_acidente=Defeito Mecânico no Veículo</td>\n",
       "      <td>tipo_acidente=Colisão traseira</td>\n",
       "      <td>classificacao_acidente=Com Vítimas Feridas</td>\n",
       "      <td>fase_dia=Pleno dia</td>\n",
       "      <td>sentido_via=Crescente</td>\n",
       "      <td>condicao_metereologica=Sol</td>\n",
       "      <td>tipo_pista=Múltipla</td>\n",
       "      <td>tracado_via=Reta</td>\n",
       "      <td>uso_solo=Não</td>\n",
       "    </tr>\n",
       "  </tbody>\n",
       "</table>\n",
       "</div>"
      ],
      "text/plain": [
       "                   0                1   \\\n",
       "0  dia_semana=Domingo   hora_horario=8   \n",
       "1  dia_semana=Domingo  hora_horario=13   \n",
       "2  dia_semana=Domingo  hora_horario=15   \n",
       "3  dia_semana=Domingo  hora_horario=16   \n",
       "4  dia_semana=Domingo  hora_horario=16   \n",
       "\n",
       "                                           2   \\\n",
       "0  causa_acidente=Falta de Atenção à Condução   \n",
       "1  causa_acidente=Falta de Atenção à Condução   \n",
       "2  causa_acidente=Falta de Atenção à Condução   \n",
       "3           causa_acidente=Ingestão de Álcool   \n",
       "4  causa_acidente=Defeito Mecânico no Veículo   \n",
       "\n",
       "                                        3   \\\n",
       "0  tipo_acidente=Saída de leito carroçável   \n",
       "1            tipo_acidente=Colisão lateral   \n",
       "2                 tipo_acidente=Tombamento   \n",
       "3        tipo_acidente=Colisão transversal   \n",
       "4           tipo_acidente=Colisão traseira   \n",
       "\n",
       "                                           4                   5   \\\n",
       "0          classificacao_acidente=Sem Vítimas  fase_dia=Pleno dia   \n",
       "1  classificacao_acidente=Com Vítimas Feridas  fase_dia=Pleno dia   \n",
       "2  classificacao_acidente=Com Vítimas Feridas  fase_dia=Pleno dia   \n",
       "3  classificacao_acidente=Com Vítimas Feridas  fase_dia=Pleno dia   \n",
       "4  classificacao_acidente=Com Vítimas Feridas  fase_dia=Pleno dia   \n",
       "\n",
       "                        6                                 7   \\\n",
       "0  sentido_via=Decrescente        condicao_metereologica=Sol   \n",
       "1  sentido_via=Decrescente        condicao_metereologica=Sol   \n",
       "2    sentido_via=Crescente        condicao_metereologica=Sol   \n",
       "3    sentido_via=Crescente  condicao_metereologica=Céu Claro   \n",
       "4    sentido_via=Crescente        condicao_metereologica=Sol   \n",
       "\n",
       "                    8                  9             10  \n",
       "0   tipo_pista=Simples  tracado_via=Curva  uso_solo=Não  \n",
       "1     tipo_pista=Dupla   tracado_via=Reta  uso_solo=Sim  \n",
       "2   tipo_pista=Simples   tracado_via=Reta  uso_solo=Não  \n",
       "3   tipo_pista=Simples   tracado_via=Reta  uso_solo=Não  \n",
       "4  tipo_pista=Múltipla   tracado_via=Reta  uso_solo=Não  "
      ]
     },
     "execution_count": 312,
     "metadata": {},
     "output_type": "execute_result"
    }
   ],
   "source": [
    "data.head(5)"
   ]
  },
  {
   "cell_type": "markdown",
   "metadata": {
    "heading_collapsed": true
   },
   "source": [
    "# Carregamento dos dados em uma matriz (Importante)"
   ]
  },
  {
   "cell_type": "code",
   "execution_count": 313,
   "metadata": {
    "ExecuteTime": {
     "end_time": "2021-12-28T22:44:34.349251Z",
     "start_time": "2021-12-28T22:44:33.576503Z"
    },
    "hidden": true
   },
   "outputs": [
    {
     "name": "stdout",
     "output_type": "stream",
     "text": [
      "Wall time: 755 ms\n"
     ]
    }
   ],
   "source": [
    "%%time\n",
    "# data.shape[0] LINHAS e data.shape[1] COLUNAS\n",
    "\n",
    "dataset = []\n",
    "for i in range(0, data.shape[0]):\n",
    "    dataset.append([str(data.values[i,j]) for j in range(0, data.shape[1])])"
   ]
  },
  {
   "cell_type": "code",
   "execution_count": 314,
   "metadata": {
    "ExecuteTime": {
     "end_time": "2021-12-28T22:44:34.365202Z",
     "start_time": "2021-12-28T22:44:34.352202Z"
    },
    "hidden": true
   },
   "outputs": [],
   "source": [
    "# dataset"
   ]
  },
  {
   "cell_type": "markdown",
   "metadata": {
    "heading_collapsed": true
   },
   "source": [
    "# Tratamento para a execução do algoritmo Apriori"
   ]
  },
  {
   "cell_type": "markdown",
   "metadata": {
    "hidden": true
   },
   "source": [
    "http://rasbt.github.io/mlxtend/user_guide/preprocessing/TransactionEncoder/"
   ]
  },
  {
   "cell_type": "code",
   "execution_count": 315,
   "metadata": {
    "ExecuteTime": {
     "end_time": "2021-12-28T22:44:34.381207Z",
     "start_time": "2021-12-28T22:44:34.368206Z"
    },
    "hidden": true
   },
   "outputs": [
    {
     "name": "stdout",
     "output_type": "stream",
     "text": [
      "Wall time: 0 ns\n"
     ]
    }
   ],
   "source": [
    "%%time\n",
    "te = TransactionEncoder()"
   ]
  },
  {
   "cell_type": "markdown",
   "metadata": {
    "heading_collapsed": true,
    "hidden": true
   },
   "source": [
    "## 1º Transformação - Representação para uma matriz de boleanos"
   ]
  },
  {
   "cell_type": "code",
   "execution_count": 316,
   "metadata": {
    "ExecuteTime": {
     "end_time": "2021-12-28T22:44:34.444846Z",
     "start_time": "2021-12-28T22:44:34.386203Z"
    },
    "hidden": true
   },
   "outputs": [
    {
     "name": "stdout",
     "output_type": "stream",
     "text": [
      "Wall time: 40 ms\n"
     ]
    }
   ],
   "source": [
    "%%time\n",
    "te_ary = te.fit(dataset).transform(dataset)\n",
    "df = pd.DataFrame(te_ary, columns=te.columns_)"
   ]
  },
  {
   "cell_type": "code",
   "execution_count": 317,
   "metadata": {
    "ExecuteTime": {
     "end_time": "2021-12-28T22:44:34.460550Z",
     "start_time": "2021-12-28T22:44:34.447850Z"
    },
    "hidden": true,
    "scrolled": true
   },
   "outputs": [],
   "source": [
    "# df"
   ]
  },
  {
   "cell_type": "markdown",
   "metadata": {
    "heading_collapsed": true,
    "hidden": true
   },
   "source": [
    "## 2ª Transformação - Representação esparsa\n",
    "Exemplo 3 - Trabalhando com representações esparsas - http://rasbt.github.io/mlxtend/user_guide/frequent_patterns/apriori/ "
   ]
  },
  {
   "cell_type": "code",
   "execution_count": 318,
   "metadata": {
    "ExecuteTime": {
     "end_time": "2021-12-28T22:44:34.477545Z",
     "start_time": "2021-12-28T22:44:34.464548Z"
    },
    "hidden": true
   },
   "outputs": [],
   "source": [
    "# %%time\n",
    "# oht_ary = te.fit(dataset).transform(dataset, sparse=True)\n",
    "# sparse_df = pd.DataFrame.sparse.from_spmatrix(oht_ary, columns=te.columns_)"
   ]
  },
  {
   "cell_type": "code",
   "execution_count": 319,
   "metadata": {
    "ExecuteTime": {
     "end_time": "2021-12-28T22:44:34.492543Z",
     "start_time": "2021-12-28T22:44:34.481548Z"
    },
    "hidden": true
   },
   "outputs": [],
   "source": [
    "# sparse_df"
   ]
  },
  {
   "cell_type": "markdown",
   "metadata": {},
   "source": [
    "# Execução do algoritmo apriori"
   ]
  },
  {
   "cell_type": "code",
   "execution_count": 320,
   "metadata": {
    "ExecuteTime": {
     "end_time": "2021-12-28T22:44:34.508541Z",
     "start_time": "2021-12-28T22:44:34.497545Z"
    }
   },
   "outputs": [],
   "source": [
    "numMinSupport = 0.1"
   ]
  },
  {
   "cell_type": "code",
   "execution_count": 321,
   "metadata": {
    "ExecuteTime": {
     "end_time": "2021-12-28T22:44:34.540567Z",
     "start_time": "2021-12-28T22:44:34.512545Z"
    }
   },
   "outputs": [
    {
     "name": "stdout",
     "output_type": "stream",
     "text": [
      "Wall time: 12 ms\n"
     ]
    }
   ],
   "source": [
    "%%time\n",
    "frequent_itemsets = apriori(df, min_support=numMinSupport, use_colnames=True)"
   ]
  },
  {
   "cell_type": "code",
   "execution_count": 322,
   "metadata": {
    "ExecuteTime": {
     "end_time": "2021-12-28T22:44:34.556560Z",
     "start_time": "2021-12-28T22:44:34.544545Z"
    }
   },
   "outputs": [],
   "source": [
    "# frequent_itemsets"
   ]
  },
  {
   "cell_type": "code",
   "execution_count": 323,
   "metadata": {
    "ExecuteTime": {
     "end_time": "2021-12-28T22:44:34.572546Z",
     "start_time": "2021-12-28T22:44:34.560544Z"
    }
   },
   "outputs": [],
   "source": [
    "# metric = lift"
   ]
  },
  {
   "cell_type": "code",
   "execution_count": 324,
   "metadata": {
    "ExecuteTime": {
     "end_time": "2021-12-28T22:44:34.588543Z",
     "start_time": "2021-12-28T22:44:34.576550Z"
    }
   },
   "outputs": [
    {
     "name": "stdout",
     "output_type": "stream",
     "text": [
      "Wall time: 3.78 ms\n"
     ]
    }
   ],
   "source": [
    "%%time\n",
    "# association_rules_saida = association_rules(frequent_itemsets, metric=\"confidence\", min_threshold=0.7)\n",
    "association_rules_saida = association_rules(frequent_itemsets)"
   ]
  },
  {
   "cell_type": "code",
   "execution_count": 325,
   "metadata": {
    "ExecuteTime": {
     "end_time": "2021-12-28T22:44:34.604544Z",
     "start_time": "2021-12-28T22:44:34.592547Z"
    }
   },
   "outputs": [],
   "source": [
    "saidaRecords = pd.DataFrame(association_rules_saida)"
   ]
  },
  {
   "cell_type": "markdown",
   "metadata": {
    "heading_collapsed": true
   },
   "source": [
    "## Método para contabilizaro número de consequentes e antecedentes em cada regra"
   ]
  },
  {
   "cell_type": "code",
   "execution_count": 326,
   "metadata": {
    "ExecuteTime": {
     "end_time": "2021-12-28T22:44:34.635921Z",
     "start_time": "2021-12-28T22:44:34.611358Z"
    },
    "hidden": true
   },
   "outputs": [],
   "source": [
    "# Cria duas novas colunas contabilizando os antecedentes e consequents\n",
    "saidaRecords[\"antecedent_len\"] = saidaRecords[\"antecedents\"].apply(lambda x: len(x))\n",
    "saidaRecords[\"consequent_len\"] = saidaRecords[\"consequents\"].apply(lambda x: len(x))"
   ]
  },
  {
   "cell_type": "markdown",
   "metadata": {},
   "source": [
    "## Filtro"
   ]
  },
  {
   "cell_type": "code",
   "execution_count": 327,
   "metadata": {
    "ExecuteTime": {
     "end_time": "2021-12-28T22:44:34.650920Z",
     "start_time": "2021-12-28T22:44:34.642923Z"
    }
   },
   "outputs": [],
   "source": [
    "# saidaRecords = saidaRecords[ (saidaRecords['antecedent_len'] >= 2 ) & (saidaRecords['consequent_len'] >= 2) ] # & (saidaRecords['support'] >= 0.5) "
   ]
  },
  {
   "cell_type": "code",
   "execution_count": 328,
   "metadata": {
    "ExecuteTime": {
     "end_time": "2021-12-28T22:44:34.665920Z",
     "start_time": "2021-12-28T22:44:34.655923Z"
    }
   },
   "outputs": [],
   "source": [
    "# saidaRecords = saidaRecords[(saidaRecords['support'] >= 0.6)]"
   ]
  },
  {
   "cell_type": "code",
   "execution_count": 329,
   "metadata": {
    "ExecuteTime": {
     "end_time": "2021-12-28T22:44:34.696920Z",
     "start_time": "2021-12-28T22:44:34.668921Z"
    },
    "scrolled": true
   },
   "outputs": [
    {
     "data": {
      "text/html": [
       "<div>\n",
       "<style scoped>\n",
       "    .dataframe tbody tr th:only-of-type {\n",
       "        vertical-align: middle;\n",
       "    }\n",
       "\n",
       "    .dataframe tbody tr th {\n",
       "        vertical-align: top;\n",
       "    }\n",
       "\n",
       "    .dataframe thead th {\n",
       "        text-align: right;\n",
       "    }\n",
       "</style>\n",
       "<table border=\"1\" class=\"dataframe\">\n",
       "  <thead>\n",
       "    <tr style=\"text-align: right;\">\n",
       "      <th></th>\n",
       "      <th>antecedents</th>\n",
       "      <th>consequents</th>\n",
       "      <th>antecedent support</th>\n",
       "      <th>consequent support</th>\n",
       "      <th>support</th>\n",
       "      <th>confidence</th>\n",
       "      <th>lift</th>\n",
       "      <th>leverage</th>\n",
       "      <th>conviction</th>\n",
       "      <th>antecedent_len</th>\n",
       "      <th>consequent_len</th>\n",
       "    </tr>\n",
       "  </thead>\n",
       "  <tbody>\n",
       "  </tbody>\n",
       "</table>\n",
       "</div>"
      ],
      "text/plain": [
       "Empty DataFrame\n",
       "Columns: [antecedents, consequents, antecedent support, consequent support, support, confidence, lift, leverage, conviction, antecedent_len, consequent_len]\n",
       "Index: []"
      ]
     },
     "execution_count": 329,
     "metadata": {},
     "output_type": "execute_result"
    }
   ],
   "source": [
    "saidaRecords.head()"
   ]
  },
  {
   "cell_type": "code",
   "execution_count": 330,
   "metadata": {
    "ExecuteTime": {
     "end_time": "2021-12-28T22:44:34.712921Z",
     "start_time": "2021-12-28T22:44:34.699922Z"
    }
   },
   "outputs": [
    {
     "data": {
      "text/plain": [
       "antecedents          NaN\n",
       "consequents          NaN\n",
       "antecedent support   NaN\n",
       "consequent support   NaN\n",
       "support              NaN\n",
       "confidence           NaN\n",
       "lift                 NaN\n",
       "leverage             NaN\n",
       "conviction           NaN\n",
       "antecedent_len       NaN\n",
       "consequent_len       NaN\n",
       "dtype: float64"
      ]
     },
     "execution_count": 330,
     "metadata": {},
     "output_type": "execute_result"
    }
   ],
   "source": [
    "saidaRecords.max()"
   ]
  },
  {
   "cell_type": "markdown",
   "metadata": {},
   "source": [
    "## Salvando os resultados do algoritmo em um .csv"
   ]
  },
  {
   "cell_type": "code",
   "execution_count": 331,
   "metadata": {
    "ExecuteTime": {
     "end_time": "2021-12-28T22:44:34.744921Z",
     "start_time": "2021-12-28T22:44:34.718922Z"
    },
    "scrolled": true
   },
   "outputs": [
    {
     "data": {
      "text/html": [
       "<div>\n",
       "<style scoped>\n",
       "    .dataframe tbody tr th:only-of-type {\n",
       "        vertical-align: middle;\n",
       "    }\n",
       "\n",
       "    .dataframe tbody tr th {\n",
       "        vertical-align: top;\n",
       "    }\n",
       "\n",
       "    .dataframe thead th {\n",
       "        text-align: right;\n",
       "    }\n",
       "</style>\n",
       "<table border=\"1\" class=\"dataframe\">\n",
       "  <thead>\n",
       "    <tr style=\"text-align: right;\">\n",
       "      <th></th>\n",
       "      <th>antecedents</th>\n",
       "      <th>consequents</th>\n",
       "      <th>antecedent support</th>\n",
       "      <th>consequent support</th>\n",
       "      <th>support</th>\n",
       "      <th>confidence</th>\n",
       "      <th>lift</th>\n",
       "      <th>leverage</th>\n",
       "      <th>conviction</th>\n",
       "      <th>antecedent_len</th>\n",
       "      <th>consequent_len</th>\n",
       "    </tr>\n",
       "  </thead>\n",
       "  <tbody>\n",
       "  </tbody>\n",
       "</table>\n",
       "</div>"
      ],
      "text/plain": [
       "Empty DataFrame\n",
       "Columns: [antecedents, consequents, antecedent support, consequent support, support, confidence, lift, leverage, conviction, antecedent_len, consequent_len]\n",
       "Index: []"
      ]
     },
     "execution_count": 331,
     "metadata": {},
     "output_type": "execute_result"
    }
   ],
   "source": [
    "saidaRecords.head()"
   ]
  },
  {
   "cell_type": "markdown",
   "metadata": {
    "heading_collapsed": true
   },
   "source": [
    "## Substituição de '.' para ','"
   ]
  },
  {
   "cell_type": "code",
   "execution_count": 332,
   "metadata": {
    "ExecuteTime": {
     "end_time": "2021-12-28T22:44:34.776926Z",
     "start_time": "2021-12-28T22:44:34.748924Z"
    },
    "hidden": true
   },
   "outputs": [],
   "source": [
    "listCol = ['antecedent support', 'consequent support', 'support', 'confidence', 'lift', 'leverage', 'conviction']\n",
    "for i in listCol:\n",
    "    saidaRecords[i] = saidaRecords[i].astype(str)\n",
    "    saidaRecords[i] = saidaRecords[i].str.replace('.', ',')"
   ]
  },
  {
   "cell_type": "markdown",
   "metadata": {
    "heading_collapsed": true
   },
   "source": [
    "## Ordena os dados baseado na confiança"
   ]
  },
  {
   "cell_type": "code",
   "execution_count": 333,
   "metadata": {
    "ExecuteTime": {
     "end_time": "2021-12-28T22:44:34.797922Z",
     "start_time": "2021-12-28T22:44:34.780921Z"
    },
    "hidden": true
   },
   "outputs": [],
   "source": [
    "# Ordena pela saidaRecords e salva em um novo DataFrame\n",
    "saidaRecords = saidaRecords.sort_values(by='confidence', ascending=False)"
   ]
  },
  {
   "cell_type": "markdown",
   "metadata": {},
   "source": [
    "## Salva os resultados em um arquivo .csv"
   ]
  },
  {
   "cell_type": "code",
   "execution_count": 334,
   "metadata": {
    "ExecuteTime": {
     "end_time": "2021-12-28T22:44:34.823923Z",
     "start_time": "2021-12-28T22:44:34.806921Z"
    }
   },
   "outputs": [],
   "source": [
    "# Salvando em um arquivo .csv\n",
    "saidaRecords.to_csv('AprioriMlxtend_'+ nomeArq + '.csv', encoding= 'ISO-8859-1', sep= ';', index=False)"
   ]
  },
  {
   "cell_type": "code",
   "execution_count": 335,
   "metadata": {
    "ExecuteTime": {
     "end_time": "2021-12-28T22:44:34.839926Z",
     "start_time": "2021-12-28T22:44:34.827921Z"
    }
   },
   "outputs": [],
   "source": [
    "# Gambiarra para atualizar o arquivo com os dados ordenados, de acordo com a célula anterior\n",
    "# saidaRecords = pd.read_csv(endereco + 'AprioriMlxtend_'+ 'ES_datatran' + anoArq + '.csv', encoding='ISO-8859-1', sep=';')"
   ]
  },
  {
   "cell_type": "code",
   "execution_count": 336,
   "metadata": {
    "ExecuteTime": {
     "end_time": "2021-12-28T22:44:34.855921Z",
     "start_time": "2021-12-28T22:44:34.843922Z"
    }
   },
   "outputs": [],
   "source": [
    "# Salvando em um arquivo .csv\n",
    "# saidaRecords.to_csv(endereco + 'AprioriMlxtend_'+ 'ES_datatran' + anoArq + '.csv', encoding= 'ISO-8859-1', sep= ';', index=False)"
   ]
  },
  {
   "cell_type": "markdown",
   "metadata": {
    "heading_collapsed": true
   },
   "source": [
    "### Filtro para facilitar a visualização dos resultados"
   ]
  },
  {
   "cell_type": "code",
   "execution_count": 337,
   "metadata": {
    "ExecuteTime": {
     "end_time": "2021-12-28T22:44:34.870921Z",
     "start_time": "2021-12-28T22:44:34.859923Z"
    },
    "hidden": true
   },
   "outputs": [],
   "source": [
    "# rules[ (rules['antecedent_len'] >= 2) &\n",
    "#        (rules['confidence'] > 0.75) &\n",
    "#        (rules['lift'] > 1.2) ]"
   ]
  },
  {
   "cell_type": "code",
   "execution_count": 338,
   "metadata": {
    "ExecuteTime": {
     "end_time": "2021-12-28T22:44:34.886921Z",
     "start_time": "2021-12-28T22:44:34.875924Z"
    },
    "hidden": true
   },
   "outputs": [],
   "source": [
    "# rules[rules['antecedents'] == {'Eggs', 'Kidney Beans'}]"
   ]
  },
  {
   "cell_type": "markdown",
   "metadata": {
    "heading_collapsed": true
   },
   "source": [
    "## Filtros modelos para serem utilizados no apriori"
   ]
  },
  {
   "cell_type": "code",
   "execution_count": 339,
   "metadata": {
    "ExecuteTime": {
     "end_time": "2021-12-28T22:44:34.901922Z",
     "start_time": "2021-12-28T22:44:34.890921Z"
    },
    "hidden": true
   },
   "outputs": [],
   "source": [
    "# saidaRecords[ (saidaRecords['antecedent_len'] >= 3 ) &\n",
    "#                    (saidaRecords['consequent_len'] >= 3) ]"
   ]
  },
  {
   "cell_type": "code",
   "execution_count": 340,
   "metadata": {
    "ExecuteTime": {
     "end_time": "2021-12-28T22:44:34.916922Z",
     "start_time": "2021-12-28T22:44:34.907921Z"
    },
    "hidden": true
   },
   "outputs": [],
   "source": [
    "# frequent_itemsets[ (frequent_itemsets['length'] == 2) &\n",
    "#                    (frequent_itemsets['support'] >= 0.8) ]"
   ]
  },
  {
   "cell_type": "code",
   "execution_count": 341,
   "metadata": {
    "ExecuteTime": {
     "end_time": "2021-12-28T22:44:34.932920Z",
     "start_time": "2021-12-28T22:44:34.921921Z"
    },
    "hidden": true
   },
   "outputs": [],
   "source": [
    "# frequent_itemsets[ frequent_itemsets['itemsets'] == {'Onion', 'Eggs'} ]"
   ]
  },
  {
   "cell_type": "markdown",
   "metadata": {
    "heading_collapsed": true
   },
   "source": [
    "# ATIVIDADES FUTURAS"
   ]
  },
  {
   "cell_type": "markdown",
   "metadata": {
    "hidden": true
   },
   "source": [
    "- Estudar os parâmetros do algoritmo apriori."
   ]
  },
  {
   "cell_type": "markdown",
   "metadata": {
    "ExecuteTime": {
     "end_time": "2021-10-15T04:58:39.889312Z",
     "start_time": "2021-10-15T04:54:45.534Z"
    },
    "hidden": true
   },
   "source": [
    "**[Resolvido]**\n",
    "- Analisar a saída do 'lift' e 'conviction'. \n",
    "***Resposta**: O problema está no momento que os dados 'lift' e 'conviction' são passados para o arquivo .csv.\n",
    "\n",
    "No Jupyter os dados estão sendo apresentados da maneira correta."
   ]
  },
  {
   "cell_type": "markdown",
   "metadata": {},
   "source": [
    "# Print Final"
   ]
  },
  {
   "cell_type": "code",
   "execution_count": 342,
   "metadata": {
    "ExecuteTime": {
     "end_time": "2021-12-28T22:44:34.948938Z",
     "start_time": "2021-12-28T22:44:34.937921Z"
    }
   },
   "outputs": [
    {
     "name": "stdout",
     "output_type": "stream",
     "text": [
      "TUDO EXECUTADO!\n"
     ]
    }
   ],
   "source": [
    "print(\"TUDO EXECUTADO!\")"
   ]
  }
 ],
 "metadata": {
  "kernelspec": {
   "display_name": "Python 3",
   "language": "python",
   "name": "python3"
  },
  "language_info": {
   "codemirror_mode": {
    "name": "ipython",
    "version": 3
   },
   "file_extension": ".py",
   "mimetype": "text/x-python",
   "name": "python",
   "nbconvert_exporter": "python",
   "pygments_lexer": "ipython3",
   "version": "3.8.5"
  }
 },
 "nbformat": 4,
 "nbformat_minor": 4
}
