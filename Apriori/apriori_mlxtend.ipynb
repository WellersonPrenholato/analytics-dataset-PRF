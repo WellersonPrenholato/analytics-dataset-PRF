{
 "cells": [
  {
   "cell_type": "markdown",
   "metadata": {
    "heading_collapsed": true
   },
   "source": [
    "### Execução do algoritmo Apriori - Biblioteca mlxtend\n",
    "http://rasbt.github.io/mlxtend/"
   ]
  },
  {
   "cell_type": "markdown",
   "metadata": {
    "heading_collapsed": true
   },
   "source": [
    "# Bibliotecas"
   ]
  },
  {
   "cell_type": "code",
   "execution_count": 431,
   "metadata": {
    "ExecuteTime": {
     "end_time": "2021-10-18T04:47:50.825955Z",
     "start_time": "2021-10-18T04:47:50.820956Z"
    },
    "hidden": true
   },
   "outputs": [],
   "source": [
    "import pandas as pd\n",
    "from mlxtend.preprocessing import TransactionEncoder\n",
    "from mlxtend.frequent_patterns import apriori, association_rules\n",
    "from decimal import Decimal"
   ]
  },
  {
   "cell_type": "markdown",
   "metadata": {
    "heading_collapsed": true
   },
   "source": [
    "# Carregamento dos Dados - .csv"
   ]
  },
  {
   "cell_type": "code",
   "execution_count": 432,
   "metadata": {
    "ExecuteTime": {
     "end_time": "2021-10-18T04:47:50.889951Z",
     "start_time": "2021-10-18T04:47:50.828952Z"
    },
    "hidden": true
   },
   "outputs": [],
   "source": [
    "endereco = '../BaseDadosSelecionados/'\n",
    "# endereco2 = 'Agrupado_Ocorrencia'\n",
    "nomeArq = 'ES_datatran2019_Apriori'"
   ]
  },
  {
   "cell_type": "code",
   "execution_count": 433,
   "metadata": {
    "ExecuteTime": {
     "end_time": "2021-10-18T04:47:50.952951Z",
     "start_time": "2021-10-18T04:47:50.893954Z"
    },
    "hidden": true
   },
   "outputs": [],
   "source": [
    "data = pd.read_csv(endereco + nomeArq + '.csv', encoding='ISO-8859-1', sep=';', header=None)"
   ]
  },
  {
   "cell_type": "code",
   "execution_count": 434,
   "metadata": {
    "ExecuteTime": {
     "end_time": "2021-10-18T04:47:50.969952Z",
     "start_time": "2021-10-18T04:47:50.956951Z"
    },
    "hidden": true
   },
   "outputs": [
    {
     "data": {
      "text/plain": [
       "(2842, 21)"
      ]
     },
     "execution_count": 434,
     "metadata": {},
     "output_type": "execute_result"
    }
   ],
   "source": [
    "data.shape"
   ]
  },
  {
   "cell_type": "code",
   "execution_count": 435,
   "metadata": {
    "ExecuteTime": {
     "end_time": "2021-10-18T04:47:51.075950Z",
     "start_time": "2021-10-18T04:47:50.980954Z"
    },
    "hidden": true
   },
   "outputs": [
    {
     "data": {
      "text/html": [
       "<div>\n",
       "<style scoped>\n",
       "    .dataframe tbody tr th:only-of-type {\n",
       "        vertical-align: middle;\n",
       "    }\n",
       "\n",
       "    .dataframe tbody tr th {\n",
       "        vertical-align: top;\n",
       "    }\n",
       "\n",
       "    .dataframe thead th {\n",
       "        text-align: right;\n",
       "    }\n",
       "</style>\n",
       "<table border=\"1\" class=\"dataframe\">\n",
       "  <thead>\n",
       "    <tr style=\"text-align: right;\">\n",
       "      <th></th>\n",
       "      <th>0</th>\n",
       "      <th>1</th>\n",
       "      <th>2</th>\n",
       "      <th>3</th>\n",
       "      <th>4</th>\n",
       "      <th>5</th>\n",
       "      <th>6</th>\n",
       "      <th>7</th>\n",
       "      <th>8</th>\n",
       "      <th>9</th>\n",
       "      <th>...</th>\n",
       "      <th>11</th>\n",
       "      <th>12</th>\n",
       "      <th>13</th>\n",
       "      <th>14</th>\n",
       "      <th>15</th>\n",
       "      <th>16</th>\n",
       "      <th>17</th>\n",
       "      <th>18</th>\n",
       "      <th>19</th>\n",
       "      <th>20</th>\n",
       "    </tr>\n",
       "  </thead>\n",
       "  <tbody>\n",
       "    <tr>\n",
       "      <th>0</th>\n",
       "      <td>dia_semana=terça-feira</td>\n",
       "      <td>br=101.0</td>\n",
       "      <td>km=121.3</td>\n",
       "      <td>municipio=SOORETAMA</td>\n",
       "      <td>causa_acidente=Condutor Dormindo</td>\n",
       "      <td>tipo_acidente=Colisão lateral</td>\n",
       "      <td>classificacao_acidente=Com Vítimas Feridas</td>\n",
       "      <td>fase_dia=Pleno dia</td>\n",
       "      <td>sentido_via=Crescente</td>\n",
       "      <td>condicao_metereologica=Céu Claro</td>\n",
       "      <td>...</td>\n",
       "      <td>tracado_via=Reta</td>\n",
       "      <td>uso_solo=0</td>\n",
       "      <td>pessoas=2</td>\n",
       "      <td>mortos=0</td>\n",
       "      <td>feridos_leves=0</td>\n",
       "      <td>feridos_graves=1</td>\n",
       "      <td>ilesos=1</td>\n",
       "      <td>ignorados=0</td>\n",
       "      <td>feridos=1</td>\n",
       "      <td>veiculos=2</td>\n",
       "    </tr>\n",
       "    <tr>\n",
       "      <th>1</th>\n",
       "      <td>dia_semana=terça-feira</td>\n",
       "      <td>br=262.0</td>\n",
       "      <td>km=95</td>\n",
       "      <td>municipio=DOMINGOS MARTINS</td>\n",
       "      <td>causa_acidente=Não guardar distância de segurança</td>\n",
       "      <td>tipo_acidente=Engavetamento</td>\n",
       "      <td>classificacao_acidente=Sem Vítimas</td>\n",
       "      <td>fase_dia=Pleno dia</td>\n",
       "      <td>sentido_via=Decrescente</td>\n",
       "      <td>condicao_metereologica=Céu Claro</td>\n",
       "      <td>...</td>\n",
       "      <td>tracado_via=Reta</td>\n",
       "      <td>uso_solo=1</td>\n",
       "      <td>pessoas=4</td>\n",
       "      <td>mortos=0</td>\n",
       "      <td>feridos_leves=0</td>\n",
       "      <td>feridos_graves=0</td>\n",
       "      <td>ilesos=4</td>\n",
       "      <td>ignorados=0</td>\n",
       "      <td>feridos=0</td>\n",
       "      <td>veiculos=4</td>\n",
       "    </tr>\n",
       "    <tr>\n",
       "      <th>2</th>\n",
       "      <td>dia_semana=terça-feira</td>\n",
       "      <td>br=101.0</td>\n",
       "      <td>km=77.1</td>\n",
       "      <td>municipio=SAO MATEUS</td>\n",
       "      <td>causa_acidente=Falta de Atenção à Condução</td>\n",
       "      <td>tipo_acidente=Colisão traseira</td>\n",
       "      <td>classificacao_acidente=Com Vítimas Feridas</td>\n",
       "      <td>fase_dia=Pleno dia</td>\n",
       "      <td>sentido_via=Decrescente</td>\n",
       "      <td>condicao_metereologica=Céu Claro</td>\n",
       "      <td>...</td>\n",
       "      <td>tracado_via=Desvio Temporário</td>\n",
       "      <td>uso_solo=0</td>\n",
       "      <td>pessoas=3</td>\n",
       "      <td>mortos=0</td>\n",
       "      <td>feridos_leves=1</td>\n",
       "      <td>feridos_graves=1</td>\n",
       "      <td>ilesos=1</td>\n",
       "      <td>ignorados=0</td>\n",
       "      <td>feridos=2</td>\n",
       "      <td>veiculos=2</td>\n",
       "    </tr>\n",
       "    <tr>\n",
       "      <th>3</th>\n",
       "      <td>dia_semana=terça-feira</td>\n",
       "      <td>br=101.0</td>\n",
       "      <td>km=299.2</td>\n",
       "      <td>municipio=VIANA</td>\n",
       "      <td>causa_acidente=Desobediência às normas de trân...</td>\n",
       "      <td>tipo_acidente=Colisão transversal</td>\n",
       "      <td>classificacao_acidente=Sem Vítimas</td>\n",
       "      <td>fase_dia=Anoitecer</td>\n",
       "      <td>sentido_via=Decrescente</td>\n",
       "      <td>condicao_metereologica=Céu Claro</td>\n",
       "      <td>...</td>\n",
       "      <td>tracado_via=Não Informado</td>\n",
       "      <td>uso_solo=1</td>\n",
       "      <td>pessoas=3</td>\n",
       "      <td>mortos=0</td>\n",
       "      <td>feridos_leves=0</td>\n",
       "      <td>feridos_graves=0</td>\n",
       "      <td>ilesos=3</td>\n",
       "      <td>ignorados=0</td>\n",
       "      <td>feridos=0</td>\n",
       "      <td>veiculos=2</td>\n",
       "    </tr>\n",
       "    <tr>\n",
       "      <th>4</th>\n",
       "      <td>dia_semana=terça-feira</td>\n",
       "      <td>br=262.0</td>\n",
       "      <td>km=168</td>\n",
       "      <td>municipio=IBATIBA</td>\n",
       "      <td>causa_acidente=Falta de Atenção à Condução</td>\n",
       "      <td>tipo_acidente=Queda de ocupante de veículo</td>\n",
       "      <td>classificacao_acidente=Com Vítimas Feridas</td>\n",
       "      <td>fase_dia=Anoitecer</td>\n",
       "      <td>sentido_via=Crescente</td>\n",
       "      <td>condicao_metereologica=Céu Claro</td>\n",
       "      <td>...</td>\n",
       "      <td>tracado_via=Reta</td>\n",
       "      <td>uso_solo=0</td>\n",
       "      <td>pessoas=1</td>\n",
       "      <td>mortos=0</td>\n",
       "      <td>feridos_leves=0</td>\n",
       "      <td>feridos_graves=1</td>\n",
       "      <td>ilesos=0</td>\n",
       "      <td>ignorados=0</td>\n",
       "      <td>feridos=1</td>\n",
       "      <td>veiculos=1</td>\n",
       "    </tr>\n",
       "  </tbody>\n",
       "</table>\n",
       "<p>5 rows × 21 columns</p>\n",
       "</div>"
      ],
      "text/plain": [
       "                       0         1         2                           3   \\\n",
       "0  dia_semana=terça-feira  br=101.0  km=121.3         municipio=SOORETAMA   \n",
       "1  dia_semana=terça-feira  br=262.0     km=95  municipio=DOMINGOS MARTINS   \n",
       "2  dia_semana=terça-feira  br=101.0   km=77.1        municipio=SAO MATEUS   \n",
       "3  dia_semana=terça-feira  br=101.0  km=299.2             municipio=VIANA   \n",
       "4  dia_semana=terça-feira  br=262.0    km=168           municipio=IBATIBA   \n",
       "\n",
       "                                                  4   \\\n",
       "0                   causa_acidente=Condutor Dormindo   \n",
       "1  causa_acidente=Não guardar distância de segurança   \n",
       "2         causa_acidente=Falta de Atenção à Condução   \n",
       "3  causa_acidente=Desobediência às normas de trân...   \n",
       "4         causa_acidente=Falta de Atenção à Condução   \n",
       "\n",
       "                                           5   \\\n",
       "0               tipo_acidente=Colisão lateral   \n",
       "1                 tipo_acidente=Engavetamento   \n",
       "2              tipo_acidente=Colisão traseira   \n",
       "3           tipo_acidente=Colisão transversal   \n",
       "4  tipo_acidente=Queda de ocupante de veículo   \n",
       "\n",
       "                                           6                   7   \\\n",
       "0  classificacao_acidente=Com Vítimas Feridas  fase_dia=Pleno dia   \n",
       "1          classificacao_acidente=Sem Vítimas  fase_dia=Pleno dia   \n",
       "2  classificacao_acidente=Com Vítimas Feridas  fase_dia=Pleno dia   \n",
       "3          classificacao_acidente=Sem Vítimas  fase_dia=Anoitecer   \n",
       "4  classificacao_acidente=Com Vítimas Feridas  fase_dia=Anoitecer   \n",
       "\n",
       "                        8                                 9   ...  \\\n",
       "0    sentido_via=Crescente  condicao_metereologica=Céu Claro  ...   \n",
       "1  sentido_via=Decrescente  condicao_metereologica=Céu Claro  ...   \n",
       "2  sentido_via=Decrescente  condicao_metereologica=Céu Claro  ...   \n",
       "3  sentido_via=Decrescente  condicao_metereologica=Céu Claro  ...   \n",
       "4    sentido_via=Crescente  condicao_metereologica=Céu Claro  ...   \n",
       "\n",
       "                              11          12         13        14  \\\n",
       "0               tracado_via=Reta  uso_solo=0  pessoas=2  mortos=0   \n",
       "1               tracado_via=Reta  uso_solo=1  pessoas=4  mortos=0   \n",
       "2  tracado_via=Desvio Temporário  uso_solo=0  pessoas=3  mortos=0   \n",
       "3      tracado_via=Não Informado  uso_solo=1  pessoas=3  mortos=0   \n",
       "4               tracado_via=Reta  uso_solo=0  pessoas=1  mortos=0   \n",
       "\n",
       "                15                16        17           18         19  \\\n",
       "0  feridos_leves=0  feridos_graves=1  ilesos=1  ignorados=0  feridos=1   \n",
       "1  feridos_leves=0  feridos_graves=0  ilesos=4  ignorados=0  feridos=0   \n",
       "2  feridos_leves=1  feridos_graves=1  ilesos=1  ignorados=0  feridos=2   \n",
       "3  feridos_leves=0  feridos_graves=0  ilesos=3  ignorados=0  feridos=0   \n",
       "4  feridos_leves=0  feridos_graves=1  ilesos=0  ignorados=0  feridos=1   \n",
       "\n",
       "           20  \n",
       "0  veiculos=2  \n",
       "1  veiculos=4  \n",
       "2  veiculos=2  \n",
       "3  veiculos=2  \n",
       "4  veiculos=1  \n",
       "\n",
       "[5 rows x 21 columns]"
      ]
     },
     "execution_count": 435,
     "metadata": {},
     "output_type": "execute_result"
    }
   ],
   "source": [
    "data.head(5)"
   ]
  },
  {
   "cell_type": "markdown",
   "metadata": {
    "heading_collapsed": true
   },
   "source": [
    "# Carregamento dos dados em uma matriz (Importante)"
   ]
  },
  {
   "cell_type": "code",
   "execution_count": 436,
   "metadata": {
    "ExecuteTime": {
     "end_time": "2021-10-18T04:47:52.065958Z",
     "start_time": "2021-10-18T04:47:51.079956Z"
    },
    "hidden": true
   },
   "outputs": [
    {
     "name": "stdout",
     "output_type": "stream",
     "text": [
      "Wall time: 934 ms\n"
     ]
    }
   ],
   "source": [
    "%%time\n",
    "# data.shape[0] LINHAS e data.shape[1] COLUNAS\n",
    "\n",
    "dataset = []\n",
    "for i in range(0, data.shape[0]):\n",
    "    dataset.append([str(data.values[i,j]) for j in range(0, data.shape[1])])"
   ]
  },
  {
   "cell_type": "code",
   "execution_count": 437,
   "metadata": {
    "ExecuteTime": {
     "end_time": "2021-10-18T04:47:52.080952Z",
     "start_time": "2021-10-18T04:47:52.075953Z"
    },
    "hidden": true
   },
   "outputs": [],
   "source": [
    "# dataset"
   ]
  },
  {
   "cell_type": "markdown",
   "metadata": {
    "heading_collapsed": true
   },
   "source": [
    "# Tratamento para a execução do algoritmo Apriori"
   ]
  },
  {
   "cell_type": "markdown",
   "metadata": {
    "hidden": true
   },
   "source": [
    "http://rasbt.github.io/mlxtend/user_guide/preprocessing/TransactionEncoder/"
   ]
  },
  {
   "cell_type": "code",
   "execution_count": 438,
   "metadata": {
    "ExecuteTime": {
     "end_time": "2021-10-18T04:47:52.111948Z",
     "start_time": "2021-10-18T04:47:52.085952Z"
    },
    "hidden": true
   },
   "outputs": [
    {
     "name": "stdout",
     "output_type": "stream",
     "text": [
      "Wall time: 0 ns\n"
     ]
    }
   ],
   "source": [
    "%%time\n",
    "te = TransactionEncoder()"
   ]
  },
  {
   "cell_type": "markdown",
   "metadata": {
    "heading_collapsed": true,
    "hidden": true
   },
   "source": [
    "## 1º Transformação - Representação para uma matriz de boleanos"
   ]
  },
  {
   "cell_type": "code",
   "execution_count": 439,
   "metadata": {
    "ExecuteTime": {
     "end_time": "2021-10-18T04:47:52.190950Z",
     "start_time": "2021-10-18T04:47:52.115950Z"
    },
    "hidden": true
   },
   "outputs": [
    {
     "name": "stdout",
     "output_type": "stream",
     "text": [
      "Wall time: 66 ms\n"
     ]
    }
   ],
   "source": [
    "%%time\n",
    "te_ary = te.fit(dataset).transform(dataset)\n",
    "df = pd.DataFrame(te_ary, columns=te.columns_)"
   ]
  },
  {
   "cell_type": "code",
   "execution_count": 440,
   "metadata": {
    "ExecuteTime": {
     "end_time": "2021-10-18T04:47:52.206954Z",
     "start_time": "2021-10-18T04:47:52.194957Z"
    },
    "hidden": true,
    "scrolled": false
   },
   "outputs": [],
   "source": [
    "# df"
   ]
  },
  {
   "cell_type": "markdown",
   "metadata": {
    "heading_collapsed": true,
    "hidden": true
   },
   "source": [
    "## 2ª Transformação - Representação esparsa\n",
    "Exemplo 3 - Trabalhando com representações esparsas - http://rasbt.github.io/mlxtend/user_guide/frequent_patterns/apriori/ "
   ]
  },
  {
   "cell_type": "code",
   "execution_count": 441,
   "metadata": {
    "ExecuteTime": {
     "end_time": "2021-10-18T04:47:52.222952Z",
     "start_time": "2021-10-18T04:47:52.211953Z"
    },
    "hidden": true
   },
   "outputs": [],
   "source": [
    "# %%time\n",
    "# oht_ary = te.fit(dataset).transform(dataset, sparse=True)\n",
    "# sparse_df = pd.DataFrame.sparse.from_spmatrix(oht_ary, columns=te.columns_)"
   ]
  },
  {
   "cell_type": "code",
   "execution_count": 442,
   "metadata": {
    "ExecuteTime": {
     "end_time": "2021-10-18T04:47:52.239950Z",
     "start_time": "2021-10-18T04:47:52.227951Z"
    },
    "hidden": true
   },
   "outputs": [],
   "source": [
    "# sparse_df"
   ]
  },
  {
   "cell_type": "markdown",
   "metadata": {},
   "source": [
    "# Execução do algoritmo apriori"
   ]
  },
  {
   "cell_type": "code",
   "execution_count": 443,
   "metadata": {
    "ExecuteTime": {
     "end_time": "2021-10-18T04:47:52.255954Z",
     "start_time": "2021-10-18T04:47:52.246954Z"
    }
   },
   "outputs": [],
   "source": [
    "numMinSupport = 0.1"
   ]
  },
  {
   "cell_type": "code",
   "execution_count": 444,
   "metadata": {
    "ExecuteTime": {
     "end_time": "2021-10-18T04:48:00.510540Z",
     "start_time": "2021-10-18T04:47:52.261952Z"
    }
   },
   "outputs": [
    {
     "name": "stdout",
     "output_type": "stream",
     "text": [
      "Wall time: 8.24 s\n"
     ]
    }
   ],
   "source": [
    "%%time\n",
    "# sparse_df\n",
    "frequent_itemsets = apriori(df, min_support=numMinSupport, use_colnames=True)"
   ]
  },
  {
   "cell_type": "code",
   "execution_count": 445,
   "metadata": {
    "ExecuteTime": {
     "end_time": "2021-10-18T04:48:00.526521Z",
     "start_time": "2021-10-18T04:48:00.516520Z"
    }
   },
   "outputs": [],
   "source": [
    "# frequent_itemsets"
   ]
  },
  {
   "cell_type": "code",
   "execution_count": 446,
   "metadata": {
    "ExecuteTime": {
     "end_time": "2021-10-18T04:48:00.542523Z",
     "start_time": "2021-10-18T04:48:00.535522Z"
    }
   },
   "outputs": [],
   "source": [
    "# metric = lift"
   ]
  },
  {
   "cell_type": "code",
   "execution_count": 447,
   "metadata": {
    "ExecuteTime": {
     "end_time": "2021-10-18T04:48:06.753057Z",
     "start_time": "2021-10-18T04:48:00.553524Z"
    }
   },
   "outputs": [
    {
     "name": "stdout",
     "output_type": "stream",
     "text": [
      "Wall time: 6.17 s\n"
     ]
    }
   ],
   "source": [
    "%%time\n",
    "association_rules_saida = association_rules(frequent_itemsets, metric=\"confidence\", min_threshold=1.0)\n",
    "# association_rules_saida = association_rules(frequent_itemsets)"
   ]
  },
  {
   "cell_type": "code",
   "execution_count": 448,
   "metadata": {
    "ExecuteTime": {
     "end_time": "2021-10-18T04:48:06.771053Z",
     "start_time": "2021-10-18T04:48:06.758050Z"
    }
   },
   "outputs": [],
   "source": [
    "saidaRecords = pd.DataFrame(association_rules_saida)"
   ]
  },
  {
   "cell_type": "markdown",
   "metadata": {},
   "source": [
    "## Método para contabilizaro número de consequentes e antecedentes em cada regra"
   ]
  },
  {
   "cell_type": "code",
   "execution_count": 449,
   "metadata": {
    "ExecuteTime": {
     "end_time": "2021-10-18T04:48:06.940051Z",
     "start_time": "2021-10-18T04:48:06.795050Z"
    }
   },
   "outputs": [],
   "source": [
    "# Cria duas novas colunas contabilizando os antecedentes e consequents\n",
    "saidaRecords[\"antecedent_len\"] = saidaRecords[\"antecedents\"].apply(lambda x: len(x))\n",
    "saidaRecords[\"consequent_len\"] = saidaRecords[\"consequents\"].apply(lambda x: len(x))"
   ]
  },
  {
   "cell_type": "markdown",
   "metadata": {},
   "source": [
    "## Filtro"
   ]
  },
  {
   "cell_type": "code",
   "execution_count": 450,
   "metadata": {
    "ExecuteTime": {
     "end_time": "2021-10-18T04:48:06.990057Z",
     "start_time": "2021-10-18T04:48:06.949049Z"
    }
   },
   "outputs": [],
   "source": [
    "saidaRecords = saidaRecords[ (saidaRecords['antecedent_len'] >= 3 ) & (saidaRecords['consequent_len'] >= 3) ] # & (saidaRecords['support'] >= 0.5) "
   ]
  },
  {
   "cell_type": "code",
   "execution_count": 451,
   "metadata": {
    "ExecuteTime": {
     "end_time": "2021-10-18T04:48:07.036053Z",
     "start_time": "2021-10-18T04:48:07.014051Z"
    }
   },
   "outputs": [],
   "source": [
    "# saidaRecords = saidaRecords[(saidaRecords['support'] >= 0.6)]"
   ]
  },
  {
   "cell_type": "code",
   "execution_count": 452,
   "metadata": {
    "ExecuteTime": {
     "end_time": "2021-10-18T04:48:07.127051Z",
     "start_time": "2021-10-18T04:48:07.047054Z"
    },
    "scrolled": true
   },
   "outputs": [
    {
     "data": {
      "text/html": [
       "<div>\n",
       "<style scoped>\n",
       "    .dataframe tbody tr th:only-of-type {\n",
       "        vertical-align: middle;\n",
       "    }\n",
       "\n",
       "    .dataframe tbody tr th {\n",
       "        vertical-align: top;\n",
       "    }\n",
       "\n",
       "    .dataframe thead th {\n",
       "        text-align: right;\n",
       "    }\n",
       "</style>\n",
       "<table border=\"1\" class=\"dataframe\">\n",
       "  <thead>\n",
       "    <tr style=\"text-align: right;\">\n",
       "      <th></th>\n",
       "      <th>antecedents</th>\n",
       "      <th>consequents</th>\n",
       "      <th>antecedent support</th>\n",
       "      <th>consequent support</th>\n",
       "      <th>support</th>\n",
       "      <th>confidence</th>\n",
       "      <th>lift</th>\n",
       "      <th>leverage</th>\n",
       "      <th>conviction</th>\n",
       "      <th>antecedent_len</th>\n",
       "      <th>consequent_len</th>\n",
       "    </tr>\n",
       "  </thead>\n",
       "  <tbody>\n",
       "    <tr>\n",
       "      <th>4073</th>\n",
       "      <td>(feridos=1, br=101.0, pessoas=1)</td>\n",
       "      <td>(ignorados=0, ilesos=0, classificacao_acidente...</td>\n",
       "      <td>0.130542</td>\n",
       "      <td>0.286066</td>\n",
       "      <td>0.130542</td>\n",
       "      <td>1.0</td>\n",
       "      <td>3.495695</td>\n",
       "      <td>0.093198</td>\n",
       "      <td>inf</td>\n",
       "      <td>3</td>\n",
       "      <td>3</td>\n",
       "    </tr>\n",
       "    <tr>\n",
       "      <th>4074</th>\n",
       "      <td>(pessoas=1, br=101.0, classificacao_acidente=C...</td>\n",
       "      <td>(ignorados=0, feridos=1, ilesos=0)</td>\n",
       "      <td>0.130542</td>\n",
       "      <td>0.183673</td>\n",
       "      <td>0.130542</td>\n",
       "      <td>1.0</td>\n",
       "      <td>5.444444</td>\n",
       "      <td>0.106565</td>\n",
       "      <td>inf</td>\n",
       "      <td>3</td>\n",
       "      <td>3</td>\n",
       "    </tr>\n",
       "    <tr>\n",
       "      <th>4101</th>\n",
       "      <td>(feridos=1, br=101.0, pessoas=1)</td>\n",
       "      <td>(ignorados=0, mortos=0, classificacao_acidente...</td>\n",
       "      <td>0.130542</td>\n",
       "      <td>0.732231</td>\n",
       "      <td>0.130542</td>\n",
       "      <td>1.0</td>\n",
       "      <td>1.365690</td>\n",
       "      <td>0.034955</td>\n",
       "      <td>inf</td>\n",
       "      <td>3</td>\n",
       "      <td>3</td>\n",
       "    </tr>\n",
       "    <tr>\n",
       "      <th>4102</th>\n",
       "      <td>(pessoas=1, br=101.0, classificacao_acidente=C...</td>\n",
       "      <td>(ignorados=0, feridos=1, mortos=0)</td>\n",
       "      <td>0.130542</td>\n",
       "      <td>0.525686</td>\n",
       "      <td>0.130542</td>\n",
       "      <td>1.0</td>\n",
       "      <td>1.902276</td>\n",
       "      <td>0.061918</td>\n",
       "      <td>inf</td>\n",
       "      <td>3</td>\n",
       "      <td>3</td>\n",
       "    </tr>\n",
       "    <tr>\n",
       "      <th>4132</th>\n",
       "      <td>(feridos=1, br=101.0, pessoas=1)</td>\n",
       "      <td>(ignorados=0, veiculos=1, classificacao_aciden...</td>\n",
       "      <td>0.130542</td>\n",
       "      <td>0.294511</td>\n",
       "      <td>0.130542</td>\n",
       "      <td>1.0</td>\n",
       "      <td>3.395460</td>\n",
       "      <td>0.092096</td>\n",
       "      <td>inf</td>\n",
       "      <td>3</td>\n",
       "      <td>3</td>\n",
       "    </tr>\n",
       "    <tr>\n",
       "      <th>4133</th>\n",
       "      <td>(pessoas=1, br=101.0, classificacao_acidente=C...</td>\n",
       "      <td>(feridos=1, veiculos=1, ignorados=0)</td>\n",
       "      <td>0.130542</td>\n",
       "      <td>0.224842</td>\n",
       "      <td>0.130542</td>\n",
       "      <td>1.0</td>\n",
       "      <td>4.447574</td>\n",
       "      <td>0.101191</td>\n",
       "      <td>inf</td>\n",
       "      <td>3</td>\n",
       "      <td>3</td>\n",
       "    </tr>\n",
       "    <tr>\n",
       "      <th>4145</th>\n",
       "      <td>(br=101.0, feridos=1, pessoas=1)</td>\n",
       "      <td>(mortos=0, ilesos=0, classificacao_acidente=Co...</td>\n",
       "      <td>0.130542</td>\n",
       "      <td>0.346587</td>\n",
       "      <td>0.130542</td>\n",
       "      <td>1.0</td>\n",
       "      <td>2.885279</td>\n",
       "      <td>0.085298</td>\n",
       "      <td>inf</td>\n",
       "      <td>3</td>\n",
       "      <td>3</td>\n",
       "    </tr>\n",
       "    <tr>\n",
       "      <th>4146</th>\n",
       "      <td>(pessoas=1, br=101.0, classificacao_acidente=C...</td>\n",
       "      <td>(feridos=1, mortos=0, ilesos=0)</td>\n",
       "      <td>0.130542</td>\n",
       "      <td>0.225897</td>\n",
       "      <td>0.130542</td>\n",
       "      <td>1.0</td>\n",
       "      <td>4.426791</td>\n",
       "      <td>0.101053</td>\n",
       "      <td>inf</td>\n",
       "      <td>3</td>\n",
       "      <td>3</td>\n",
       "    </tr>\n",
       "    <tr>\n",
       "      <th>4160</th>\n",
       "      <td>(br=101.0, feridos=1, pessoas=1)</td>\n",
       "      <td>(veiculos=1, ilesos=0, classificacao_acidente=...</td>\n",
       "      <td>0.130542</td>\n",
       "      <td>0.260732</td>\n",
       "      <td>0.130542</td>\n",
       "      <td>1.0</td>\n",
       "      <td>3.835358</td>\n",
       "      <td>0.096505</td>\n",
       "      <td>inf</td>\n",
       "      <td>3</td>\n",
       "      <td>3</td>\n",
       "    </tr>\n",
       "    <tr>\n",
       "      <th>4161</th>\n",
       "      <td>(pessoas=1, br=101.0, classificacao_acidente=C...</td>\n",
       "      <td>(veiculos=1, feridos=1, ilesos=0)</td>\n",
       "      <td>0.130542</td>\n",
       "      <td>0.194581</td>\n",
       "      <td>0.130542</td>\n",
       "      <td>1.0</td>\n",
       "      <td>5.139241</td>\n",
       "      <td>0.105141</td>\n",
       "      <td>inf</td>\n",
       "      <td>3</td>\n",
       "      <td>3</td>\n",
       "    </tr>\n",
       "  </tbody>\n",
       "</table>\n",
       "</div>"
      ],
      "text/plain": [
       "                                            antecedents  \\\n",
       "4073                   (feridos=1, br=101.0, pessoas=1)   \n",
       "4074  (pessoas=1, br=101.0, classificacao_acidente=C...   \n",
       "4101                   (feridos=1, br=101.0, pessoas=1)   \n",
       "4102  (pessoas=1, br=101.0, classificacao_acidente=C...   \n",
       "4132                   (feridos=1, br=101.0, pessoas=1)   \n",
       "4133  (pessoas=1, br=101.0, classificacao_acidente=C...   \n",
       "4145                   (br=101.0, feridos=1, pessoas=1)   \n",
       "4146  (pessoas=1, br=101.0, classificacao_acidente=C...   \n",
       "4160                   (br=101.0, feridos=1, pessoas=1)   \n",
       "4161  (pessoas=1, br=101.0, classificacao_acidente=C...   \n",
       "\n",
       "                                            consequents  antecedent support  \\\n",
       "4073  (ignorados=0, ilesos=0, classificacao_acidente...            0.130542   \n",
       "4074                 (ignorados=0, feridos=1, ilesos=0)            0.130542   \n",
       "4101  (ignorados=0, mortos=0, classificacao_acidente...            0.130542   \n",
       "4102                 (ignorados=0, feridos=1, mortos=0)            0.130542   \n",
       "4132  (ignorados=0, veiculos=1, classificacao_aciden...            0.130542   \n",
       "4133               (feridos=1, veiculos=1, ignorados=0)            0.130542   \n",
       "4145  (mortos=0, ilesos=0, classificacao_acidente=Co...            0.130542   \n",
       "4146                    (feridos=1, mortos=0, ilesos=0)            0.130542   \n",
       "4160  (veiculos=1, ilesos=0, classificacao_acidente=...            0.130542   \n",
       "4161                  (veiculos=1, feridos=1, ilesos=0)            0.130542   \n",
       "\n",
       "      consequent support   support  confidence      lift  leverage  \\\n",
       "4073            0.286066  0.130542         1.0  3.495695  0.093198   \n",
       "4074            0.183673  0.130542         1.0  5.444444  0.106565   \n",
       "4101            0.732231  0.130542         1.0  1.365690  0.034955   \n",
       "4102            0.525686  0.130542         1.0  1.902276  0.061918   \n",
       "4132            0.294511  0.130542         1.0  3.395460  0.092096   \n",
       "4133            0.224842  0.130542         1.0  4.447574  0.101191   \n",
       "4145            0.346587  0.130542         1.0  2.885279  0.085298   \n",
       "4146            0.225897  0.130542         1.0  4.426791  0.101053   \n",
       "4160            0.260732  0.130542         1.0  3.835358  0.096505   \n",
       "4161            0.194581  0.130542         1.0  5.139241  0.105141   \n",
       "\n",
       "      conviction  antecedent_len  consequent_len  \n",
       "4073         inf               3               3  \n",
       "4074         inf               3               3  \n",
       "4101         inf               3               3  \n",
       "4102         inf               3               3  \n",
       "4132         inf               3               3  \n",
       "4133         inf               3               3  \n",
       "4145         inf               3               3  \n",
       "4146         inf               3               3  \n",
       "4160         inf               3               3  \n",
       "4161         inf               3               3  "
      ]
     },
     "execution_count": 452,
     "metadata": {},
     "output_type": "execute_result"
    }
   ],
   "source": [
    "saidaRecords.head()"
   ]
  },
  {
   "cell_type": "code",
   "execution_count": 453,
   "metadata": {
    "ExecuteTime": {
     "end_time": "2021-10-18T04:48:07.175049Z",
     "start_time": "2021-10-18T04:48:07.132050Z"
    }
   },
   "outputs": [
    {
     "data": {
      "text/plain": [
       "antecedents           (pessoas=2, uso_solo=1, feridos_leves=1, veicu...\n",
       "consequents           (feridos=1, mortos=0, classificacao_acidente=C...\n",
       "antecedent support                                             0.267065\n",
       "consequent support                                             0.732231\n",
       "support                                                        0.267065\n",
       "confidence                                                            1\n",
       "lift                                                            8.00563\n",
       "leverage                                                       0.148373\n",
       "conviction                                                          inf\n",
       "antecedent_len                                                        7\n",
       "consequent_len                                                        6\n",
       "dtype: object"
      ]
     },
     "execution_count": 453,
     "metadata": {},
     "output_type": "execute_result"
    }
   ],
   "source": [
    "saidaRecords.max()"
   ]
  },
  {
   "cell_type": "markdown",
   "metadata": {},
   "source": [
    "## Salvando os resultados do algoritmo em um .csv"
   ]
  },
  {
   "cell_type": "code",
   "execution_count": 454,
   "metadata": {
    "ExecuteTime": {
     "end_time": "2021-10-18T04:48:07.301051Z",
     "start_time": "2021-10-18T04:48:07.180052Z"
    },
    "scrolled": true
   },
   "outputs": [
    {
     "data": {
      "text/html": [
       "<div>\n",
       "<style scoped>\n",
       "    .dataframe tbody tr th:only-of-type {\n",
       "        vertical-align: middle;\n",
       "    }\n",
       "\n",
       "    .dataframe tbody tr th {\n",
       "        vertical-align: top;\n",
       "    }\n",
       "\n",
       "    .dataframe thead th {\n",
       "        text-align: right;\n",
       "    }\n",
       "</style>\n",
       "<table border=\"1\" class=\"dataframe\">\n",
       "  <thead>\n",
       "    <tr style=\"text-align: right;\">\n",
       "      <th></th>\n",
       "      <th>antecedents</th>\n",
       "      <th>consequents</th>\n",
       "      <th>antecedent support</th>\n",
       "      <th>consequent support</th>\n",
       "      <th>support</th>\n",
       "      <th>confidence</th>\n",
       "      <th>lift</th>\n",
       "      <th>leverage</th>\n",
       "      <th>conviction</th>\n",
       "      <th>antecedent_len</th>\n",
       "      <th>consequent_len</th>\n",
       "    </tr>\n",
       "  </thead>\n",
       "  <tbody>\n",
       "    <tr>\n",
       "      <th>4073</th>\n",
       "      <td>(feridos=1, br=101.0, pessoas=1)</td>\n",
       "      <td>(ignorados=0, ilesos=0, classificacao_acidente...</td>\n",
       "      <td>0.130542</td>\n",
       "      <td>0.286066</td>\n",
       "      <td>0.130542</td>\n",
       "      <td>1.0</td>\n",
       "      <td>3.495695</td>\n",
       "      <td>0.093198</td>\n",
       "      <td>inf</td>\n",
       "      <td>3</td>\n",
       "      <td>3</td>\n",
       "    </tr>\n",
       "    <tr>\n",
       "      <th>4074</th>\n",
       "      <td>(pessoas=1, br=101.0, classificacao_acidente=C...</td>\n",
       "      <td>(ignorados=0, feridos=1, ilesos=0)</td>\n",
       "      <td>0.130542</td>\n",
       "      <td>0.183673</td>\n",
       "      <td>0.130542</td>\n",
       "      <td>1.0</td>\n",
       "      <td>5.444444</td>\n",
       "      <td>0.106565</td>\n",
       "      <td>inf</td>\n",
       "      <td>3</td>\n",
       "      <td>3</td>\n",
       "    </tr>\n",
       "    <tr>\n",
       "      <th>4101</th>\n",
       "      <td>(feridos=1, br=101.0, pessoas=1)</td>\n",
       "      <td>(ignorados=0, mortos=0, classificacao_acidente...</td>\n",
       "      <td>0.130542</td>\n",
       "      <td>0.732231</td>\n",
       "      <td>0.130542</td>\n",
       "      <td>1.0</td>\n",
       "      <td>1.365690</td>\n",
       "      <td>0.034955</td>\n",
       "      <td>inf</td>\n",
       "      <td>3</td>\n",
       "      <td>3</td>\n",
       "    </tr>\n",
       "    <tr>\n",
       "      <th>4102</th>\n",
       "      <td>(pessoas=1, br=101.0, classificacao_acidente=C...</td>\n",
       "      <td>(ignorados=0, feridos=1, mortos=0)</td>\n",
       "      <td>0.130542</td>\n",
       "      <td>0.525686</td>\n",
       "      <td>0.130542</td>\n",
       "      <td>1.0</td>\n",
       "      <td>1.902276</td>\n",
       "      <td>0.061918</td>\n",
       "      <td>inf</td>\n",
       "      <td>3</td>\n",
       "      <td>3</td>\n",
       "    </tr>\n",
       "    <tr>\n",
       "      <th>4132</th>\n",
       "      <td>(feridos=1, br=101.0, pessoas=1)</td>\n",
       "      <td>(ignorados=0, veiculos=1, classificacao_aciden...</td>\n",
       "      <td>0.130542</td>\n",
       "      <td>0.294511</td>\n",
       "      <td>0.130542</td>\n",
       "      <td>1.0</td>\n",
       "      <td>3.395460</td>\n",
       "      <td>0.092096</td>\n",
       "      <td>inf</td>\n",
       "      <td>3</td>\n",
       "      <td>3</td>\n",
       "    </tr>\n",
       "    <tr>\n",
       "      <th>4133</th>\n",
       "      <td>(pessoas=1, br=101.0, classificacao_acidente=C...</td>\n",
       "      <td>(feridos=1, veiculos=1, ignorados=0)</td>\n",
       "      <td>0.130542</td>\n",
       "      <td>0.224842</td>\n",
       "      <td>0.130542</td>\n",
       "      <td>1.0</td>\n",
       "      <td>4.447574</td>\n",
       "      <td>0.101191</td>\n",
       "      <td>inf</td>\n",
       "      <td>3</td>\n",
       "      <td>3</td>\n",
       "    </tr>\n",
       "    <tr>\n",
       "      <th>4145</th>\n",
       "      <td>(br=101.0, feridos=1, pessoas=1)</td>\n",
       "      <td>(mortos=0, ilesos=0, classificacao_acidente=Co...</td>\n",
       "      <td>0.130542</td>\n",
       "      <td>0.346587</td>\n",
       "      <td>0.130542</td>\n",
       "      <td>1.0</td>\n",
       "      <td>2.885279</td>\n",
       "      <td>0.085298</td>\n",
       "      <td>inf</td>\n",
       "      <td>3</td>\n",
       "      <td>3</td>\n",
       "    </tr>\n",
       "    <tr>\n",
       "      <th>4146</th>\n",
       "      <td>(pessoas=1, br=101.0, classificacao_acidente=C...</td>\n",
       "      <td>(feridos=1, mortos=0, ilesos=0)</td>\n",
       "      <td>0.130542</td>\n",
       "      <td>0.225897</td>\n",
       "      <td>0.130542</td>\n",
       "      <td>1.0</td>\n",
       "      <td>4.426791</td>\n",
       "      <td>0.101053</td>\n",
       "      <td>inf</td>\n",
       "      <td>3</td>\n",
       "      <td>3</td>\n",
       "    </tr>\n",
       "    <tr>\n",
       "      <th>4160</th>\n",
       "      <td>(br=101.0, feridos=1, pessoas=1)</td>\n",
       "      <td>(veiculos=1, ilesos=0, classificacao_acidente=...</td>\n",
       "      <td>0.130542</td>\n",
       "      <td>0.260732</td>\n",
       "      <td>0.130542</td>\n",
       "      <td>1.0</td>\n",
       "      <td>3.835358</td>\n",
       "      <td>0.096505</td>\n",
       "      <td>inf</td>\n",
       "      <td>3</td>\n",
       "      <td>3</td>\n",
       "    </tr>\n",
       "    <tr>\n",
       "      <th>4161</th>\n",
       "      <td>(pessoas=1, br=101.0, classificacao_acidente=C...</td>\n",
       "      <td>(veiculos=1, feridos=1, ilesos=0)</td>\n",
       "      <td>0.130542</td>\n",
       "      <td>0.194581</td>\n",
       "      <td>0.130542</td>\n",
       "      <td>1.0</td>\n",
       "      <td>5.139241</td>\n",
       "      <td>0.105141</td>\n",
       "      <td>inf</td>\n",
       "      <td>3</td>\n",
       "      <td>3</td>\n",
       "    </tr>\n",
       "  </tbody>\n",
       "</table>\n",
       "</div>"
      ],
      "text/plain": [
       "                                            antecedents  \\\n",
       "4073                   (feridos=1, br=101.0, pessoas=1)   \n",
       "4074  (pessoas=1, br=101.0, classificacao_acidente=C...   \n",
       "4101                   (feridos=1, br=101.0, pessoas=1)   \n",
       "4102  (pessoas=1, br=101.0, classificacao_acidente=C...   \n",
       "4132                   (feridos=1, br=101.0, pessoas=1)   \n",
       "4133  (pessoas=1, br=101.0, classificacao_acidente=C...   \n",
       "4145                   (br=101.0, feridos=1, pessoas=1)   \n",
       "4146  (pessoas=1, br=101.0, classificacao_acidente=C...   \n",
       "4160                   (br=101.0, feridos=1, pessoas=1)   \n",
       "4161  (pessoas=1, br=101.0, classificacao_acidente=C...   \n",
       "\n",
       "                                            consequents  antecedent support  \\\n",
       "4073  (ignorados=0, ilesos=0, classificacao_acidente...            0.130542   \n",
       "4074                 (ignorados=0, feridos=1, ilesos=0)            0.130542   \n",
       "4101  (ignorados=0, mortos=0, classificacao_acidente...            0.130542   \n",
       "4102                 (ignorados=0, feridos=1, mortos=0)            0.130542   \n",
       "4132  (ignorados=0, veiculos=1, classificacao_aciden...            0.130542   \n",
       "4133               (feridos=1, veiculos=1, ignorados=0)            0.130542   \n",
       "4145  (mortos=0, ilesos=0, classificacao_acidente=Co...            0.130542   \n",
       "4146                    (feridos=1, mortos=0, ilesos=0)            0.130542   \n",
       "4160  (veiculos=1, ilesos=0, classificacao_acidente=...            0.130542   \n",
       "4161                  (veiculos=1, feridos=1, ilesos=0)            0.130542   \n",
       "\n",
       "      consequent support   support  confidence      lift  leverage  \\\n",
       "4073            0.286066  0.130542         1.0  3.495695  0.093198   \n",
       "4074            0.183673  0.130542         1.0  5.444444  0.106565   \n",
       "4101            0.732231  0.130542         1.0  1.365690  0.034955   \n",
       "4102            0.525686  0.130542         1.0  1.902276  0.061918   \n",
       "4132            0.294511  0.130542         1.0  3.395460  0.092096   \n",
       "4133            0.224842  0.130542         1.0  4.447574  0.101191   \n",
       "4145            0.346587  0.130542         1.0  2.885279  0.085298   \n",
       "4146            0.225897  0.130542         1.0  4.426791  0.101053   \n",
       "4160            0.260732  0.130542         1.0  3.835358  0.096505   \n",
       "4161            0.194581  0.130542         1.0  5.139241  0.105141   \n",
       "\n",
       "      conviction  antecedent_len  consequent_len  \n",
       "4073         inf               3               3  \n",
       "4074         inf               3               3  \n",
       "4101         inf               3               3  \n",
       "4102         inf               3               3  \n",
       "4132         inf               3               3  \n",
       "4133         inf               3               3  \n",
       "4145         inf               3               3  \n",
       "4146         inf               3               3  \n",
       "4160         inf               3               3  \n",
       "4161         inf               3               3  "
      ]
     },
     "execution_count": 454,
     "metadata": {},
     "output_type": "execute_result"
    }
   ],
   "source": [
    "saidaRecords.head()"
   ]
  },
  {
   "cell_type": "code",
   "execution_count": 455,
   "metadata": {
    "ExecuteTime": {
     "end_time": "2021-10-18T04:48:08.231359Z",
     "start_time": "2021-10-18T04:48:07.316052Z"
    }
   },
   "outputs": [],
   "source": [
    "# Salvando em um arquivo .csv\n",
    "saidaRecords.to_csv('AprioriMlxtend_'+ nomeArq + '.csv', encoding= 'ISO-8859-1', sep= ';', index=False)"
   ]
  },
  {
   "cell_type": "code",
   "execution_count": 456,
   "metadata": {
    "ExecuteTime": {
     "end_time": "2021-10-18T04:48:08.294363Z",
     "start_time": "2021-10-18T04:48:08.271359Z"
    }
   },
   "outputs": [],
   "source": [
    "# saidaRecords.to_excel('XXXAprioriMlxtend3_'+ nomeArq + '.xlsx', index=False)"
   ]
  },
  {
   "cell_type": "code",
   "execution_count": 457,
   "metadata": {
    "ExecuteTime": {
     "end_time": "2021-10-18T04:48:08.373360Z",
     "start_time": "2021-10-18T04:48:08.305362Z"
    }
   },
   "outputs": [],
   "source": [
    "# Gambiarra para atualizar o arquivo com os dados ordenados, de acordo com a célula anterior\n",
    "# saidaRecords = pd.read_csv('AprioriMlxtend3_'+ nomeArq + '.csv', encoding='ISO-8859-1', sep=';')"
   ]
  },
  {
   "cell_type": "markdown",
   "metadata": {
    "heading_collapsed": true
   },
   "source": [
    "### Filtro para facilitar a visualização dos resultados"
   ]
  },
  {
   "cell_type": "code",
   "execution_count": 458,
   "metadata": {
    "ExecuteTime": {
     "end_time": "2021-10-18T04:48:08.388360Z",
     "start_time": "2021-10-18T04:48:08.379359Z"
    },
    "hidden": true
   },
   "outputs": [],
   "source": [
    "# rules[ (rules['antecedent_len'] >= 2) &\n",
    "#        (rules['confidence'] > 0.75) &\n",
    "#        (rules['lift'] > 1.2) ]"
   ]
  },
  {
   "cell_type": "code",
   "execution_count": 459,
   "metadata": {
    "ExecuteTime": {
     "end_time": "2021-10-18T04:48:08.408359Z",
     "start_time": "2021-10-18T04:48:08.395360Z"
    },
    "hidden": true
   },
   "outputs": [],
   "source": [
    "# rules[rules['antecedents'] == {'Eggs', 'Kidney Beans'}]"
   ]
  },
  {
   "cell_type": "markdown",
   "metadata": {
    "heading_collapsed": true
   },
   "source": [
    "## Filtros modelos para serem utilizados no apriori"
   ]
  },
  {
   "cell_type": "code",
   "execution_count": 460,
   "metadata": {
    "ExecuteTime": {
     "end_time": "2021-10-18T04:48:08.419360Z",
     "start_time": "2021-10-18T04:48:08.413357Z"
    },
    "hidden": true
   },
   "outputs": [],
   "source": [
    "# saidaRecords[ (saidaRecords['antecedent_len'] >= 3 ) &\n",
    "#                    (saidaRecords['consequent_len'] >= 3) ]"
   ]
  },
  {
   "cell_type": "code",
   "execution_count": 461,
   "metadata": {
    "ExecuteTime": {
     "end_time": "2021-10-18T04:48:08.467358Z",
     "start_time": "2021-10-18T04:48:08.427359Z"
    },
    "hidden": true
   },
   "outputs": [],
   "source": [
    "# frequent_itemsets[ (frequent_itemsets['length'] == 2) &\n",
    "#                    (frequent_itemsets['support'] >= 0.8) ]"
   ]
  },
  {
   "cell_type": "code",
   "execution_count": 462,
   "metadata": {
    "ExecuteTime": {
     "end_time": "2021-10-18T04:48:08.499362Z",
     "start_time": "2021-10-18T04:48:08.476362Z"
    },
    "hidden": true
   },
   "outputs": [],
   "source": [
    "# frequent_itemsets[ frequent_itemsets['itemsets'] == {'Onion', 'Eggs'} ]"
   ]
  },
  {
   "cell_type": "markdown",
   "metadata": {},
   "source": [
    "# ATIVIDADES FUTURAS"
   ]
  },
  {
   "cell_type": "markdown",
   "metadata": {},
   "source": [
    "- Verificar se a coluna ['ignorados'] é necessária para analisar os resultados. <br>\n",
    "Analisar o significado da coluna 'ignorados' no site da PRF. Ou no arquivo de descrição de tabelas.\n",
    "***Resposta** : No link do anuário 2020, lá é apresentado alguns detalhes dos dados."
   ]
  },
  {
   "cell_type": "markdown",
   "metadata": {},
   "source": [
    "- Estudar os parâmetros do algoritmo apriori."
   ]
  },
  {
   "cell_type": "markdown",
   "metadata": {
    "ExecuteTime": {
     "end_time": "2021-10-07T05:51:12.535816Z",
     "start_time": "2021-10-07T05:51:12.514839Z"
    }
   },
   "source": [
    "- Analisar e entende melhor a coluna 'pessoas'."
   ]
  },
  {
   "cell_type": "markdown",
   "metadata": {
    "ExecuteTime": {
     "end_time": "2021-10-15T04:58:39.889312Z",
     "start_time": "2021-10-15T04:54:45.534Z"
    }
   },
   "source": [
    "- Analisar a saída do 'lift' e 'conviction'.\n",
    "***Resposta**: O problema está no momento que os dados 'lift' e 'conviction' são passados para o arquivo .csv.\n",
    "\n",
    "No Jupyter os dados estão sendo apresentados da maneira correta."
   ]
  },
  {
   "cell_type": "markdown",
   "metadata": {},
   "source": [
    "# Print Final"
   ]
  },
  {
   "cell_type": "code",
   "execution_count": 463,
   "metadata": {
    "ExecuteTime": {
     "end_time": "2021-10-18T04:48:08.530360Z",
     "start_time": "2021-10-18T04:48:08.509359Z"
    }
   },
   "outputs": [
    {
     "name": "stdout",
     "output_type": "stream",
     "text": [
      "TUDO EXECUTADO!\n"
     ]
    }
   ],
   "source": [
    "print(\"TUDO EXECUTADO!\")"
   ]
  }
 ],
 "metadata": {
  "kernelspec": {
   "display_name": "Python 3",
   "language": "python",
   "name": "python3"
  },
  "language_info": {
   "codemirror_mode": {
    "name": "ipython",
    "version": 3
   },
   "file_extension": ".py",
   "mimetype": "text/x-python",
   "name": "python",
   "nbconvert_exporter": "python",
   "pygments_lexer": "ipython3",
   "version": "3.8.5"
  }
 },
 "nbformat": 4,
 "nbformat_minor": 4
}
