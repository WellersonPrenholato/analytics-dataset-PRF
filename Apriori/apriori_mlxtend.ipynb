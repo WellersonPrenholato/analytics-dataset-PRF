{
 "cells": [
  {
   "cell_type": "markdown",
   "metadata": {
    "heading_collapsed": true
   },
   "source": [
    "### Execução do algoritmo Apriori - Biblioteca mlxtend\n",
    "http://rasbt.github.io/mlxtend/"
   ]
  },
  {
   "cell_type": "markdown",
   "metadata": {
    "heading_collapsed": true
   },
   "source": [
    "# Bibliotecas"
   ]
  },
  {
   "cell_type": "code",
   "execution_count": 195,
   "metadata": {
    "ExecuteTime": {
     "end_time": "2021-11-06T05:18:33.445241Z",
     "start_time": "2021-11-06T05:18:33.432239Z"
    },
    "hidden": true
   },
   "outputs": [],
   "source": [
    "import pandas as pd\n",
    "from mlxtend.preprocessing import TransactionEncoder\n",
    "from mlxtend.frequent_patterns import apriori, association_rules\n",
    "from decimal import Decimal"
   ]
  },
  {
   "cell_type": "markdown",
   "metadata": {},
   "source": [
    "# Carregamento dos Dados - .csv"
   ]
  },
  {
   "cell_type": "code",
   "execution_count": 196,
   "metadata": {
    "ExecuteTime": {
     "end_time": "2021-11-06T05:18:33.461242Z",
     "start_time": "2021-11-06T05:18:33.450243Z"
    }
   },
   "outputs": [],
   "source": [
    "anoArq = '2018'"
   ]
  },
  {
   "cell_type": "code",
   "execution_count": 197,
   "metadata": {
    "ExecuteTime": {
     "end_time": "2021-11-06T05:18:33.477239Z",
     "start_time": "2021-11-06T05:18:33.465239Z"
    }
   },
   "outputs": [],
   "source": [
    "# endereco = '../BaseDadosSelecionados/'\n",
    "# endereco2 = 'Agrupado_Ocorrencia'"
   ]
  },
  {
   "cell_type": "code",
   "execution_count": 198,
   "metadata": {
    "ExecuteTime": {
     "end_time": "2021-11-06T05:18:33.493240Z",
     "start_time": "2021-11-06T05:18:33.481241Z"
    }
   },
   "outputs": [],
   "source": [
    "nomeArq = 'ES_datatran' + anoArq +'_Org_Apriori'"
   ]
  },
  {
   "cell_type": "code",
   "execution_count": 199,
   "metadata": {
    "ExecuteTime": {
     "end_time": "2021-11-06T05:18:33.509238Z",
     "start_time": "2021-11-06T05:18:33.496238Z"
    }
   },
   "outputs": [],
   "source": [
    "endereco= 'PorAno/'\n",
    "# endereco= 'PorData/'"
   ]
  },
  {
   "cell_type": "code",
   "execution_count": 200,
   "metadata": {
    "ExecuteTime": {
     "end_time": "2021-11-06T05:18:33.557237Z",
     "start_time": "2021-11-06T05:18:33.512239Z"
    }
   },
   "outputs": [],
   "source": [
    "data = pd.read_csv(endereco + nomeArq + '.csv', encoding='ISO-8859-1', sep=';', header=None)"
   ]
  },
  {
   "cell_type": "code",
   "execution_count": 201,
   "metadata": {
    "ExecuteTime": {
     "end_time": "2021-11-06T05:18:33.574239Z",
     "start_time": "2021-11-06T05:18:33.561242Z"
    }
   },
   "outputs": [
    {
     "data": {
      "text/plain": [
       "(2640, 10)"
      ]
     },
     "execution_count": 201,
     "metadata": {},
     "output_type": "execute_result"
    }
   ],
   "source": [
    "data.shape"
   ]
  },
  {
   "cell_type": "code",
   "execution_count": 202,
   "metadata": {
    "ExecuteTime": {
     "end_time": "2021-11-06T05:18:33.621236Z",
     "start_time": "2021-11-06T05:18:33.581239Z"
    }
   },
   "outputs": [
    {
     "data": {
      "text/html": [
       "<div>\n",
       "<style scoped>\n",
       "    .dataframe tbody tr th:only-of-type {\n",
       "        vertical-align: middle;\n",
       "    }\n",
       "\n",
       "    .dataframe tbody tr th {\n",
       "        vertical-align: top;\n",
       "    }\n",
       "\n",
       "    .dataframe thead th {\n",
       "        text-align: right;\n",
       "    }\n",
       "</style>\n",
       "<table border=\"1\" class=\"dataframe\">\n",
       "  <thead>\n",
       "    <tr style=\"text-align: right;\">\n",
       "      <th></th>\n",
       "      <th>0</th>\n",
       "      <th>1</th>\n",
       "      <th>2</th>\n",
       "      <th>3</th>\n",
       "      <th>4</th>\n",
       "      <th>5</th>\n",
       "      <th>6</th>\n",
       "      <th>7</th>\n",
       "      <th>8</th>\n",
       "      <th>9</th>\n",
       "    </tr>\n",
       "  </thead>\n",
       "  <tbody>\n",
       "    <tr>\n",
       "      <th>0</th>\n",
       "      <td>dia_semana=Segunda-feira</td>\n",
       "      <td>causa_acidente=Ultrapassagem Indevida</td>\n",
       "      <td>tipo_acidente=Colisão transversal</td>\n",
       "      <td>classificacao_acidente=Com Vítimas Feridas</td>\n",
       "      <td>fase_dia=Pleno dia</td>\n",
       "      <td>sentido_via=Crescente</td>\n",
       "      <td>condicao_metereologica=Nublado</td>\n",
       "      <td>tipo_pista=Simples</td>\n",
       "      <td>tracado_via=Reta</td>\n",
       "      <td>uso_solo=Não</td>\n",
       "    </tr>\n",
       "    <tr>\n",
       "      <th>1</th>\n",
       "      <td>dia_semana=Segunda-feira</td>\n",
       "      <td>causa_acidente=Falta de Atenção à Condução</td>\n",
       "      <td>tipo_acidente=Colisão traseira</td>\n",
       "      <td>classificacao_acidente=Com Vítimas Feridas</td>\n",
       "      <td>fase_dia=Pleno dia</td>\n",
       "      <td>sentido_via=Decrescente</td>\n",
       "      <td>condicao_metereologica=Nublado</td>\n",
       "      <td>tipo_pista=Simples</td>\n",
       "      <td>tracado_via=Reta</td>\n",
       "      <td>uso_solo=Sim</td>\n",
       "    </tr>\n",
       "    <tr>\n",
       "      <th>2</th>\n",
       "      <td>dia_semana=Segunda-feira</td>\n",
       "      <td>causa_acidente=Velocidade Incompatível</td>\n",
       "      <td>tipo_acidente=Saída de leito carroçável</td>\n",
       "      <td>classificacao_acidente=Com Vítimas Feridas</td>\n",
       "      <td>fase_dia=Pleno dia</td>\n",
       "      <td>sentido_via=Crescente</td>\n",
       "      <td>condicao_metereologica=Ignorado</td>\n",
       "      <td>tipo_pista=Simples</td>\n",
       "      <td>tracado_via=Não Informado</td>\n",
       "      <td>uso_solo=Não</td>\n",
       "    </tr>\n",
       "    <tr>\n",
       "      <th>3</th>\n",
       "      <td>dia_semana=Segunda-feira</td>\n",
       "      <td>causa_acidente=Fenômenos da Natureza</td>\n",
       "      <td>tipo_acidente=Queda de ocupante de veículo</td>\n",
       "      <td>classificacao_acidente=Com Vítimas Feridas</td>\n",
       "      <td>fase_dia=Pleno dia</td>\n",
       "      <td>sentido_via=Crescente</td>\n",
       "      <td>condicao_metereologica=Chuva</td>\n",
       "      <td>tipo_pista=Simples</td>\n",
       "      <td>tracado_via=Reta</td>\n",
       "      <td>uso_solo=Não</td>\n",
       "    </tr>\n",
       "    <tr>\n",
       "      <th>4</th>\n",
       "      <td>dia_semana=Terça-feira</td>\n",
       "      <td>causa_acidente=Falta de Atenção do Pedestre</td>\n",
       "      <td>tipo_acidente=Atropelamento de Pedestre</td>\n",
       "      <td>classificacao_acidente=Com Vítimas Feridas</td>\n",
       "      <td>fase_dia=Plena Noite</td>\n",
       "      <td>sentido_via=Decrescente</td>\n",
       "      <td>condicao_metereologica=Céu Claro</td>\n",
       "      <td>tipo_pista=Dupla</td>\n",
       "      <td>tracado_via=Reta</td>\n",
       "      <td>uso_solo=Sim</td>\n",
       "    </tr>\n",
       "  </tbody>\n",
       "</table>\n",
       "</div>"
      ],
      "text/plain": [
       "                          0                                            1  \\\n",
       "0  dia_semana=Segunda-feira        causa_acidente=Ultrapassagem Indevida   \n",
       "1  dia_semana=Segunda-feira   causa_acidente=Falta de Atenção à Condução   \n",
       "2  dia_semana=Segunda-feira       causa_acidente=Velocidade Incompatível   \n",
       "3  dia_semana=Segunda-feira         causa_acidente=Fenômenos da Natureza   \n",
       "4    dia_semana=Terça-feira  causa_acidente=Falta de Atenção do Pedestre   \n",
       "\n",
       "                                            2  \\\n",
       "0           tipo_acidente=Colisão transversal   \n",
       "1              tipo_acidente=Colisão traseira   \n",
       "2     tipo_acidente=Saída de leito carroçável   \n",
       "3  tipo_acidente=Queda de ocupante de veículo   \n",
       "4     tipo_acidente=Atropelamento de Pedestre   \n",
       "\n",
       "                                            3                     4  \\\n",
       "0  classificacao_acidente=Com Vítimas Feridas    fase_dia=Pleno dia   \n",
       "1  classificacao_acidente=Com Vítimas Feridas    fase_dia=Pleno dia   \n",
       "2  classificacao_acidente=Com Vítimas Feridas    fase_dia=Pleno dia   \n",
       "3  classificacao_acidente=Com Vítimas Feridas    fase_dia=Pleno dia   \n",
       "4  classificacao_acidente=Com Vítimas Feridas  fase_dia=Plena Noite   \n",
       "\n",
       "                         5                                 6  \\\n",
       "0    sentido_via=Crescente    condicao_metereologica=Nublado   \n",
       "1  sentido_via=Decrescente    condicao_metereologica=Nublado   \n",
       "2    sentido_via=Crescente   condicao_metereologica=Ignorado   \n",
       "3    sentido_via=Crescente      condicao_metereologica=Chuva   \n",
       "4  sentido_via=Decrescente  condicao_metereologica=Céu Claro   \n",
       "\n",
       "                    7                          8             9  \n",
       "0  tipo_pista=Simples           tracado_via=Reta  uso_solo=Não  \n",
       "1  tipo_pista=Simples           tracado_via=Reta  uso_solo=Sim  \n",
       "2  tipo_pista=Simples  tracado_via=Não Informado  uso_solo=Não  \n",
       "3  tipo_pista=Simples           tracado_via=Reta  uso_solo=Não  \n",
       "4    tipo_pista=Dupla           tracado_via=Reta  uso_solo=Sim  "
      ]
     },
     "execution_count": 202,
     "metadata": {},
     "output_type": "execute_result"
    }
   ],
   "source": [
    "data.head(5)"
   ]
  },
  {
   "cell_type": "markdown",
   "metadata": {
    "heading_collapsed": true
   },
   "source": [
    "# Carregamento dos dados em uma matriz (Importante)"
   ]
  },
  {
   "cell_type": "code",
   "execution_count": 203,
   "metadata": {
    "ExecuteTime": {
     "end_time": "2021-11-06T05:18:33.970813Z",
     "start_time": "2021-11-06T05:18:33.626239Z"
    },
    "hidden": true
   },
   "outputs": [
    {
     "name": "stdout",
     "output_type": "stream",
     "text": [
      "Wall time: 324 ms\n"
     ]
    }
   ],
   "source": [
    "%%time\n",
    "# data.shape[0] LINHAS e data.shape[1] COLUNAS\n",
    "\n",
    "dataset = []\n",
    "for i in range(0, data.shape[0]):\n",
    "    dataset.append([str(data.values[i,j]) for j in range(0, data.shape[1])])"
   ]
  },
  {
   "cell_type": "code",
   "execution_count": 204,
   "metadata": {
    "ExecuteTime": {
     "end_time": "2021-11-06T05:18:33.986802Z",
     "start_time": "2021-11-06T05:18:33.978791Z"
    },
    "hidden": true
   },
   "outputs": [],
   "source": [
    "# dataset"
   ]
  },
  {
   "cell_type": "markdown",
   "metadata": {},
   "source": [
    "# Tratamento para a execução do algoritmo Apriori"
   ]
  },
  {
   "cell_type": "markdown",
   "metadata": {},
   "source": [
    "http://rasbt.github.io/mlxtend/user_guide/preprocessing/TransactionEncoder/"
   ]
  },
  {
   "cell_type": "code",
   "execution_count": 205,
   "metadata": {
    "ExecuteTime": {
     "end_time": "2021-11-06T05:18:34.002791Z",
     "start_time": "2021-11-06T05:18:33.992793Z"
    }
   },
   "outputs": [
    {
     "name": "stdout",
     "output_type": "stream",
     "text": [
      "Wall time: 0 ns\n"
     ]
    }
   ],
   "source": [
    "%%time\n",
    "te = TransactionEncoder()"
   ]
  },
  {
   "cell_type": "markdown",
   "metadata": {},
   "source": [
    "## 1º Transformação - Representação para uma matriz de boleanos"
   ]
  },
  {
   "cell_type": "code",
   "execution_count": 206,
   "metadata": {
    "ExecuteTime": {
     "end_time": "2021-11-06T05:18:34.050803Z",
     "start_time": "2021-11-06T05:18:34.010791Z"
    }
   },
   "outputs": [
    {
     "name": "stdout",
     "output_type": "stream",
     "text": [
      "Wall time: 19 ms\n"
     ]
    }
   ],
   "source": [
    "%%time\n",
    "te_ary = te.fit(dataset).transform(dataset)\n",
    "df = pd.DataFrame(te_ary, columns=te.columns_)"
   ]
  },
  {
   "cell_type": "code",
   "execution_count": 207,
   "metadata": {
    "ExecuteTime": {
     "end_time": "2021-11-06T05:18:34.066789Z",
     "start_time": "2021-11-06T05:18:34.056792Z"
    },
    "scrolled": true
   },
   "outputs": [],
   "source": [
    "# df"
   ]
  },
  {
   "cell_type": "markdown",
   "metadata": {
    "heading_collapsed": true
   },
   "source": [
    "## 2ª Transformação - Representação esparsa\n",
    "Exemplo 3 - Trabalhando com representações esparsas - http://rasbt.github.io/mlxtend/user_guide/frequent_patterns/apriori/ "
   ]
  },
  {
   "cell_type": "code",
   "execution_count": 208,
   "metadata": {
    "ExecuteTime": {
     "end_time": "2021-11-06T05:18:34.083790Z",
     "start_time": "2021-11-06T05:18:34.073791Z"
    },
    "hidden": true
   },
   "outputs": [],
   "source": [
    "# %%time\n",
    "# oht_ary = te.fit(dataset).transform(dataset, sparse=True)\n",
    "# sparse_df = pd.DataFrame.sparse.from_spmatrix(oht_ary, columns=te.columns_)"
   ]
  },
  {
   "cell_type": "code",
   "execution_count": 209,
   "metadata": {
    "ExecuteTime": {
     "end_time": "2021-11-06T05:18:34.098790Z",
     "start_time": "2021-11-06T05:18:34.089791Z"
    },
    "hidden": true
   },
   "outputs": [],
   "source": [
    "# sparse_df"
   ]
  },
  {
   "cell_type": "markdown",
   "metadata": {},
   "source": [
    "# Execução do algoritmo apriori"
   ]
  },
  {
   "cell_type": "code",
   "execution_count": 210,
   "metadata": {
    "ExecuteTime": {
     "end_time": "2021-11-06T05:18:34.114790Z",
     "start_time": "2021-11-06T05:18:34.101789Z"
    }
   },
   "outputs": [],
   "source": [
    "numMinSupport = 0.1"
   ]
  },
  {
   "cell_type": "code",
   "execution_count": 211,
   "metadata": {
    "ExecuteTime": {
     "end_time": "2021-11-06T05:18:34.191789Z",
     "start_time": "2021-11-06T05:18:34.118791Z"
    }
   },
   "outputs": [
    {
     "name": "stdout",
     "output_type": "stream",
     "text": [
      "Wall time: 57 ms\n"
     ]
    }
   ],
   "source": [
    "%%time\n",
    "# sparse_df\n",
    "frequent_itemsets = apriori(df, min_support=numMinSupport, use_colnames=True)"
   ]
  },
  {
   "cell_type": "code",
   "execution_count": 212,
   "metadata": {
    "ExecuteTime": {
     "end_time": "2021-11-06T05:18:34.207795Z",
     "start_time": "2021-11-06T05:18:34.194790Z"
    }
   },
   "outputs": [],
   "source": [
    "# frequent_itemsets"
   ]
  },
  {
   "cell_type": "code",
   "execution_count": 213,
   "metadata": {
    "ExecuteTime": {
     "end_time": "2021-11-06T05:18:34.223802Z",
     "start_time": "2021-11-06T05:18:34.213790Z"
    }
   },
   "outputs": [],
   "source": [
    "# metric = lift"
   ]
  },
  {
   "cell_type": "code",
   "execution_count": 214,
   "metadata": {
    "ExecuteTime": {
     "end_time": "2021-11-06T05:18:34.255790Z",
     "start_time": "2021-11-06T05:18:34.228790Z"
    }
   },
   "outputs": [
    {
     "name": "stdout",
     "output_type": "stream",
     "text": [
      "Wall time: 17 ms\n"
     ]
    }
   ],
   "source": [
    "%%time\n",
    "association_rules_saida = association_rules(frequent_itemsets, metric=\"confidence\", min_threshold=0.8)\n",
    "# association_rules_saida = association_rules(frequent_itemsets)"
   ]
  },
  {
   "cell_type": "code",
   "execution_count": 215,
   "metadata": {
    "ExecuteTime": {
     "end_time": "2021-11-06T05:18:34.270790Z",
     "start_time": "2021-11-06T05:18:34.259791Z"
    }
   },
   "outputs": [],
   "source": [
    "saidaRecords = pd.DataFrame(association_rules_saida)"
   ]
  },
  {
   "cell_type": "markdown",
   "metadata": {},
   "source": [
    "## Método para contabilizaro número de consequentes e antecedentes em cada regra"
   ]
  },
  {
   "cell_type": "code",
   "execution_count": 216,
   "metadata": {
    "ExecuteTime": {
     "end_time": "2021-11-06T05:18:34.286788Z",
     "start_time": "2021-11-06T05:18:34.275816Z"
    }
   },
   "outputs": [],
   "source": [
    "# Cria duas novas colunas contabilizando os antecedentes e consequents\n",
    "saidaRecords[\"antecedent_len\"] = saidaRecords[\"antecedents\"].apply(lambda x: len(x))\n",
    "saidaRecords[\"consequent_len\"] = saidaRecords[\"consequents\"].apply(lambda x: len(x))"
   ]
  },
  {
   "cell_type": "markdown",
   "metadata": {},
   "source": [
    "## Filtro"
   ]
  },
  {
   "cell_type": "code",
   "execution_count": 217,
   "metadata": {
    "ExecuteTime": {
     "end_time": "2021-11-06T05:18:34.302792Z",
     "start_time": "2021-11-06T05:18:34.298790Z"
    }
   },
   "outputs": [],
   "source": [
    "# saidaRecords = saidaRecords[ (saidaRecords['antecedent_len'] >= 2 ) & (saidaRecords['consequent_len'] >= 1) ] # & (saidaRecords['support'] >= 0.5) "
   ]
  },
  {
   "cell_type": "code",
   "execution_count": 218,
   "metadata": {
    "ExecuteTime": {
     "end_time": "2021-11-06T05:18:34.318789Z",
     "start_time": "2021-11-06T05:18:34.310792Z"
    }
   },
   "outputs": [],
   "source": [
    "# saidaRecords = saidaRecords[(saidaRecords['support'] >= 0.6)]"
   ]
  },
  {
   "cell_type": "code",
   "execution_count": 219,
   "metadata": {
    "ExecuteTime": {
     "end_time": "2021-11-06T05:18:34.365785Z",
     "start_time": "2021-11-06T05:18:34.323793Z"
    },
    "scrolled": true
   },
   "outputs": [
    {
     "data": {
      "text/html": [
       "<div>\n",
       "<style scoped>\n",
       "    .dataframe tbody tr th:only-of-type {\n",
       "        vertical-align: middle;\n",
       "    }\n",
       "\n",
       "    .dataframe tbody tr th {\n",
       "        vertical-align: top;\n",
       "    }\n",
       "\n",
       "    .dataframe thead th {\n",
       "        text-align: right;\n",
       "    }\n",
       "</style>\n",
       "<table border=\"1\" class=\"dataframe\">\n",
       "  <thead>\n",
       "    <tr style=\"text-align: right;\">\n",
       "      <th></th>\n",
       "      <th>antecedents</th>\n",
       "      <th>consequents</th>\n",
       "      <th>antecedent support</th>\n",
       "      <th>consequent support</th>\n",
       "      <th>support</th>\n",
       "      <th>confidence</th>\n",
       "      <th>lift</th>\n",
       "      <th>leverage</th>\n",
       "      <th>conviction</th>\n",
       "      <th>antecedent_len</th>\n",
       "      <th>consequent_len</th>\n",
       "    </tr>\n",
       "  </thead>\n",
       "  <tbody>\n",
       "    <tr>\n",
       "      <th>0</th>\n",
       "      <td>(causa_acidente=Desobediência às normas de trâ...</td>\n",
       "      <td>(classificacao_acidente=Com Vítimas Feridas)</td>\n",
       "      <td>0.142803</td>\n",
       "      <td>0.831818</td>\n",
       "      <td>0.125379</td>\n",
       "      <td>0.877984</td>\n",
       "      <td>1.055500</td>\n",
       "      <td>0.006593</td>\n",
       "      <td>1.378360</td>\n",
       "      <td>1</td>\n",
       "      <td>1</td>\n",
       "    </tr>\n",
       "    <tr>\n",
       "      <th>1</th>\n",
       "      <td>(causa_acidente=Falta de Atenção à Condução)</td>\n",
       "      <td>(classificacao_acidente=Com Vítimas Feridas)</td>\n",
       "      <td>0.419697</td>\n",
       "      <td>0.831818</td>\n",
       "      <td>0.368182</td>\n",
       "      <td>0.877256</td>\n",
       "      <td>1.054625</td>\n",
       "      <td>0.019070</td>\n",
       "      <td>1.370187</td>\n",
       "      <td>1</td>\n",
       "      <td>1</td>\n",
       "    </tr>\n",
       "    <tr>\n",
       "      <th>2</th>\n",
       "      <td>(condicao_metereologica=Céu Claro)</td>\n",
       "      <td>(classificacao_acidente=Com Vítimas Feridas)</td>\n",
       "      <td>0.546970</td>\n",
       "      <td>0.831818</td>\n",
       "      <td>0.459470</td>\n",
       "      <td>0.840028</td>\n",
       "      <td>1.009869</td>\n",
       "      <td>0.004490</td>\n",
       "      <td>1.051318</td>\n",
       "      <td>1</td>\n",
       "      <td>1</td>\n",
       "    </tr>\n",
       "    <tr>\n",
       "      <th>3</th>\n",
       "      <td>(condicao_metereologica=Nublado)</td>\n",
       "      <td>(classificacao_acidente=Com Vítimas Feridas)</td>\n",
       "      <td>0.207197</td>\n",
       "      <td>0.831818</td>\n",
       "      <td>0.171212</td>\n",
       "      <td>0.826325</td>\n",
       "      <td>0.993397</td>\n",
       "      <td>-0.001138</td>\n",
       "      <td>0.968373</td>\n",
       "      <td>1</td>\n",
       "      <td>1</td>\n",
       "    </tr>\n",
       "    <tr>\n",
       "      <th>4</th>\n",
       "      <td>(dia_semana=Quarta-feira)</td>\n",
       "      <td>(classificacao_acidente=Com Vítimas Feridas)</td>\n",
       "      <td>0.124242</td>\n",
       "      <td>0.831818</td>\n",
       "      <td>0.101136</td>\n",
       "      <td>0.814024</td>\n",
       "      <td>0.978609</td>\n",
       "      <td>-0.002211</td>\n",
       "      <td>0.904322</td>\n",
       "      <td>1</td>\n",
       "      <td>1</td>\n",
       "    </tr>\n",
       "  </tbody>\n",
       "</table>\n",
       "</div>"
      ],
      "text/plain": [
       "                                         antecedents  \\\n",
       "0  (causa_acidente=Desobediência às normas de trâ...   \n",
       "1       (causa_acidente=Falta de Atenção à Condução)   \n",
       "2                 (condicao_metereologica=Céu Claro)   \n",
       "3                   (condicao_metereologica=Nublado)   \n",
       "4                          (dia_semana=Quarta-feira)   \n",
       "\n",
       "                                    consequents  antecedent support  \\\n",
       "0  (classificacao_acidente=Com Vítimas Feridas)            0.142803   \n",
       "1  (classificacao_acidente=Com Vítimas Feridas)            0.419697   \n",
       "2  (classificacao_acidente=Com Vítimas Feridas)            0.546970   \n",
       "3  (classificacao_acidente=Com Vítimas Feridas)            0.207197   \n",
       "4  (classificacao_acidente=Com Vítimas Feridas)            0.124242   \n",
       "\n",
       "   consequent support   support  confidence      lift  leverage  conviction  \\\n",
       "0            0.831818  0.125379    0.877984  1.055500  0.006593    1.378360   \n",
       "1            0.831818  0.368182    0.877256  1.054625  0.019070    1.370187   \n",
       "2            0.831818  0.459470    0.840028  1.009869  0.004490    1.051318   \n",
       "3            0.831818  0.171212    0.826325  0.993397 -0.001138    0.968373   \n",
       "4            0.831818  0.101136    0.814024  0.978609 -0.002211    0.904322   \n",
       "\n",
       "   antecedent_len  consequent_len  \n",
       "0               1               1  \n",
       "1               1               1  \n",
       "2               1               1  \n",
       "3               1               1  \n",
       "4               1               1  "
      ]
     },
     "execution_count": 219,
     "metadata": {},
     "output_type": "execute_result"
    }
   ],
   "source": [
    "saidaRecords.head()"
   ]
  },
  {
   "cell_type": "code",
   "execution_count": 220,
   "metadata": {
    "ExecuteTime": {
     "end_time": "2021-11-06T05:18:34.396793Z",
     "start_time": "2021-11-06T05:18:34.367788Z"
    }
   },
   "outputs": [
    {
     "data": {
      "text/plain": [
       "antecedents           (tracado_via=Reta, uso_solo=Não, sentido_via=C...\n",
       "consequents                                        (tipo_pista=Simples)\n",
       "antecedent support                                             0.595455\n",
       "consequent support                                             0.831818\n",
       "support                                                        0.497727\n",
       "confidence                                                     0.920128\n",
       "lift                                                            1.92916\n",
       "leverage                                                       0.131474\n",
       "conviction                                                      5.59606\n",
       "antecedent_len                                                        3\n",
       "consequent_len                                                        2\n",
       "dtype: object"
      ]
     },
     "execution_count": 220,
     "metadata": {},
     "output_type": "execute_result"
    }
   ],
   "source": [
    "saidaRecords.max()"
   ]
  },
  {
   "cell_type": "markdown",
   "metadata": {},
   "source": [
    "## Salvando os resultados do algoritmo em um .csv"
   ]
  },
  {
   "cell_type": "code",
   "execution_count": 221,
   "metadata": {
    "ExecuteTime": {
     "end_time": "2021-11-06T05:18:34.443798Z",
     "start_time": "2021-11-06T05:18:34.399792Z"
    },
    "scrolled": true
   },
   "outputs": [
    {
     "data": {
      "text/html": [
       "<div>\n",
       "<style scoped>\n",
       "    .dataframe tbody tr th:only-of-type {\n",
       "        vertical-align: middle;\n",
       "    }\n",
       "\n",
       "    .dataframe tbody tr th {\n",
       "        vertical-align: top;\n",
       "    }\n",
       "\n",
       "    .dataframe thead th {\n",
       "        text-align: right;\n",
       "    }\n",
       "</style>\n",
       "<table border=\"1\" class=\"dataframe\">\n",
       "  <thead>\n",
       "    <tr style=\"text-align: right;\">\n",
       "      <th></th>\n",
       "      <th>antecedents</th>\n",
       "      <th>consequents</th>\n",
       "      <th>antecedent support</th>\n",
       "      <th>consequent support</th>\n",
       "      <th>support</th>\n",
       "      <th>confidence</th>\n",
       "      <th>lift</th>\n",
       "      <th>leverage</th>\n",
       "      <th>conviction</th>\n",
       "      <th>antecedent_len</th>\n",
       "      <th>consequent_len</th>\n",
       "    </tr>\n",
       "  </thead>\n",
       "  <tbody>\n",
       "    <tr>\n",
       "      <th>0</th>\n",
       "      <td>(causa_acidente=Desobediência às normas de trâ...</td>\n",
       "      <td>(classificacao_acidente=Com Vítimas Feridas)</td>\n",
       "      <td>0.142803</td>\n",
       "      <td>0.831818</td>\n",
       "      <td>0.125379</td>\n",
       "      <td>0.877984</td>\n",
       "      <td>1.055500</td>\n",
       "      <td>0.006593</td>\n",
       "      <td>1.378360</td>\n",
       "      <td>1</td>\n",
       "      <td>1</td>\n",
       "    </tr>\n",
       "    <tr>\n",
       "      <th>1</th>\n",
       "      <td>(causa_acidente=Falta de Atenção à Condução)</td>\n",
       "      <td>(classificacao_acidente=Com Vítimas Feridas)</td>\n",
       "      <td>0.419697</td>\n",
       "      <td>0.831818</td>\n",
       "      <td>0.368182</td>\n",
       "      <td>0.877256</td>\n",
       "      <td>1.054625</td>\n",
       "      <td>0.019070</td>\n",
       "      <td>1.370187</td>\n",
       "      <td>1</td>\n",
       "      <td>1</td>\n",
       "    </tr>\n",
       "    <tr>\n",
       "      <th>2</th>\n",
       "      <td>(condicao_metereologica=Céu Claro)</td>\n",
       "      <td>(classificacao_acidente=Com Vítimas Feridas)</td>\n",
       "      <td>0.546970</td>\n",
       "      <td>0.831818</td>\n",
       "      <td>0.459470</td>\n",
       "      <td>0.840028</td>\n",
       "      <td>1.009869</td>\n",
       "      <td>0.004490</td>\n",
       "      <td>1.051318</td>\n",
       "      <td>1</td>\n",
       "      <td>1</td>\n",
       "    </tr>\n",
       "    <tr>\n",
       "      <th>3</th>\n",
       "      <td>(condicao_metereologica=Nublado)</td>\n",
       "      <td>(classificacao_acidente=Com Vítimas Feridas)</td>\n",
       "      <td>0.207197</td>\n",
       "      <td>0.831818</td>\n",
       "      <td>0.171212</td>\n",
       "      <td>0.826325</td>\n",
       "      <td>0.993397</td>\n",
       "      <td>-0.001138</td>\n",
       "      <td>0.968373</td>\n",
       "      <td>1</td>\n",
       "      <td>1</td>\n",
       "    </tr>\n",
       "    <tr>\n",
       "      <th>4</th>\n",
       "      <td>(dia_semana=Quarta-feira)</td>\n",
       "      <td>(classificacao_acidente=Com Vítimas Feridas)</td>\n",
       "      <td>0.124242</td>\n",
       "      <td>0.831818</td>\n",
       "      <td>0.101136</td>\n",
       "      <td>0.814024</td>\n",
       "      <td>0.978609</td>\n",
       "      <td>-0.002211</td>\n",
       "      <td>0.904322</td>\n",
       "      <td>1</td>\n",
       "      <td>1</td>\n",
       "    </tr>\n",
       "  </tbody>\n",
       "</table>\n",
       "</div>"
      ],
      "text/plain": [
       "                                         antecedents  \\\n",
       "0  (causa_acidente=Desobediência às normas de trâ...   \n",
       "1       (causa_acidente=Falta de Atenção à Condução)   \n",
       "2                 (condicao_metereologica=Céu Claro)   \n",
       "3                   (condicao_metereologica=Nublado)   \n",
       "4                          (dia_semana=Quarta-feira)   \n",
       "\n",
       "                                    consequents  antecedent support  \\\n",
       "0  (classificacao_acidente=Com Vítimas Feridas)            0.142803   \n",
       "1  (classificacao_acidente=Com Vítimas Feridas)            0.419697   \n",
       "2  (classificacao_acidente=Com Vítimas Feridas)            0.546970   \n",
       "3  (classificacao_acidente=Com Vítimas Feridas)            0.207197   \n",
       "4  (classificacao_acidente=Com Vítimas Feridas)            0.124242   \n",
       "\n",
       "   consequent support   support  confidence      lift  leverage  conviction  \\\n",
       "0            0.831818  0.125379    0.877984  1.055500  0.006593    1.378360   \n",
       "1            0.831818  0.368182    0.877256  1.054625  0.019070    1.370187   \n",
       "2            0.831818  0.459470    0.840028  1.009869  0.004490    1.051318   \n",
       "3            0.831818  0.171212    0.826325  0.993397 -0.001138    0.968373   \n",
       "4            0.831818  0.101136    0.814024  0.978609 -0.002211    0.904322   \n",
       "\n",
       "   antecedent_len  consequent_len  \n",
       "0               1               1  \n",
       "1               1               1  \n",
       "2               1               1  \n",
       "3               1               1  \n",
       "4               1               1  "
      ]
     },
     "execution_count": 221,
     "metadata": {},
     "output_type": "execute_result"
    }
   ],
   "source": [
    "saidaRecords.head()"
   ]
  },
  {
   "cell_type": "markdown",
   "metadata": {
    "heading_collapsed": true
   },
   "source": [
    "## Substituição de '.' para ','"
   ]
  },
  {
   "cell_type": "code",
   "execution_count": 222,
   "metadata": {
    "ExecuteTime": {
     "end_time": "2021-11-06T05:18:34.491788Z",
     "start_time": "2021-11-06T05:18:34.449790Z"
    },
    "hidden": true
   },
   "outputs": [],
   "source": [
    "listCol = ['antecedent support', 'consequent support', 'support', 'confidence', 'lift', 'leverage', 'conviction']\n",
    "for i in listCol:\n",
    "    saidaRecords[i] = saidaRecords[i].astype(str)\n",
    "    saidaRecords[i] = saidaRecords[i].str.replace('.', ',')"
   ]
  },
  {
   "cell_type": "markdown",
   "metadata": {
    "heading_collapsed": true
   },
   "source": [
    "## Ordena os dados baseado na confiança"
   ]
  },
  {
   "cell_type": "code",
   "execution_count": 223,
   "metadata": {
    "ExecuteTime": {
     "end_time": "2021-11-06T05:18:34.523797Z",
     "start_time": "2021-11-06T05:18:34.499791Z"
    },
    "hidden": true
   },
   "outputs": [],
   "source": [
    "# Ordena pela saidaRecords e salva em um novo DataFrame\n",
    "saidaRecords = saidaRecords.sort_values(by='confidence', ascending=False)"
   ]
  },
  {
   "cell_type": "markdown",
   "metadata": {
    "heading_collapsed": true
   },
   "source": [
    "## Salva os resultados em um arquivo .csv"
   ]
  },
  {
   "cell_type": "code",
   "execution_count": 224,
   "metadata": {
    "ExecuteTime": {
     "end_time": "2021-11-06T05:18:34.554791Z",
     "start_time": "2021-11-06T05:18:34.528788Z"
    },
    "hidden": true
   },
   "outputs": [],
   "source": [
    "# Salvando em um arquivo .csv\n",
    "saidaRecords.to_csv(endereco + 'AprioriMlxtend_'+ 'ES_datatran' + anoArq + '.csv', encoding= 'ISO-8859-1', sep= ';', index=False)"
   ]
  },
  {
   "cell_type": "code",
   "execution_count": 225,
   "metadata": {
    "ExecuteTime": {
     "end_time": "2021-11-06T05:18:34.570789Z",
     "start_time": "2021-11-06T05:18:34.557789Z"
    },
    "hidden": true
   },
   "outputs": [],
   "source": [
    "# Gambiarra para atualizar o arquivo com os dados ordenados, de acordo com a célula anterior\n",
    "# saidaRecords = pd.read_csv(endereco + 'AprioriMlxtend_'+ 'ES_datatran' + anoArq + '.csv', encoding='ISO-8859-1', sep=';')"
   ]
  },
  {
   "cell_type": "code",
   "execution_count": 226,
   "metadata": {
    "ExecuteTime": {
     "end_time": "2021-11-06T05:18:34.586788Z",
     "start_time": "2021-11-06T05:18:34.578792Z"
    },
    "hidden": true
   },
   "outputs": [],
   "source": [
    "# Salvando em um arquivo .csv\n",
    "# saidaRecords.to_csv(endereco + 'AprioriMlxtend_'+ 'ES_datatran' + anoArq + '.csv', encoding= 'ISO-8859-1', sep= ';', index=False)"
   ]
  },
  {
   "cell_type": "markdown",
   "metadata": {
    "heading_collapsed": true,
    "hidden": true
   },
   "source": [
    "### Filtro para facilitar a visualização dos resultados"
   ]
  },
  {
   "cell_type": "code",
   "execution_count": 227,
   "metadata": {
    "ExecuteTime": {
     "end_time": "2021-11-06T05:18:34.618790Z",
     "start_time": "2021-11-06T05:18:34.591792Z"
    },
    "hidden": true
   },
   "outputs": [],
   "source": [
    "# rules[ (rules['antecedent_len'] >= 2) &\n",
    "#        (rules['confidence'] > 0.75) &\n",
    "#        (rules['lift'] > 1.2) ]"
   ]
  },
  {
   "cell_type": "code",
   "execution_count": 228,
   "metadata": {
    "ExecuteTime": {
     "end_time": "2021-11-06T05:18:34.650789Z",
     "start_time": "2021-11-06T05:18:34.624790Z"
    },
    "hidden": true
   },
   "outputs": [],
   "source": [
    "# rules[rules['antecedents'] == {'Eggs', 'Kidney Beans'}]"
   ]
  },
  {
   "cell_type": "markdown",
   "metadata": {
    "heading_collapsed": true
   },
   "source": [
    "## Filtros modelos para serem utilizados no apriori"
   ]
  },
  {
   "cell_type": "code",
   "execution_count": 229,
   "metadata": {
    "ExecuteTime": {
     "end_time": "2021-11-06T05:18:34.663785Z",
     "start_time": "2021-11-06T05:18:34.654791Z"
    },
    "hidden": true
   },
   "outputs": [],
   "source": [
    "# saidaRecords[ (saidaRecords['antecedent_len'] >= 3 ) &\n",
    "#                    (saidaRecords['consequent_len'] >= 3) ]"
   ]
  },
  {
   "cell_type": "code",
   "execution_count": 230,
   "metadata": {
    "ExecuteTime": {
     "end_time": "2021-11-06T05:18:34.679790Z",
     "start_time": "2021-11-06T05:18:34.667794Z"
    },
    "hidden": true
   },
   "outputs": [],
   "source": [
    "# frequent_itemsets[ (frequent_itemsets['length'] == 2) &\n",
    "#                    (frequent_itemsets['support'] >= 0.8) ]"
   ]
  },
  {
   "cell_type": "code",
   "execution_count": 231,
   "metadata": {
    "ExecuteTime": {
     "end_time": "2021-11-06T05:18:34.710790Z",
     "start_time": "2021-11-06T05:18:34.696791Z"
    },
    "hidden": true
   },
   "outputs": [],
   "source": [
    "# frequent_itemsets[ frequent_itemsets['itemsets'] == {'Onion', 'Eggs'} ]"
   ]
  },
  {
   "cell_type": "markdown",
   "metadata": {},
   "source": [
    "# ATIVIDADES FUTURAS"
   ]
  },
  {
   "cell_type": "markdown",
   "metadata": {},
   "source": [
    "- Verificar se a coluna ['ignorados'] é necessária para analisar os resultados. <br>\n",
    "Analisar o significado da coluna 'ignorados' no site da PRF. Ou no arquivo de descrição de tabelas.\n",
    "***Resposta** : No link do anuário 2020, lá é apresentado alguns detalhes dos dados."
   ]
  },
  {
   "cell_type": "markdown",
   "metadata": {},
   "source": [
    "- Estudar os parâmetros do algoritmo apriori."
   ]
  },
  {
   "cell_type": "markdown",
   "metadata": {
    "ExecuteTime": {
     "end_time": "2021-10-15T04:58:39.889312Z",
     "start_time": "2021-10-15T04:54:45.534Z"
    }
   },
   "source": [
    "**[Resolvido]**\n",
    "- Analisar a saída do 'lift' e 'conviction'. \n",
    "***Resposta**: O problema está no momento que os dados 'lift' e 'conviction' são passados para o arquivo .csv.\n",
    "\n",
    "No Jupyter os dados estão sendo apresentados da maneira correta."
   ]
  },
  {
   "cell_type": "markdown",
   "metadata": {},
   "source": [
    "# Print Final"
   ]
  },
  {
   "cell_type": "code",
   "execution_count": 232,
   "metadata": {
    "ExecuteTime": {
     "end_time": "2021-11-06T05:18:34.726791Z",
     "start_time": "2021-11-06T05:18:34.713790Z"
    }
   },
   "outputs": [
    {
     "name": "stdout",
     "output_type": "stream",
     "text": [
      "TUDO EXECUTADO!\n"
     ]
    }
   ],
   "source": [
    "print(\"TUDO EXECUTADO!\")"
   ]
  }
 ],
 "metadata": {
  "kernelspec": {
   "display_name": "Python 3",
   "language": "python",
   "name": "python3"
  },
  "language_info": {
   "codemirror_mode": {
    "name": "ipython",
    "version": 3
   },
   "file_extension": ".py",
   "mimetype": "text/x-python",
   "name": "python",
   "nbconvert_exporter": "python",
   "pygments_lexer": "ipython3",
   "version": "3.8.5"
  }
 },
 "nbformat": 4,
 "nbformat_minor": 4
}
