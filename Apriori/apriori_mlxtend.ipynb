{
 "cells": [
  {
   "cell_type": "markdown",
   "metadata": {
    "heading_collapsed": true
   },
   "source": [
    "### Execução do algoritmo Apriori - Biblioteca mlxtend\n",
    "http://rasbt.github.io/mlxtend/"
   ]
  },
  {
   "cell_type": "markdown",
   "metadata": {
    "heading_collapsed": true
   },
   "source": [
    "# Bibliotecas"
   ]
  },
  {
   "cell_type": "code",
   "execution_count": 475,
   "metadata": {
    "ExecuteTime": {
     "end_time": "2021-11-05T02:20:05.010026Z",
     "start_time": "2021-11-05T02:20:04.998025Z"
    },
    "hidden": true
   },
   "outputs": [],
   "source": [
    "import pandas as pd\n",
    "from mlxtend.preprocessing import TransactionEncoder\n",
    "from mlxtend.frequent_patterns import apriori, association_rules\n",
    "from decimal import Decimal"
   ]
  },
  {
   "cell_type": "markdown",
   "metadata": {},
   "source": [
    "# Carregamento dos Dados - .csv"
   ]
  },
  {
   "cell_type": "code",
   "execution_count": 476,
   "metadata": {
    "ExecuteTime": {
     "end_time": "2021-11-05T02:20:05.042026Z",
     "start_time": "2021-11-05T02:20:05.016024Z"
    }
   },
   "outputs": [],
   "source": [
    "anoArq = '2020'"
   ]
  },
  {
   "cell_type": "code",
   "execution_count": 477,
   "metadata": {
    "ExecuteTime": {
     "end_time": "2021-11-05T02:20:05.058025Z",
     "start_time": "2021-11-05T02:20:05.048025Z"
    }
   },
   "outputs": [],
   "source": [
    "# endereco = '../BaseDadosSelecionados/'\n",
    "# endereco2 = 'Agrupado_Ocorrencia'"
   ]
  },
  {
   "cell_type": "code",
   "execution_count": 478,
   "metadata": {
    "ExecuteTime": {
     "end_time": "2021-11-05T02:20:05.089025Z",
     "start_time": "2021-11-05T02:20:05.064028Z"
    }
   },
   "outputs": [],
   "source": [
    "nomeArq = 'ES_datatran' + anoArq +'_Org_Apriori'"
   ]
  },
  {
   "cell_type": "code",
   "execution_count": 479,
   "metadata": {
    "ExecuteTime": {
     "end_time": "2021-11-05T02:20:05.105027Z",
     "start_time": "2021-11-05T02:20:05.097025Z"
    }
   },
   "outputs": [],
   "source": [
    "endereco= 'PorAno/'\n",
    "# endereco= 'PorData/'"
   ]
  },
  {
   "cell_type": "code",
   "execution_count": 480,
   "metadata": {
    "ExecuteTime": {
     "end_time": "2021-11-05T02:20:05.184024Z",
     "start_time": "2021-11-05T02:20:05.113026Z"
    }
   },
   "outputs": [],
   "source": [
    "data = pd.read_csv(endereco + nomeArq + '.csv', encoding='ISO-8859-1', sep=';', header=None)"
   ]
  },
  {
   "cell_type": "code",
   "execution_count": 481,
   "metadata": {
    "ExecuteTime": {
     "end_time": "2021-11-05T02:20:05.216030Z",
     "start_time": "2021-11-05T02:20:05.193027Z"
    }
   },
   "outputs": [
    {
     "data": {
      "text/plain": [
       "(2268, 12)"
      ]
     },
     "execution_count": 481,
     "metadata": {},
     "output_type": "execute_result"
    }
   ],
   "source": [
    "data.shape"
   ]
  },
  {
   "cell_type": "code",
   "execution_count": 482,
   "metadata": {
    "ExecuteTime": {
     "end_time": "2021-11-05T02:20:05.296024Z",
     "start_time": "2021-11-05T02:20:05.223024Z"
    }
   },
   "outputs": [
    {
     "data": {
      "text/html": [
       "<div>\n",
       "<style scoped>\n",
       "    .dataframe tbody tr th:only-of-type {\n",
       "        vertical-align: middle;\n",
       "    }\n",
       "\n",
       "    .dataframe tbody tr th {\n",
       "        vertical-align: top;\n",
       "    }\n",
       "\n",
       "    .dataframe thead th {\n",
       "        text-align: right;\n",
       "    }\n",
       "</style>\n",
       "<table border=\"1\" class=\"dataframe\">\n",
       "  <thead>\n",
       "    <tr style=\"text-align: right;\">\n",
       "      <th></th>\n",
       "      <th>0</th>\n",
       "      <th>1</th>\n",
       "      <th>2</th>\n",
       "      <th>3</th>\n",
       "      <th>4</th>\n",
       "      <th>5</th>\n",
       "      <th>6</th>\n",
       "      <th>7</th>\n",
       "      <th>8</th>\n",
       "      <th>9</th>\n",
       "      <th>10</th>\n",
       "      <th>11</th>\n",
       "    </tr>\n",
       "  </thead>\n",
       "  <tbody>\n",
       "    <tr>\n",
       "      <th>0</th>\n",
       "      <td>dia_semana=Quarta-feira</td>\n",
       "      <td>br=101.0</td>\n",
       "      <td>municipio=SOORETAMA</td>\n",
       "      <td>causa_acidente=Ultrapassagem Indevida</td>\n",
       "      <td>tipo_acidente=Colisão frontal</td>\n",
       "      <td>classificacao_acidente=Com Vítimas Feridas</td>\n",
       "      <td>fase_dia=Pleno dia</td>\n",
       "      <td>sentido_via=Decrescente</td>\n",
       "      <td>condicao_metereologica=Sol</td>\n",
       "      <td>tipo_pista=Simples</td>\n",
       "      <td>tracado_via=Não Informado</td>\n",
       "      <td>uso_solo=Não</td>\n",
       "    </tr>\n",
       "    <tr>\n",
       "      <th>1</th>\n",
       "      <td>dia_semana=Quarta-feira</td>\n",
       "      <td>br=101.0</td>\n",
       "      <td>municipio=ATILIO VIVACQUA</td>\n",
       "      <td>causa_acidente=Defeito Mecânico no Veículo</td>\n",
       "      <td>tipo_acidente=Saída de leito carroçável</td>\n",
       "      <td>classificacao_acidente=Sem Vítimas</td>\n",
       "      <td>fase_dia=Pleno dia</td>\n",
       "      <td>sentido_via=Decrescente</td>\n",
       "      <td>condicao_metereologica=Sol</td>\n",
       "      <td>tipo_pista=Simples</td>\n",
       "      <td>tracado_via=Curva</td>\n",
       "      <td>uso_solo=Não</td>\n",
       "    </tr>\n",
       "    <tr>\n",
       "      <th>2</th>\n",
       "      <td>dia_semana=Quarta-feira</td>\n",
       "      <td>br=447.0</td>\n",
       "      <td>municipio=VILA VELHA</td>\n",
       "      <td>causa_acidente=Falta de Atenção do Pedestre</td>\n",
       "      <td>tipo_acidente=Atropelamento de Pedestre</td>\n",
       "      <td>classificacao_acidente=Com Vítimas Feridas</td>\n",
       "      <td>fase_dia=Plena Noite</td>\n",
       "      <td>sentido_via=Crescente</td>\n",
       "      <td>condicao_metereologica=Céu Claro</td>\n",
       "      <td>tipo_pista=Dupla</td>\n",
       "      <td>tracado_via=Reta</td>\n",
       "      <td>uso_solo=Sim</td>\n",
       "    </tr>\n",
       "    <tr>\n",
       "      <th>3</th>\n",
       "      <td>dia_semana=Quarta-feira</td>\n",
       "      <td>br=101.0</td>\n",
       "      <td>municipio=SOORETAMA</td>\n",
       "      <td>causa_acidente=Falta de Atenção à Condução</td>\n",
       "      <td>tipo_acidente=Saída de leito carroçável</td>\n",
       "      <td>classificacao_acidente=Sem Vítimas</td>\n",
       "      <td>fase_dia=Pleno dia</td>\n",
       "      <td>sentido_via=Crescente</td>\n",
       "      <td>condicao_metereologica=Céu Claro</td>\n",
       "      <td>tipo_pista=Simples</td>\n",
       "      <td>tracado_via=Reta</td>\n",
       "      <td>uso_solo=Não</td>\n",
       "    </tr>\n",
       "    <tr>\n",
       "      <th>4</th>\n",
       "      <td>dia_semana=Quinta-feira</td>\n",
       "      <td>br=262.0</td>\n",
       "      <td>municipio=CARIACICA</td>\n",
       "      <td>causa_acidente=Falta de Atenção à Condução</td>\n",
       "      <td>tipo_acidente=Colisão lateral</td>\n",
       "      <td>classificacao_acidente=Com Vítimas Feridas</td>\n",
       "      <td>fase_dia=Pleno dia</td>\n",
       "      <td>sentido_via=Crescente</td>\n",
       "      <td>condicao_metereologica=Céu Claro</td>\n",
       "      <td>tipo_pista=Dupla</td>\n",
       "      <td>tracado_via=Reta</td>\n",
       "      <td>uso_solo=Sim</td>\n",
       "    </tr>\n",
       "  </tbody>\n",
       "</table>\n",
       "</div>"
      ],
      "text/plain": [
       "                        0         1                          2   \\\n",
       "0  dia_semana=Quarta-feira  br=101.0        municipio=SOORETAMA   \n",
       "1  dia_semana=Quarta-feira  br=101.0  municipio=ATILIO VIVACQUA   \n",
       "2  dia_semana=Quarta-feira  br=447.0       municipio=VILA VELHA   \n",
       "3  dia_semana=Quarta-feira  br=101.0        municipio=SOORETAMA   \n",
       "4  dia_semana=Quinta-feira  br=262.0        municipio=CARIACICA   \n",
       "\n",
       "                                            3   \\\n",
       "0        causa_acidente=Ultrapassagem Indevida   \n",
       "1   causa_acidente=Defeito Mecânico no Veículo   \n",
       "2  causa_acidente=Falta de Atenção do Pedestre   \n",
       "3   causa_acidente=Falta de Atenção à Condução   \n",
       "4   causa_acidente=Falta de Atenção à Condução   \n",
       "\n",
       "                                        4   \\\n",
       "0            tipo_acidente=Colisão frontal   \n",
       "1  tipo_acidente=Saída de leito carroçável   \n",
       "2  tipo_acidente=Atropelamento de Pedestre   \n",
       "3  tipo_acidente=Saída de leito carroçável   \n",
       "4            tipo_acidente=Colisão lateral   \n",
       "\n",
       "                                           5                     6   \\\n",
       "0  classificacao_acidente=Com Vítimas Feridas    fase_dia=Pleno dia   \n",
       "1          classificacao_acidente=Sem Vítimas    fase_dia=Pleno dia   \n",
       "2  classificacao_acidente=Com Vítimas Feridas  fase_dia=Plena Noite   \n",
       "3          classificacao_acidente=Sem Vítimas    fase_dia=Pleno dia   \n",
       "4  classificacao_acidente=Com Vítimas Feridas    fase_dia=Pleno dia   \n",
       "\n",
       "                        7                                 8   \\\n",
       "0  sentido_via=Decrescente        condicao_metereologica=Sol   \n",
       "1  sentido_via=Decrescente        condicao_metereologica=Sol   \n",
       "2    sentido_via=Crescente  condicao_metereologica=Céu Claro   \n",
       "3    sentido_via=Crescente  condicao_metereologica=Céu Claro   \n",
       "4    sentido_via=Crescente  condicao_metereologica=Céu Claro   \n",
       "\n",
       "                   9                          10            11  \n",
       "0  tipo_pista=Simples  tracado_via=Não Informado  uso_solo=Não  \n",
       "1  tipo_pista=Simples          tracado_via=Curva  uso_solo=Não  \n",
       "2    tipo_pista=Dupla           tracado_via=Reta  uso_solo=Sim  \n",
       "3  tipo_pista=Simples           tracado_via=Reta  uso_solo=Não  \n",
       "4    tipo_pista=Dupla           tracado_via=Reta  uso_solo=Sim  "
      ]
     },
     "execution_count": 482,
     "metadata": {},
     "output_type": "execute_result"
    }
   ],
   "source": [
    "data.head(5)"
   ]
  },
  {
   "cell_type": "markdown",
   "metadata": {
    "heading_collapsed": true
   },
   "source": [
    "# Carregamento dos dados em uma matriz (Importante)"
   ]
  },
  {
   "cell_type": "code",
   "execution_count": 483,
   "metadata": {
    "ExecuteTime": {
     "end_time": "2021-11-05T02:20:06.296165Z",
     "start_time": "2021-11-05T02:20:05.303024Z"
    },
    "hidden": true
   },
   "outputs": [
    {
     "name": "stdout",
     "output_type": "stream",
     "text": [
      "Wall time: 979 ms\n"
     ]
    }
   ],
   "source": [
    "%%time\n",
    "# data.shape[0] LINHAS e data.shape[1] COLUNAS\n",
    "\n",
    "dataset = []\n",
    "for i in range(0, data.shape[0]):\n",
    "    dataset.append([str(data.values[i,j]) for j in range(0, data.shape[1])])"
   ]
  },
  {
   "cell_type": "code",
   "execution_count": 484,
   "metadata": {
    "ExecuteTime": {
     "end_time": "2021-11-05T02:20:06.327162Z",
     "start_time": "2021-11-05T02:20:06.304165Z"
    },
    "hidden": true
   },
   "outputs": [],
   "source": [
    "# dataset"
   ]
  },
  {
   "cell_type": "markdown",
   "metadata": {
    "heading_collapsed": true
   },
   "source": [
    "# Tratamento para a execução do algoritmo Apriori"
   ]
  },
  {
   "cell_type": "markdown",
   "metadata": {
    "hidden": true
   },
   "source": [
    "http://rasbt.github.io/mlxtend/user_guide/preprocessing/TransactionEncoder/"
   ]
  },
  {
   "cell_type": "code",
   "execution_count": 485,
   "metadata": {
    "ExecuteTime": {
     "end_time": "2021-11-05T02:20:06.359164Z",
     "start_time": "2021-11-05T02:20:06.342165Z"
    },
    "hidden": true
   },
   "outputs": [
    {
     "name": "stdout",
     "output_type": "stream",
     "text": [
      "Wall time: 0 ns\n"
     ]
    }
   ],
   "source": [
    "%%time\n",
    "te = TransactionEncoder()"
   ]
  },
  {
   "cell_type": "markdown",
   "metadata": {
    "heading_collapsed": true,
    "hidden": true
   },
   "source": [
    "## 1º Transformação - Representação para uma matriz de boleanos"
   ]
  },
  {
   "cell_type": "code",
   "execution_count": 486,
   "metadata": {
    "ExecuteTime": {
     "end_time": "2021-11-05T02:20:06.439164Z",
     "start_time": "2021-11-05T02:20:06.372164Z"
    },
    "hidden": true
   },
   "outputs": [
    {
     "name": "stdout",
     "output_type": "stream",
     "text": [
      "Wall time: 51 ms\n"
     ]
    }
   ],
   "source": [
    "%%time\n",
    "te_ary = te.fit(dataset).transform(dataset)\n",
    "df = pd.DataFrame(te_ary, columns=te.columns_)"
   ]
  },
  {
   "cell_type": "code",
   "execution_count": 487,
   "metadata": {
    "ExecuteTime": {
     "end_time": "2021-11-05T02:20:06.471165Z",
     "start_time": "2021-11-05T02:20:06.447162Z"
    },
    "hidden": true,
    "scrolled": false
   },
   "outputs": [],
   "source": [
    "# df"
   ]
  },
  {
   "cell_type": "markdown",
   "metadata": {
    "heading_collapsed": true,
    "hidden": true
   },
   "source": [
    "## 2ª Transformação - Representação esparsa\n",
    "Exemplo 3 - Trabalhando com representações esparsas - http://rasbt.github.io/mlxtend/user_guide/frequent_patterns/apriori/ "
   ]
  },
  {
   "cell_type": "code",
   "execution_count": 488,
   "metadata": {
    "ExecuteTime": {
     "end_time": "2021-11-05T02:20:06.488163Z",
     "start_time": "2021-11-05T02:20:06.479171Z"
    },
    "hidden": true
   },
   "outputs": [],
   "source": [
    "# %%time\n",
    "# oht_ary = te.fit(dataset).transform(dataset, sparse=True)\n",
    "# sparse_df = pd.DataFrame.sparse.from_spmatrix(oht_ary, columns=te.columns_)"
   ]
  },
  {
   "cell_type": "code",
   "execution_count": 489,
   "metadata": {
    "ExecuteTime": {
     "end_time": "2021-11-05T02:20:06.505164Z",
     "start_time": "2021-11-05T02:20:06.495164Z"
    },
    "hidden": true
   },
   "outputs": [],
   "source": [
    "# sparse_df"
   ]
  },
  {
   "cell_type": "markdown",
   "metadata": {},
   "source": [
    "# Execução do algoritmo apriori"
   ]
  },
  {
   "cell_type": "code",
   "execution_count": 490,
   "metadata": {
    "ExecuteTime": {
     "end_time": "2021-11-05T02:20:06.536163Z",
     "start_time": "2021-11-05T02:20:06.514163Z"
    }
   },
   "outputs": [],
   "source": [
    "numMinSupport = 0.1"
   ]
  },
  {
   "cell_type": "code",
   "execution_count": 491,
   "metadata": {
    "ExecuteTime": {
     "end_time": "2021-11-05T02:20:06.869163Z",
     "start_time": "2021-11-05T02:20:06.564164Z"
    }
   },
   "outputs": [
    {
     "name": "stdout",
     "output_type": "stream",
     "text": [
      "Wall time: 276 ms\n"
     ]
    }
   ],
   "source": [
    "%%time\n",
    "# sparse_df\n",
    "frequent_itemsets = apriori(df, min_support=numMinSupport, use_colnames=True)"
   ]
  },
  {
   "cell_type": "code",
   "execution_count": 492,
   "metadata": {
    "ExecuteTime": {
     "end_time": "2021-11-05T02:20:06.900162Z",
     "start_time": "2021-11-05T02:20:06.878164Z"
    }
   },
   "outputs": [],
   "source": [
    "# frequent_itemsets"
   ]
  },
  {
   "cell_type": "code",
   "execution_count": 493,
   "metadata": {
    "ExecuteTime": {
     "end_time": "2021-11-05T02:20:06.932165Z",
     "start_time": "2021-11-05T02:20:06.911168Z"
    }
   },
   "outputs": [],
   "source": [
    "# metric = lift"
   ]
  },
  {
   "cell_type": "code",
   "execution_count": 494,
   "metadata": {
    "ExecuteTime": {
     "end_time": "2021-11-05T02:20:07.011167Z",
     "start_time": "2021-11-05T02:20:06.942166Z"
    }
   },
   "outputs": [
    {
     "name": "stdout",
     "output_type": "stream",
     "text": [
      "Wall time: 50 ms\n"
     ]
    }
   ],
   "source": [
    "%%time\n",
    "association_rules_saida = association_rules(frequent_itemsets, metric=\"confidence\", min_threshold=0.8)\n",
    "# association_rules_saida = association_rules(frequent_itemsets)"
   ]
  },
  {
   "cell_type": "code",
   "execution_count": 495,
   "metadata": {
    "ExecuteTime": {
     "end_time": "2021-11-05T02:20:07.043164Z",
     "start_time": "2021-11-05T02:20:07.020164Z"
    }
   },
   "outputs": [],
   "source": [
    "saidaRecords = pd.DataFrame(association_rules_saida)"
   ]
  },
  {
   "cell_type": "markdown",
   "metadata": {},
   "source": [
    "## Método para contabilizaro número de consequentes e antecedentes em cada regra"
   ]
  },
  {
   "cell_type": "code",
   "execution_count": 496,
   "metadata": {
    "ExecuteTime": {
     "end_time": "2021-11-05T02:20:07.074166Z",
     "start_time": "2021-11-05T02:20:07.052177Z"
    }
   },
   "outputs": [],
   "source": [
    "# Cria duas novas colunas contabilizando os antecedentes e consequents\n",
    "saidaRecords[\"antecedent_len\"] = saidaRecords[\"antecedents\"].apply(lambda x: len(x))\n",
    "saidaRecords[\"consequent_len\"] = saidaRecords[\"consequents\"].apply(lambda x: len(x))"
   ]
  },
  {
   "cell_type": "markdown",
   "metadata": {},
   "source": [
    "## Filtro"
   ]
  },
  {
   "cell_type": "code",
   "execution_count": 497,
   "metadata": {
    "ExecuteTime": {
     "end_time": "2021-11-05T02:20:07.121164Z",
     "start_time": "2021-11-05T02:20:07.091165Z"
    }
   },
   "outputs": [],
   "source": [
    "saidaRecords = saidaRecords[ (saidaRecords['antecedent_len'] >= 2 ) & (saidaRecords['consequent_len'] >= 1) ] # & (saidaRecords['support'] >= 0.5) "
   ]
  },
  {
   "cell_type": "code",
   "execution_count": 498,
   "metadata": {
    "ExecuteTime": {
     "end_time": "2021-11-05T02:20:07.137164Z",
     "start_time": "2021-11-05T02:20:07.129163Z"
    }
   },
   "outputs": [],
   "source": [
    "# saidaRecords = saidaRecords[(saidaRecords['support'] >= 0.6)]"
   ]
  },
  {
   "cell_type": "code",
   "execution_count": 499,
   "metadata": {
    "ExecuteTime": {
     "end_time": "2021-11-05T02:20:07.233163Z",
     "start_time": "2021-11-05T02:20:07.157171Z"
    },
    "scrolled": true
   },
   "outputs": [
    {
     "data": {
      "text/html": [
       "<div>\n",
       "<style scoped>\n",
       "    .dataframe tbody tr th:only-of-type {\n",
       "        vertical-align: middle;\n",
       "    }\n",
       "\n",
       "    .dataframe tbody tr th {\n",
       "        vertical-align: top;\n",
       "    }\n",
       "\n",
       "    .dataframe thead th {\n",
       "        text-align: right;\n",
       "    }\n",
       "</style>\n",
       "<table border=\"1\" class=\"dataframe\">\n",
       "  <thead>\n",
       "    <tr style=\"text-align: right;\">\n",
       "      <th></th>\n",
       "      <th>antecedents</th>\n",
       "      <th>consequents</th>\n",
       "      <th>antecedent support</th>\n",
       "      <th>consequent support</th>\n",
       "      <th>support</th>\n",
       "      <th>confidence</th>\n",
       "      <th>lift</th>\n",
       "      <th>leverage</th>\n",
       "      <th>conviction</th>\n",
       "      <th>antecedent_len</th>\n",
       "      <th>consequent_len</th>\n",
       "    </tr>\n",
       "  </thead>\n",
       "  <tbody>\n",
       "    <tr>\n",
       "      <th>32</th>\n",
       "      <td>(causa_acidente=Desobediência às normas de trâ...</td>\n",
       "      <td>(classificacao_acidente=Com Vítimas Feridas)</td>\n",
       "      <td>0.123016</td>\n",
       "      <td>0.833774</td>\n",
       "      <td>0.105820</td>\n",
       "      <td>0.860215</td>\n",
       "      <td>1.031712</td>\n",
       "      <td>0.003253</td>\n",
       "      <td>1.189153</td>\n",
       "      <td>2</td>\n",
       "      <td>1</td>\n",
       "    </tr>\n",
       "    <tr>\n",
       "      <th>33</th>\n",
       "      <td>(br=101.0, causa_acidente=Falta de Atenção à C...</td>\n",
       "      <td>(classificacao_acidente=Com Vítimas Feridas)</td>\n",
       "      <td>0.292328</td>\n",
       "      <td>0.833774</td>\n",
       "      <td>0.253086</td>\n",
       "      <td>0.865762</td>\n",
       "      <td>1.038365</td>\n",
       "      <td>0.009351</td>\n",
       "      <td>1.238288</td>\n",
       "      <td>2</td>\n",
       "      <td>1</td>\n",
       "    </tr>\n",
       "    <tr>\n",
       "      <th>34</th>\n",
       "      <td>(tipo_pista=Dupla, causa_acidente=Falta de Ate...</td>\n",
       "      <td>(br=101.0)</td>\n",
       "      <td>0.118166</td>\n",
       "      <td>0.707672</td>\n",
       "      <td>0.101411</td>\n",
       "      <td>0.858209</td>\n",
       "      <td>1.212721</td>\n",
       "      <td>0.017788</td>\n",
       "      <td>2.061682</td>\n",
       "      <td>2</td>\n",
       "      <td>1</td>\n",
       "    </tr>\n",
       "    <tr>\n",
       "      <th>35</th>\n",
       "      <td>(br=101.0, condicao_metereologica=Céu Claro)</td>\n",
       "      <td>(classificacao_acidente=Com Vítimas Feridas)</td>\n",
       "      <td>0.395503</td>\n",
       "      <td>0.833774</td>\n",
       "      <td>0.324956</td>\n",
       "      <td>0.821628</td>\n",
       "      <td>0.985432</td>\n",
       "      <td>-0.004804</td>\n",
       "      <td>0.931903</td>\n",
       "      <td>2</td>\n",
       "      <td>1</td>\n",
       "    </tr>\n",
       "    <tr>\n",
       "      <th>36</th>\n",
       "      <td>(br=101.0, condicao_metereologica=Nublado)</td>\n",
       "      <td>(classificacao_acidente=Com Vítimas Feridas)</td>\n",
       "      <td>0.148148</td>\n",
       "      <td>0.833774</td>\n",
       "      <td>0.124339</td>\n",
       "      <td>0.839286</td>\n",
       "      <td>1.006610</td>\n",
       "      <td>0.000817</td>\n",
       "      <td>1.034294</td>\n",
       "      <td>2</td>\n",
       "      <td>1</td>\n",
       "    </tr>\n",
       "  </tbody>\n",
       "</table>\n",
       "</div>"
      ],
      "text/plain": [
       "                                          antecedents  \\\n",
       "32  (causa_acidente=Desobediência às normas de trâ...   \n",
       "33  (br=101.0, causa_acidente=Falta de Atenção à C...   \n",
       "34  (tipo_pista=Dupla, causa_acidente=Falta de Ate...   \n",
       "35       (br=101.0, condicao_metereologica=Céu Claro)   \n",
       "36         (br=101.0, condicao_metereologica=Nublado)   \n",
       "\n",
       "                                     consequents  antecedent support  \\\n",
       "32  (classificacao_acidente=Com Vítimas Feridas)            0.123016   \n",
       "33  (classificacao_acidente=Com Vítimas Feridas)            0.292328   \n",
       "34                                    (br=101.0)            0.118166   \n",
       "35  (classificacao_acidente=Com Vítimas Feridas)            0.395503   \n",
       "36  (classificacao_acidente=Com Vítimas Feridas)            0.148148   \n",
       "\n",
       "    consequent support   support  confidence      lift  leverage  conviction  \\\n",
       "32            0.833774  0.105820    0.860215  1.031712  0.003253    1.189153   \n",
       "33            0.833774  0.253086    0.865762  1.038365  0.009351    1.238288   \n",
       "34            0.707672  0.101411    0.858209  1.212721  0.017788    2.061682   \n",
       "35            0.833774  0.324956    0.821628  0.985432 -0.004804    0.931903   \n",
       "36            0.833774  0.124339    0.839286  1.006610  0.000817    1.034294   \n",
       "\n",
       "    antecedent_len  consequent_len  \n",
       "32               2               1  \n",
       "33               2               1  \n",
       "34               2               1  \n",
       "35               2               1  \n",
       "36               2               1  "
      ]
     },
     "execution_count": 499,
     "metadata": {},
     "output_type": "execute_result"
    }
   ],
   "source": [
    "saidaRecords.head()"
   ]
  },
  {
   "cell_type": "code",
   "execution_count": 500,
   "metadata": {
    "ExecuteTime": {
     "end_time": "2021-11-05T02:20:07.296162Z",
     "start_time": "2021-11-05T02:20:07.248163Z"
    }
   },
   "outputs": [
    {
     "data": {
      "text/plain": [
       "antecedents           (uso_solo=Não, sentido_via=Crescente, tipo_pis...\n",
       "consequents                (classificacao_acidente=Com Vítimas Feridas)\n",
       "antecedent support                                             0.430335\n",
       "consequent support                                             0.833774\n",
       "support                                                        0.361552\n",
       "confidence                                                            1\n",
       "lift                                                            1.76961\n",
       "leverage                                                      0.0717993\n",
       "conviction                                                          inf\n",
       "antecedent_len                                                        4\n",
       "consequent_len                                                        2\n",
       "dtype: object"
      ]
     },
     "execution_count": 500,
     "metadata": {},
     "output_type": "execute_result"
    }
   ],
   "source": [
    "saidaRecords.max()"
   ]
  },
  {
   "cell_type": "markdown",
   "metadata": {},
   "source": [
    "## Salvando os resultados do algoritmo em um .csv"
   ]
  },
  {
   "cell_type": "code",
   "execution_count": 501,
   "metadata": {
    "ExecuteTime": {
     "end_time": "2021-11-05T02:20:07.376163Z",
     "start_time": "2021-11-05T02:20:07.304164Z"
    },
    "scrolled": true
   },
   "outputs": [
    {
     "data": {
      "text/html": [
       "<div>\n",
       "<style scoped>\n",
       "    .dataframe tbody tr th:only-of-type {\n",
       "        vertical-align: middle;\n",
       "    }\n",
       "\n",
       "    .dataframe tbody tr th {\n",
       "        vertical-align: top;\n",
       "    }\n",
       "\n",
       "    .dataframe thead th {\n",
       "        text-align: right;\n",
       "    }\n",
       "</style>\n",
       "<table border=\"1\" class=\"dataframe\">\n",
       "  <thead>\n",
       "    <tr style=\"text-align: right;\">\n",
       "      <th></th>\n",
       "      <th>antecedents</th>\n",
       "      <th>consequents</th>\n",
       "      <th>antecedent support</th>\n",
       "      <th>consequent support</th>\n",
       "      <th>support</th>\n",
       "      <th>confidence</th>\n",
       "      <th>lift</th>\n",
       "      <th>leverage</th>\n",
       "      <th>conviction</th>\n",
       "      <th>antecedent_len</th>\n",
       "      <th>consequent_len</th>\n",
       "    </tr>\n",
       "  </thead>\n",
       "  <tbody>\n",
       "    <tr>\n",
       "      <th>32</th>\n",
       "      <td>(causa_acidente=Desobediência às normas de trâ...</td>\n",
       "      <td>(classificacao_acidente=Com Vítimas Feridas)</td>\n",
       "      <td>0.123016</td>\n",
       "      <td>0.833774</td>\n",
       "      <td>0.105820</td>\n",
       "      <td>0.860215</td>\n",
       "      <td>1.031712</td>\n",
       "      <td>0.003253</td>\n",
       "      <td>1.189153</td>\n",
       "      <td>2</td>\n",
       "      <td>1</td>\n",
       "    </tr>\n",
       "    <tr>\n",
       "      <th>33</th>\n",
       "      <td>(br=101.0, causa_acidente=Falta de Atenção à C...</td>\n",
       "      <td>(classificacao_acidente=Com Vítimas Feridas)</td>\n",
       "      <td>0.292328</td>\n",
       "      <td>0.833774</td>\n",
       "      <td>0.253086</td>\n",
       "      <td>0.865762</td>\n",
       "      <td>1.038365</td>\n",
       "      <td>0.009351</td>\n",
       "      <td>1.238288</td>\n",
       "      <td>2</td>\n",
       "      <td>1</td>\n",
       "    </tr>\n",
       "    <tr>\n",
       "      <th>34</th>\n",
       "      <td>(tipo_pista=Dupla, causa_acidente=Falta de Ate...</td>\n",
       "      <td>(br=101.0)</td>\n",
       "      <td>0.118166</td>\n",
       "      <td>0.707672</td>\n",
       "      <td>0.101411</td>\n",
       "      <td>0.858209</td>\n",
       "      <td>1.212721</td>\n",
       "      <td>0.017788</td>\n",
       "      <td>2.061682</td>\n",
       "      <td>2</td>\n",
       "      <td>1</td>\n",
       "    </tr>\n",
       "    <tr>\n",
       "      <th>35</th>\n",
       "      <td>(br=101.0, condicao_metereologica=Céu Claro)</td>\n",
       "      <td>(classificacao_acidente=Com Vítimas Feridas)</td>\n",
       "      <td>0.395503</td>\n",
       "      <td>0.833774</td>\n",
       "      <td>0.324956</td>\n",
       "      <td>0.821628</td>\n",
       "      <td>0.985432</td>\n",
       "      <td>-0.004804</td>\n",
       "      <td>0.931903</td>\n",
       "      <td>2</td>\n",
       "      <td>1</td>\n",
       "    </tr>\n",
       "    <tr>\n",
       "      <th>36</th>\n",
       "      <td>(br=101.0, condicao_metereologica=Nublado)</td>\n",
       "      <td>(classificacao_acidente=Com Vítimas Feridas)</td>\n",
       "      <td>0.148148</td>\n",
       "      <td>0.833774</td>\n",
       "      <td>0.124339</td>\n",
       "      <td>0.839286</td>\n",
       "      <td>1.006610</td>\n",
       "      <td>0.000817</td>\n",
       "      <td>1.034294</td>\n",
       "      <td>2</td>\n",
       "      <td>1</td>\n",
       "    </tr>\n",
       "  </tbody>\n",
       "</table>\n",
       "</div>"
      ],
      "text/plain": [
       "                                          antecedents  \\\n",
       "32  (causa_acidente=Desobediência às normas de trâ...   \n",
       "33  (br=101.0, causa_acidente=Falta de Atenção à C...   \n",
       "34  (tipo_pista=Dupla, causa_acidente=Falta de Ate...   \n",
       "35       (br=101.0, condicao_metereologica=Céu Claro)   \n",
       "36         (br=101.0, condicao_metereologica=Nublado)   \n",
       "\n",
       "                                     consequents  antecedent support  \\\n",
       "32  (classificacao_acidente=Com Vítimas Feridas)            0.123016   \n",
       "33  (classificacao_acidente=Com Vítimas Feridas)            0.292328   \n",
       "34                                    (br=101.0)            0.118166   \n",
       "35  (classificacao_acidente=Com Vítimas Feridas)            0.395503   \n",
       "36  (classificacao_acidente=Com Vítimas Feridas)            0.148148   \n",
       "\n",
       "    consequent support   support  confidence      lift  leverage  conviction  \\\n",
       "32            0.833774  0.105820    0.860215  1.031712  0.003253    1.189153   \n",
       "33            0.833774  0.253086    0.865762  1.038365  0.009351    1.238288   \n",
       "34            0.707672  0.101411    0.858209  1.212721  0.017788    2.061682   \n",
       "35            0.833774  0.324956    0.821628  0.985432 -0.004804    0.931903   \n",
       "36            0.833774  0.124339    0.839286  1.006610  0.000817    1.034294   \n",
       "\n",
       "    antecedent_len  consequent_len  \n",
       "32               2               1  \n",
       "33               2               1  \n",
       "34               2               1  \n",
       "35               2               1  \n",
       "36               2               1  "
      ]
     },
     "execution_count": 501,
     "metadata": {},
     "output_type": "execute_result"
    }
   ],
   "source": [
    "saidaRecords.head()"
   ]
  },
  {
   "cell_type": "markdown",
   "metadata": {
    "heading_collapsed": true
   },
   "source": [
    "## Substituição de '.' para ','"
   ]
  },
  {
   "cell_type": "code",
   "execution_count": 502,
   "metadata": {
    "ExecuteTime": {
     "end_time": "2021-11-05T02:20:07.439165Z",
     "start_time": "2021-11-05T02:20:07.383164Z"
    },
    "hidden": true
   },
   "outputs": [],
   "source": [
    "listCol = ['antecedent support', 'consequent support', 'support', 'confidence', 'lift', 'leverage', 'conviction']\n",
    "for i in listCol:\n",
    "    saidaRecords[i] = saidaRecords[i].astype(str)\n",
    "    saidaRecords[i] = saidaRecords[i].str.replace('.', ',')"
   ]
  },
  {
   "cell_type": "markdown",
   "metadata": {
    "heading_collapsed": true
   },
   "source": [
    "## Ordena os dados baseado na confiança"
   ]
  },
  {
   "cell_type": "code",
   "execution_count": 503,
   "metadata": {
    "ExecuteTime": {
     "end_time": "2021-11-05T02:20:07.471168Z",
     "start_time": "2021-11-05T02:20:07.446162Z"
    },
    "hidden": true
   },
   "outputs": [],
   "source": [
    "# Ordena pela saidaRecords e salva em um novo DataFrame\n",
    "saidaRecords = saidaRecords.sort_values(by='confidence', ascending=False)"
   ]
  },
  {
   "cell_type": "markdown",
   "metadata": {
    "heading_collapsed": true
   },
   "source": [
    "## Salva os resultados em um arquivo .csv"
   ]
  },
  {
   "cell_type": "code",
   "execution_count": 504,
   "metadata": {
    "ExecuteTime": {
     "end_time": "2021-11-05T02:20:07.519163Z",
     "start_time": "2021-11-05T02:20:07.478162Z"
    },
    "hidden": true
   },
   "outputs": [],
   "source": [
    "# Salvando em um arquivo .csv\n",
    "saidaRecords.to_csv(endereco + 'AprioriMlxtend_'+ 'ES_datatran' + anoArq + '.csv', encoding= 'ISO-8859-1', sep= ';', index=False)"
   ]
  },
  {
   "cell_type": "code",
   "execution_count": 505,
   "metadata": {
    "ExecuteTime": {
     "end_time": "2021-11-05T02:20:07.535170Z",
     "start_time": "2021-11-05T02:20:07.526163Z"
    },
    "hidden": true
   },
   "outputs": [],
   "source": [
    "# Gambiarra para atualizar o arquivo com os dados ordenados, de acordo com a célula anterior\n",
    "# saidaRecords = pd.read_csv(endereco + 'AprioriMlxtend_'+ 'ES_datatran' + anoArq + '.csv', encoding='ISO-8859-1', sep=';')"
   ]
  },
  {
   "cell_type": "code",
   "execution_count": 506,
   "metadata": {
    "ExecuteTime": {
     "end_time": "2021-11-05T02:20:07.582163Z",
     "start_time": "2021-11-05T02:20:07.559162Z"
    },
    "hidden": true
   },
   "outputs": [],
   "source": [
    "# Salvando em um arquivo .csv\n",
    "# saidaRecords.to_csv(endereco + 'AprioriMlxtend_'+ 'ES_datatran' + anoArq + '.csv', encoding= 'ISO-8859-1', sep= ';', index=False)"
   ]
  },
  {
   "cell_type": "markdown",
   "metadata": {
    "heading_collapsed": true,
    "hidden": true
   },
   "source": [
    "### Filtro para facilitar a visualização dos resultados"
   ]
  },
  {
   "cell_type": "code",
   "execution_count": 507,
   "metadata": {
    "ExecuteTime": {
     "end_time": "2021-11-05T02:20:07.679905Z",
     "start_time": "2021-11-05T02:20:07.629763Z"
    },
    "hidden": true
   },
   "outputs": [],
   "source": [
    "# rules[ (rules['antecedent_len'] >= 2) &\n",
    "#        (rules['confidence'] > 0.75) &\n",
    "#        (rules['lift'] > 1.2) ]"
   ]
  },
  {
   "cell_type": "code",
   "execution_count": 508,
   "metadata": {
    "ExecuteTime": {
     "end_time": "2021-11-05T02:20:07.722908Z",
     "start_time": "2021-11-05T02:20:07.698911Z"
    },
    "hidden": true
   },
   "outputs": [],
   "source": [
    "# rules[rules['antecedents'] == {'Eggs', 'Kidney Beans'}]"
   ]
  },
  {
   "cell_type": "markdown",
   "metadata": {
    "heading_collapsed": true
   },
   "source": [
    "## Filtros modelos para serem utilizados no apriori"
   ]
  },
  {
   "cell_type": "code",
   "execution_count": 509,
   "metadata": {
    "ExecuteTime": {
     "end_time": "2021-11-05T02:20:07.754909Z",
     "start_time": "2021-11-05T02:20:07.729906Z"
    },
    "hidden": true
   },
   "outputs": [],
   "source": [
    "# saidaRecords[ (saidaRecords['antecedent_len'] >= 3 ) &\n",
    "#                    (saidaRecords['consequent_len'] >= 3) ]"
   ]
  },
  {
   "cell_type": "code",
   "execution_count": 510,
   "metadata": {
    "ExecuteTime": {
     "end_time": "2021-11-05T02:20:07.805907Z",
     "start_time": "2021-11-05T02:20:07.777911Z"
    },
    "hidden": true
   },
   "outputs": [],
   "source": [
    "# frequent_itemsets[ (frequent_itemsets['length'] == 2) &\n",
    "#                    (frequent_itemsets['support'] >= 0.8) ]"
   ]
  },
  {
   "cell_type": "code",
   "execution_count": 511,
   "metadata": {
    "ExecuteTime": {
     "end_time": "2021-11-05T02:20:07.834909Z",
     "start_time": "2021-11-05T02:20:07.813910Z"
    },
    "hidden": true
   },
   "outputs": [],
   "source": [
    "# frequent_itemsets[ frequent_itemsets['itemsets'] == {'Onion', 'Eggs'} ]"
   ]
  },
  {
   "cell_type": "markdown",
   "metadata": {},
   "source": [
    "# ATIVIDADES FUTURAS"
   ]
  },
  {
   "cell_type": "markdown",
   "metadata": {},
   "source": [
    "- Verificar se a coluna ['ignorados'] é necessária para analisar os resultados. <br>\n",
    "Analisar o significado da coluna 'ignorados' no site da PRF. Ou no arquivo de descrição de tabelas.\n",
    "***Resposta** : No link do anuário 2020, lá é apresentado alguns detalhes dos dados."
   ]
  },
  {
   "cell_type": "markdown",
   "metadata": {},
   "source": [
    "- Estudar os parâmetros do algoritmo apriori."
   ]
  },
  {
   "cell_type": "markdown",
   "metadata": {
    "ExecuteTime": {
     "end_time": "2021-10-15T04:58:39.889312Z",
     "start_time": "2021-10-15T04:54:45.534Z"
    }
   },
   "source": [
    "**[Resolvido]**\n",
    "- Analisar a saída do 'lift' e 'conviction'. \n",
    "***Resposta**: O problema está no momento que os dados 'lift' e 'conviction' são passados para o arquivo .csv.\n",
    "\n",
    "No Jupyter os dados estão sendo apresentados da maneira correta."
   ]
  },
  {
   "cell_type": "markdown",
   "metadata": {},
   "source": [
    "# Print Final"
   ]
  },
  {
   "cell_type": "code",
   "execution_count": 512,
   "metadata": {
    "ExecuteTime": {
     "end_time": "2021-11-05T02:20:07.865907Z",
     "start_time": "2021-11-05T02:20:07.842910Z"
    }
   },
   "outputs": [
    {
     "name": "stdout",
     "output_type": "stream",
     "text": [
      "TUDO EXECUTADO!\n"
     ]
    }
   ],
   "source": [
    "print(\"TUDO EXECUTADO!\")"
   ]
  }
 ],
 "metadata": {
  "kernelspec": {
   "display_name": "Python 3",
   "language": "python",
   "name": "python3"
  },
  "language_info": {
   "codemirror_mode": {
    "name": "ipython",
    "version": 3
   },
   "file_extension": ".py",
   "mimetype": "text/x-python",
   "name": "python",
   "nbconvert_exporter": "python",
   "pygments_lexer": "ipython3",
   "version": "3.8.5"
  }
 },
 "nbformat": 4,
 "nbformat_minor": 4
}
