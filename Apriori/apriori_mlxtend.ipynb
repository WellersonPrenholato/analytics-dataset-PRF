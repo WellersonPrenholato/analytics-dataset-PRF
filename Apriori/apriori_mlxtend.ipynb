{
 "cells": [
  {
   "cell_type": "markdown",
   "metadata": {},
   "source": [
    "# Bibliotecas"
   ]
  },
  {
   "cell_type": "code",
   "execution_count": 1,
   "metadata": {
    "ExecuteTime": {
     "end_time": "2021-01-20T22:31:11.593954Z",
     "start_time": "2021-01-20T22:30:54.321697Z"
    }
   },
   "outputs": [],
   "source": [
    "import pandas as pd\n",
    "from mlxtend.preprocessing import TransactionEncoder\n",
    "from mlxtend.frequent_patterns import apriori\n",
    "from mlxtend.frequent_patterns import association_rules"
   ]
  },
  {
   "cell_type": "markdown",
   "metadata": {},
   "source": [
    "# Leitura dos Dados"
   ]
  },
  {
   "cell_type": "code",
   "execution_count": 2,
   "metadata": {
    "ExecuteTime": {
     "end_time": "2021-01-20T22:31:11.629953Z",
     "start_time": "2021-01-20T22:31:11.608953Z"
    }
   },
   "outputs": [],
   "source": [
    "endereco = '../BaseDadosSelecionados/'\n",
    "# endereco2 = 'Agrupado_Ocorrencia'\n",
    "nomeArq = 'ES_datatran2019'"
   ]
  },
  {
   "cell_type": "code",
   "execution_count": 3,
   "metadata": {
    "ExecuteTime": {
     "end_time": "2021-01-20T22:31:11.840955Z",
     "start_time": "2021-01-20T22:31:11.644956Z"
    }
   },
   "outputs": [],
   "source": [
    "data = pd.read_csv(endereco + nomeArq + '.csv', encoding='ISO-8859-1', sep=';')"
   ]
  },
  {
   "cell_type": "code",
   "execution_count": 4,
   "metadata": {
    "ExecuteTime": {
     "end_time": "2021-01-20T22:31:11.927956Z",
     "start_time": "2021-01-20T22:31:11.847953Z"
    }
   },
   "outputs": [
    {
     "data": {
      "text/plain": [
       "(2842, 30)"
      ]
     },
     "execution_count": 4,
     "metadata": {},
     "output_type": "execute_result"
    }
   ],
   "source": [
    "data.shape"
   ]
  },
  {
   "cell_type": "code",
   "execution_count": 5,
   "metadata": {
    "ExecuteTime": {
     "end_time": "2021-01-20T22:31:12.079955Z",
     "start_time": "2021-01-20T22:31:11.940954Z"
    }
   },
   "outputs": [
    {
     "data": {
      "text/html": [
       "<div>\n",
       "<style scoped>\n",
       "    .dataframe tbody tr th:only-of-type {\n",
       "        vertical-align: middle;\n",
       "    }\n",
       "\n",
       "    .dataframe tbody tr th {\n",
       "        vertical-align: top;\n",
       "    }\n",
       "\n",
       "    .dataframe thead th {\n",
       "        text-align: right;\n",
       "    }\n",
       "</style>\n",
       "<table border=\"1\" class=\"dataframe\">\n",
       "  <thead>\n",
       "    <tr style=\"text-align: right;\">\n",
       "      <th></th>\n",
       "      <th>id</th>\n",
       "      <th>data_inversa</th>\n",
       "      <th>dia_semana</th>\n",
       "      <th>horario</th>\n",
       "      <th>uf</th>\n",
       "      <th>br</th>\n",
       "      <th>km</th>\n",
       "      <th>municipio</th>\n",
       "      <th>causa_acidente</th>\n",
       "      <th>tipo_acidente</th>\n",
       "      <th>...</th>\n",
       "      <th>feridos_graves</th>\n",
       "      <th>ilesos</th>\n",
       "      <th>ignorados</th>\n",
       "      <th>feridos</th>\n",
       "      <th>veiculos</th>\n",
       "      <th>latitude</th>\n",
       "      <th>longitude</th>\n",
       "      <th>regional</th>\n",
       "      <th>delegacia</th>\n",
       "      <th>uop</th>\n",
       "    </tr>\n",
       "  </thead>\n",
       "  <tbody>\n",
       "    <tr>\n",
       "      <th>0</th>\n",
       "      <td>182269.0</td>\n",
       "      <td>2019-01-01</td>\n",
       "      <td>terça-feira</td>\n",
       "      <td>10:00:00</td>\n",
       "      <td>ES</td>\n",
       "      <td>101.0</td>\n",
       "      <td>121,3</td>\n",
       "      <td>SOORETAMA</td>\n",
       "      <td>Condutor Dormindo</td>\n",
       "      <td>Colisão lateral</td>\n",
       "      <td>...</td>\n",
       "      <td>1</td>\n",
       "      <td>1</td>\n",
       "      <td>0</td>\n",
       "      <td>1</td>\n",
       "      <td>2</td>\n",
       "      <td>-19,15490874</td>\n",
       "      <td>-40,08092881</td>\n",
       "      <td>SR-ES</td>\n",
       "      <td>DEL12/4</td>\n",
       "      <td>UOP01/ES</td>\n",
       "    </tr>\n",
       "    <tr>\n",
       "      <th>1</th>\n",
       "      <td>182296.0</td>\n",
       "      <td>2019-01-01</td>\n",
       "      <td>terça-feira</td>\n",
       "      <td>13:40:00</td>\n",
       "      <td>ES</td>\n",
       "      <td>262.0</td>\n",
       "      <td>95</td>\n",
       "      <td>DOMINGOS MARTINS</td>\n",
       "      <td>Não guardar distância de segurança</td>\n",
       "      <td>Engavetamento</td>\n",
       "      <td>...</td>\n",
       "      <td>0</td>\n",
       "      <td>4</td>\n",
       "      <td>0</td>\n",
       "      <td>0</td>\n",
       "      <td>4</td>\n",
       "      <td>-20,3677</td>\n",
       "      <td>-41,0595</td>\n",
       "      <td>SR-ES</td>\n",
       "      <td>DEL12/1</td>\n",
       "      <td>UOP02/ES</td>\n",
       "    </tr>\n",
       "    <tr>\n",
       "      <th>2</th>\n",
       "      <td>182319.0</td>\n",
       "      <td>2019-01-01</td>\n",
       "      <td>terça-feira</td>\n",
       "      <td>16:00:00</td>\n",
       "      <td>ES</td>\n",
       "      <td>101.0</td>\n",
       "      <td>77,1</td>\n",
       "      <td>SAO MATEUS</td>\n",
       "      <td>Falta de Atenção à Condução</td>\n",
       "      <td>Colisão traseira</td>\n",
       "      <td>...</td>\n",
       "      <td>1</td>\n",
       "      <td>1</td>\n",
       "      <td>0</td>\n",
       "      <td>2</td>\n",
       "      <td>2</td>\n",
       "      <td>-18,720545</td>\n",
       "      <td>-39,865883</td>\n",
       "      <td>SR-ES</td>\n",
       "      <td>DEL12/4</td>\n",
       "      <td>UOP02/ES</td>\n",
       "    </tr>\n",
       "    <tr>\n",
       "      <th>3</th>\n",
       "      <td>182350.0</td>\n",
       "      <td>2019-01-01</td>\n",
       "      <td>terça-feira</td>\n",
       "      <td>18:30:00</td>\n",
       "      <td>ES</td>\n",
       "      <td>101.0</td>\n",
       "      <td>299,2</td>\n",
       "      <td>VIANA</td>\n",
       "      <td>Desobediência às normas de trânsito pelo condutor</td>\n",
       "      <td>Colisão transversal</td>\n",
       "      <td>...</td>\n",
       "      <td>0</td>\n",
       "      <td>3</td>\n",
       "      <td>0</td>\n",
       "      <td>0</td>\n",
       "      <td>2</td>\n",
       "      <td>-20,35788487</td>\n",
       "      <td>-40,42651176</td>\n",
       "      <td>SR-ES</td>\n",
       "      <td>DEL12/1</td>\n",
       "      <td>UOP01/ES</td>\n",
       "    </tr>\n",
       "    <tr>\n",
       "      <th>4</th>\n",
       "      <td>182351.0</td>\n",
       "      <td>2019-01-01</td>\n",
       "      <td>terça-feira</td>\n",
       "      <td>18:10:00</td>\n",
       "      <td>ES</td>\n",
       "      <td>262.0</td>\n",
       "      <td>168</td>\n",
       "      <td>IBATIBA</td>\n",
       "      <td>Falta de Atenção à Condução</td>\n",
       "      <td>Queda de ocupante de veículo</td>\n",
       "      <td>...</td>\n",
       "      <td>1</td>\n",
       "      <td>0</td>\n",
       "      <td>0</td>\n",
       "      <td>1</td>\n",
       "      <td>1</td>\n",
       "      <td>-20,265</td>\n",
       "      <td>-41,5732</td>\n",
       "      <td>SR-ES</td>\n",
       "      <td>DEL12/1</td>\n",
       "      <td>UOP02/ES</td>\n",
       "    </tr>\n",
       "  </tbody>\n",
       "</table>\n",
       "<p>5 rows × 30 columns</p>\n",
       "</div>"
      ],
      "text/plain": [
       "         id data_inversa   dia_semana   horario  uf     br     km  \\\n",
       "0  182269.0   2019-01-01  terça-feira  10:00:00  ES  101.0  121,3   \n",
       "1  182296.0   2019-01-01  terça-feira  13:40:00  ES  262.0     95   \n",
       "2  182319.0   2019-01-01  terça-feira  16:00:00  ES  101.0   77,1   \n",
       "3  182350.0   2019-01-01  terça-feira  18:30:00  ES  101.0  299,2   \n",
       "4  182351.0   2019-01-01  terça-feira  18:10:00  ES  262.0    168   \n",
       "\n",
       "          municipio                                     causa_acidente  \\\n",
       "0         SOORETAMA                                  Condutor Dormindo   \n",
       "1  DOMINGOS MARTINS                 Não guardar distância de segurança   \n",
       "2        SAO MATEUS                        Falta de Atenção à Condução   \n",
       "3             VIANA  Desobediência às normas de trânsito pelo condutor   \n",
       "4           IBATIBA                        Falta de Atenção à Condução   \n",
       "\n",
       "                  tipo_acidente  ... feridos_graves ilesos ignorados feridos  \\\n",
       "0               Colisão lateral  ...              1      1         0       1   \n",
       "1                 Engavetamento  ...              0      4         0       0   \n",
       "2              Colisão traseira  ...              1      1         0       2   \n",
       "3           Colisão transversal  ...              0      3         0       0   \n",
       "4  Queda de ocupante de veículo  ...              1      0         0       1   \n",
       "\n",
       "  veiculos      latitude     longitude  regional  delegacia       uop  \n",
       "0        2  -19,15490874  -40,08092881     SR-ES    DEL12/4  UOP01/ES  \n",
       "1        4      -20,3677      -41,0595     SR-ES    DEL12/1  UOP02/ES  \n",
       "2        2    -18,720545    -39,865883     SR-ES    DEL12/4  UOP02/ES  \n",
       "3        2  -20,35788487  -40,42651176     SR-ES    DEL12/1  UOP01/ES  \n",
       "4        1       -20,265      -41,5732     SR-ES    DEL12/1  UOP02/ES  \n",
       "\n",
       "[5 rows x 30 columns]"
      ]
     },
     "execution_count": 5,
     "metadata": {},
     "output_type": "execute_result"
    }
   ],
   "source": [
    "data.head()"
   ]
  },
  {
   "cell_type": "markdown",
   "metadata": {},
   "source": [
    "# Carregamento dos dados em uma matriz"
   ]
  },
  {
   "cell_type": "code",
   "execution_count": 6,
   "metadata": {
    "ExecuteTime": {
     "end_time": "2021-01-20T22:35:04.229043Z",
     "start_time": "2021-01-20T22:31:12.092954Z"
    }
   },
   "outputs": [],
   "source": [
    "# data.shape[0] LINHAS e data.shape[1] COLUNAS\n",
    "dataset = []\n",
    "for i in range(0, data.shape[0]):\n",
    "    dataset.append([str(data.values[i,j]) for j in range(0, data.shape[1])])"
   ]
  },
  {
   "cell_type": "markdown",
   "metadata": {},
   "source": [
    "# Execução do algoritmo Apriori"
   ]
  },
  {
   "cell_type": "code",
   "execution_count": 7,
   "metadata": {
    "ExecuteTime": {
     "end_time": "2021-01-20T22:35:04.511992Z",
     "start_time": "2021-01-20T22:35:04.230989Z"
    }
   },
   "outputs": [
    {
     "ename": "NameError",
     "evalue": "name 'sparse_df' is not defined",
     "output_type": "error",
     "traceback": [
      "\u001b[1;31m---------------------------------------------------------------------------\u001b[0m",
      "\u001b[1;31mNameError\u001b[0m                                 Traceback (most recent call last)",
      "\u001b[1;32m<timed eval>\u001b[0m in \u001b[0;36m<module>\u001b[1;34m\u001b[0m\n",
      "\u001b[1;31mNameError\u001b[0m: name 'sparse_df' is not defined"
     ]
    }
   ],
   "source": [
    "%%time\n",
    "apriori(sparse_df, min_support=numMinSupport, use_colnames=True, verbose=1)"
   ]
  },
  {
   "cell_type": "code",
   "execution_count": 8,
   "metadata": {
    "ExecuteTime": {
     "end_time": "2021-01-20T22:35:04.599992Z",
     "start_time": "2021-01-20T22:35:04.516994Z"
    }
   },
   "outputs": [
    {
     "ename": "NameError",
     "evalue": "name 'numMinSupport' is not defined",
     "output_type": "error",
     "traceback": [
      "\u001b[1;31m---------------------------------------------------------------------------\u001b[0m",
      "\u001b[1;31mNameError\u001b[0m                                 Traceback (most recent call last)",
      "\u001b[1;32m<timed exec>\u001b[0m in \u001b[0;36m<module>\u001b[1;34m\u001b[0m\n",
      "\u001b[1;31mNameError\u001b[0m: name 'numMinSupport' is not defined"
     ]
    }
   ],
   "source": [
    "%%time\n",
    "te = TransactionEncoder()\n",
    "te_ary = te.fit(dataset).transform(dataset)\n",
    "df = pd.DataFrame(te_ary, columns=te.columns_)\n",
    "frequent_itemsets = apriori(df, min_support=numMinSupport, use_colnames=True)\n",
    "\n",
    "# frequent_itemsets"
   ]
  },
  {
   "cell_type": "markdown",
   "metadata": {},
   "source": [
    "# Salvando os resultados em um .csv"
   ]
  },
  {
   "cell_type": "code",
   "execution_count": 9,
   "metadata": {
    "ExecuteTime": {
     "end_time": "2021-01-20T22:35:04.626993Z",
     "start_time": "2021-01-20T22:35:04.605004Z"
    }
   },
   "outputs": [
    {
     "ename": "NameError",
     "evalue": "name 'frequent_itemsets' is not defined",
     "output_type": "error",
     "traceback": [
      "\u001b[1;31m---------------------------------------------------------------------------\u001b[0m",
      "\u001b[1;31mNameError\u001b[0m                                 Traceback (most recent call last)",
      "\u001b[1;32m<ipython-input-9-c2543a364602>\u001b[0m in \u001b[0;36m<module>\u001b[1;34m\u001b[0m\n\u001b[1;32m----> 1\u001b[1;33m \u001b[0massociation_rules_saida\u001b[0m \u001b[1;33m=\u001b[0m \u001b[0massociation_rules\u001b[0m\u001b[1;33m(\u001b[0m\u001b[0mfrequent_itemsets\u001b[0m\u001b[1;33m,\u001b[0m \u001b[0mmetric\u001b[0m\u001b[1;33m=\u001b[0m\u001b[1;34m\"confidence\"\u001b[0m\u001b[1;33m,\u001b[0m \u001b[0mmin_threshold\u001b[0m\u001b[1;33m=\u001b[0m\u001b[1;36m0.7\u001b[0m\u001b[1;33m)\u001b[0m\u001b[1;33m\u001b[0m\u001b[1;33m\u001b[0m\u001b[0m\n\u001b[0m",
      "\u001b[1;31mNameError\u001b[0m: name 'frequent_itemsets' is not defined"
     ]
    }
   ],
   "source": [
    "association_rules_saida = association_rules(frequent_itemsets, metric=\"confidence\", min_threshold=0.7)"
   ]
  },
  {
   "cell_type": "code",
   "execution_count": null,
   "metadata": {
    "ExecuteTime": {
     "end_time": "2021-01-20T22:35:04.630992Z",
     "start_time": "2021-01-20T22:30:55.574Z"
    }
   },
   "outputs": [],
   "source": [
    "saidaRecords = pd.DataFrame(association_rules_saida)"
   ]
  },
  {
   "cell_type": "code",
   "execution_count": null,
   "metadata": {
    "ExecuteTime": {
     "end_time": "2021-01-20T22:35:04.632994Z",
     "start_time": "2021-01-20T22:30:55.577Z"
    }
   },
   "outputs": [],
   "source": [
    "saidaRecords.head(10)"
   ]
  },
  {
   "cell_type": "code",
   "execution_count": null,
   "metadata": {
    "ExecuteTime": {
     "end_time": "2021-01-20T22:35:04.635992Z",
     "start_time": "2021-01-20T22:30:55.586Z"
    }
   },
   "outputs": [],
   "source": [
    "association_rules_saida.to_csv('AprioriMlxtend_'+ nomeArq + '.csv', encoding= 'ISO-8859-1', sep= ';', index=False)"
   ]
  },
  {
   "cell_type": "code",
   "execution_count": null,
   "metadata": {
    "ExecuteTime": {
     "end_time": "2021-01-20T22:35:04.640993Z",
     "start_time": "2021-01-20T22:30:55.589Z"
    }
   },
   "outputs": [],
   "source": [
    "rules = association_rules(frequent_itemsets, metric=\"lift\", min_threshold=1.2)\n",
    "rules"
   ]
  },
  {
   "cell_type": "markdown",
   "metadata": {},
   "source": [
    "## Método para contabilizaro número de consequentes e antecedentes em cada regra"
   ]
  },
  {
   "cell_type": "code",
   "execution_count": null,
   "metadata": {
    "ExecuteTime": {
     "end_time": "2021-01-20T22:35:04.644993Z",
     "start_time": "2021-01-20T22:30:55.830Z"
    }
   },
   "outputs": [],
   "source": [
    "rules[\"antecedent_len\"] = rules[\"antecedents\"].apply(lambda x: len(x))\n",
    "rules"
   ]
  },
  {
   "cell_type": "code",
   "execution_count": null,
   "metadata": {
    "ExecuteTime": {
     "end_time": "2021-01-20T22:35:04.647991Z",
     "start_time": "2021-01-20T22:30:55.835Z"
    }
   },
   "outputs": [],
   "source": [
    "rules[\"consequents_len\"] = rules[\"consequents\"].apply(lambda x: len(x))\n",
    "rules"
   ]
  },
  {
   "cell_type": "markdown",
   "metadata": {},
   "source": [
    "### Filtro para facilitar a visualização dos resultados"
   ]
  },
  {
   "cell_type": "code",
   "execution_count": null,
   "metadata": {
    "ExecuteTime": {
     "end_time": "2021-01-20T22:35:04.649994Z",
     "start_time": "2021-01-20T22:30:56.016Z"
    }
   },
   "outputs": [],
   "source": [
    "rules[ (rules['antecedent_len'] >= 2) &\n",
    "       (rules['confidence'] > 0.75) &\n",
    "       (rules['lift'] > 1.2) ]"
   ]
  },
  {
   "cell_type": "code",
   "execution_count": null,
   "metadata": {
    "ExecuteTime": {
     "end_time": "2021-01-20T22:35:04.653995Z",
     "start_time": "2021-01-20T22:30:56.021Z"
    }
   },
   "outputs": [],
   "source": [
    "# rules[rules['antecedents'] == {'Eggs', 'Kidney Beans'}]"
   ]
  },
  {
   "cell_type": "markdown",
   "metadata": {},
   "source": [
    "# Nova execução do algoritmo apriori - Apresentação diferente"
   ]
  },
  {
   "cell_type": "code",
   "execution_count": null,
   "metadata": {
    "ExecuteTime": {
     "end_time": "2021-01-20T22:35:04.656996Z",
     "start_time": "2021-01-20T22:30:56.158Z"
    }
   },
   "outputs": [],
   "source": [
    "apriori(df, min_support=numMinSupport)"
   ]
  },
  {
   "cell_type": "code",
   "execution_count": null,
   "metadata": {
    "ExecuteTime": {
     "end_time": "2021-01-20T22:35:04.659995Z",
     "start_time": "2021-01-20T22:30:56.160Z"
    }
   },
   "outputs": [],
   "source": [
    "%%time\n",
    "apriori(df, min_support=numMinSupport, use_colnames=True)"
   ]
  },
  {
   "cell_type": "code",
   "execution_count": null,
   "metadata": {
    "ExecuteTime": {
     "end_time": "2021-01-20T22:35:04.661991Z",
     "start_time": "2021-01-20T22:30:56.166Z"
    }
   },
   "outputs": [],
   "source": [
    "frequent_itemsets = apriori(df, min_support=numMinSupport, use_colnames=True, verbose=1)\n",
    "frequent_itemsets['length'] = frequent_itemsets['itemsets'].apply(lambda x: len(x))\n",
    "frequent_itemsets"
   ]
  },
  {
   "cell_type": "markdown",
   "metadata": {},
   "source": [
    "## Filtro referente ao último método apresentado"
   ]
  },
  {
   "cell_type": "code",
   "execution_count": null,
   "metadata": {
    "ExecuteTime": {
     "end_time": "2021-01-20T22:35:04.663991Z",
     "start_time": "2021-01-20T22:30:56.320Z"
    }
   },
   "outputs": [],
   "source": [
    "frequent_itemsets[ (frequent_itemsets['length'] == 2) &\n",
    "                   (frequent_itemsets['support'] >= 0.8) ]"
   ]
  },
  {
   "cell_type": "code",
   "execution_count": null,
   "metadata": {
    "ExecuteTime": {
     "end_time": "2021-01-20T22:35:04.665993Z",
     "start_time": "2021-01-20T22:30:56.323Z"
    }
   },
   "outputs": [],
   "source": [
    "# frequent_itemsets[ frequent_itemsets['itemsets'] == {'Onion', 'Eggs'} ]"
   ]
  },
  {
   "cell_type": "code",
   "execution_count": null,
   "metadata": {},
   "outputs": [],
   "source": []
  }
 ],
 "metadata": {
  "kernelspec": {
   "display_name": "Python 3",
   "language": "python",
   "name": "python3"
  },
  "language_info": {
   "codemirror_mode": {
    "name": "ipython",
    "version": 3
   },
   "file_extension": ".py",
   "mimetype": "text/x-python",
   "name": "python",
   "nbconvert_exporter": "python",
   "pygments_lexer": "ipython3",
   "version": "3.8.5"
  }
 },
 "nbformat": 4,
 "nbformat_minor": 4
}
