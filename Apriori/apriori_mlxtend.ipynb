{
 "cells": [
  {
   "cell_type": "markdown",
   "metadata": {
    "heading_collapsed": true
   },
   "source": [
    "### Execução do algoritmo Apriori - Biblioteca mlxtend\n",
    "http://rasbt.github.io/mlxtend/"
   ]
  },
  {
   "cell_type": "markdown",
   "metadata": {
    "heading_collapsed": true
   },
   "source": [
    "# Bibliotecas"
   ]
  },
  {
   "cell_type": "code",
   "execution_count": 399,
   "metadata": {
    "ExecuteTime": {
     "end_time": "2021-11-05T01:49:22.170976Z",
     "start_time": "2021-11-05T01:49:22.150978Z"
    },
    "hidden": true
   },
   "outputs": [],
   "source": [
    "import pandas as pd\n",
    "from mlxtend.preprocessing import TransactionEncoder\n",
    "from mlxtend.frequent_patterns import apriori, association_rules\n",
    "from decimal import Decimal"
   ]
  },
  {
   "cell_type": "markdown",
   "metadata": {},
   "source": [
    "# Carregamento dos Dados - .csv"
   ]
  },
  {
   "cell_type": "code",
   "execution_count": 400,
   "metadata": {
    "ExecuteTime": {
     "end_time": "2021-11-05T01:49:22.186979Z",
     "start_time": "2021-11-05T01:49:22.174978Z"
    }
   },
   "outputs": [],
   "source": [
    "anoArq = '2018'"
   ]
  },
  {
   "cell_type": "code",
   "execution_count": 401,
   "metadata": {
    "ExecuteTime": {
     "end_time": "2021-11-05T01:49:22.202974Z",
     "start_time": "2021-11-05T01:49:22.192977Z"
    }
   },
   "outputs": [],
   "source": [
    "# endereco = '../BaseDadosSelecionados/'\n",
    "# endereco2 = 'Agrupado_Ocorrencia'"
   ]
  },
  {
   "cell_type": "code",
   "execution_count": 402,
   "metadata": {
    "ExecuteTime": {
     "end_time": "2021-11-05T01:49:22.218977Z",
     "start_time": "2021-11-05T01:49:22.208980Z"
    }
   },
   "outputs": [],
   "source": [
    "nomeArq = 'ES_datatran' + anoArq +'_Org_Apriori'"
   ]
  },
  {
   "cell_type": "code",
   "execution_count": 403,
   "metadata": {
    "ExecuteTime": {
     "end_time": "2021-11-05T01:49:22.234979Z",
     "start_time": "2021-11-05T01:49:22.223975Z"
    }
   },
   "outputs": [],
   "source": [
    "endereco= 'PorAno/'\n",
    "# endereco= 'PorData/'"
   ]
  },
  {
   "cell_type": "code",
   "execution_count": 404,
   "metadata": {
    "ExecuteTime": {
     "end_time": "2021-11-05T01:49:22.313992Z",
     "start_time": "2021-11-05T01:49:22.240980Z"
    }
   },
   "outputs": [],
   "source": [
    "data = pd.read_csv(endereco + nomeArq + '.csv', encoding='ISO-8859-1', sep=';', header=None)"
   ]
  },
  {
   "cell_type": "code",
   "execution_count": 405,
   "metadata": {
    "ExecuteTime": {
     "end_time": "2021-11-05T01:49:22.344975Z",
     "start_time": "2021-11-05T01:49:22.321975Z"
    }
   },
   "outputs": [
    {
     "data": {
      "text/plain": [
       "(2640, 12)"
      ]
     },
     "execution_count": 405,
     "metadata": {},
     "output_type": "execute_result"
    }
   ],
   "source": [
    "data.shape"
   ]
  },
  {
   "cell_type": "code",
   "execution_count": 406,
   "metadata": {
    "ExecuteTime": {
     "end_time": "2021-11-05T01:49:22.423970Z",
     "start_time": "2021-11-05T01:49:22.358980Z"
    }
   },
   "outputs": [
    {
     "data": {
      "text/html": [
       "<div>\n",
       "<style scoped>\n",
       "    .dataframe tbody tr th:only-of-type {\n",
       "        vertical-align: middle;\n",
       "    }\n",
       "\n",
       "    .dataframe tbody tr th {\n",
       "        vertical-align: top;\n",
       "    }\n",
       "\n",
       "    .dataframe thead th {\n",
       "        text-align: right;\n",
       "    }\n",
       "</style>\n",
       "<table border=\"1\" class=\"dataframe\">\n",
       "  <thead>\n",
       "    <tr style=\"text-align: right;\">\n",
       "      <th></th>\n",
       "      <th>0</th>\n",
       "      <th>1</th>\n",
       "      <th>2</th>\n",
       "      <th>3</th>\n",
       "      <th>4</th>\n",
       "      <th>5</th>\n",
       "      <th>6</th>\n",
       "      <th>7</th>\n",
       "      <th>8</th>\n",
       "      <th>9</th>\n",
       "      <th>10</th>\n",
       "      <th>11</th>\n",
       "    </tr>\n",
       "  </thead>\n",
       "  <tbody>\n",
       "    <tr>\n",
       "      <th>0</th>\n",
       "      <td>dia_semana=Segunda-feira</td>\n",
       "      <td>br=262.0</td>\n",
       "      <td>municipio=CONCEICAO DO CASTELO</td>\n",
       "      <td>causa_acidente=Ultrapassagem Indevida</td>\n",
       "      <td>tipo_acidente=Colisão transversal</td>\n",
       "      <td>classificacao_acidente=Com Vítimas Feridas</td>\n",
       "      <td>fase_dia=Pleno dia</td>\n",
       "      <td>sentido_via=Crescente</td>\n",
       "      <td>condicao_metereologica=Nublado</td>\n",
       "      <td>tipo_pista=Simples</td>\n",
       "      <td>tracado_via=Reta</td>\n",
       "      <td>uso_solo=Não</td>\n",
       "    </tr>\n",
       "    <tr>\n",
       "      <th>1</th>\n",
       "      <td>dia_semana=Segunda-feira</td>\n",
       "      <td>br=101.0</td>\n",
       "      <td>municipio=JOAO NEIVA</td>\n",
       "      <td>causa_acidente=Falta de Atenção à Condução</td>\n",
       "      <td>tipo_acidente=Colisão traseira</td>\n",
       "      <td>classificacao_acidente=Com Vítimas Feridas</td>\n",
       "      <td>fase_dia=Pleno dia</td>\n",
       "      <td>sentido_via=Decrescente</td>\n",
       "      <td>condicao_metereologica=Nublado</td>\n",
       "      <td>tipo_pista=Simples</td>\n",
       "      <td>tracado_via=Reta</td>\n",
       "      <td>uso_solo=Sim</td>\n",
       "    </tr>\n",
       "    <tr>\n",
       "      <th>2</th>\n",
       "      <td>dia_semana=Segunda-feira</td>\n",
       "      <td>br=101.0</td>\n",
       "      <td>municipio=VILA VELHA</td>\n",
       "      <td>causa_acidente=Velocidade Incompatível</td>\n",
       "      <td>tipo_acidente=Saída de leito carroçável</td>\n",
       "      <td>classificacao_acidente=Com Vítimas Feridas</td>\n",
       "      <td>fase_dia=Pleno dia</td>\n",
       "      <td>sentido_via=Crescente</td>\n",
       "      <td>condicao_metereologica=Ignorado</td>\n",
       "      <td>tipo_pista=Simples</td>\n",
       "      <td>tracado_via=Não Informado</td>\n",
       "      <td>uso_solo=Não</td>\n",
       "    </tr>\n",
       "    <tr>\n",
       "      <th>3</th>\n",
       "      <td>dia_semana=Segunda-feira</td>\n",
       "      <td>br=101.0</td>\n",
       "      <td>municipio=ATILIO VIVACQUA</td>\n",
       "      <td>causa_acidente=Fenômenos da Natureza</td>\n",
       "      <td>tipo_acidente=Queda de ocupante de veículo</td>\n",
       "      <td>classificacao_acidente=Com Vítimas Feridas</td>\n",
       "      <td>fase_dia=Pleno dia</td>\n",
       "      <td>sentido_via=Crescente</td>\n",
       "      <td>condicao_metereologica=Chuva</td>\n",
       "      <td>tipo_pista=Simples</td>\n",
       "      <td>tracado_via=Reta</td>\n",
       "      <td>uso_solo=Não</td>\n",
       "    </tr>\n",
       "    <tr>\n",
       "      <th>4</th>\n",
       "      <td>dia_semana=Terça-feira</td>\n",
       "      <td>br=101.0</td>\n",
       "      <td>municipio=SERRA</td>\n",
       "      <td>causa_acidente=Falta de Atenção do Pedestre</td>\n",
       "      <td>tipo_acidente=Atropelamento de Pedestre</td>\n",
       "      <td>classificacao_acidente=Com Vítimas Feridas</td>\n",
       "      <td>fase_dia=Plena Noite</td>\n",
       "      <td>sentido_via=Decrescente</td>\n",
       "      <td>condicao_metereologica=Céu Claro</td>\n",
       "      <td>tipo_pista=Dupla</td>\n",
       "      <td>tracado_via=Reta</td>\n",
       "      <td>uso_solo=Sim</td>\n",
       "    </tr>\n",
       "  </tbody>\n",
       "</table>\n",
       "</div>"
      ],
      "text/plain": [
       "                         0         1                               2   \\\n",
       "0  dia_semana=Segunda-feira  br=262.0  municipio=CONCEICAO DO CASTELO   \n",
       "1  dia_semana=Segunda-feira  br=101.0            municipio=JOAO NEIVA   \n",
       "2  dia_semana=Segunda-feira  br=101.0            municipio=VILA VELHA   \n",
       "3  dia_semana=Segunda-feira  br=101.0       municipio=ATILIO VIVACQUA   \n",
       "4    dia_semana=Terça-feira  br=101.0                 municipio=SERRA   \n",
       "\n",
       "                                            3   \\\n",
       "0        causa_acidente=Ultrapassagem Indevida   \n",
       "1   causa_acidente=Falta de Atenção à Condução   \n",
       "2       causa_acidente=Velocidade Incompatível   \n",
       "3         causa_acidente=Fenômenos da Natureza   \n",
       "4  causa_acidente=Falta de Atenção do Pedestre   \n",
       "\n",
       "                                           4   \\\n",
       "0           tipo_acidente=Colisão transversal   \n",
       "1              tipo_acidente=Colisão traseira   \n",
       "2     tipo_acidente=Saída de leito carroçável   \n",
       "3  tipo_acidente=Queda de ocupante de veículo   \n",
       "4     tipo_acidente=Atropelamento de Pedestre   \n",
       "\n",
       "                                           5                     6   \\\n",
       "0  classificacao_acidente=Com Vítimas Feridas    fase_dia=Pleno dia   \n",
       "1  classificacao_acidente=Com Vítimas Feridas    fase_dia=Pleno dia   \n",
       "2  classificacao_acidente=Com Vítimas Feridas    fase_dia=Pleno dia   \n",
       "3  classificacao_acidente=Com Vítimas Feridas    fase_dia=Pleno dia   \n",
       "4  classificacao_acidente=Com Vítimas Feridas  fase_dia=Plena Noite   \n",
       "\n",
       "                        7                                 8   \\\n",
       "0    sentido_via=Crescente    condicao_metereologica=Nublado   \n",
       "1  sentido_via=Decrescente    condicao_metereologica=Nublado   \n",
       "2    sentido_via=Crescente   condicao_metereologica=Ignorado   \n",
       "3    sentido_via=Crescente      condicao_metereologica=Chuva   \n",
       "4  sentido_via=Decrescente  condicao_metereologica=Céu Claro   \n",
       "\n",
       "                   9                          10            11  \n",
       "0  tipo_pista=Simples           tracado_via=Reta  uso_solo=Não  \n",
       "1  tipo_pista=Simples           tracado_via=Reta  uso_solo=Sim  \n",
       "2  tipo_pista=Simples  tracado_via=Não Informado  uso_solo=Não  \n",
       "3  tipo_pista=Simples           tracado_via=Reta  uso_solo=Não  \n",
       "4    tipo_pista=Dupla           tracado_via=Reta  uso_solo=Sim  "
      ]
     },
     "execution_count": 406,
     "metadata": {},
     "output_type": "execute_result"
    }
   ],
   "source": [
    "data.head(5)"
   ]
  },
  {
   "cell_type": "markdown",
   "metadata": {
    "heading_collapsed": true
   },
   "source": [
    "# Carregamento dos dados em uma matriz (Importante)"
   ]
  },
  {
   "cell_type": "code",
   "execution_count": 407,
   "metadata": {
    "ExecuteTime": {
     "end_time": "2021-11-05T01:49:23.356213Z",
     "start_time": "2021-11-05T01:49:22.431981Z"
    },
    "hidden": true
   },
   "outputs": [
    {
     "name": "stdout",
     "output_type": "stream",
     "text": [
      "Wall time: 914 ms\n"
     ]
    }
   ],
   "source": [
    "%%time\n",
    "# data.shape[0] LINHAS e data.shape[1] COLUNAS\n",
    "\n",
    "dataset = []\n",
    "for i in range(0, data.shape[0]):\n",
    "    dataset.append([str(data.values[i,j]) for j in range(0, data.shape[1])])"
   ]
  },
  {
   "cell_type": "code",
   "execution_count": 408,
   "metadata": {
    "ExecuteTime": {
     "end_time": "2021-11-05T01:49:23.372214Z",
     "start_time": "2021-11-05T01:49:23.362213Z"
    },
    "hidden": true
   },
   "outputs": [],
   "source": [
    "# dataset"
   ]
  },
  {
   "cell_type": "markdown",
   "metadata": {
    "heading_collapsed": true
   },
   "source": [
    "# Tratamento para a execução do algoritmo Apriori"
   ]
  },
  {
   "cell_type": "markdown",
   "metadata": {
    "hidden": true
   },
   "source": [
    "http://rasbt.github.io/mlxtend/user_guide/preprocessing/TransactionEncoder/"
   ]
  },
  {
   "cell_type": "code",
   "execution_count": 409,
   "metadata": {
    "ExecuteTime": {
     "end_time": "2021-11-05T01:49:23.388211Z",
     "start_time": "2021-11-05T01:49:23.379216Z"
    },
    "hidden": true
   },
   "outputs": [
    {
     "name": "stdout",
     "output_type": "stream",
     "text": [
      "Wall time: 0 ns\n"
     ]
    }
   ],
   "source": [
    "%%time\n",
    "te = TransactionEncoder()"
   ]
  },
  {
   "cell_type": "markdown",
   "metadata": {
    "heading_collapsed": true,
    "hidden": true
   },
   "source": [
    "## 1º Transformação - Representação para uma matriz de boleanos"
   ]
  },
  {
   "cell_type": "code",
   "execution_count": 410,
   "metadata": {
    "ExecuteTime": {
     "end_time": "2021-11-05T01:49:23.453213Z",
     "start_time": "2021-11-05T01:49:23.395215Z"
    },
    "hidden": true
   },
   "outputs": [
    {
     "name": "stdout",
     "output_type": "stream",
     "text": [
      "Wall time: 38 ms\n"
     ]
    }
   ],
   "source": [
    "%%time\n",
    "te_ary = te.fit(dataset).transform(dataset)\n",
    "df = pd.DataFrame(te_ary, columns=te.columns_)"
   ]
  },
  {
   "cell_type": "code",
   "execution_count": 411,
   "metadata": {
    "ExecuteTime": {
     "end_time": "2021-11-05T01:49:23.468212Z",
     "start_time": "2021-11-05T01:49:23.459212Z"
    },
    "hidden": true,
    "scrolled": false
   },
   "outputs": [],
   "source": [
    "# df"
   ]
  },
  {
   "cell_type": "markdown",
   "metadata": {
    "heading_collapsed": true,
    "hidden": true
   },
   "source": [
    "## 2ª Transformação - Representação esparsa\n",
    "Exemplo 3 - Trabalhando com representações esparsas - http://rasbt.github.io/mlxtend/user_guide/frequent_patterns/apriori/ "
   ]
  },
  {
   "cell_type": "code",
   "execution_count": 412,
   "metadata": {
    "ExecuteTime": {
     "end_time": "2021-11-05T01:49:23.500212Z",
     "start_time": "2021-11-05T01:49:23.474214Z"
    },
    "hidden": true
   },
   "outputs": [],
   "source": [
    "# %%time\n",
    "# oht_ary = te.fit(dataset).transform(dataset, sparse=True)\n",
    "# sparse_df = pd.DataFrame.sparse.from_spmatrix(oht_ary, columns=te.columns_)"
   ]
  },
  {
   "cell_type": "code",
   "execution_count": 413,
   "metadata": {
    "ExecuteTime": {
     "end_time": "2021-11-05T01:49:23.515212Z",
     "start_time": "2021-11-05T01:49:23.506216Z"
    },
    "hidden": true
   },
   "outputs": [],
   "source": [
    "# sparse_df"
   ]
  },
  {
   "cell_type": "markdown",
   "metadata": {},
   "source": [
    "# Execução do algoritmo apriori"
   ]
  },
  {
   "cell_type": "code",
   "execution_count": 414,
   "metadata": {
    "ExecuteTime": {
     "end_time": "2021-11-05T01:49:23.549213Z",
     "start_time": "2021-11-05T01:49:23.523214Z"
    }
   },
   "outputs": [],
   "source": [
    "numMinSupport = 0.1"
   ]
  },
  {
   "cell_type": "code",
   "execution_count": 415,
   "metadata": {
    "ExecuteTime": {
     "end_time": "2021-11-05T01:49:23.739224Z",
     "start_time": "2021-11-05T01:49:23.557215Z"
    }
   },
   "outputs": [
    {
     "name": "stdout",
     "output_type": "stream",
     "text": [
      "Wall time: 162 ms\n"
     ]
    }
   ],
   "source": [
    "%%time\n",
    "# sparse_df\n",
    "frequent_itemsets = apriori(df, min_support=numMinSupport, use_colnames=True)"
   ]
  },
  {
   "cell_type": "code",
   "execution_count": 416,
   "metadata": {
    "ExecuteTime": {
     "end_time": "2021-11-05T01:49:23.755211Z",
     "start_time": "2021-11-05T01:49:23.742212Z"
    }
   },
   "outputs": [],
   "source": [
    "# frequent_itemsets"
   ]
  },
  {
   "cell_type": "code",
   "execution_count": 417,
   "metadata": {
    "ExecuteTime": {
     "end_time": "2021-11-05T01:49:23.787210Z",
     "start_time": "2021-11-05T01:49:23.768218Z"
    }
   },
   "outputs": [],
   "source": [
    "# metric = lift"
   ]
  },
  {
   "cell_type": "code",
   "execution_count": 418,
   "metadata": {
    "ExecuteTime": {
     "end_time": "2021-11-05T01:49:23.835214Z",
     "start_time": "2021-11-05T01:49:23.792214Z"
    }
   },
   "outputs": [
    {
     "name": "stdout",
     "output_type": "stream",
     "text": [
      "Wall time: 34 ms\n"
     ]
    }
   ],
   "source": [
    "%%time\n",
    "association_rules_saida = association_rules(frequent_itemsets, metric=\"confidence\", min_threshold=0.8)\n",
    "# association_rules_saida = association_rules(frequent_itemsets)"
   ]
  },
  {
   "cell_type": "code",
   "execution_count": 419,
   "metadata": {
    "ExecuteTime": {
     "end_time": "2021-11-05T01:49:23.867214Z",
     "start_time": "2021-11-05T01:49:23.844215Z"
    }
   },
   "outputs": [],
   "source": [
    "saidaRecords = pd.DataFrame(association_rules_saida)"
   ]
  },
  {
   "cell_type": "markdown",
   "metadata": {},
   "source": [
    "## Método para contabilizaro número de consequentes e antecedentes em cada regra"
   ]
  },
  {
   "cell_type": "code",
   "execution_count": 420,
   "metadata": {
    "ExecuteTime": {
     "end_time": "2021-11-05T01:49:23.915216Z",
     "start_time": "2021-11-05T01:49:23.880218Z"
    }
   },
   "outputs": [],
   "source": [
    "# Cria duas novas colunas contabilizando os antecedentes e consequents\n",
    "saidaRecords[\"antecedent_len\"] = saidaRecords[\"antecedents\"].apply(lambda x: len(x))\n",
    "saidaRecords[\"consequent_len\"] = saidaRecords[\"consequents\"].apply(lambda x: len(x))"
   ]
  },
  {
   "cell_type": "markdown",
   "metadata": {},
   "source": [
    "## Filtro"
   ]
  },
  {
   "cell_type": "code",
   "execution_count": 421,
   "metadata": {
    "ExecuteTime": {
     "end_time": "2021-11-05T01:49:23.965213Z",
     "start_time": "2021-11-05T01:49:23.932214Z"
    }
   },
   "outputs": [],
   "source": [
    "saidaRecords = saidaRecords[ (saidaRecords['antecedent_len'] >= 2 ) & (saidaRecords['consequent_len'] >= 1) ] # & (saidaRecords['support'] >= 0.5) "
   ]
  },
  {
   "cell_type": "code",
   "execution_count": 422,
   "metadata": {
    "ExecuteTime": {
     "end_time": "2021-11-05T01:49:23.994215Z",
     "start_time": "2021-11-05T01:49:23.976216Z"
    }
   },
   "outputs": [],
   "source": [
    "# saidaRecords = saidaRecords[(saidaRecords['support'] >= 0.6)]"
   ]
  },
  {
   "cell_type": "code",
   "execution_count": 423,
   "metadata": {
    "ExecuteTime": {
     "end_time": "2021-11-05T01:49:24.056212Z",
     "start_time": "2021-11-05T01:49:24.000212Z"
    },
    "scrolled": true
   },
   "outputs": [
    {
     "data": {
      "text/html": [
       "<div>\n",
       "<style scoped>\n",
       "    .dataframe tbody tr th:only-of-type {\n",
       "        vertical-align: middle;\n",
       "    }\n",
       "\n",
       "    .dataframe tbody tr th {\n",
       "        vertical-align: top;\n",
       "    }\n",
       "\n",
       "    .dataframe thead th {\n",
       "        text-align: right;\n",
       "    }\n",
       "</style>\n",
       "<table border=\"1\" class=\"dataframe\">\n",
       "  <thead>\n",
       "    <tr style=\"text-align: right;\">\n",
       "      <th></th>\n",
       "      <th>antecedents</th>\n",
       "      <th>consequents</th>\n",
       "      <th>antecedent support</th>\n",
       "      <th>consequent support</th>\n",
       "      <th>support</th>\n",
       "      <th>confidence</th>\n",
       "      <th>lift</th>\n",
       "      <th>leverage</th>\n",
       "      <th>conviction</th>\n",
       "      <th>antecedent_len</th>\n",
       "      <th>consequent_len</th>\n",
       "    </tr>\n",
       "  </thead>\n",
       "  <tbody>\n",
       "    <tr>\n",
       "      <th>34</th>\n",
       "      <td>(br=101.0, causa_acidente=Falta de Atenção à C...</td>\n",
       "      <td>(classificacao_acidente=Com Vítimas Feridas)</td>\n",
       "      <td>0.315152</td>\n",
       "      <td>0.831818</td>\n",
       "      <td>0.276136</td>\n",
       "      <td>0.876202</td>\n",
       "      <td>1.053358</td>\n",
       "      <td>0.013988</td>\n",
       "      <td>1.358517</td>\n",
       "      <td>2</td>\n",
       "      <td>1</td>\n",
       "    </tr>\n",
       "    <tr>\n",
       "      <th>35</th>\n",
       "      <td>(br=101.0, condicao_metereologica=Céu Claro)</td>\n",
       "      <td>(classificacao_acidente=Com Vítimas Feridas)</td>\n",
       "      <td>0.405682</td>\n",
       "      <td>0.831818</td>\n",
       "      <td>0.339394</td>\n",
       "      <td>0.836601</td>\n",
       "      <td>1.005750</td>\n",
       "      <td>0.001940</td>\n",
       "      <td>1.029273</td>\n",
       "      <td>2</td>\n",
       "      <td>1</td>\n",
       "    </tr>\n",
       "    <tr>\n",
       "      <th>36</th>\n",
       "      <td>(br=101.0, condicao_metereologica=Nublado)</td>\n",
       "      <td>(classificacao_acidente=Com Vítimas Feridas)</td>\n",
       "      <td>0.144318</td>\n",
       "      <td>0.831818</td>\n",
       "      <td>0.118182</td>\n",
       "      <td>0.818898</td>\n",
       "      <td>0.984467</td>\n",
       "      <td>-0.001865</td>\n",
       "      <td>0.928656</td>\n",
       "      <td>2</td>\n",
       "      <td>1</td>\n",
       "    </tr>\n",
       "    <tr>\n",
       "      <th>37</th>\n",
       "      <td>(br=101.0, fase_dia=Pleno dia)</td>\n",
       "      <td>(classificacao_acidente=Com Vítimas Feridas)</td>\n",
       "      <td>0.392803</td>\n",
       "      <td>0.831818</td>\n",
       "      <td>0.338258</td>\n",
       "      <td>0.861138</td>\n",
       "      <td>1.035248</td>\n",
       "      <td>0.011517</td>\n",
       "      <td>1.211143</td>\n",
       "      <td>2</td>\n",
       "      <td>1</td>\n",
       "    </tr>\n",
       "    <tr>\n",
       "      <th>38</th>\n",
       "      <td>(municipio=SERRA, br=101.0)</td>\n",
       "      <td>(classificacao_acidente=Com Vítimas Feridas)</td>\n",
       "      <td>0.215530</td>\n",
       "      <td>0.831818</td>\n",
       "      <td>0.185606</td>\n",
       "      <td>0.861160</td>\n",
       "      <td>1.035274</td>\n",
       "      <td>0.006324</td>\n",
       "      <td>1.211335</td>\n",
       "      <td>2</td>\n",
       "      <td>1</td>\n",
       "    </tr>\n",
       "  </tbody>\n",
       "</table>\n",
       "</div>"
      ],
      "text/plain": [
       "                                          antecedents  \\\n",
       "34  (br=101.0, causa_acidente=Falta de Atenção à C...   \n",
       "35       (br=101.0, condicao_metereologica=Céu Claro)   \n",
       "36         (br=101.0, condicao_metereologica=Nublado)   \n",
       "37                     (br=101.0, fase_dia=Pleno dia)   \n",
       "38                        (municipio=SERRA, br=101.0)   \n",
       "\n",
       "                                     consequents  antecedent support  \\\n",
       "34  (classificacao_acidente=Com Vítimas Feridas)            0.315152   \n",
       "35  (classificacao_acidente=Com Vítimas Feridas)            0.405682   \n",
       "36  (classificacao_acidente=Com Vítimas Feridas)            0.144318   \n",
       "37  (classificacao_acidente=Com Vítimas Feridas)            0.392803   \n",
       "38  (classificacao_acidente=Com Vítimas Feridas)            0.215530   \n",
       "\n",
       "    consequent support   support  confidence      lift  leverage  conviction  \\\n",
       "34            0.831818  0.276136    0.876202  1.053358  0.013988    1.358517   \n",
       "35            0.831818  0.339394    0.836601  1.005750  0.001940    1.029273   \n",
       "36            0.831818  0.118182    0.818898  0.984467 -0.001865    0.928656   \n",
       "37            0.831818  0.338258    0.861138  1.035248  0.011517    1.211143   \n",
       "38            0.831818  0.185606    0.861160  1.035274  0.006324    1.211335   \n",
       "\n",
       "    antecedent_len  consequent_len  \n",
       "34               2               1  \n",
       "35               2               1  \n",
       "36               2               1  \n",
       "37               2               1  \n",
       "38               2               1  "
      ]
     },
     "execution_count": 423,
     "metadata": {},
     "output_type": "execute_result"
    }
   ],
   "source": [
    "saidaRecords.head()"
   ]
  },
  {
   "cell_type": "code",
   "execution_count": 424,
   "metadata": {
    "ExecuteTime": {
     "end_time": "2021-11-05T01:49:24.102207Z",
     "start_time": "2021-11-05T01:49:24.063216Z"
    }
   },
   "outputs": [
    {
     "data": {
      "text/plain": [
       "antecedents           (uso_solo=Sim, br=101.0, sentido_via=Crescente...\n",
       "consequents                (classificacao_acidente=Com Vítimas Feridas)\n",
       "antecedent support                                             0.439773\n",
       "consequent support                                             0.831818\n",
       "support                                                        0.364773\n",
       "confidence                                                            1\n",
       "lift                                                            1.97475\n",
       "leverage                                                       0.100919\n",
       "conviction                                                          inf\n",
       "antecedent_len                                                        4\n",
       "consequent_len                                                        2\n",
       "dtype: object"
      ]
     },
     "execution_count": 424,
     "metadata": {},
     "output_type": "execute_result"
    }
   ],
   "source": [
    "saidaRecords.max()"
   ]
  },
  {
   "cell_type": "markdown",
   "metadata": {},
   "source": [
    "## Salvando os resultados do algoritmo em um .csv"
   ]
  },
  {
   "cell_type": "code",
   "execution_count": 425,
   "metadata": {
    "ExecuteTime": {
     "end_time": "2021-11-05T01:49:24.200211Z",
     "start_time": "2021-11-05T01:49:24.107211Z"
    },
    "scrolled": true
   },
   "outputs": [
    {
     "data": {
      "text/html": [
       "<div>\n",
       "<style scoped>\n",
       "    .dataframe tbody tr th:only-of-type {\n",
       "        vertical-align: middle;\n",
       "    }\n",
       "\n",
       "    .dataframe tbody tr th {\n",
       "        vertical-align: top;\n",
       "    }\n",
       "\n",
       "    .dataframe thead th {\n",
       "        text-align: right;\n",
       "    }\n",
       "</style>\n",
       "<table border=\"1\" class=\"dataframe\">\n",
       "  <thead>\n",
       "    <tr style=\"text-align: right;\">\n",
       "      <th></th>\n",
       "      <th>antecedents</th>\n",
       "      <th>consequents</th>\n",
       "      <th>antecedent support</th>\n",
       "      <th>consequent support</th>\n",
       "      <th>support</th>\n",
       "      <th>confidence</th>\n",
       "      <th>lift</th>\n",
       "      <th>leverage</th>\n",
       "      <th>conviction</th>\n",
       "      <th>antecedent_len</th>\n",
       "      <th>consequent_len</th>\n",
       "    </tr>\n",
       "  </thead>\n",
       "  <tbody>\n",
       "    <tr>\n",
       "      <th>34</th>\n",
       "      <td>(br=101.0, causa_acidente=Falta de Atenção à C...</td>\n",
       "      <td>(classificacao_acidente=Com Vítimas Feridas)</td>\n",
       "      <td>0.315152</td>\n",
       "      <td>0.831818</td>\n",
       "      <td>0.276136</td>\n",
       "      <td>0.876202</td>\n",
       "      <td>1.053358</td>\n",
       "      <td>0.013988</td>\n",
       "      <td>1.358517</td>\n",
       "      <td>2</td>\n",
       "      <td>1</td>\n",
       "    </tr>\n",
       "    <tr>\n",
       "      <th>35</th>\n",
       "      <td>(br=101.0, condicao_metereologica=Céu Claro)</td>\n",
       "      <td>(classificacao_acidente=Com Vítimas Feridas)</td>\n",
       "      <td>0.405682</td>\n",
       "      <td>0.831818</td>\n",
       "      <td>0.339394</td>\n",
       "      <td>0.836601</td>\n",
       "      <td>1.005750</td>\n",
       "      <td>0.001940</td>\n",
       "      <td>1.029273</td>\n",
       "      <td>2</td>\n",
       "      <td>1</td>\n",
       "    </tr>\n",
       "    <tr>\n",
       "      <th>36</th>\n",
       "      <td>(br=101.0, condicao_metereologica=Nublado)</td>\n",
       "      <td>(classificacao_acidente=Com Vítimas Feridas)</td>\n",
       "      <td>0.144318</td>\n",
       "      <td>0.831818</td>\n",
       "      <td>0.118182</td>\n",
       "      <td>0.818898</td>\n",
       "      <td>0.984467</td>\n",
       "      <td>-0.001865</td>\n",
       "      <td>0.928656</td>\n",
       "      <td>2</td>\n",
       "      <td>1</td>\n",
       "    </tr>\n",
       "    <tr>\n",
       "      <th>37</th>\n",
       "      <td>(br=101.0, fase_dia=Pleno dia)</td>\n",
       "      <td>(classificacao_acidente=Com Vítimas Feridas)</td>\n",
       "      <td>0.392803</td>\n",
       "      <td>0.831818</td>\n",
       "      <td>0.338258</td>\n",
       "      <td>0.861138</td>\n",
       "      <td>1.035248</td>\n",
       "      <td>0.011517</td>\n",
       "      <td>1.211143</td>\n",
       "      <td>2</td>\n",
       "      <td>1</td>\n",
       "    </tr>\n",
       "    <tr>\n",
       "      <th>38</th>\n",
       "      <td>(municipio=SERRA, br=101.0)</td>\n",
       "      <td>(classificacao_acidente=Com Vítimas Feridas)</td>\n",
       "      <td>0.215530</td>\n",
       "      <td>0.831818</td>\n",
       "      <td>0.185606</td>\n",
       "      <td>0.861160</td>\n",
       "      <td>1.035274</td>\n",
       "      <td>0.006324</td>\n",
       "      <td>1.211335</td>\n",
       "      <td>2</td>\n",
       "      <td>1</td>\n",
       "    </tr>\n",
       "  </tbody>\n",
       "</table>\n",
       "</div>"
      ],
      "text/plain": [
       "                                          antecedents  \\\n",
       "34  (br=101.0, causa_acidente=Falta de Atenção à C...   \n",
       "35       (br=101.0, condicao_metereologica=Céu Claro)   \n",
       "36         (br=101.0, condicao_metereologica=Nublado)   \n",
       "37                     (br=101.0, fase_dia=Pleno dia)   \n",
       "38                        (municipio=SERRA, br=101.0)   \n",
       "\n",
       "                                     consequents  antecedent support  \\\n",
       "34  (classificacao_acidente=Com Vítimas Feridas)            0.315152   \n",
       "35  (classificacao_acidente=Com Vítimas Feridas)            0.405682   \n",
       "36  (classificacao_acidente=Com Vítimas Feridas)            0.144318   \n",
       "37  (classificacao_acidente=Com Vítimas Feridas)            0.392803   \n",
       "38  (classificacao_acidente=Com Vítimas Feridas)            0.215530   \n",
       "\n",
       "    consequent support   support  confidence      lift  leverage  conviction  \\\n",
       "34            0.831818  0.276136    0.876202  1.053358  0.013988    1.358517   \n",
       "35            0.831818  0.339394    0.836601  1.005750  0.001940    1.029273   \n",
       "36            0.831818  0.118182    0.818898  0.984467 -0.001865    0.928656   \n",
       "37            0.831818  0.338258    0.861138  1.035248  0.011517    1.211143   \n",
       "38            0.831818  0.185606    0.861160  1.035274  0.006324    1.211335   \n",
       "\n",
       "    antecedent_len  consequent_len  \n",
       "34               2               1  \n",
       "35               2               1  \n",
       "36               2               1  \n",
       "37               2               1  \n",
       "38               2               1  "
      ]
     },
     "execution_count": 425,
     "metadata": {},
     "output_type": "execute_result"
    }
   ],
   "source": [
    "saidaRecords.head()"
   ]
  },
  {
   "cell_type": "markdown",
   "metadata": {},
   "source": [
    "## Substituição de '.' para ','"
   ]
  },
  {
   "cell_type": "code",
   "execution_count": 426,
   "metadata": {
    "ExecuteTime": {
     "end_time": "2021-11-05T01:49:24.262223Z",
     "start_time": "2021-11-05T01:49:24.212214Z"
    }
   },
   "outputs": [],
   "source": [
    "listCol = ['antecedent support', 'consequent support', 'support', 'confidence', 'lift', 'leverage', 'conviction']\n",
    "for i in listCol:\n",
    "    saidaRecords[i] = saidaRecords[i].astype(str)\n",
    "    saidaRecords[i] = saidaRecords[i].str.replace('.', ',')"
   ]
  },
  {
   "cell_type": "markdown",
   "metadata": {},
   "source": [
    "## Ordena os dados baseado na confiança"
   ]
  },
  {
   "cell_type": "code",
   "execution_count": 427,
   "metadata": {
    "ExecuteTime": {
     "end_time": "2021-11-05T01:49:24.292213Z",
     "start_time": "2021-11-05T01:49:24.269214Z"
    }
   },
   "outputs": [],
   "source": [
    "# Ordena pela saidaRecords e salva em um novo DataFrame\n",
    "saidaRecords = saidaRecords.sort_values(by='confidence', ascending=False)"
   ]
  },
  {
   "cell_type": "markdown",
   "metadata": {},
   "source": [
    "## Salva os resultados em um arquivo .csv"
   ]
  },
  {
   "cell_type": "code",
   "execution_count": 428,
   "metadata": {
    "ExecuteTime": {
     "end_time": "2021-11-05T01:49:24.339212Z",
     "start_time": "2021-11-05T01:49:24.304213Z"
    }
   },
   "outputs": [],
   "source": [
    "# Salvando em um arquivo .csv\n",
    "saidaRecords.to_csv(endereco + 'AprioriMlxtend_'+ 'ES_datatran' + anoArq + '.csv', encoding= 'ISO-8859-1', sep= ';', index=False)"
   ]
  },
  {
   "cell_type": "code",
   "execution_count": 429,
   "metadata": {
    "ExecuteTime": {
     "end_time": "2021-11-05T01:49:24.355214Z",
     "start_time": "2021-11-05T01:49:24.349216Z"
    }
   },
   "outputs": [],
   "source": [
    "# Gambiarra para atualizar o arquivo com os dados ordenados, de acordo com a célula anterior\n",
    "# saidaRecords = pd.read_csv(endereco + 'AprioriMlxtend_'+ 'ES_datatran' + anoArq + '.csv', encoding='ISO-8859-1', sep=';')"
   ]
  },
  {
   "cell_type": "code",
   "execution_count": 430,
   "metadata": {
    "ExecuteTime": {
     "end_time": "2021-11-05T01:49:24.387210Z",
     "start_time": "2021-11-05T01:49:24.362216Z"
    }
   },
   "outputs": [],
   "source": [
    "# Salvando em um arquivo .csv\n",
    "# saidaRecords.to_csv(endereco + 'AprioriMlxtend_'+ 'ES_datatran' + anoArq + '.csv', encoding= 'ISO-8859-1', sep= ';', index=False)"
   ]
  },
  {
   "cell_type": "markdown",
   "metadata": {
    "heading_collapsed": true
   },
   "source": [
    "### Filtro para facilitar a visualização dos resultados"
   ]
  },
  {
   "cell_type": "code",
   "execution_count": 431,
   "metadata": {
    "ExecuteTime": {
     "end_time": "2021-11-05T01:49:24.403214Z",
     "start_time": "2021-11-05T01:49:24.392213Z"
    },
    "hidden": true
   },
   "outputs": [],
   "source": [
    "# rules[ (rules['antecedent_len'] >= 2) &\n",
    "#        (rules['confidence'] > 0.75) &\n",
    "#        (rules['lift'] > 1.2) ]"
   ]
  },
  {
   "cell_type": "code",
   "execution_count": 432,
   "metadata": {
    "ExecuteTime": {
     "end_time": "2021-11-05T01:49:24.434206Z",
     "start_time": "2021-11-05T01:49:24.413212Z"
    },
    "hidden": true
   },
   "outputs": [],
   "source": [
    "# rules[rules['antecedents'] == {'Eggs', 'Kidney Beans'}]"
   ]
  },
  {
   "cell_type": "markdown",
   "metadata": {
    "heading_collapsed": true
   },
   "source": [
    "## Filtros modelos para serem utilizados no apriori"
   ]
  },
  {
   "cell_type": "code",
   "execution_count": 433,
   "metadata": {
    "ExecuteTime": {
     "end_time": "2021-11-05T01:49:24.449215Z",
     "start_time": "2021-11-05T01:49:24.439212Z"
    },
    "hidden": true
   },
   "outputs": [],
   "source": [
    "# saidaRecords[ (saidaRecords['antecedent_len'] >= 3 ) &\n",
    "#                    (saidaRecords['consequent_len'] >= 3) ]"
   ]
  },
  {
   "cell_type": "code",
   "execution_count": 434,
   "metadata": {
    "ExecuteTime": {
     "end_time": "2021-11-05T01:49:24.465213Z",
     "start_time": "2021-11-05T01:49:24.454216Z"
    },
    "hidden": true
   },
   "outputs": [],
   "source": [
    "# frequent_itemsets[ (frequent_itemsets['length'] == 2) &\n",
    "#                    (frequent_itemsets['support'] >= 0.8) ]"
   ]
  },
  {
   "cell_type": "code",
   "execution_count": 435,
   "metadata": {
    "ExecuteTime": {
     "end_time": "2021-11-05T01:49:24.497213Z",
     "start_time": "2021-11-05T01:49:24.473213Z"
    },
    "hidden": true
   },
   "outputs": [],
   "source": [
    "# frequent_itemsets[ frequent_itemsets['itemsets'] == {'Onion', 'Eggs'} ]"
   ]
  },
  {
   "cell_type": "markdown",
   "metadata": {},
   "source": [
    "# ATIVIDADES FUTURAS"
   ]
  },
  {
   "cell_type": "markdown",
   "metadata": {},
   "source": [
    "- Verificar se a coluna ['ignorados'] é necessária para analisar os resultados. <br>\n",
    "Analisar o significado da coluna 'ignorados' no site da PRF. Ou no arquivo de descrição de tabelas.\n",
    "***Resposta** : No link do anuário 2020, lá é apresentado alguns detalhes dos dados."
   ]
  },
  {
   "cell_type": "markdown",
   "metadata": {},
   "source": [
    "- Estudar os parâmetros do algoritmo apriori."
   ]
  },
  {
   "cell_type": "markdown",
   "metadata": {
    "ExecuteTime": {
     "end_time": "2021-10-07T05:51:12.535816Z",
     "start_time": "2021-10-07T05:51:12.514839Z"
    }
   },
   "source": [
    "- Analisar e entende melhor a coluna 'pessoas'."
   ]
  },
  {
   "cell_type": "markdown",
   "metadata": {
    "ExecuteTime": {
     "end_time": "2021-10-15T04:58:39.889312Z",
     "start_time": "2021-10-15T04:54:45.534Z"
    }
   },
   "source": [
    "- Analisar a saída do 'lift' e 'conviction'.\n",
    "***Resposta**: O problema está no momento que os dados 'lift' e 'conviction' são passados para o arquivo .csv.\n",
    "\n",
    "No Jupyter os dados estão sendo apresentados da maneira correta."
   ]
  },
  {
   "cell_type": "markdown",
   "metadata": {},
   "source": [
    "# Print Final"
   ]
  },
  {
   "cell_type": "code",
   "execution_count": 436,
   "metadata": {
    "ExecuteTime": {
     "end_time": "2021-11-05T01:49:24.513212Z",
     "start_time": "2021-11-05T01:49:24.504211Z"
    }
   },
   "outputs": [
    {
     "name": "stdout",
     "output_type": "stream",
     "text": [
      "TUDO EXECUTADO!\n"
     ]
    }
   ],
   "source": [
    "print(\"TUDO EXECUTADO!\")"
   ]
  }
 ],
 "metadata": {
  "kernelspec": {
   "display_name": "Python 3",
   "language": "python",
   "name": "python3"
  },
  "language_info": {
   "codemirror_mode": {
    "name": "ipython",
    "version": 3
   },
   "file_extension": ".py",
   "mimetype": "text/x-python",
   "name": "python",
   "nbconvert_exporter": "python",
   "pygments_lexer": "ipython3",
   "version": "3.8.5"
  }
 },
 "nbformat": 4,
 "nbformat_minor": 4
}
