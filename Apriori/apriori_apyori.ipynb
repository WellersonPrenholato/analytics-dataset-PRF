{
 "cells": [
  {
   "cell_type": "markdown",
   "metadata": {},
   "source": [
    "# Biblioteca"
   ]
  },
  {
   "cell_type": "code",
   "execution_count": 1,
   "metadata": {
    "ExecuteTime": {
     "end_time": "2021-01-22T03:29:45.724379Z",
     "start_time": "2021-01-22T03:29:44.544656Z"
    }
   },
   "outputs": [],
   "source": [
    "import numpy as np\n",
    "import matplotlib.pyplot as plt\n",
    "import pandas as pd\n",
    "from apyori import apriori"
   ]
  },
  {
   "cell_type": "markdown",
   "metadata": {},
   "source": [
    "# Carregamento de dados"
   ]
  },
  {
   "cell_type": "code",
   "execution_count": 2,
   "metadata": {
    "ExecuteTime": {
     "end_time": "2021-01-22T03:29:45.749379Z",
     "start_time": "2021-01-22T03:29:45.732378Z"
    }
   },
   "outputs": [],
   "source": [
    "endereco = '../BaseDadosSelecionados/'\n",
    "# endereco2 = 'Agrupado_Ocorrencia'\n",
    "nomeArq = 'ES_datatran2019_Apriori'"
   ]
  },
  {
   "cell_type": "code",
   "execution_count": 3,
   "metadata": {
    "ExecuteTime": {
     "end_time": "2021-01-22T03:29:45.925377Z",
     "start_time": "2021-01-22T03:29:45.784378Z"
    }
   },
   "outputs": [],
   "source": [
    "data = pd.read_csv(endereco + nomeArq +'.csv', encoding='ISO-8859-1', sep=';')"
   ]
  },
  {
   "cell_type": "code",
   "execution_count": 4,
   "metadata": {
    "ExecuteTime": {
     "end_time": "2021-01-22T03:29:45.971380Z",
     "start_time": "2021-01-22T03:29:45.943378Z"
    }
   },
   "outputs": [
    {
     "data": {
      "text/plain": [
       "(2841, 21)"
      ]
     },
     "execution_count": 4,
     "metadata": {},
     "output_type": "execute_result"
    }
   ],
   "source": [
    "data.shape"
   ]
  },
  {
   "cell_type": "code",
   "execution_count": 5,
   "metadata": {
    "ExecuteTime": {
     "end_time": "2021-01-22T03:29:46.069378Z",
     "start_time": "2021-01-22T03:29:45.981380Z"
    },
    "scrolled": true
   },
   "outputs": [
    {
     "data": {
      "text/html": [
       "<div>\n",
       "<style scoped>\n",
       "    .dataframe tbody tr th:only-of-type {\n",
       "        vertical-align: middle;\n",
       "    }\n",
       "\n",
       "    .dataframe tbody tr th {\n",
       "        vertical-align: top;\n",
       "    }\n",
       "\n",
       "    .dataframe thead th {\n",
       "        text-align: right;\n",
       "    }\n",
       "</style>\n",
       "<table border=\"1\" class=\"dataframe\">\n",
       "  <thead>\n",
       "    <tr style=\"text-align: right;\">\n",
       "      <th></th>\n",
       "      <th>dia_semana</th>\n",
       "      <th>br</th>\n",
       "      <th>km</th>\n",
       "      <th>municipio</th>\n",
       "      <th>causa_acidente</th>\n",
       "      <th>tipo_acidente</th>\n",
       "      <th>classificacao_acidente</th>\n",
       "      <th>fase_dia</th>\n",
       "      <th>sentido_via</th>\n",
       "      <th>condicao_metereologica</th>\n",
       "      <th>...</th>\n",
       "      <th>tracado_via</th>\n",
       "      <th>uso_solo</th>\n",
       "      <th>pessoas</th>\n",
       "      <th>mortos</th>\n",
       "      <th>feridos_leves</th>\n",
       "      <th>feridos_graves</th>\n",
       "      <th>ilesos</th>\n",
       "      <th>ignorados</th>\n",
       "      <th>feridos</th>\n",
       "      <th>veiculos</th>\n",
       "    </tr>\n",
       "  </thead>\n",
       "  <tbody>\n",
       "    <tr>\n",
       "      <th>0</th>\n",
       "      <td>dia_semana=terça-feira</td>\n",
       "      <td>br=262.0</td>\n",
       "      <td>km=95</td>\n",
       "      <td>municipio=DOMINGOS MARTINS</td>\n",
       "      <td>causa_acidente=Não guardar distância de segurança</td>\n",
       "      <td>tipo_acidente=Engavetamento</td>\n",
       "      <td>classificacao_acidente=Sem Vítimas</td>\n",
       "      <td>fase_dia=Pleno dia</td>\n",
       "      <td>sentido_via=Decrescente</td>\n",
       "      <td>condicao_metereologica=Céu Claro</td>\n",
       "      <td>...</td>\n",
       "      <td>tracado_via=Reta</td>\n",
       "      <td>uso_solo=1</td>\n",
       "      <td>pessoas=4</td>\n",
       "      <td>mortos=0</td>\n",
       "      <td>feridos_leves=0</td>\n",
       "      <td>feridos_graves=0</td>\n",
       "      <td>ilesos=4</td>\n",
       "      <td>ignorados=0</td>\n",
       "      <td>feridos=0</td>\n",
       "      <td>veiculos=4</td>\n",
       "    </tr>\n",
       "    <tr>\n",
       "      <th>1</th>\n",
       "      <td>dia_semana=terça-feira</td>\n",
       "      <td>br=101.0</td>\n",
       "      <td>km=77.1</td>\n",
       "      <td>municipio=SAO MATEUS</td>\n",
       "      <td>causa_acidente=Falta de Atenção à Condução</td>\n",
       "      <td>tipo_acidente=Colisão traseira</td>\n",
       "      <td>classificacao_acidente=Com Vítimas Feridas</td>\n",
       "      <td>fase_dia=Pleno dia</td>\n",
       "      <td>sentido_via=Decrescente</td>\n",
       "      <td>condicao_metereologica=Céu Claro</td>\n",
       "      <td>...</td>\n",
       "      <td>tracado_via=Desvio Temporário</td>\n",
       "      <td>uso_solo=0</td>\n",
       "      <td>pessoas=3</td>\n",
       "      <td>mortos=0</td>\n",
       "      <td>feridos_leves=1</td>\n",
       "      <td>feridos_graves=1</td>\n",
       "      <td>ilesos=1</td>\n",
       "      <td>ignorados=0</td>\n",
       "      <td>feridos=2</td>\n",
       "      <td>veiculos=2</td>\n",
       "    </tr>\n",
       "    <tr>\n",
       "      <th>2</th>\n",
       "      <td>dia_semana=terça-feira</td>\n",
       "      <td>br=101.0</td>\n",
       "      <td>km=299.2</td>\n",
       "      <td>municipio=VIANA</td>\n",
       "      <td>causa_acidente=Desobediência às normas de trân...</td>\n",
       "      <td>tipo_acidente=Colisão transversal</td>\n",
       "      <td>classificacao_acidente=Sem Vítimas</td>\n",
       "      <td>fase_dia=Anoitecer</td>\n",
       "      <td>sentido_via=Decrescente</td>\n",
       "      <td>condicao_metereologica=Céu Claro</td>\n",
       "      <td>...</td>\n",
       "      <td>tracado_via=Não Informado</td>\n",
       "      <td>uso_solo=1</td>\n",
       "      <td>pessoas=3</td>\n",
       "      <td>mortos=0</td>\n",
       "      <td>feridos_leves=0</td>\n",
       "      <td>feridos_graves=0</td>\n",
       "      <td>ilesos=3</td>\n",
       "      <td>ignorados=0</td>\n",
       "      <td>feridos=0</td>\n",
       "      <td>veiculos=2</td>\n",
       "    </tr>\n",
       "    <tr>\n",
       "      <th>3</th>\n",
       "      <td>dia_semana=terça-feira</td>\n",
       "      <td>br=262.0</td>\n",
       "      <td>km=168</td>\n",
       "      <td>municipio=IBATIBA</td>\n",
       "      <td>causa_acidente=Falta de Atenção à Condução</td>\n",
       "      <td>tipo_acidente=Queda de ocupante de veículo</td>\n",
       "      <td>classificacao_acidente=Com Vítimas Feridas</td>\n",
       "      <td>fase_dia=Anoitecer</td>\n",
       "      <td>sentido_via=Crescente</td>\n",
       "      <td>condicao_metereologica=Céu Claro</td>\n",
       "      <td>...</td>\n",
       "      <td>tracado_via=Reta</td>\n",
       "      <td>uso_solo=0</td>\n",
       "      <td>pessoas=1</td>\n",
       "      <td>mortos=0</td>\n",
       "      <td>feridos_leves=0</td>\n",
       "      <td>feridos_graves=1</td>\n",
       "      <td>ilesos=0</td>\n",
       "      <td>ignorados=0</td>\n",
       "      <td>feridos=1</td>\n",
       "      <td>veiculos=1</td>\n",
       "    </tr>\n",
       "    <tr>\n",
       "      <th>4</th>\n",
       "      <td>dia_semana=terça-feira</td>\n",
       "      <td>br=101.0</td>\n",
       "      <td>km=329</td>\n",
       "      <td>municipio=GUARAPARI</td>\n",
       "      <td>causa_acidente=Ingestão de Álcool</td>\n",
       "      <td>tipo_acidente=Colisão lateral</td>\n",
       "      <td>classificacao_acidente=Com Vítimas Feridas</td>\n",
       "      <td>fase_dia=Plena Noite</td>\n",
       "      <td>sentido_via=Crescente</td>\n",
       "      <td>condicao_metereologica=Céu Claro</td>\n",
       "      <td>...</td>\n",
       "      <td>tracado_via=Reta</td>\n",
       "      <td>uso_solo=0</td>\n",
       "      <td>pessoas=4</td>\n",
       "      <td>mortos=0</td>\n",
       "      <td>feridos_leves=3</td>\n",
       "      <td>feridos_graves=0</td>\n",
       "      <td>ilesos=0</td>\n",
       "      <td>ignorados=1</td>\n",
       "      <td>feridos=3</td>\n",
       "      <td>veiculos=2</td>\n",
       "    </tr>\n",
       "  </tbody>\n",
       "</table>\n",
       "<p>5 rows × 21 columns</p>\n",
       "</div>"
      ],
      "text/plain": [
       "               dia_semana        br        km                   municipio  \\\n",
       "0  dia_semana=terça-feira  br=262.0     km=95  municipio=DOMINGOS MARTINS   \n",
       "1  dia_semana=terça-feira  br=101.0   km=77.1        municipio=SAO MATEUS   \n",
       "2  dia_semana=terça-feira  br=101.0  km=299.2             municipio=VIANA   \n",
       "3  dia_semana=terça-feira  br=262.0    km=168           municipio=IBATIBA   \n",
       "4  dia_semana=terça-feira  br=101.0    km=329         municipio=GUARAPARI   \n",
       "\n",
       "                                      causa_acidente  \\\n",
       "0  causa_acidente=Não guardar distância de segurança   \n",
       "1         causa_acidente=Falta de Atenção à Condução   \n",
       "2  causa_acidente=Desobediência às normas de trân...   \n",
       "3         causa_acidente=Falta de Atenção à Condução   \n",
       "4                  causa_acidente=Ingestão de Álcool   \n",
       "\n",
       "                                tipo_acidente  \\\n",
       "0                 tipo_acidente=Engavetamento   \n",
       "1              tipo_acidente=Colisão traseira   \n",
       "2           tipo_acidente=Colisão transversal   \n",
       "3  tipo_acidente=Queda de ocupante de veículo   \n",
       "4               tipo_acidente=Colisão lateral   \n",
       "\n",
       "                       classificacao_acidente              fase_dia  \\\n",
       "0          classificacao_acidente=Sem Vítimas    fase_dia=Pleno dia   \n",
       "1  classificacao_acidente=Com Vítimas Feridas    fase_dia=Pleno dia   \n",
       "2          classificacao_acidente=Sem Vítimas    fase_dia=Anoitecer   \n",
       "3  classificacao_acidente=Com Vítimas Feridas    fase_dia=Anoitecer   \n",
       "4  classificacao_acidente=Com Vítimas Feridas  fase_dia=Plena Noite   \n",
       "\n",
       "               sentido_via            condicao_metereologica  ...  \\\n",
       "0  sentido_via=Decrescente  condicao_metereologica=Céu Claro  ...   \n",
       "1  sentido_via=Decrescente  condicao_metereologica=Céu Claro  ...   \n",
       "2  sentido_via=Decrescente  condicao_metereologica=Céu Claro  ...   \n",
       "3    sentido_via=Crescente  condicao_metereologica=Céu Claro  ...   \n",
       "4    sentido_via=Crescente  condicao_metereologica=Céu Claro  ...   \n",
       "\n",
       "                     tracado_via    uso_solo    pessoas    mortos  \\\n",
       "0               tracado_via=Reta  uso_solo=1  pessoas=4  mortos=0   \n",
       "1  tracado_via=Desvio Temporário  uso_solo=0  pessoas=3  mortos=0   \n",
       "2      tracado_via=Não Informado  uso_solo=1  pessoas=3  mortos=0   \n",
       "3               tracado_via=Reta  uso_solo=0  pessoas=1  mortos=0   \n",
       "4               tracado_via=Reta  uso_solo=0  pessoas=4  mortos=0   \n",
       "\n",
       "     feridos_leves    feridos_graves    ilesos    ignorados    feridos  \\\n",
       "0  feridos_leves=0  feridos_graves=0  ilesos=4  ignorados=0  feridos=0   \n",
       "1  feridos_leves=1  feridos_graves=1  ilesos=1  ignorados=0  feridos=2   \n",
       "2  feridos_leves=0  feridos_graves=0  ilesos=3  ignorados=0  feridos=0   \n",
       "3  feridos_leves=0  feridos_graves=1  ilesos=0  ignorados=0  feridos=1   \n",
       "4  feridos_leves=3  feridos_graves=0  ilesos=0  ignorados=1  feridos=3   \n",
       "\n",
       "     veiculos  \n",
       "0  veiculos=4  \n",
       "1  veiculos=2  \n",
       "2  veiculos=2  \n",
       "3  veiculos=1  \n",
       "4  veiculos=2  \n",
       "\n",
       "[5 rows x 21 columns]"
      ]
     },
     "execution_count": 5,
     "metadata": {},
     "output_type": "execute_result"
    }
   ],
   "source": [
    "data.head()"
   ]
  },
  {
   "cell_type": "markdown",
   "metadata": {
    "heading_collapsed": true
   },
   "source": [
    "# Processamento de dados\n",
    "A biblioteca Apriori que vamos usar exige que nosso conjunto de dados esteja na forma de uma lista de listas, onde o conjunto de dados inteiro é uma grande lista e cada transação no conjunto de dados é uma lista interna da grande lista externa. Atualmente, temos dados na forma de um dataframe de pandas."
   ]
  },
  {
   "cell_type": "code",
   "execution_count": 6,
   "metadata": {
    "ExecuteTime": {
     "end_time": "2021-01-22T03:29:46.484424Z",
     "start_time": "2021-01-22T03:29:46.073378Z"
    },
    "hidden": true
   },
   "outputs": [],
   "source": [
    "# data.shape[0] LINHAS e data.shape[1] COLUNAS\n",
    "records = []\n",
    "for i in range(0, data.shape[0]):\n",
    "    records.append([str(data.values[i,j]) for j in range(0, data.shape[1])])"
   ]
  },
  {
   "cell_type": "code",
   "execution_count": 7,
   "metadata": {
    "ExecuteTime": {
     "end_time": "2021-01-22T03:29:46.492380Z",
     "start_time": "2021-01-22T03:29:46.486381Z"
    },
    "hidden": true
   },
   "outputs": [],
   "source": [
    "# print(records)"
   ]
  },
  {
   "cell_type": "code",
   "execution_count": 8,
   "metadata": {
    "ExecuteTime": {
     "end_time": "2021-01-22T03:29:46.516400Z",
     "start_time": "2021-01-22T03:29:46.496377Z"
    },
    "hidden": true
   },
   "outputs": [],
   "source": [
    "saidaRecords = pd.DataFrame(records)"
   ]
  },
  {
   "cell_type": "code",
   "execution_count": 9,
   "metadata": {
    "ExecuteTime": {
     "end_time": "2021-01-22T03:29:46.586399Z",
     "start_time": "2021-01-22T03:29:46.521379Z"
    },
    "hidden": true
   },
   "outputs": [],
   "source": [
    "saidaRecords.to_csv('SaidaRecords'+ nomeArq +'.txt')"
   ]
  },
  {
   "cell_type": "markdown",
   "metadata": {},
   "source": [
    "# Execução algoritmo apriori"
   ]
  },
  {
   "cell_type": "code",
   "execution_count": 10,
   "metadata": {
    "ExecuteTime": {
     "end_time": "2021-01-22T03:29:46.593379Z",
     "start_time": "2021-01-22T03:29:46.588377Z"
    }
   },
   "outputs": [],
   "source": [
    "# https://stackabuse.com/association-rule-mining-via-apriori-algorithm-in-python/"
   ]
  },
  {
   "cell_type": "code",
   "execution_count": 11,
   "metadata": {
    "ExecuteTime": {
     "end_time": "2021-01-22T03:29:47.835380Z",
     "start_time": "2021-01-22T03:29:46.596379Z"
    }
   },
   "outputs": [
    {
     "name": "stdout",
     "output_type": "stream",
     "text": [
      "Wall time: 1.22 s\n"
     ]
    }
   ],
   "source": [
    "%%time\n",
    "# association_rules = apriori(records, min_support=0.1, min_confidence=0.3, min_lift=5, min_length=5)\n",
    "association_rules = apriori(records, min_support=0.3)\n",
    "association_results = list(association_rules)"
   ]
  },
  {
   "cell_type": "code",
   "execution_count": 12,
   "metadata": {
    "ExecuteTime": {
     "end_time": "2021-01-22T03:29:47.891380Z",
     "start_time": "2021-01-22T03:29:47.858380Z"
    }
   },
   "outputs": [
    {
     "data": {
      "text/plain": [
       "408"
      ]
     },
     "execution_count": 12,
     "metadata": {},
     "output_type": "execute_result"
    }
   ],
   "source": [
    "len(association_results)"
   ]
  },
  {
   "cell_type": "markdown",
   "metadata": {},
   "source": [
    "# Apresentação dos resultados"
   ]
  },
  {
   "cell_type": "markdown",
   "metadata": {
    "heading_collapsed": true
   },
   "source": [
    "## 1ª Forma"
   ]
  },
  {
   "cell_type": "code",
   "execution_count": 13,
   "metadata": {
    "ExecuteTime": {
     "end_time": "2021-01-22T03:29:47.908377Z",
     "start_time": "2021-01-22T03:29:47.896380Z"
    },
    "hidden": true
   },
   "outputs": [],
   "source": [
    "# for item in association_results:\n",
    "\n",
    "#     # first index of the inner list\n",
    "#     # Contains base item and add item\n",
    "#     pair = item[0] \n",
    "#     items = [x for x in pair]\n",
    "#     print(\"Rule: \" + items[0] + \" -> \" + items[1])\n",
    "\n",
    "#     #second index of the inner list\n",
    "#     print(\"Support: \" + str(item[1]))\n",
    "\n",
    "#     #third index of the list located at 0th\n",
    "#     #of the third index of the inner list\n",
    "\n",
    "#     print(\"Confidence: \" + str(item[2][0][2]))\n",
    "#     print(\"Lift: \" + str(item[2][0][3]))\n",
    "#     print(\"=====================================\")"
   ]
  },
  {
   "cell_type": "markdown",
   "metadata": {
    "heading_collapsed": true
   },
   "source": [
    "## 2ª Forma"
   ]
  },
  {
   "cell_type": "code",
   "execution_count": 14,
   "metadata": {
    "ExecuteTime": {
     "end_time": "2021-01-22T03:29:47.948381Z",
     "start_time": "2021-01-22T03:29:47.914381Z"
    },
    "hidden": true,
    "scrolled": true
   },
   "outputs": [],
   "source": [
    "# results =[]\n",
    "# for item in association_results:\n",
    "#     pair = item[0]\n",
    "#     items = [x for x in pair]\n",
    "    \n",
    "#     value0 = str(items[0])\n",
    "#     value1 = str(items[1])\n",
    "    \n",
    "#     value2 = str(item[1])[:7]\n",
    "    \n",
    "    \n",
    "#     value3 = str(item[2][0][2])[:7]\n",
    "#     value4 = str(item[2][0][3])[:7]\n",
    "    \n",
    "#     rows = (value0, value1, value2, value3, value4)\n",
    "#     results.append(rows)\n",
    "    \n",
    "# labels = ['Titulo 1', 'Titulo 2', 'Support', 'Confidence', 'Lift']\n",
    "# data_suggestion = pd.DataFrame.from_records(results, columns=labels)\n",
    "\n",
    "# print(data_suggestion)"
   ]
  },
  {
   "cell_type": "markdown",
   "metadata": {},
   "source": [
    "# Apresentação de resultados 2\n",
    "http://professorluizalberto.com.br/site/images/2020-1/Python%20Regras%20de%20Associa%C3%A7%C3%A3o.pdf"
   ]
  },
  {
   "cell_type": "code",
   "execution_count": 15,
   "metadata": {
    "ExecuteTime": {
     "end_time": "2021-01-22T03:29:47.980378Z",
     "start_time": "2021-01-22T03:29:47.956379Z"
    }
   },
   "outputs": [],
   "source": [
    "df = pd.DataFrame(columns=('Items', 'Antecedente', 'Consequente', 'Suporte', 'Confianca', 'Lift'))"
   ]
  },
  {
   "cell_type": "code",
   "execution_count": 16,
   "metadata": {
    "ExecuteTime": {
     "end_time": "2021-01-22T03:29:48.000381Z",
     "start_time": "2021-01-22T03:29:47.987378Z"
    }
   },
   "outputs": [],
   "source": [
    "Support = []\n",
    "Confidence = []\n",
    "Lift = []\n",
    "Items = []\n",
    "Antecedent = []\n",
    "Consequent = []"
   ]
  },
  {
   "cell_type": "code",
   "execution_count": 17,
   "metadata": {
    "ExecuteTime": {
     "end_time": "2021-01-22T03:29:48.483377Z",
     "start_time": "2021-01-22T03:29:48.007380Z"
    }
   },
   "outputs": [
    {
     "ename": "TypeError",
     "evalue": "'float' object is not iterable",
     "output_type": "error",
     "traceback": [
      "\u001b[1;31m---------------------------------------------------------------------------\u001b[0m",
      "\u001b[1;31mTypeError\u001b[0m                                 Traceback (most recent call last)",
      "\u001b[1;32m<ipython-input-17-770dc386c915>\u001b[0m in \u001b[0;36m<module>\u001b[1;34m\u001b[0m\n\u001b[0;32m      9\u001b[0m \u001b[1;33m\u001b[0m\u001b[0m\n\u001b[0;32m     10\u001b[0m \u001b[0mdf\u001b[0m\u001b[1;33m[\u001b[0m\u001b[1;34m'Items'\u001b[0m\u001b[1;33m]\u001b[0m \u001b[1;33m=\u001b[0m \u001b[0mlist\u001b[0m\u001b[1;33m(\u001b[0m\u001b[0mmap\u001b[0m\u001b[1;33m(\u001b[0m\u001b[0mset\u001b[0m\u001b[1;33m,\u001b[0m \u001b[0mItems\u001b[0m\u001b[1;33m)\u001b[0m\u001b[1;33m)\u001b[0m\u001b[1;33m\u001b[0m\u001b[1;33m\u001b[0m\u001b[0m\n\u001b[1;32m---> 11\u001b[1;33m \u001b[0mdf\u001b[0m\u001b[1;33m[\u001b[0m\u001b[1;34m'Antecedente'\u001b[0m\u001b[1;33m]\u001b[0m \u001b[1;33m=\u001b[0m \u001b[0mlist\u001b[0m\u001b[1;33m(\u001b[0m\u001b[0mmap\u001b[0m\u001b[1;33m(\u001b[0m\u001b[0mset\u001b[0m\u001b[1;33m,\u001b[0m \u001b[0mAntecedent\u001b[0m\u001b[1;33m)\u001b[0m\u001b[1;33m)\u001b[0m\u001b[1;33m\u001b[0m\u001b[1;33m\u001b[0m\u001b[0m\n\u001b[0m\u001b[0;32m     12\u001b[0m \u001b[0mdf\u001b[0m\u001b[1;33m[\u001b[0m\u001b[1;34m'Consequente'\u001b[0m\u001b[1;33m]\u001b[0m \u001b[1;33m=\u001b[0m \u001b[0mlist\u001b[0m\u001b[1;33m(\u001b[0m\u001b[0mmap\u001b[0m\u001b[1;33m(\u001b[0m\u001b[0mset\u001b[0m\u001b[1;33m,\u001b[0m \u001b[0mConsequent\u001b[0m\u001b[1;33m)\u001b[0m\u001b[1;33m)\u001b[0m\u001b[1;33m\u001b[0m\u001b[1;33m\u001b[0m\u001b[0m\n\u001b[0;32m     13\u001b[0m \u001b[0mdf\u001b[0m\u001b[1;33m[\u001b[0m\u001b[1;34m'Suporte'\u001b[0m\u001b[1;33m]\u001b[0m \u001b[1;33m=\u001b[0m \u001b[0mSupport\u001b[0m\u001b[1;33m\u001b[0m\u001b[1;33m\u001b[0m\u001b[0m\n",
      "\u001b[1;31mTypeError\u001b[0m: 'float' object is not iterable"
     ]
    }
   ],
   "source": [
    "for RelationRecord in association_results:\n",
    "    for ordered_stat in RelationRecord.ordered_statistics:\n",
    "        Support.append(RelationRecord.support)\n",
    "        Items.append(RelationRecord.items)\n",
    "        Antecedent.append(ordered_stat.confidence)\n",
    "        Consequent.append(ordered_stat.items_base)\n",
    "        Confidence.append(ordered_stat.confidence)\n",
    "        Lift.append(ordered_stat.lift)\n",
    "        \n",
    "df['Items'] = list(map(set, Items))\n",
    "df['Antecedente'] = list(map(set, Antecedent))\n",
    "df['Consequente'] = list(map(set, Consequent))\n",
    "df['Suporte'] = Support\n",
    "df['Confianca'] = Confidence\n",
    "df['Lift'] = Lift"
   ]
  },
  {
   "cell_type": "code",
   "execution_count": null,
   "metadata": {
    "ExecuteTime": {
     "end_time": "2021-01-22T03:29:48.490381Z",
     "start_time": "2021-01-22T03:29:44.586Z"
    }
   },
   "outputs": [],
   "source": [
    "df = df.astype('object')"
   ]
  },
  {
   "cell_type": "code",
   "execution_count": null,
   "metadata": {
    "ExecuteTime": {
     "end_time": "2021-01-22T03:29:48.494385Z",
     "start_time": "2021-01-22T03:29:44.588Z"
    }
   },
   "outputs": [],
   "source": [
    "df.dtypes"
   ]
  },
  {
   "cell_type": "code",
   "execution_count": null,
   "metadata": {
    "ExecuteTime": {
     "end_time": "2021-01-22T03:29:48.497378Z",
     "start_time": "2021-01-22T03:29:44.591Z"
    }
   },
   "outputs": [],
   "source": [
    "df.sort_values(by= 'Lift', ascending = False, inplace= True)"
   ]
  },
  {
   "cell_type": "markdown",
   "metadata": {},
   "source": [
    "# https://github.com/leoMurtha/Market-Basket-Analysis-Dotto"
   ]
  },
  {
   "cell_type": "code",
   "execution_count": null,
   "metadata": {},
   "outputs": [],
   "source": []
  },
  {
   "cell_type": "markdown",
   "metadata": {
    "ExecuteTime": {
     "end_time": "2021-01-21T00:30:10.891414Z",
     "start_time": "2021-01-21T00:30:08.544Z"
    }
   },
   "source": [
    "# Salvar resultado em um arquivo .csv"
   ]
  },
  {
   "cell_type": "code",
   "execution_count": null,
   "metadata": {
    "ExecuteTime": {
     "end_time": "2021-01-22T03:29:48.499378Z",
     "start_time": "2021-01-22T03:29:44.595Z"
    }
   },
   "outputs": [],
   "source": [
    "df.to_csv('Apyori2_'+ nomeArq + '.csv', encoding= 'ISO-8859-1', sep= ';', index=False)"
   ]
  },
  {
   "cell_type": "code",
   "execution_count": null,
   "metadata": {
    "ExecuteTime": {
     "end_time": "2021-01-22T03:29:48.502378Z",
     "start_time": "2021-01-22T03:29:44.597Z"
    }
   },
   "outputs": [],
   "source": [
    "data_suggestion.to_csv('Apyori_'+ nomeArq + '.csv', encoding= 'ISO-8859-1', sep= ';', index=False)"
   ]
  }
 ],
 "metadata": {
  "kernelspec": {
   "display_name": "Python 3",
   "language": "python",
   "name": "python3"
  },
  "language_info": {
   "codemirror_mode": {
    "name": "ipython",
    "version": 3
   },
   "file_extension": ".py",
   "mimetype": "text/x-python",
   "name": "python",
   "nbconvert_exporter": "python",
   "pygments_lexer": "ipython3",
   "version": "3.7.4"
  }
 },
 "nbformat": 4,
 "nbformat_minor": 4
}
