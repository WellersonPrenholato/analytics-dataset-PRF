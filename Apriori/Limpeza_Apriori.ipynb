{
 "cells": [
  {
   "cell_type": "markdown",
   "metadata": {},
   "source": [
    "# Bibliotecas"
   ]
  },
  {
   "cell_type": "code",
   "execution_count": 100,
   "metadata": {
    "ExecuteTime": {
     "end_time": "2021-01-25T04:05:11.662869Z",
     "start_time": "2021-01-25T04:05:11.656858Z"
    }
   },
   "outputs": [],
   "source": [
    "import pandas as pd"
   ]
  },
  {
   "cell_type": "markdown",
   "metadata": {
    "heading_collapsed": true
   },
   "source": [
    "# Carregamento dos dados"
   ]
  },
  {
   "cell_type": "code",
   "execution_count": 101,
   "metadata": {
    "ExecuteTime": {
     "end_time": "2021-01-25T04:05:11.687861Z",
     "start_time": "2021-01-25T04:05:11.668858Z"
    },
    "hidden": true
   },
   "outputs": [],
   "source": [
    "nomeArq = 'AprioriMlxtend_ES_datatran2019_Apriori'"
   ]
  },
  {
   "cell_type": "code",
   "execution_count": 102,
   "metadata": {
    "ExecuteTime": {
     "end_time": "2021-01-25T04:05:11.837861Z",
     "start_time": "2021-01-25T04:05:11.705860Z"
    },
    "hidden": true
   },
   "outputs": [],
   "source": [
    "data = pd.read_csv(nomeArq +'.csv', encoding='ISO-8859-1', sep=';')"
   ]
  },
  {
   "cell_type": "code",
   "execution_count": 103,
   "metadata": {
    "ExecuteTime": {
     "end_time": "2021-01-25T04:05:11.905858Z",
     "start_time": "2021-01-25T04:05:11.844860Z"
    },
    "hidden": true
   },
   "outputs": [
    {
     "data": {
      "text/html": [
       "<div>\n",
       "<style scoped>\n",
       "    .dataframe tbody tr th:only-of-type {\n",
       "        vertical-align: middle;\n",
       "    }\n",
       "\n",
       "    .dataframe tbody tr th {\n",
       "        vertical-align: top;\n",
       "    }\n",
       "\n",
       "    .dataframe thead th {\n",
       "        text-align: right;\n",
       "    }\n",
       "</style>\n",
       "<table border=\"1\" class=\"dataframe\">\n",
       "  <thead>\n",
       "    <tr style=\"text-align: right;\">\n",
       "      <th></th>\n",
       "      <th>antecedents</th>\n",
       "      <th>consequents</th>\n",
       "      <th>antecedent support</th>\n",
       "      <th>consequent support</th>\n",
       "      <th>support</th>\n",
       "      <th>confidence</th>\n",
       "      <th>lift</th>\n",
       "      <th>leverage</th>\n",
       "      <th>conviction</th>\n",
       "    </tr>\n",
       "  </thead>\n",
       "  <tbody>\n",
       "    <tr>\n",
       "      <th>0</th>\n",
       "      <td>frozenset({'causa_acidente=Falta de Atenção à ...</td>\n",
       "      <td>frozenset({'br=101.0'})</td>\n",
       "      <td>0.404083</td>\n",
       "      <td>0.714537</td>\n",
       "      <td>0.289335</td>\n",
       "      <td>0.716028</td>\n",
       "      <td>1.002086</td>\n",
       "      <td>0.000602</td>\n",
       "      <td>1.005250</td>\n",
       "    </tr>\n",
       "    <tr>\n",
       "      <th>1</th>\n",
       "      <td>frozenset({'br=101.0'})</td>\n",
       "      <td>frozenset({'classificacao_acidente=Com Vítimas...</td>\n",
       "      <td>0.714537</td>\n",
       "      <td>0.829285</td>\n",
       "      <td>0.598381</td>\n",
       "      <td>0.837438</td>\n",
       "      <td>1.009831</td>\n",
       "      <td>0.005826</td>\n",
       "      <td>1.050153</td>\n",
       "    </tr>\n",
       "    <tr>\n",
       "      <th>2</th>\n",
       "      <td>frozenset({'classificacao_acidente=Com Vítimas...</td>\n",
       "      <td>frozenset({'br=101.0'})</td>\n",
       "      <td>0.829285</td>\n",
       "      <td>0.714537</td>\n",
       "      <td>0.598381</td>\n",
       "      <td>0.721562</td>\n",
       "      <td>1.009831</td>\n",
       "      <td>0.005826</td>\n",
       "      <td>1.025229</td>\n",
       "    </tr>\n",
       "    <tr>\n",
       "      <th>3</th>\n",
       "      <td>frozenset({'condicao_metereologica=Céu Claro'})</td>\n",
       "      <td>frozenset({'br=101.0'})</td>\n",
       "      <td>0.588525</td>\n",
       "      <td>0.714537</td>\n",
       "      <td>0.422738</td>\n",
       "      <td>0.718301</td>\n",
       "      <td>1.005268</td>\n",
       "      <td>0.002215</td>\n",
       "      <td>1.013363</td>\n",
       "    </tr>\n",
       "    <tr>\n",
       "      <th>4</th>\n",
       "      <td>frozenset({'fase_dia=Plena Noite'})</td>\n",
       "      <td>frozenset({'br=101.0'})</td>\n",
       "      <td>0.355861</td>\n",
       "      <td>0.714537</td>\n",
       "      <td>0.255192</td>\n",
       "      <td>0.717112</td>\n",
       "      <td>1.003603</td>\n",
       "      <td>0.000916</td>\n",
       "      <td>1.009101</td>\n",
       "    </tr>\n",
       "  </tbody>\n",
       "</table>\n",
       "</div>"
      ],
      "text/plain": [
       "                                         antecedents  \\\n",
       "0  frozenset({'causa_acidente=Falta de Atenção à ...   \n",
       "1                            frozenset({'br=101.0'})   \n",
       "2  frozenset({'classificacao_acidente=Com Vítimas...   \n",
       "3    frozenset({'condicao_metereologica=Céu Claro'})   \n",
       "4                frozenset({'fase_dia=Plena Noite'})   \n",
       "\n",
       "                                         consequents  antecedent support  \\\n",
       "0                            frozenset({'br=101.0'})            0.404083   \n",
       "1  frozenset({'classificacao_acidente=Com Vítimas...            0.714537   \n",
       "2                            frozenset({'br=101.0'})            0.829285   \n",
       "3                            frozenset({'br=101.0'})            0.588525   \n",
       "4                            frozenset({'br=101.0'})            0.355861   \n",
       "\n",
       "   consequent support   support  confidence      lift  leverage  conviction  \n",
       "0            0.714537  0.289335    0.716028  1.002086  0.000602    1.005250  \n",
       "1            0.829285  0.598381    0.837438  1.009831  0.005826    1.050153  \n",
       "2            0.714537  0.598381    0.721562  1.009831  0.005826    1.025229  \n",
       "3            0.714537  0.422738    0.718301  1.005268  0.002215    1.013363  \n",
       "4            0.714537  0.255192    0.717112  1.003603  0.000916    1.009101  "
      ]
     },
     "execution_count": 103,
     "metadata": {},
     "output_type": "execute_result"
    }
   ],
   "source": [
    "data.head(5)"
   ]
  },
  {
   "cell_type": "code",
   "execution_count": 104,
   "metadata": {
    "ExecuteTime": {
     "end_time": "2021-01-25T04:05:11.923859Z",
     "start_time": "2021-01-25T04:05:11.914881Z"
    },
    "hidden": true
   },
   "outputs": [
    {
     "data": {
      "text/plain": [
       "(6910, 9)"
      ]
     },
     "execution_count": 104,
     "metadata": {},
     "output_type": "execute_result"
    }
   ],
   "source": [
    "data.shape"
   ]
  },
  {
   "cell_type": "code",
   "execution_count": 105,
   "metadata": {
    "ExecuteTime": {
     "end_time": "2021-01-25T04:05:11.942859Z",
     "start_time": "2021-01-25T04:05:11.930858Z"
    },
    "hidden": true
   },
   "outputs": [
    {
     "data": {
      "text/plain": [
       "Index(['antecedents', 'consequents', 'antecedent support',\n",
       "       'consequent support', 'support', 'confidence', 'lift', 'leverage',\n",
       "       'conviction'],\n",
       "      dtype='object')"
      ]
     },
     "execution_count": 105,
     "metadata": {},
     "output_type": "execute_result"
    }
   ],
   "source": [
    "data.columns"
   ]
  },
  {
   "cell_type": "markdown",
   "metadata": {},
   "source": [
    "# Organização dos dados"
   ]
  },
  {
   "cell_type": "markdown",
   "metadata": {
    "ExecuteTime": {
     "end_time": "2020-11-12T22:48:06.769182Z",
     "start_time": "2020-11-12T22:48:06.764186Z"
    },
    "heading_collapsed": true
   },
   "source": [
    "## Remoção de parte da string desnecessária (antecedents, consequents)"
   ]
  },
  {
   "cell_type": "code",
   "execution_count": 106,
   "metadata": {
    "ExecuteTime": {
     "end_time": "2021-01-25T04:05:11.955859Z",
     "start_time": "2021-01-25T04:05:11.949858Z"
    },
    "hidden": true
   },
   "outputs": [],
   "source": [
    "tamLinha = data.shape[0]"
   ]
  },
  {
   "cell_type": "code",
   "execution_count": 107,
   "metadata": {
    "ExecuteTime": {
     "end_time": "2021-01-25T04:05:11.972858Z",
     "start_time": "2021-01-25T04:05:11.958858Z"
    },
    "hidden": true
   },
   "outputs": [
    {
     "data": {
      "text/plain": [
       "['antecedents', 'consequents']"
      ]
     },
     "execution_count": 107,
     "metadata": {},
     "output_type": "execute_result"
    }
   ],
   "source": [
    "Ant_Suc = []\n",
    "Ant_Suc.append('antecedents')\n",
    "Ant_Suc.append('consequents')\n",
    "# Ant_Suc"
   ]
  },
  {
   "cell_type": "code",
   "execution_count": 108,
   "metadata": {
    "ExecuteTime": {
     "end_time": "2021-01-25T04:05:17.141666Z",
     "start_time": "2021-01-25T04:05:11.975859Z"
    },
    "hidden": true
   },
   "outputs": [],
   "source": [
    "for c in Ant_Suc:\n",
    "    for i in range(tamLinha):\n",
    "        # Remoção do 'frozenset(' e ')'\n",
    "        data.at[i, c] = data.at[i, c].replace(\"frozenset(\", \"\")\n",
    "        data.at[i, c] = data.at[i, c].replace(\")\", \"\")\n",
    "        \n",
    "        # Remoção do 'nan'\n",
    "        data.at[i, c] = data.at[i, c].replace(\"'nan'\", \"\")\n",
    "        data.at[i, c] = data.at[i, c].replace(\"{}\", \"\")\n",
    "        \n",
    "        # Remoção de alguns casos depois da remoção do 'nan'\n",
    "        data.at[i, c] = data.at[i, c].replace(\" , \", \" \")\n",
    "        data.at[i, c] = data.at[i, c].replace(\",}\", \"}\")\n",
    "        data.at[i, c] = data.at[i, c].replace(\", }\", \"}\")\n",
    "        data.at[i, c] = data.at[i, c].replace(\"{, \", \"{\")"
   ]
  },
  {
   "cell_type": "markdown",
   "metadata": {
    "heading_collapsed": true
   },
   "source": [
    "## Remoção das linhas vazias"
   ]
  },
  {
   "cell_type": "code",
   "execution_count": 109,
   "metadata": {
    "ExecuteTime": {
     "end_time": "2021-01-25T04:05:17.188664Z",
     "start_time": "2021-01-25T04:05:17.164674Z"
    },
    "hidden": true
   },
   "outputs": [
    {
     "data": {
      "text/plain": [
       "(6910, 9)"
      ]
     },
     "execution_count": 109,
     "metadata": {},
     "output_type": "execute_result"
    }
   ],
   "source": [
    "data.shape"
   ]
  },
  {
   "cell_type": "code",
   "execution_count": 110,
   "metadata": {
    "ExecuteTime": {
     "end_time": "2021-01-25T04:05:17.249666Z",
     "start_time": "2021-01-25T04:05:17.212666Z"
    },
    "hidden": true
   },
   "outputs": [],
   "source": [
    "# Remoção de linhas com antecedentes ou consequenes nulos\n",
    "df_remove = data.loc[((data['antecedents'] == '') | (data['consequents'] == ''))]\n",
    "data = data.drop(df_remove.index)"
   ]
  },
  {
   "cell_type": "code",
   "execution_count": 111,
   "metadata": {
    "ExecuteTime": {
     "end_time": "2021-01-25T04:05:17.268665Z",
     "start_time": "2021-01-25T04:05:17.257675Z"
    },
    "hidden": true
   },
   "outputs": [
    {
     "data": {
      "text/plain": [
       "(6910, 9)"
      ]
     },
     "execution_count": 111,
     "metadata": {},
     "output_type": "execute_result"
    }
   ],
   "source": [
    "data.shape"
   ]
  },
  {
   "cell_type": "markdown",
   "metadata": {
    "heading_collapsed": true
   },
   "source": [
    "## Removendo Linhas duplicadas"
   ]
  },
  {
   "cell_type": "code",
   "execution_count": 112,
   "metadata": {
    "ExecuteTime": {
     "end_time": "2021-01-25T04:05:17.290677Z",
     "start_time": "2021-01-25T04:05:17.277664Z"
    },
    "hidden": true
   },
   "outputs": [
    {
     "data": {
      "text/plain": [
       "(6910, 9)"
      ]
     },
     "execution_count": 112,
     "metadata": {},
     "output_type": "execute_result"
    }
   ],
   "source": [
    "data.shape"
   ]
  },
  {
   "cell_type": "code",
   "execution_count": 113,
   "metadata": {
    "ExecuteTime": {
     "end_time": "2021-01-25T04:05:17.387665Z",
     "start_time": "2021-01-25T04:05:17.310676Z"
    },
    "hidden": true
   },
   "outputs": [],
   "source": [
    "data.drop_duplicates(inplace=True) # Verifica a existência de linhas duplicadas"
   ]
  },
  {
   "cell_type": "code",
   "execution_count": 114,
   "metadata": {
    "ExecuteTime": {
     "end_time": "2021-01-25T04:05:17.409665Z",
     "start_time": "2021-01-25T04:05:17.397665Z"
    },
    "hidden": true,
    "scrolled": true
   },
   "outputs": [
    {
     "data": {
      "text/plain": [
       "(6910, 9)"
      ]
     },
     "execution_count": 114,
     "metadata": {},
     "output_type": "execute_result"
    }
   ],
   "source": [
    "data.shape"
   ]
  },
  {
   "cell_type": "code",
   "execution_count": 115,
   "metadata": {
    "ExecuteTime": {
     "end_time": "2021-01-25T04:05:17.431664Z",
     "start_time": "2021-01-25T04:05:17.417665Z"
    },
    "hidden": true
   },
   "outputs": [],
   "source": [
    "# Ordena de acordo com a coluna support de forma decrescente\n",
    "data.sort_values(by=['support'], inplace=True, ascending=False)"
   ]
  },
  {
   "cell_type": "markdown",
   "metadata": {},
   "source": [
    "# Remoção de regras similares"
   ]
  },
  {
   "cell_type": "code",
   "execution_count": 116,
   "metadata": {
    "ExecuteTime": {
     "end_time": "2021-01-25T04:05:17.466663Z",
     "start_time": "2021-01-25T04:05:17.435664Z"
    }
   },
   "outputs": [],
   "source": [
    "# %%time\n",
    "# tamLinham = data.shape[0]\n",
    "# count =0\n",
    "# for i in range(1, tamLinha):\n",
    "#     for j in range(i, tamLinha):\n",
    "#         if ( (data.at[i, 'antecedents'] == data.at[j, 'consequents']) and (data.at[i, 'consequents'] == data.at[j, 'antecedents'])): # testar equals\n",
    "#             data.at[j, 'antecedents'] = 'TESTE *******************************'\n",
    "#             data.at[j, 'consequents'] = 'TESTE *******************************'\n",
    "#             count = count + 1 "
   ]
  },
  {
   "cell_type": "code",
   "execution_count": 117,
   "metadata": {
    "ExecuteTime": {
     "end_time": "2021-01-25T04:05:17.499663Z",
     "start_time": "2021-01-25T04:05:17.471665Z"
    }
   },
   "outputs": [
    {
     "name": "stdout",
     "output_type": "stream",
     "text": [
      "Wall time: 0 ns\n"
     ]
    }
   ],
   "source": [
    "%%time\n",
    "tamLinham = data.shape[0]\n",
    "# count =0\n",
    "# # for i in range(tamLinha):\n",
    "# i=8\n",
    "# data[\"antecedents\"]= data[\"consequents\"].str.find() \n",
    "    "
   ]
  },
  {
   "cell_type": "markdown",
   "metadata": {
    "heading_collapsed": true
   },
   "source": [
    "# Salvando o arquivo resultante"
   ]
  },
  {
   "cell_type": "code",
   "execution_count": 118,
   "metadata": {
    "ExecuteTime": {
     "end_time": "2021-01-25T04:05:17.811746Z",
     "start_time": "2021-01-25T04:05:17.502664Z"
    },
    "hidden": true
   },
   "outputs": [],
   "source": [
    "data.to_csv('Saida_' +nomeArq + '.csv', encoding= 'ISO-8859-1', sep= ';', index=None)"
   ]
  }
 ],
 "metadata": {
  "kernelspec": {
   "display_name": "Python 3",
   "language": "python",
   "name": "python3"
  },
  "language_info": {
   "codemirror_mode": {
    "name": "ipython",
    "version": 3
   },
   "file_extension": ".py",
   "mimetype": "text/x-python",
   "name": "python",
   "nbconvert_exporter": "python",
   "pygments_lexer": "ipython3",
   "version": "3.7.4"
  }
 },
 "nbformat": 4,
 "nbformat_minor": 4
}
