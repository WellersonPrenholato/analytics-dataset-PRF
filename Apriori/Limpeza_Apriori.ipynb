{
 "cells": [
  {
   "cell_type": "markdown",
   "metadata": {},
   "source": [
    "# Bibliotecas"
   ]
  },
  {
   "cell_type": "code",
   "execution_count": 39,
   "metadata": {
    "ExecuteTime": {
     "end_time": "2021-02-09T21:18:15.958057Z",
     "start_time": "2021-02-09T21:18:15.883409Z"
    }
   },
   "outputs": [],
   "source": [
    "import pandas as pd"
   ]
  },
  {
   "cell_type": "markdown",
   "metadata": {},
   "source": [
    "# Carregamento dos dados"
   ]
  },
  {
   "cell_type": "code",
   "execution_count": 40,
   "metadata": {
    "ExecuteTime": {
     "end_time": "2021-02-09T21:18:15.987040Z",
     "start_time": "2021-02-09T21:18:15.977046Z"
    }
   },
   "outputs": [],
   "source": [
    "nomeArq = 'AprioriMlxtend_ES_datatran2019_Apriori'"
   ]
  },
  {
   "cell_type": "code",
   "execution_count": 41,
   "metadata": {
    "ExecuteTime": {
     "end_time": "2021-02-09T21:18:16.140924Z",
     "start_time": "2021-02-09T21:18:15.994035Z"
    }
   },
   "outputs": [],
   "source": [
    "data = pd.read_csv(nomeArq +'.csv', encoding='ISO-8859-1', sep=';')"
   ]
  },
  {
   "cell_type": "code",
   "execution_count": 42,
   "metadata": {
    "ExecuteTime": {
     "end_time": "2021-02-09T21:18:16.204282Z",
     "start_time": "2021-02-09T21:18:16.144923Z"
    }
   },
   "outputs": [
    {
     "data": {
      "text/html": [
       "<div>\n",
       "<style scoped>\n",
       "    .dataframe tbody tr th:only-of-type {\n",
       "        vertical-align: middle;\n",
       "    }\n",
       "\n",
       "    .dataframe tbody tr th {\n",
       "        vertical-align: top;\n",
       "    }\n",
       "\n",
       "    .dataframe thead th {\n",
       "        text-align: right;\n",
       "    }\n",
       "</style>\n",
       "<table border=\"1\" class=\"dataframe\">\n",
       "  <thead>\n",
       "    <tr style=\"text-align: right;\">\n",
       "      <th></th>\n",
       "      <th>antecedents</th>\n",
       "      <th>consequents</th>\n",
       "      <th>antecedent support</th>\n",
       "      <th>consequent support</th>\n",
       "      <th>support</th>\n",
       "      <th>confidence</th>\n",
       "      <th>lift</th>\n",
       "      <th>leverage</th>\n",
       "      <th>conviction</th>\n",
       "    </tr>\n",
       "  </thead>\n",
       "  <tbody>\n",
       "    <tr>\n",
       "      <th>0</th>\n",
       "      <td>frozenset({'classificacao_acidente=Com Vítimas...</td>\n",
       "      <td>frozenset({'br=101.0'})</td>\n",
       "      <td>0.829346</td>\n",
       "      <td>0.714638</td>\n",
       "      <td>0.598522</td>\n",
       "      <td>0.721680</td>\n",
       "      <td>1.009855</td>\n",
       "      <td>0.005841</td>\n",
       "      <td>1.025304</td>\n",
       "    </tr>\n",
       "    <tr>\n",
       "      <th>1</th>\n",
       "      <td>frozenset({'br=101.0'})</td>\n",
       "      <td>frozenset({'classificacao_acidente=Com Vítimas...</td>\n",
       "      <td>0.714638</td>\n",
       "      <td>0.829346</td>\n",
       "      <td>0.598522</td>\n",
       "      <td>0.837518</td>\n",
       "      <td>1.009855</td>\n",
       "      <td>0.005841</td>\n",
       "      <td>1.050301</td>\n",
       "    </tr>\n",
       "    <tr>\n",
       "      <th>2</th>\n",
       "      <td>frozenset({'condicao_metereologica=Céu Claro'})</td>\n",
       "      <td>frozenset({'br=101.0'})</td>\n",
       "      <td>0.588670</td>\n",
       "      <td>0.714638</td>\n",
       "      <td>0.422942</td>\n",
       "      <td>0.718470</td>\n",
       "      <td>1.005362</td>\n",
       "      <td>0.002256</td>\n",
       "      <td>1.013612</td>\n",
       "    </tr>\n",
       "    <tr>\n",
       "      <th>3</th>\n",
       "      <td>frozenset({'fase_dia=Pleno dia'})</td>\n",
       "      <td>frozenset({'br=101.0'})</td>\n",
       "      <td>0.533075</td>\n",
       "      <td>0.714638</td>\n",
       "      <td>0.378958</td>\n",
       "      <td>0.710891</td>\n",
       "      <td>0.994757</td>\n",
       "      <td>-0.001997</td>\n",
       "      <td>0.987041</td>\n",
       "    </tr>\n",
       "    <tr>\n",
       "      <th>4</th>\n",
       "      <td>frozenset({'feridos=1'})</td>\n",
       "      <td>frozenset({'br=101.0'})</td>\n",
       "      <td>0.606615</td>\n",
       "      <td>0.714638</td>\n",
       "      <td>0.442998</td>\n",
       "      <td>0.730278</td>\n",
       "      <td>1.021886</td>\n",
       "      <td>0.009488</td>\n",
       "      <td>1.057989</td>\n",
       "    </tr>\n",
       "  </tbody>\n",
       "</table>\n",
       "</div>"
      ],
      "text/plain": [
       "                                         antecedents  \\\n",
       "0  frozenset({'classificacao_acidente=Com Vítimas...   \n",
       "1                            frozenset({'br=101.0'})   \n",
       "2    frozenset({'condicao_metereologica=Céu Claro'})   \n",
       "3                  frozenset({'fase_dia=Pleno dia'})   \n",
       "4                           frozenset({'feridos=1'})   \n",
       "\n",
       "                                         consequents  antecedent support  \\\n",
       "0                            frozenset({'br=101.0'})            0.829346   \n",
       "1  frozenset({'classificacao_acidente=Com Vítimas...            0.714638   \n",
       "2                            frozenset({'br=101.0'})            0.588670   \n",
       "3                            frozenset({'br=101.0'})            0.533075   \n",
       "4                            frozenset({'br=101.0'})            0.606615   \n",
       "\n",
       "   consequent support   support  confidence      lift  leverage  conviction  \n",
       "0            0.714638  0.598522    0.721680  1.009855  0.005841    1.025304  \n",
       "1            0.829346  0.598522    0.837518  1.009855  0.005841    1.050301  \n",
       "2            0.714638  0.422942    0.718470  1.005362  0.002256    1.013612  \n",
       "3            0.714638  0.378958    0.710891  0.994757 -0.001997    0.987041  \n",
       "4            0.714638  0.442998    0.730278  1.021886  0.009488    1.057989  "
      ]
     },
     "execution_count": 42,
     "metadata": {},
     "output_type": "execute_result"
    }
   ],
   "source": [
    "data.head(5)"
   ]
  },
  {
   "cell_type": "code",
   "execution_count": 43,
   "metadata": {
    "ExecuteTime": {
     "end_time": "2021-02-09T21:18:16.219274Z",
     "start_time": "2021-02-09T21:18:16.207282Z"
    }
   },
   "outputs": [
    {
     "data": {
      "text/plain": [
       "(1274, 9)"
      ]
     },
     "execution_count": 43,
     "metadata": {},
     "output_type": "execute_result"
    }
   ],
   "source": [
    "data.shape"
   ]
  },
  {
   "cell_type": "code",
   "execution_count": 44,
   "metadata": {
    "ExecuteTime": {
     "end_time": "2021-02-09T21:18:16.235265Z",
     "start_time": "2021-02-09T21:18:16.222272Z"
    }
   },
   "outputs": [
    {
     "data": {
      "text/plain": [
       "Index(['antecedents', 'consequents', 'antecedent support',\n",
       "       'consequent support', 'support', 'confidence', 'lift', 'leverage',\n",
       "       'conviction'],\n",
       "      dtype='object')"
      ]
     },
     "execution_count": 44,
     "metadata": {},
     "output_type": "execute_result"
    }
   ],
   "source": [
    "data.columns"
   ]
  },
  {
   "cell_type": "markdown",
   "metadata": {},
   "source": [
    "# Organização dos dados"
   ]
  },
  {
   "cell_type": "markdown",
   "metadata": {
    "ExecuteTime": {
     "end_time": "2020-11-12T22:48:06.769182Z",
     "start_time": "2020-11-12T22:48:06.764186Z"
    },
    "heading_collapsed": true
   },
   "source": [
    "## Remoção de parte da string desnecessária (antecedents, consequents)"
   ]
  },
  {
   "cell_type": "code",
   "execution_count": 45,
   "metadata": {
    "ExecuteTime": {
     "end_time": "2021-02-09T21:18:16.250256Z",
     "start_time": "2021-02-09T21:18:16.240263Z"
    },
    "hidden": true
   },
   "outputs": [],
   "source": [
    "tamLinha = data.shape[0]"
   ]
  },
  {
   "cell_type": "code",
   "execution_count": 46,
   "metadata": {
    "ExecuteTime": {
     "end_time": "2021-02-09T21:18:16.265263Z",
     "start_time": "2021-02-09T21:18:16.254255Z"
    },
    "hidden": true
   },
   "outputs": [],
   "source": [
    "Ant_Suc = []\n",
    "Ant_Suc.append('antecedents')\n",
    "Ant_Suc.append('consequents')\n",
    "# Ant_Suc"
   ]
  },
  {
   "cell_type": "code",
   "execution_count": 47,
   "metadata": {
    "ExecuteTime": {
     "end_time": "2021-02-09T21:18:16.961849Z",
     "start_time": "2021-02-09T21:18:16.271245Z"
    },
    "hidden": true
   },
   "outputs": [],
   "source": [
    "for c in Ant_Suc:\n",
    "    for i in range(tamLinha):\n",
    "        # Remoção do 'frozenset(' e ')'\n",
    "        data.at[i, c] = data.at[i, c].replace(\"frozenset(\", \"\")\n",
    "        data.at[i, c] = data.at[i, c].replace(\")\", \"\")\n",
    "        \n",
    "        # Remoção do 'nan'\n",
    "        data.at[i, c] = data.at[i, c].replace(\"'nan'\", \"\")\n",
    "        data.at[i, c] = data.at[i, c].replace(\"{}\", \"\")\n",
    "        \n",
    "        # Remoção de alguns casos depois da remoção do 'nan'\n",
    "        data.at[i, c] = data.at[i, c].replace(\" , \", \" \")\n",
    "        data.at[i, c] = data.at[i, c].replace(\",}\", \"}\")\n",
    "        data.at[i, c] = data.at[i, c].replace(\", }\", \"}\")\n",
    "        data.at[i, c] = data.at[i, c].replace(\"{, \", \"{\")"
   ]
  },
  {
   "cell_type": "markdown",
   "metadata": {
    "heading_collapsed": true
   },
   "source": [
    "## Remoção das linhas vazias"
   ]
  },
  {
   "cell_type": "code",
   "execution_count": 48,
   "metadata": {
    "ExecuteTime": {
     "end_time": "2021-02-09T21:18:16.977840Z",
     "start_time": "2021-02-09T21:18:16.964848Z"
    },
    "hidden": true
   },
   "outputs": [
    {
     "data": {
      "text/plain": [
       "(1274, 9)"
      ]
     },
     "execution_count": 48,
     "metadata": {},
     "output_type": "execute_result"
    }
   ],
   "source": [
    "data.shape"
   ]
  },
  {
   "cell_type": "code",
   "execution_count": 49,
   "metadata": {
    "ExecuteTime": {
     "end_time": "2021-02-09T21:18:17.007823Z",
     "start_time": "2021-02-09T21:18:16.980839Z"
    },
    "hidden": true
   },
   "outputs": [],
   "source": [
    "# Remoção de linhas com antecedentes ou consequenes nulos\n",
    "df_remove = data.loc[((data['antecedents'] == '') | (data['consequents'] == ''))]\n",
    "data = data.drop(df_remove.index)"
   ]
  },
  {
   "cell_type": "code",
   "execution_count": 50,
   "metadata": {
    "ExecuteTime": {
     "end_time": "2021-02-09T21:18:17.024814Z",
     "start_time": "2021-02-09T21:18:17.010821Z"
    },
    "hidden": true
   },
   "outputs": [
    {
     "data": {
      "text/plain": [
       "(1274, 9)"
      ]
     },
     "execution_count": 50,
     "metadata": {},
     "output_type": "execute_result"
    }
   ],
   "source": [
    "data.shape"
   ]
  },
  {
   "cell_type": "markdown",
   "metadata": {
    "heading_collapsed": true
   },
   "source": [
    "## Removendo Linhas duplicadas"
   ]
  },
  {
   "cell_type": "code",
   "execution_count": 51,
   "metadata": {
    "ExecuteTime": {
     "end_time": "2021-02-09T21:18:17.039805Z",
     "start_time": "2021-02-09T21:18:17.028811Z"
    },
    "hidden": true
   },
   "outputs": [
    {
     "data": {
      "text/plain": [
       "(1274, 9)"
      ]
     },
     "execution_count": 51,
     "metadata": {},
     "output_type": "execute_result"
    }
   ],
   "source": [
    "data.shape"
   ]
  },
  {
   "cell_type": "code",
   "execution_count": 52,
   "metadata": {
    "ExecuteTime": {
     "end_time": "2021-02-09T21:18:17.070786Z",
     "start_time": "2021-02-09T21:18:17.045802Z"
    },
    "hidden": true
   },
   "outputs": [],
   "source": [
    "data.drop_duplicates(inplace=True) # Verifica a existência de linhas duplicadas"
   ]
  },
  {
   "cell_type": "code",
   "execution_count": 53,
   "metadata": {
    "ExecuteTime": {
     "end_time": "2021-02-09T21:18:17.085778Z",
     "start_time": "2021-02-09T21:18:17.073787Z"
    },
    "hidden": true,
    "scrolled": true
   },
   "outputs": [
    {
     "data": {
      "text/plain": [
       "(1274, 9)"
      ]
     },
     "execution_count": 53,
     "metadata": {},
     "output_type": "execute_result"
    }
   ],
   "source": [
    "data.shape"
   ]
  },
  {
   "cell_type": "code",
   "execution_count": 54,
   "metadata": {
    "ExecuteTime": {
     "end_time": "2021-02-09T21:18:17.101770Z",
     "start_time": "2021-02-09T21:18:17.088779Z"
    },
    "hidden": true
   },
   "outputs": [],
   "source": [
    "# Ordena de acordo com a coluna support de forma decrescente\n",
    "data.sort_values(by=['support'], inplace=True, ascending=False)"
   ]
  },
  {
   "cell_type": "markdown",
   "metadata": {
    "heading_collapsed": true
   },
   "source": [
    "# Remoção de regras similares"
   ]
  },
  {
   "cell_type": "code",
   "execution_count": 55,
   "metadata": {
    "ExecuteTime": {
     "end_time": "2021-02-09T21:18:17.117761Z",
     "start_time": "2021-02-09T21:18:17.106767Z"
    },
    "hidden": true
   },
   "outputs": [],
   "source": [
    "# %%time\n",
    "# tamLinham = data.shape[0]\n",
    "# count =0\n",
    "# for i in range(1, tamLinha):\n",
    "#     for j in range(i, tamLinha):\n",
    "#         if ( (data.at[i, 'antecedents'] == data.at[j, 'consequents']) and (data.at[i, 'consequents'] == data.at[j, 'antecedents'])): # testar equals\n",
    "#             data.at[j, 'antecedents'] = 'TESTE *******************************'\n",
    "#             data.at[j, 'consequents'] = 'TESTE *******************************'\n",
    "#             count = count + 1 "
   ]
  },
  {
   "cell_type": "code",
   "execution_count": 56,
   "metadata": {
    "ExecuteTime": {
     "end_time": "2021-02-09T21:18:17.147744Z",
     "start_time": "2021-02-09T21:18:17.125756Z"
    },
    "hidden": true
   },
   "outputs": [
    {
     "name": "stdout",
     "output_type": "stream",
     "text": [
      "Wall time: 999 µs\n"
     ]
    }
   ],
   "source": [
    "%%time\n",
    "tamLinham = data.shape[0]\n",
    "# count =0\n",
    "# # for i in range(tamLinha):\n",
    "# i=8\n",
    "# data[\"antecedents\"]= data[\"consequents\"].str.find() \n",
    "    "
   ]
  },
  {
   "cell_type": "markdown",
   "metadata": {},
   "source": [
    "# Salvando o arquivo resultante"
   ]
  },
  {
   "cell_type": "code",
   "execution_count": 57,
   "metadata": {
    "ExecuteTime": {
     "end_time": "2021-02-09T21:18:17.209708Z",
     "start_time": "2021-02-09T21:18:17.151741Z"
    }
   },
   "outputs": [],
   "source": [
    "data.to_csv(nomeArq + '.csv', encoding= 'ISO-8859-1', sep= ';', index=None)"
   ]
  }
 ],
 "metadata": {
  "kernelspec": {
   "display_name": "Python 3",
   "language": "python",
   "name": "python3"
  },
  "language_info": {
   "codemirror_mode": {
    "name": "ipython",
    "version": 3
   },
   "file_extension": ".py",
   "mimetype": "text/x-python",
   "name": "python",
   "nbconvert_exporter": "python",
   "pygments_lexer": "ipython3",
   "version": "3.8.5"
  }
 },
 "nbformat": 4,
 "nbformat_minor": 4
}
