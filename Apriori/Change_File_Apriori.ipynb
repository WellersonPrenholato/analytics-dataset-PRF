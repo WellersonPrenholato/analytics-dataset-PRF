{
 "cells": [
  {
   "cell_type": "markdown",
   "metadata": {},
   "source": [
    "### Organiza o resultado do algoritmo apriori\n",
    "Após executar o algoritmo apriori, o resultado sofre algumas modificações facilitando sua visualização.<br>\n",
    "Remoção de parte da string desnecessária no arquivo resultante do algoritmo apriori."
   ]
  },
  {
   "cell_type": "markdown",
   "metadata": {},
   "source": [
    "# Bibliotecas"
   ]
  },
  {
   "cell_type": "code",
   "execution_count": 47,
   "metadata": {
    "ExecuteTime": {
     "end_time": "2021-10-18T06:17:35.113862Z",
     "start_time": "2021-10-18T06:17:35.097859Z"
    }
   },
   "outputs": [],
   "source": [
    "import pandas as pd\n",
    "from decimal import Decimal"
   ]
  },
  {
   "cell_type": "markdown",
   "metadata": {},
   "source": [
    "# Carregamento dos dados"
   ]
  },
  {
   "cell_type": "code",
   "execution_count": 48,
   "metadata": {
    "ExecuteTime": {
     "end_time": "2021-10-18T06:17:35.160860Z",
     "start_time": "2021-10-18T06:17:35.119860Z"
    }
   },
   "outputs": [],
   "source": [
    "# Nome do arquivo com o resultado apriori\n",
    "nomeArq = 'AprioriMlxtend_ES_datatran2019_Apriori'"
   ]
  },
  {
   "cell_type": "code",
   "execution_count": 49,
   "metadata": {
    "ExecuteTime": {
     "end_time": "2021-10-18T06:17:35.222859Z",
     "start_time": "2021-10-18T06:17:35.170859Z"
    }
   },
   "outputs": [],
   "source": [
    "data = pd.read_csv(nomeArq +'.csv', encoding='ISO-8859-1', sep=';')"
   ]
  },
  {
   "cell_type": "code",
   "execution_count": 50,
   "metadata": {
    "ExecuteTime": {
     "end_time": "2021-10-18T06:17:35.284859Z",
     "start_time": "2021-10-18T06:17:35.227859Z"
    }
   },
   "outputs": [
    {
     "data": {
      "text/html": [
       "<div>\n",
       "<style scoped>\n",
       "    .dataframe tbody tr th:only-of-type {\n",
       "        vertical-align: middle;\n",
       "    }\n",
       "\n",
       "    .dataframe tbody tr th {\n",
       "        vertical-align: top;\n",
       "    }\n",
       "\n",
       "    .dataframe thead th {\n",
       "        text-align: right;\n",
       "    }\n",
       "</style>\n",
       "<table border=\"1\" class=\"dataframe\">\n",
       "  <thead>\n",
       "    <tr style=\"text-align: right;\">\n",
       "      <th></th>\n",
       "      <th>antecedents</th>\n",
       "      <th>consequents</th>\n",
       "      <th>antecedent support</th>\n",
       "      <th>consequent support</th>\n",
       "      <th>support</th>\n",
       "      <th>confidence</th>\n",
       "      <th>lift</th>\n",
       "      <th>leverage</th>\n",
       "      <th>conviction</th>\n",
       "      <th>antecedent_len</th>\n",
       "      <th>consequent_len</th>\n",
       "    </tr>\n",
       "  </thead>\n",
       "  <tbody>\n",
       "    <tr>\n",
       "      <th>0</th>\n",
       "      <td>frozenset({'feridos=1', 'br=101.0', 'pessoas=1'})</td>\n",
       "      <td>frozenset({'ignorados=0', 'ilesos=0', 'classif...</td>\n",
       "      <td>0.130542</td>\n",
       "      <td>0.286066</td>\n",
       "      <td>0.130542</td>\n",
       "      <td>1.0</td>\n",
       "      <td>3.495695</td>\n",
       "      <td>0.093198</td>\n",
       "      <td>inf</td>\n",
       "      <td>3</td>\n",
       "      <td>3</td>\n",
       "    </tr>\n",
       "    <tr>\n",
       "      <th>1</th>\n",
       "      <td>frozenset({'pessoas=1', 'br=101.0', 'classific...</td>\n",
       "      <td>frozenset({'ignorados=0', 'feridos=1', 'ilesos...</td>\n",
       "      <td>0.130542</td>\n",
       "      <td>0.183673</td>\n",
       "      <td>0.130542</td>\n",
       "      <td>1.0</td>\n",
       "      <td>5.444444</td>\n",
       "      <td>0.106565</td>\n",
       "      <td>inf</td>\n",
       "      <td>3</td>\n",
       "      <td>3</td>\n",
       "    </tr>\n",
       "    <tr>\n",
       "      <th>2</th>\n",
       "      <td>frozenset({'feridos=1', 'br=101.0', 'pessoas=1'})</td>\n",
       "      <td>frozenset({'ignorados=0', 'mortos=0', 'classif...</td>\n",
       "      <td>0.130542</td>\n",
       "      <td>0.732231</td>\n",
       "      <td>0.130542</td>\n",
       "      <td>1.0</td>\n",
       "      <td>1.365690</td>\n",
       "      <td>0.034955</td>\n",
       "      <td>inf</td>\n",
       "      <td>3</td>\n",
       "      <td>3</td>\n",
       "    </tr>\n",
       "    <tr>\n",
       "      <th>3</th>\n",
       "      <td>frozenset({'pessoas=1', 'br=101.0', 'classific...</td>\n",
       "      <td>frozenset({'ignorados=0', 'feridos=1', 'mortos...</td>\n",
       "      <td>0.130542</td>\n",
       "      <td>0.525686</td>\n",
       "      <td>0.130542</td>\n",
       "      <td>1.0</td>\n",
       "      <td>1.902276</td>\n",
       "      <td>0.061918</td>\n",
       "      <td>inf</td>\n",
       "      <td>3</td>\n",
       "      <td>3</td>\n",
       "    </tr>\n",
       "    <tr>\n",
       "      <th>4</th>\n",
       "      <td>frozenset({'feridos=1', 'br=101.0', 'pessoas=1'})</td>\n",
       "      <td>frozenset({'ignorados=0', 'veiculos=1', 'class...</td>\n",
       "      <td>0.130542</td>\n",
       "      <td>0.294511</td>\n",
       "      <td>0.130542</td>\n",
       "      <td>1.0</td>\n",
       "      <td>3.395460</td>\n",
       "      <td>0.092096</td>\n",
       "      <td>inf</td>\n",
       "      <td>3</td>\n",
       "      <td>3</td>\n",
       "    </tr>\n",
       "  </tbody>\n",
       "</table>\n",
       "</div>"
      ],
      "text/plain": [
       "                                         antecedents  \\\n",
       "0  frozenset({'feridos=1', 'br=101.0', 'pessoas=1'})   \n",
       "1  frozenset({'pessoas=1', 'br=101.0', 'classific...   \n",
       "2  frozenset({'feridos=1', 'br=101.0', 'pessoas=1'})   \n",
       "3  frozenset({'pessoas=1', 'br=101.0', 'classific...   \n",
       "4  frozenset({'feridos=1', 'br=101.0', 'pessoas=1'})   \n",
       "\n",
       "                                         consequents  antecedent support  \\\n",
       "0  frozenset({'ignorados=0', 'ilesos=0', 'classif...            0.130542   \n",
       "1  frozenset({'ignorados=0', 'feridos=1', 'ilesos...            0.130542   \n",
       "2  frozenset({'ignorados=0', 'mortos=0', 'classif...            0.130542   \n",
       "3  frozenset({'ignorados=0', 'feridos=1', 'mortos...            0.130542   \n",
       "4  frozenset({'ignorados=0', 'veiculos=1', 'class...            0.130542   \n",
       "\n",
       "   consequent support   support  confidence      lift  leverage  conviction  \\\n",
       "0            0.286066  0.130542         1.0  3.495695  0.093198         inf   \n",
       "1            0.183673  0.130542         1.0  5.444444  0.106565         inf   \n",
       "2            0.732231  0.130542         1.0  1.365690  0.034955         inf   \n",
       "3            0.525686  0.130542         1.0  1.902276  0.061918         inf   \n",
       "4            0.294511  0.130542         1.0  3.395460  0.092096         inf   \n",
       "\n",
       "   antecedent_len  consequent_len  \n",
       "0               3               3  \n",
       "1               3               3  \n",
       "2               3               3  \n",
       "3               3               3  \n",
       "4               3               3  "
      ]
     },
     "execution_count": 50,
     "metadata": {},
     "output_type": "execute_result"
    }
   ],
   "source": [
    "data.head(5)"
   ]
  },
  {
   "cell_type": "code",
   "execution_count": 51,
   "metadata": {
    "ExecuteTime": {
     "end_time": "2021-10-18T06:17:35.362861Z",
     "start_time": "2021-10-18T06:17:35.288859Z"
    }
   },
   "outputs": [
    {
     "data": {
      "text/plain": [
       "(2837, 11)"
      ]
     },
     "execution_count": 51,
     "metadata": {},
     "output_type": "execute_result"
    }
   ],
   "source": [
    "data.shape"
   ]
  },
  {
   "cell_type": "code",
   "execution_count": 52,
   "metadata": {
    "ExecuteTime": {
     "end_time": "2021-10-18T06:17:35.453858Z",
     "start_time": "2021-10-18T06:17:35.368857Z"
    }
   },
   "outputs": [
    {
     "data": {
      "text/plain": [
       "Index(['antecedents', 'consequents', 'antecedent support',\n",
       "       'consequent support', 'support', 'confidence', 'lift', 'leverage',\n",
       "       'conviction', 'antecedent_len', 'consequent_len'],\n",
       "      dtype='object')"
      ]
     },
     "execution_count": 52,
     "metadata": {},
     "output_type": "execute_result"
    }
   ],
   "source": [
    "data.columns"
   ]
  },
  {
   "cell_type": "markdown",
   "metadata": {},
   "source": [
    "# Organização dos dados"
   ]
  },
  {
   "cell_type": "markdown",
   "metadata": {
    "ExecuteTime": {
     "end_time": "2020-11-12T22:48:06.769182Z",
     "start_time": "2020-11-12T22:48:06.764186Z"
    },
    "heading_collapsed": true
   },
   "source": [
    "## Remoção de parte da string desnecessária (antecedents, consequents)"
   ]
  },
  {
   "cell_type": "code",
   "execution_count": 53,
   "metadata": {
    "ExecuteTime": {
     "end_time": "2021-10-18T06:17:35.483860Z",
     "start_time": "2021-10-18T06:17:35.457858Z"
    },
    "hidden": true
   },
   "outputs": [],
   "source": [
    "tamLinha = data.shape[0]"
   ]
  },
  {
   "cell_type": "code",
   "execution_count": 54,
   "metadata": {
    "ExecuteTime": {
     "end_time": "2021-10-18T06:17:35.500861Z",
     "start_time": "2021-10-18T06:17:35.491859Z"
    },
    "hidden": true
   },
   "outputs": [],
   "source": [
    "Ant_Suc = []\n",
    "Ant_Suc.append('antecedents')\n",
    "Ant_Suc.append('consequents')\n",
    "# Ant_Suc"
   ]
  },
  {
   "cell_type": "code",
   "execution_count": 55,
   "metadata": {
    "ExecuteTime": {
     "end_time": "2021-10-18T06:17:38.807461Z",
     "start_time": "2021-10-18T06:17:35.505857Z"
    },
    "hidden": true
   },
   "outputs": [],
   "source": [
    "for c in Ant_Suc:\n",
    "    for i in range(tamLinha):\n",
    "        # Remoção do 'frozenset(' e ')'\n",
    "        data.at[i, c] = data.at[i, c].replace(\"frozenset(\", \"\")\n",
    "        data.at[i, c] = data.at[i, c].replace(\")\", \"\")\n",
    "        \n",
    "        # Remoção do 'nan'\n",
    "        data.at[i, c] = data.at[i, c].replace(\"'nan'\", \"\")\n",
    "        data.at[i, c] = data.at[i, c].replace(\"{}\", \"\")\n",
    "        \n",
    "        # Remoção de alguns casos depois da remoção do 'nan'\n",
    "        data.at[i, c] = data.at[i, c].replace(\" , \", \" \")\n",
    "        data.at[i, c] = data.at[i, c].replace(\",}\", \"}\")\n",
    "        data.at[i, c] = data.at[i, c].replace(\", }\", \"}\")\n",
    "        data.at[i, c] = data.at[i, c].replace(\"{, \", \"{\")"
   ]
  },
  {
   "cell_type": "markdown",
   "metadata": {
    "heading_collapsed": true
   },
   "source": [
    "## Remoção das linhas vazias"
   ]
  },
  {
   "cell_type": "code",
   "execution_count": 56,
   "metadata": {
    "ExecuteTime": {
     "end_time": "2021-10-18T06:17:38.839447Z",
     "start_time": "2021-10-18T06:17:38.810452Z"
    },
    "hidden": true
   },
   "outputs": [
    {
     "data": {
      "text/plain": [
       "(2837, 11)"
      ]
     },
     "execution_count": 56,
     "metadata": {},
     "output_type": "execute_result"
    }
   ],
   "source": [
    "data.shape"
   ]
  },
  {
   "cell_type": "code",
   "execution_count": 57,
   "metadata": {
    "ExecuteTime": {
     "end_time": "2021-10-18T06:17:39.056658Z",
     "start_time": "2021-10-18T06:17:38.843448Z"
    },
    "hidden": true
   },
   "outputs": [],
   "source": [
    "# Remoção de linhas com antecedentes ou consequenes nulos\n",
    "df_remove = data.loc[((data['antecedents'] == '') | (data['consequents'] == ''))]\n",
    "data = data.drop(df_remove.index)"
   ]
  },
  {
   "cell_type": "code",
   "execution_count": 58,
   "metadata": {
    "ExecuteTime": {
     "end_time": "2021-10-18T06:17:39.087667Z",
     "start_time": "2021-10-18T06:17:39.059662Z"
    },
    "hidden": true
   },
   "outputs": [
    {
     "data": {
      "text/plain": [
       "(2837, 11)"
      ]
     },
     "execution_count": 58,
     "metadata": {},
     "output_type": "execute_result"
    }
   ],
   "source": [
    "data.shape"
   ]
  },
  {
   "cell_type": "markdown",
   "metadata": {
    "heading_collapsed": true
   },
   "source": [
    "## Removendo Linhas duplicadas"
   ]
  },
  {
   "cell_type": "code",
   "execution_count": 59,
   "metadata": {
    "ExecuteTime": {
     "end_time": "2021-10-18T06:17:39.118667Z",
     "start_time": "2021-10-18T06:17:39.092661Z"
    },
    "hidden": true
   },
   "outputs": [
    {
     "data": {
      "text/plain": [
       "(2837, 11)"
      ]
     },
     "execution_count": 59,
     "metadata": {},
     "output_type": "execute_result"
    }
   ],
   "source": [
    "data.shape"
   ]
  },
  {
   "cell_type": "code",
   "execution_count": 60,
   "metadata": {
    "ExecuteTime": {
     "end_time": "2021-10-18T06:17:39.167892Z",
     "start_time": "2021-10-18T06:17:39.124660Z"
    },
    "hidden": true
   },
   "outputs": [],
   "source": [
    "data.drop_duplicates(inplace=True) # Verifica a existência de linhas duplicadas"
   ]
  },
  {
   "cell_type": "code",
   "execution_count": 61,
   "metadata": {
    "ExecuteTime": {
     "end_time": "2021-10-18T06:17:39.183892Z",
     "start_time": "2021-10-18T06:17:39.173269Z"
    },
    "hidden": true
   },
   "outputs": [],
   "source": [
    "# Ordena de acordo com a coluna support de forma decrescente\n",
    "data.sort_values(by=['confidence', 'support'], inplace=True, ascending=False)"
   ]
  },
  {
   "cell_type": "markdown",
   "metadata": {},
   "source": [
    "# Remoção de regras similares"
   ]
  },
  {
   "cell_type": "code",
   "execution_count": 62,
   "metadata": {
    "ExecuteTime": {
     "end_time": "2021-10-18T06:17:39.198891Z",
     "start_time": "2021-10-18T06:17:39.189890Z"
    }
   },
   "outputs": [],
   "source": [
    "# data.sort_values(by=['support'], ascending=False, inplace=True)"
   ]
  },
  {
   "cell_type": "code",
   "execution_count": 63,
   "metadata": {
    "ExecuteTime": {
     "end_time": "2021-10-18T06:17:39.367950Z",
     "start_time": "2021-10-18T06:17:39.205893Z"
    }
   },
   "outputs": [],
   "source": [
    "# Gambiarra para atualizar o arquivo com os dados ordenados, de acordo com a célula anterior\n",
    "data.to_csv(nomeArq + '_Backup.csv', encoding= 'ISO-8859-1', sep= ';', index=None)\n",
    "data = pd.read_csv(nomeArq +'_Backup.csv', encoding='ISO-8859-1', sep=';')"
   ]
  },
  {
   "cell_type": "code",
   "execution_count": 64,
   "metadata": {
    "ExecuteTime": {
     "end_time": "2021-10-18T06:17:39.385127Z",
     "start_time": "2021-10-18T06:17:39.376639Z"
    }
   },
   "outputs": [],
   "source": [
    "def asterix(num):\n",
    "    a = '*'\n",
    "    x =''\n",
    "    for i in range(num):\n",
    "        x = x + a    \n",
    "    return x"
   ]
  },
  {
   "cell_type": "code",
   "execution_count": 65,
   "metadata": {
    "ExecuteTime": {
     "end_time": "2021-10-18T06:18:57.250233Z",
     "start_time": "2021-10-18T06:17:39.393121Z"
    }
   },
   "outputs": [
    {
     "name": "stdout",
     "output_type": "stream",
     "text": [
      "Wall time: 1min 17s\n"
     ]
    }
   ],
   "source": [
    "%%time\n",
    "tamLinha = data.shape[0]\n",
    "flag = 1\n",
    "listRemove = []\n",
    "for i in range(0, tamLinha):\n",
    "    flag = 1\n",
    "    for j in range(i+1, tamLinha):\n",
    "        if ( (data.at[i, 'antecedents'] == data.at[j, 'consequents']) and (data.at[i, 'consequents'] == data.at[j, 'antecedents'])): # testar equals\n",
    "                count = i+2 \n",
    "                data.at[j, 'antecedents'] = str(count) + (asterix(flag))\n",
    "                data.at[j, 'consequents'] = str(count) + (asterix(flag))\n",
    "#                 data.at[j, 'antecedents'] = ''\n",
    "#                 data.at[j, 'consequents'] = ''\n",
    "                listRemove.append(j) # Adiciona em uma lista as linhas que serão removidas logo em seguida\n",
    "                flag = flag + 1"
   ]
  },
  {
   "cell_type": "code",
   "execution_count": 66,
   "metadata": {
    "ExecuteTime": {
     "end_time": "2021-10-18T06:18:57.346773Z",
     "start_time": "2021-10-18T06:18:57.253237Z"
    }
   },
   "outputs": [
    {
     "name": "stdout",
     "output_type": "stream",
     "text": [
      "Linha: 62\n",
      "Linha: 1124\n",
      "Linha: 1123\n",
      "Linha: 1122\n",
      "Linha: 1188\n",
      "Linha: 1491\n",
      "Linha: 1652\n",
      "Linha: 1651\n",
      "Linha: 1650\n",
      "Linha: 1647\n",
      "Linha: 1621\n",
      "Linha: 1620\n",
      "Linha: 1619\n",
      "Nº de linhas removidas:  13\n"
     ]
    }
   ],
   "source": [
    "# A lista possui o número das linhas que possuem dados repetidos e serão removidas\n",
    "for r in listRemove:\n",
    "    print(\"Linha:\", r)\n",
    "    data.drop(r, inplace=True)\n",
    "\n",
    "print(\"Nº de linhas removidas: \", len(listRemove))"
   ]
  },
  {
   "cell_type": "code",
   "execution_count": 67,
   "metadata": {
    "ExecuteTime": {
     "end_time": "2021-10-18T06:18:57.391770Z",
     "start_time": "2021-10-18T06:18:57.356769Z"
    }
   },
   "outputs": [
    {
     "data": {
      "text/plain": [
       "(2824, 11)"
      ]
     },
     "execution_count": 67,
     "metadata": {},
     "output_type": "execute_result"
    }
   ],
   "source": [
    "data.shape"
   ]
  },
  {
   "cell_type": "markdown",
   "metadata": {},
   "source": [
    "# Limitar casas decimais"
   ]
  },
  {
   "cell_type": "code",
   "execution_count": 68,
   "metadata": {
    "ExecuteTime": {
     "end_time": "2021-10-18T06:18:57.517085Z",
     "start_time": "2021-10-18T06:18:57.400769Z"
    }
   },
   "outputs": [],
   "source": [
    "decimals = 8\n",
    "\n",
    "listCol = ['antecedent support', 'consequent support', 'support', 'confidence', 'lift', 'leverage', 'conviction']\n",
    "for i in listCol:\n",
    "    data[i] = data[i].apply(lambda x: round(x, decimals))\n",
    "#     data[i]= pd.to_numeric(data[i], downcast='float')"
   ]
  },
  {
   "cell_type": "code",
   "execution_count": 69,
   "metadata": {
    "ExecuteTime": {
     "end_time": "2021-10-18T06:18:57.533091Z",
     "start_time": "2021-10-18T06:18:57.525086Z"
    }
   },
   "outputs": [],
   "source": [
    "# listCol = ['confidence', 'lift', 'leverage', 'conviction']\n",
    "# for i in listCol:\n",
    "#     for j in range(data.shape[0]):\n",
    "#         data.at[j, i] = Decimal(data.at[j, i])\n",
    "# #         data.at[j, i] = float(data.at[j, i])\n",
    "#         data.at[j, i] = \"{:.3f}\".format(data.at[j, i])"
   ]
  },
  {
   "cell_type": "markdown",
   "metadata": {},
   "source": [
    "# Incluir uma nova coluna com a identificação de cada linha"
   ]
  },
  {
   "cell_type": "code",
   "execution_count": 70,
   "metadata": {
    "ExecuteTime": {
     "end_time": "2021-10-18T06:18:57.672831Z",
     "start_time": "2021-10-18T06:18:57.539085Z"
    }
   },
   "outputs": [],
   "source": [
    "#Célula utilizada para atualizar a linha do dataframe. Iniciando a linha em 0.\n",
    "# Salvando em um arquivo .csv\n",
    "data.to_csv(nomeArq + '_Backup.csv', encoding= 'ISO-8859-1', sep= ';', index=False)\n",
    "\n",
    "# Gambiarra para atualizar o arquivo com os dados ordenados, de acordo com a célula anterior\n",
    "data = pd.read_csv(nomeArq + '_Backup.csv', encoding='ISO-8859-1', sep=';')"
   ]
  },
  {
   "cell_type": "code",
   "execution_count": 71,
   "metadata": {
    "ExecuteTime": {
     "end_time": "2021-10-18T06:18:57.766548Z",
     "start_time": "2021-10-18T06:18:57.675821Z"
    }
   },
   "outputs": [],
   "source": [
    "# Cria uma nova coluna que servirá para identificar cada regra de associação com um número inteiro.\n",
    "idx = 0\n",
    "new_col = 0\n",
    "data.insert(loc=idx, column='n_row', value=new_col)\n",
    "\n",
    "row =1\n",
    "for i in range(data.shape[0]):\n",
    "    data.at[i, 'n_row'] = int(row)\n",
    "    row = row + 1"
   ]
  },
  {
   "cell_type": "markdown",
   "metadata": {},
   "source": [
    "# Resultado final"
   ]
  },
  {
   "cell_type": "code",
   "execution_count": 72,
   "metadata": {
    "ExecuteTime": {
     "end_time": "2021-10-18T06:18:57.814012Z",
     "start_time": "2021-10-18T06:18:57.770532Z"
    }
   },
   "outputs": [
    {
     "data": {
      "text/html": [
       "<div>\n",
       "<style scoped>\n",
       "    .dataframe tbody tr th:only-of-type {\n",
       "        vertical-align: middle;\n",
       "    }\n",
       "\n",
       "    .dataframe tbody tr th {\n",
       "        vertical-align: top;\n",
       "    }\n",
       "\n",
       "    .dataframe thead th {\n",
       "        text-align: right;\n",
       "    }\n",
       "</style>\n",
       "<table border=\"1\" class=\"dataframe\">\n",
       "  <thead>\n",
       "    <tr style=\"text-align: right;\">\n",
       "      <th></th>\n",
       "      <th>n_row</th>\n",
       "      <th>antecedents</th>\n",
       "      <th>consequents</th>\n",
       "      <th>antecedent support</th>\n",
       "      <th>consequent support</th>\n",
       "      <th>support</th>\n",
       "      <th>confidence</th>\n",
       "      <th>lift</th>\n",
       "      <th>leverage</th>\n",
       "      <th>conviction</th>\n",
       "      <th>antecedent_len</th>\n",
       "      <th>consequent_len</th>\n",
       "    </tr>\n",
       "  </thead>\n",
       "  <tbody>\n",
       "    <tr>\n",
       "      <th>0</th>\n",
       "      <td>1</td>\n",
       "      <td>{'pessoas=2', 'feridos=1', 'ilesos=1'}</td>\n",
       "      <td>{'ignorados=0', 'mortos=0', 'classificacao_aci...</td>\n",
       "      <td>0.267065</td>\n",
       "      <td>0.732231</td>\n",
       "      <td>0.267065</td>\n",
       "      <td>1.0</td>\n",
       "      <td>1.365690</td>\n",
       "      <td>0.071512</td>\n",
       "      <td>inf</td>\n",
       "      <td>3</td>\n",
       "      <td>3</td>\n",
       "    </tr>\n",
       "    <tr>\n",
       "      <th>1</th>\n",
       "      <td>2</td>\n",
       "      <td>{'pessoas=2', 'ilesos=1', 'classificacao_acide...</td>\n",
       "      <td>{'ignorados=0', 'feridos=1', 'mortos=0'}</td>\n",
       "      <td>0.267065</td>\n",
       "      <td>0.525686</td>\n",
       "      <td>0.267065</td>\n",
       "      <td>1.0</td>\n",
       "      <td>1.902276</td>\n",
       "      <td>0.126673</td>\n",
       "      <td>inf</td>\n",
       "      <td>3</td>\n",
       "      <td>3</td>\n",
       "    </tr>\n",
       "    <tr>\n",
       "      <th>2</th>\n",
       "      <td>3</td>\n",
       "      <td>{'pessoas=2', 'feridos=1', 'ilesos=1', 'veicul...</td>\n",
       "      <td>{'ignorados=0', 'mortos=0', 'classificacao_aci...</td>\n",
       "      <td>0.227657</td>\n",
       "      <td>0.732231</td>\n",
       "      <td>0.227657</td>\n",
       "      <td>1.0</td>\n",
       "      <td>1.365690</td>\n",
       "      <td>0.060959</td>\n",
       "      <td>inf</td>\n",
       "      <td>4</td>\n",
       "      <td>3</td>\n",
       "    </tr>\n",
       "    <tr>\n",
       "      <th>3</th>\n",
       "      <td>4</td>\n",
       "      <td>{'pessoas=2', 'ilesos=1', 'veiculos=2', 'class...</td>\n",
       "      <td>{'ignorados=0', 'feridos=1', 'mortos=0'}</td>\n",
       "      <td>0.227657</td>\n",
       "      <td>0.525686</td>\n",
       "      <td>0.227657</td>\n",
       "      <td>1.0</td>\n",
       "      <td>1.902276</td>\n",
       "      <td>0.107981</td>\n",
       "      <td>inf</td>\n",
       "      <td>4</td>\n",
       "      <td>3</td>\n",
       "    </tr>\n",
       "    <tr>\n",
       "      <th>4</th>\n",
       "      <td>5</td>\n",
       "      <td>{'feridos=1', 'pessoas=2', 'br=101.0', 'ilesos...</td>\n",
       "      <td>{'ignorados=0', 'mortos=0', 'classificacao_aci...</td>\n",
       "      <td>0.195285</td>\n",
       "      <td>0.732231</td>\n",
       "      <td>0.195285</td>\n",
       "      <td>1.0</td>\n",
       "      <td>1.365690</td>\n",
       "      <td>0.052291</td>\n",
       "      <td>inf</td>\n",
       "      <td>4</td>\n",
       "      <td>3</td>\n",
       "    </tr>\n",
       "    <tr>\n",
       "      <th>5</th>\n",
       "      <td>6</td>\n",
       "      <td>{'pessoas=2', 'br=101.0', 'ilesos=1', 'classif...</td>\n",
       "      <td>{'ignorados=0', 'feridos=1', 'mortos=0'}</td>\n",
       "      <td>0.195285</td>\n",
       "      <td>0.525686</td>\n",
       "      <td>0.195285</td>\n",
       "      <td>1.0</td>\n",
       "      <td>1.902276</td>\n",
       "      <td>0.092626</td>\n",
       "      <td>inf</td>\n",
       "      <td>4</td>\n",
       "      <td>3</td>\n",
       "    </tr>\n",
       "    <tr>\n",
       "      <th>6</th>\n",
       "      <td>7</td>\n",
       "      <td>{'feridos=1', 'mortos=0', 'pessoas=1'}</td>\n",
       "      <td>{'ignorados=0', 'ilesos=0', 'classificacao_aci...</td>\n",
       "      <td>0.181210</td>\n",
       "      <td>0.286066</td>\n",
       "      <td>0.181210</td>\n",
       "      <td>1.0</td>\n",
       "      <td>3.495695</td>\n",
       "      <td>0.129372</td>\n",
       "      <td>inf</td>\n",
       "      <td>3</td>\n",
       "      <td>3</td>\n",
       "    </tr>\n",
       "    <tr>\n",
       "      <th>7</th>\n",
       "      <td>8</td>\n",
       "      <td>{'pessoas=1', 'feridos=1', 'classificacao_acid...</td>\n",
       "      <td>{'ignorados=0', 'mortos=0', 'ilesos=0'}</td>\n",
       "      <td>0.181210</td>\n",
       "      <td>0.286066</td>\n",
       "      <td>0.181210</td>\n",
       "      <td>1.0</td>\n",
       "      <td>3.495695</td>\n",
       "      <td>0.129372</td>\n",
       "      <td>inf</td>\n",
       "      <td>3</td>\n",
       "      <td>3</td>\n",
       "    </tr>\n",
       "    <tr>\n",
       "      <th>8</th>\n",
       "      <td>9</td>\n",
       "      <td>{'ignorados=0', 'feridos=1', 'pessoas=1'}</td>\n",
       "      <td>{'mortos=0', 'ilesos=0', 'classificacao_aciden...</td>\n",
       "      <td>0.181210</td>\n",
       "      <td>0.346587</td>\n",
       "      <td>0.181210</td>\n",
       "      <td>1.0</td>\n",
       "      <td>2.885279</td>\n",
       "      <td>0.118405</td>\n",
       "      <td>inf</td>\n",
       "      <td>3</td>\n",
       "      <td>3</td>\n",
       "    </tr>\n",
       "    <tr>\n",
       "      <th>9</th>\n",
       "      <td>10</td>\n",
       "      <td>{'feridos=1', 'ilesos=0', 'pessoas=1'}</td>\n",
       "      <td>{'ignorados=0', 'mortos=0', 'classificacao_aci...</td>\n",
       "      <td>0.181210</td>\n",
       "      <td>0.732231</td>\n",
       "      <td>0.181210</td>\n",
       "      <td>1.0</td>\n",
       "      <td>1.365690</td>\n",
       "      <td>0.048523</td>\n",
       "      <td>inf</td>\n",
       "      <td>3</td>\n",
       "      <td>3</td>\n",
       "    </tr>\n",
       "  </tbody>\n",
       "</table>\n",
       "</div>"
      ],
      "text/plain": [
       "   n_row                                        antecedents  \\\n",
       "0      1             {'pessoas=2', 'feridos=1', 'ilesos=1'}   \n",
       "1      2  {'pessoas=2', 'ilesos=1', 'classificacao_acide...   \n",
       "2      3  {'pessoas=2', 'feridos=1', 'ilesos=1', 'veicul...   \n",
       "3      4  {'pessoas=2', 'ilesos=1', 'veiculos=2', 'class...   \n",
       "4      5  {'feridos=1', 'pessoas=2', 'br=101.0', 'ilesos...   \n",
       "5      6  {'pessoas=2', 'br=101.0', 'ilesos=1', 'classif...   \n",
       "6      7             {'feridos=1', 'mortos=0', 'pessoas=1'}   \n",
       "7      8  {'pessoas=1', 'feridos=1', 'classificacao_acid...   \n",
       "8      9          {'ignorados=0', 'feridos=1', 'pessoas=1'}   \n",
       "9     10             {'feridos=1', 'ilesos=0', 'pessoas=1'}   \n",
       "\n",
       "                                         consequents  antecedent support  \\\n",
       "0  {'ignorados=0', 'mortos=0', 'classificacao_aci...            0.267065   \n",
       "1           {'ignorados=0', 'feridos=1', 'mortos=0'}            0.267065   \n",
       "2  {'ignorados=0', 'mortos=0', 'classificacao_aci...            0.227657   \n",
       "3           {'ignorados=0', 'feridos=1', 'mortos=0'}            0.227657   \n",
       "4  {'ignorados=0', 'mortos=0', 'classificacao_aci...            0.195285   \n",
       "5           {'ignorados=0', 'feridos=1', 'mortos=0'}            0.195285   \n",
       "6  {'ignorados=0', 'ilesos=0', 'classificacao_aci...            0.181210   \n",
       "7            {'ignorados=0', 'mortos=0', 'ilesos=0'}            0.181210   \n",
       "8  {'mortos=0', 'ilesos=0', 'classificacao_aciden...            0.181210   \n",
       "9  {'ignorados=0', 'mortos=0', 'classificacao_aci...            0.181210   \n",
       "\n",
       "   consequent support   support  confidence      lift  leverage  conviction  \\\n",
       "0            0.732231  0.267065         1.0  1.365690  0.071512         inf   \n",
       "1            0.525686  0.267065         1.0  1.902276  0.126673         inf   \n",
       "2            0.732231  0.227657         1.0  1.365690  0.060959         inf   \n",
       "3            0.525686  0.227657         1.0  1.902276  0.107981         inf   \n",
       "4            0.732231  0.195285         1.0  1.365690  0.052291         inf   \n",
       "5            0.525686  0.195285         1.0  1.902276  0.092626         inf   \n",
       "6            0.286066  0.181210         1.0  3.495695  0.129372         inf   \n",
       "7            0.286066  0.181210         1.0  3.495695  0.129372         inf   \n",
       "8            0.346587  0.181210         1.0  2.885279  0.118405         inf   \n",
       "9            0.732231  0.181210         1.0  1.365690  0.048523         inf   \n",
       "\n",
       "   antecedent_len  consequent_len  \n",
       "0               3               3  \n",
       "1               3               3  \n",
       "2               4               3  \n",
       "3               4               3  \n",
       "4               4               3  \n",
       "5               4               3  \n",
       "6               3               3  \n",
       "7               3               3  \n",
       "8               3               3  \n",
       "9               3               3  "
      ]
     },
     "execution_count": 72,
     "metadata": {},
     "output_type": "execute_result"
    }
   ],
   "source": [
    "data.head(10)"
   ]
  },
  {
   "cell_type": "markdown",
   "metadata": {},
   "source": [
    "# Salvando o arquivo resultante"
   ]
  },
  {
   "cell_type": "code",
   "execution_count": 73,
   "metadata": {
    "ExecuteTime": {
     "end_time": "2021-10-18T06:18:57.942052Z",
     "start_time": "2021-10-18T06:18:57.821080Z"
    }
   },
   "outputs": [],
   "source": [
    "data.to_csv(nomeArq + '_Mod.csv', encoding= 'ISO-8859-1', sep= ';', index=None)"
   ]
  },
  {
   "cell_type": "code",
   "execution_count": 74,
   "metadata": {
    "ExecuteTime": {
     "end_time": "2021-10-18T06:18:57.958033Z",
     "start_time": "2021-10-18T06:18:57.949036Z"
    }
   },
   "outputs": [
    {
     "name": "stdout",
     "output_type": "stream",
     "text": [
      "ACABOU!\n"
     ]
    }
   ],
   "source": [
    "print(\"ACABOU!\")"
   ]
  }
 ],
 "metadata": {
  "kernelspec": {
   "display_name": "Python 3",
   "language": "python",
   "name": "python3"
  },
  "language_info": {
   "codemirror_mode": {
    "name": "ipython",
    "version": 3
   },
   "file_extension": ".py",
   "mimetype": "text/x-python",
   "name": "python",
   "nbconvert_exporter": "python",
   "pygments_lexer": "ipython3",
   "version": "3.8.5"
  }
 },
 "nbformat": 4,
 "nbformat_minor": 4
}
