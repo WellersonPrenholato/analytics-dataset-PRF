{
 "cells": [
  {
   "cell_type": "markdown",
   "metadata": {},
   "source": [
    "### Organiza o resultado do algoritmo apriori\n",
    "Após executar o algoritmo apriori, o resultado sofre algumas modificações facilitando sua visualização.<br>\n",
    "Remoção de parte da string desnecessária no arquivo resultante do algoritmo apriori."
   ]
  },
  {
   "cell_type": "markdown",
   "metadata": {
    "heading_collapsed": true
   },
   "source": [
    "# Bibliotecas"
   ]
  },
  {
   "cell_type": "code",
   "execution_count": 1,
   "metadata": {
    "ExecuteTime": {
     "end_time": "2021-10-20T03:07:04.299109Z",
     "start_time": "2021-10-20T03:06:58.827045Z"
    },
    "hidden": true
   },
   "outputs": [],
   "source": [
    "import pandas as pd\n",
    "from decimal import Decimal"
   ]
  },
  {
   "cell_type": "markdown",
   "metadata": {
    "heading_collapsed": true
   },
   "source": [
    "# Carregamento dos dados"
   ]
  },
  {
   "cell_type": "code",
   "execution_count": 2,
   "metadata": {
    "ExecuteTime": {
     "end_time": "2021-10-20T03:07:04.316106Z",
     "start_time": "2021-10-20T03:07:04.306104Z"
    },
    "hidden": true
   },
   "outputs": [],
   "source": [
    "# Nome do arquivo com o resultado apriori\n",
    "nomeArq = 'AprioriMlxtend_ES_datatran2019_Apriori'"
   ]
  },
  {
   "cell_type": "code",
   "execution_count": 3,
   "metadata": {
    "ExecuteTime": {
     "end_time": "2021-10-20T03:07:04.421100Z",
     "start_time": "2021-10-20T03:07:04.323101Z"
    },
    "hidden": true
   },
   "outputs": [],
   "source": [
    "data = pd.read_csv(nomeArq +'.csv', encoding='ISO-8859-1', sep=';')"
   ]
  },
  {
   "cell_type": "code",
   "execution_count": 4,
   "metadata": {
    "ExecuteTime": {
     "end_time": "2021-10-20T03:07:04.546103Z",
     "start_time": "2021-10-20T03:07:04.427100Z"
    },
    "hidden": true
   },
   "outputs": [
    {
     "data": {
      "text/html": [
       "<div>\n",
       "<style scoped>\n",
       "    .dataframe tbody tr th:only-of-type {\n",
       "        vertical-align: middle;\n",
       "    }\n",
       "\n",
       "    .dataframe tbody tr th {\n",
       "        vertical-align: top;\n",
       "    }\n",
       "\n",
       "    .dataframe thead th {\n",
       "        text-align: right;\n",
       "    }\n",
       "</style>\n",
       "<table border=\"1\" class=\"dataframe\">\n",
       "  <thead>\n",
       "    <tr style=\"text-align: right;\">\n",
       "      <th></th>\n",
       "      <th>antecedents</th>\n",
       "      <th>consequents</th>\n",
       "      <th>antecedent support</th>\n",
       "      <th>consequent support</th>\n",
       "      <th>support</th>\n",
       "      <th>confidence</th>\n",
       "      <th>lift</th>\n",
       "      <th>leverage</th>\n",
       "      <th>conviction</th>\n",
       "      <th>antecedent_len</th>\n",
       "      <th>consequent_len</th>\n",
       "    </tr>\n",
       "  </thead>\n",
       "  <tbody>\n",
       "    <tr>\n",
       "      <th>0</th>\n",
       "      <td>frozenset({'feridos=1', 'br=101.0', 'pessoas=1'})</td>\n",
       "      <td>frozenset({'ignorados=0', 'ilesos=0', 'classif...</td>\n",
       "      <td>0.130542</td>\n",
       "      <td>0.286066</td>\n",
       "      <td>0.130542</td>\n",
       "      <td>1.0</td>\n",
       "      <td>3.495695</td>\n",
       "      <td>0.093198</td>\n",
       "      <td>inf</td>\n",
       "      <td>3</td>\n",
       "      <td>3</td>\n",
       "    </tr>\n",
       "    <tr>\n",
       "      <th>1</th>\n",
       "      <td>frozenset({'pessoas=1', 'br=101.0', 'classific...</td>\n",
       "      <td>frozenset({'ignorados=0', 'feridos=1', 'ilesos...</td>\n",
       "      <td>0.130542</td>\n",
       "      <td>0.183673</td>\n",
       "      <td>0.130542</td>\n",
       "      <td>1.0</td>\n",
       "      <td>5.444444</td>\n",
       "      <td>0.106565</td>\n",
       "      <td>inf</td>\n",
       "      <td>3</td>\n",
       "      <td>3</td>\n",
       "    </tr>\n",
       "    <tr>\n",
       "      <th>2</th>\n",
       "      <td>frozenset({'feridos=1', 'br=101.0', 'pessoas=1'})</td>\n",
       "      <td>frozenset({'ignorados=0', 'mortos=0', 'classif...</td>\n",
       "      <td>0.130542</td>\n",
       "      <td>0.732231</td>\n",
       "      <td>0.130542</td>\n",
       "      <td>1.0</td>\n",
       "      <td>1.365690</td>\n",
       "      <td>0.034955</td>\n",
       "      <td>inf</td>\n",
       "      <td>3</td>\n",
       "      <td>3</td>\n",
       "    </tr>\n",
       "    <tr>\n",
       "      <th>3</th>\n",
       "      <td>frozenset({'pessoas=1', 'br=101.0', 'classific...</td>\n",
       "      <td>frozenset({'ignorados=0', 'feridos=1', 'mortos...</td>\n",
       "      <td>0.130542</td>\n",
       "      <td>0.525686</td>\n",
       "      <td>0.130542</td>\n",
       "      <td>1.0</td>\n",
       "      <td>1.902276</td>\n",
       "      <td>0.061918</td>\n",
       "      <td>inf</td>\n",
       "      <td>3</td>\n",
       "      <td>3</td>\n",
       "    </tr>\n",
       "    <tr>\n",
       "      <th>4</th>\n",
       "      <td>frozenset({'feridos=1', 'br=101.0', 'pessoas=1'})</td>\n",
       "      <td>frozenset({'ignorados=0', 'veiculos=1', 'class...</td>\n",
       "      <td>0.130542</td>\n",
       "      <td>0.294511</td>\n",
       "      <td>0.130542</td>\n",
       "      <td>1.0</td>\n",
       "      <td>3.395460</td>\n",
       "      <td>0.092096</td>\n",
       "      <td>inf</td>\n",
       "      <td>3</td>\n",
       "      <td>3</td>\n",
       "    </tr>\n",
       "  </tbody>\n",
       "</table>\n",
       "</div>"
      ],
      "text/plain": [
       "                                         antecedents  \\\n",
       "0  frozenset({'feridos=1', 'br=101.0', 'pessoas=1'})   \n",
       "1  frozenset({'pessoas=1', 'br=101.0', 'classific...   \n",
       "2  frozenset({'feridos=1', 'br=101.0', 'pessoas=1'})   \n",
       "3  frozenset({'pessoas=1', 'br=101.0', 'classific...   \n",
       "4  frozenset({'feridos=1', 'br=101.0', 'pessoas=1'})   \n",
       "\n",
       "                                         consequents  antecedent support  \\\n",
       "0  frozenset({'ignorados=0', 'ilesos=0', 'classif...            0.130542   \n",
       "1  frozenset({'ignorados=0', 'feridos=1', 'ilesos...            0.130542   \n",
       "2  frozenset({'ignorados=0', 'mortos=0', 'classif...            0.130542   \n",
       "3  frozenset({'ignorados=0', 'feridos=1', 'mortos...            0.130542   \n",
       "4  frozenset({'ignorados=0', 'veiculos=1', 'class...            0.130542   \n",
       "\n",
       "   consequent support   support  confidence      lift  leverage  conviction  \\\n",
       "0            0.286066  0.130542         1.0  3.495695  0.093198         inf   \n",
       "1            0.183673  0.130542         1.0  5.444444  0.106565         inf   \n",
       "2            0.732231  0.130542         1.0  1.365690  0.034955         inf   \n",
       "3            0.525686  0.130542         1.0  1.902276  0.061918         inf   \n",
       "4            0.294511  0.130542         1.0  3.395460  0.092096         inf   \n",
       "\n",
       "   antecedent_len  consequent_len  \n",
       "0               3               3  \n",
       "1               3               3  \n",
       "2               3               3  \n",
       "3               3               3  \n",
       "4               3               3  "
      ]
     },
     "execution_count": 4,
     "metadata": {},
     "output_type": "execute_result"
    }
   ],
   "source": [
    "data.head(5)"
   ]
  },
  {
   "cell_type": "code",
   "execution_count": 5,
   "metadata": {
    "ExecuteTime": {
     "end_time": "2021-10-20T03:07:04.576104Z",
     "start_time": "2021-10-20T03:07:04.552100Z"
    },
    "hidden": true
   },
   "outputs": [
    {
     "data": {
      "text/plain": [
       "(2837, 11)"
      ]
     },
     "execution_count": 5,
     "metadata": {},
     "output_type": "execute_result"
    }
   ],
   "source": [
    "data.shape"
   ]
  },
  {
   "cell_type": "code",
   "execution_count": 6,
   "metadata": {
    "ExecuteTime": {
     "end_time": "2021-10-20T03:07:04.653105Z",
     "start_time": "2021-10-20T03:07:04.580100Z"
    },
    "hidden": true
   },
   "outputs": [
    {
     "data": {
      "text/plain": [
       "Index(['antecedents', 'consequents', 'antecedent support',\n",
       "       'consequent support', 'support', 'confidence', 'lift', 'leverage',\n",
       "       'conviction', 'antecedent_len', 'consequent_len'],\n",
       "      dtype='object')"
      ]
     },
     "execution_count": 6,
     "metadata": {},
     "output_type": "execute_result"
    }
   ],
   "source": [
    "data.columns"
   ]
  },
  {
   "cell_type": "markdown",
   "metadata": {},
   "source": [
    "# Organização dos dados"
   ]
  },
  {
   "cell_type": "markdown",
   "metadata": {
    "ExecuteTime": {
     "end_time": "2020-11-12T22:48:06.769182Z",
     "start_time": "2020-11-12T22:48:06.764186Z"
    },
    "heading_collapsed": true
   },
   "source": [
    "## Remoção de parte da string desnecessária (antecedents, consequents)"
   ]
  },
  {
   "cell_type": "code",
   "execution_count": 7,
   "metadata": {
    "ExecuteTime": {
     "end_time": "2021-10-20T03:07:04.752109Z",
     "start_time": "2021-10-20T03:07:04.659101Z"
    },
    "hidden": true
   },
   "outputs": [],
   "source": [
    "tamLinha = data.shape[0]"
   ]
  },
  {
   "cell_type": "code",
   "execution_count": 8,
   "metadata": {
    "ExecuteTime": {
     "end_time": "2021-10-20T03:07:04.763101Z",
     "start_time": "2021-10-20T03:07:04.756101Z"
    },
    "hidden": true
   },
   "outputs": [],
   "source": [
    "Ant_Suc = []\n",
    "Ant_Suc.append('antecedents')\n",
    "Ant_Suc.append('consequents')\n",
    "# Ant_Suc"
   ]
  },
  {
   "cell_type": "code",
   "execution_count": 9,
   "metadata": {
    "ExecuteTime": {
     "end_time": "2021-10-20T03:07:06.309637Z",
     "start_time": "2021-10-20T03:07:04.776101Z"
    },
    "hidden": true
   },
   "outputs": [],
   "source": [
    "for c in Ant_Suc:\n",
    "    for i in range(tamLinha):\n",
    "        # Remoção do 'frozenset(' e ')'\n",
    "        data.at[i, c] = data.at[i, c].replace(\"frozenset(\", \"\")\n",
    "        data.at[i, c] = data.at[i, c].replace(\")\", \"\")\n",
    "        \n",
    "        # Remoção do 'nan'\n",
    "        data.at[i, c] = data.at[i, c].replace(\"'nan'\", \"\")\n",
    "        data.at[i, c] = data.at[i, c].replace(\"{}\", \"\")\n",
    "        \n",
    "        # Remoção de alguns casos depois da remoção do 'nan'\n",
    "        data.at[i, c] = data.at[i, c].replace(\" , \", \" \")\n",
    "        data.at[i, c] = data.at[i, c].replace(\",}\", \"}\")\n",
    "        data.at[i, c] = data.at[i, c].replace(\", }\", \"}\")\n",
    "        data.at[i, c] = data.at[i, c].replace(\"{, \", \"{\")"
   ]
  },
  {
   "cell_type": "markdown",
   "metadata": {
    "heading_collapsed": true
   },
   "source": [
    "## Remoção das linhas vazias"
   ]
  },
  {
   "cell_type": "code",
   "execution_count": 10,
   "metadata": {
    "ExecuteTime": {
     "end_time": "2021-10-20T03:07:06.341639Z",
     "start_time": "2021-10-20T03:07:06.314639Z"
    },
    "hidden": true
   },
   "outputs": [
    {
     "data": {
      "text/plain": [
       "(2837, 11)"
      ]
     },
     "execution_count": 10,
     "metadata": {},
     "output_type": "execute_result"
    }
   ],
   "source": [
    "data.shape"
   ]
  },
  {
   "cell_type": "code",
   "execution_count": 11,
   "metadata": {
    "ExecuteTime": {
     "end_time": "2021-10-20T03:07:06.435639Z",
     "start_time": "2021-10-20T03:07:06.352638Z"
    },
    "hidden": true
   },
   "outputs": [],
   "source": [
    "# Remoção de linhas com antecedentes ou consequenes nulos\n",
    "df_remove = data.loc[((data['antecedents'] == '') | (data['consequents'] == ''))]\n",
    "data = data.drop(df_remove.index)"
   ]
  },
  {
   "cell_type": "code",
   "execution_count": 12,
   "metadata": {
    "ExecuteTime": {
     "end_time": "2021-10-20T03:07:06.467644Z",
     "start_time": "2021-10-20T03:07:06.439639Z"
    },
    "hidden": true
   },
   "outputs": [
    {
     "data": {
      "text/plain": [
       "(2837, 11)"
      ]
     },
     "execution_count": 12,
     "metadata": {},
     "output_type": "execute_result"
    }
   ],
   "source": [
    "data.shape"
   ]
  },
  {
   "cell_type": "markdown",
   "metadata": {
    "heading_collapsed": true
   },
   "source": [
    "## Removendo Linhas duplicadas"
   ]
  },
  {
   "cell_type": "code",
   "execution_count": 13,
   "metadata": {
    "ExecuteTime": {
     "end_time": "2021-10-20T03:07:06.496639Z",
     "start_time": "2021-10-20T03:07:06.474641Z"
    },
    "hidden": true
   },
   "outputs": [
    {
     "data": {
      "text/plain": [
       "(2837, 11)"
      ]
     },
     "execution_count": 13,
     "metadata": {},
     "output_type": "execute_result"
    }
   ],
   "source": [
    "data.shape"
   ]
  },
  {
   "cell_type": "code",
   "execution_count": 14,
   "metadata": {
    "ExecuteTime": {
     "end_time": "2021-10-20T03:07:06.621666Z",
     "start_time": "2021-10-20T03:07:06.504640Z"
    },
    "hidden": true
   },
   "outputs": [],
   "source": [
    "data.drop_duplicates(inplace=True) # Verifica a existência de linhas duplicadas"
   ]
  },
  {
   "cell_type": "code",
   "execution_count": 15,
   "metadata": {
    "ExecuteTime": {
     "end_time": "2021-10-20T03:07:06.653638Z",
     "start_time": "2021-10-20T03:07:06.626637Z"
    },
    "hidden": true
   },
   "outputs": [],
   "source": [
    "# Ordena de acordo com a coluna support de forma decrescente\n",
    "data.sort_values(by=['confidence', 'support'], inplace=True, ascending=False)"
   ]
  },
  {
   "cell_type": "markdown",
   "metadata": {
    "heading_collapsed": true
   },
   "source": [
    "# Remoção de regras similares"
   ]
  },
  {
   "cell_type": "code",
   "execution_count": 16,
   "metadata": {
    "ExecuteTime": {
     "end_time": "2021-10-20T03:07:06.668651Z",
     "start_time": "2021-10-20T03:07:06.657641Z"
    },
    "hidden": true
   },
   "outputs": [],
   "source": [
    "# data.sort_values(by=['support'], ascending=False, inplace=True)"
   ]
  },
  {
   "cell_type": "code",
   "execution_count": 17,
   "metadata": {
    "ExecuteTime": {
     "end_time": "2021-10-20T03:07:07.065811Z",
     "start_time": "2021-10-20T03:07:06.677644Z"
    },
    "hidden": true
   },
   "outputs": [],
   "source": [
    "# Gambiarra para atualizar o arquivo com os dados ordenados, de acordo com a célula anterior\n",
    "data.to_csv(nomeArq + '_Backup.csv', encoding= 'ISO-8859-1', sep= ';', index=None)\n",
    "data = pd.read_csv(nomeArq +'_Backup.csv', encoding='ISO-8859-1', sep=';')"
   ]
  },
  {
   "cell_type": "code",
   "execution_count": 18,
   "metadata": {
    "ExecuteTime": {
     "end_time": "2021-10-20T03:07:07.096641Z",
     "start_time": "2021-10-20T03:07:07.076640Z"
    },
    "hidden": true
   },
   "outputs": [],
   "source": [
    "def asterix(num):\n",
    "    a = '*'\n",
    "    x =''\n",
    "    for i in range(num):\n",
    "        x = x + a    \n",
    "    return x"
   ]
  },
  {
   "cell_type": "code",
   "execution_count": 19,
   "metadata": {
    "ExecuteTime": {
     "end_time": "2021-10-20T03:08:32.541061Z",
     "start_time": "2021-10-20T03:07:07.123641Z"
    },
    "hidden": true
   },
   "outputs": [
    {
     "name": "stdout",
     "output_type": "stream",
     "text": [
      "Wall time: 1min 25s\n"
     ]
    }
   ],
   "source": [
    "%%time\n",
    "tamLinha = data.shape[0]\n",
    "flag = 1\n",
    "listRemove = []\n",
    "for i in range(0, tamLinha):\n",
    "    flag = 1\n",
    "    for j in range(i+1, tamLinha):\n",
    "        if ( (data.at[i, 'antecedents'] == data.at[j, 'consequents']) and (data.at[i, 'consequents'] == data.at[j, 'antecedents'])): # testar equals\n",
    "                count = i+2 \n",
    "                data.at[j, 'antecedents'] = str(count) + (asterix(flag))\n",
    "                data.at[j, 'consequents'] = str(count) + (asterix(flag))\n",
    "#                 data.at[j, 'antecedents'] = ''\n",
    "#                 data.at[j, 'consequents'] = ''\n",
    "                listRemove.append(j) # Adiciona em uma lista as linhas que serão removidas logo em seguida\n",
    "                flag = flag + 1"
   ]
  },
  {
   "cell_type": "code",
   "execution_count": 20,
   "metadata": {
    "ExecuteTime": {
     "end_time": "2021-10-20T03:08:32.613059Z",
     "start_time": "2021-10-20T03:08:32.546059Z"
    },
    "hidden": true
   },
   "outputs": [
    {
     "name": "stdout",
     "output_type": "stream",
     "text": [
      "Nº de linhas removidas:  13\n"
     ]
    }
   ],
   "source": [
    "# A lista possui o número das linhas que possuem dados repetidos e serão removidas\n",
    "for r in listRemove:\n",
    "#     print(\"Linha:\", r)\n",
    "    data.drop(r, inplace=True)\n",
    "\n",
    "print(\"Nº de linhas removidas: \", len(listRemove))"
   ]
  },
  {
   "cell_type": "code",
   "execution_count": 21,
   "metadata": {
    "ExecuteTime": {
     "end_time": "2021-10-20T03:08:32.659058Z",
     "start_time": "2021-10-20T03:08:32.625061Z"
    },
    "hidden": true
   },
   "outputs": [
    {
     "data": {
      "text/plain": [
       "(2824, 11)"
      ]
     },
     "execution_count": 21,
     "metadata": {},
     "output_type": "execute_result"
    }
   ],
   "source": [
    "data.shape"
   ]
  },
  {
   "cell_type": "markdown",
   "metadata": {},
   "source": [
    "# Limitar casas decimais"
   ]
  },
  {
   "cell_type": "code",
   "execution_count": 22,
   "metadata": {
    "ExecuteTime": {
     "end_time": "2021-10-20T03:08:32.817058Z",
     "start_time": "2021-10-20T03:08:32.664059Z"
    }
   },
   "outputs": [],
   "source": [
    "decimals = 8\n",
    "\n",
    "listCol = ['antecedent support', 'consequent support', 'support', 'confidence', 'lift', 'leverage', 'conviction']\n",
    "for i in listCol:\n",
    "    data[i] = data[i].apply(lambda x: round(x, decimals))\n"
   ]
  },
  {
   "cell_type": "markdown",
   "metadata": {},
   "source": [
    "# Incluir uma nova coluna com a identificação de cada linha"
   ]
  },
  {
   "cell_type": "code",
   "execution_count": 23,
   "metadata": {
    "ExecuteTime": {
     "end_time": "2021-10-20T03:08:33.064073Z",
     "start_time": "2021-10-20T03:08:32.828060Z"
    }
   },
   "outputs": [],
   "source": [
    "#Célula utilizada para atualizar a linha do dataframe. Iniciando a linha em 0.\n",
    "# Salvando em um arquivo .csv\n",
    "data.to_csv(nomeArq + '_Backup.csv', encoding= 'ISO-8859-1', sep= ';', index=False)\n",
    "\n",
    "# Gambiarra para atualizar o arquivo com os dados ordenados, de acordo com a célula anterior\n",
    "data = pd.read_csv(nomeArq + '_Backup.csv', encoding='ISO-8859-1', sep=';')"
   ]
  },
  {
   "cell_type": "code",
   "execution_count": 24,
   "metadata": {
    "ExecuteTime": {
     "end_time": "2021-10-20T03:08:33.191061Z",
     "start_time": "2021-10-20T03:08:33.067062Z"
    }
   },
   "outputs": [],
   "source": [
    "# Cria uma nova coluna que servirá para identificar cada regra de associação com um número inteiro.\n",
    "idx = 0\n",
    "new_col = 0\n",
    "data.insert(loc=idx, column='n_row', value=new_col)\n",
    "\n",
    "row =1\n",
    "for i in range(data.shape[0]):\n",
    "    data.at[i, 'n_row'] = int(row)\n",
    "    row = row + 1"
   ]
  },
  {
   "cell_type": "markdown",
   "metadata": {},
   "source": [
    "# Substituição de '.' para ','"
   ]
  },
  {
   "cell_type": "code",
   "execution_count": 25,
   "metadata": {
    "ExecuteTime": {
     "end_time": "2021-10-20T03:08:33.207069Z",
     "start_time": "2021-10-20T03:08:33.197058Z"
    }
   },
   "outputs": [],
   "source": [
    "# Fazer essa substituição nas demais colunas"
   ]
  },
  {
   "cell_type": "code",
   "execution_count": 26,
   "metadata": {
    "ExecuteTime": {
     "end_time": "2021-10-20T03:08:33.238068Z",
     "start_time": "2021-10-20T03:08:33.214060Z"
    }
   },
   "outputs": [],
   "source": [
    "# data['lift'] = data['lift'].astype(str)\n",
    "# data['lift'] = data['lift'].str.replace('.', ',')"
   ]
  },
  {
   "cell_type": "code",
   "execution_count": 27,
   "metadata": {
    "ExecuteTime": {
     "end_time": "2021-10-20T03:08:33.435060Z",
     "start_time": "2021-10-20T03:08:33.252059Z"
    }
   },
   "outputs": [],
   "source": [
    "listCol = ['antecedent support', 'consequent support', 'support', 'confidence', 'lift', 'leverage', 'conviction']\n",
    "for i in listCol:\n",
    "    data[i] = data[i].astype(str)\n",
    "    data[i] = data[i].str.replace('.', ',')"
   ]
  },
  {
   "cell_type": "markdown",
   "metadata": {},
   "source": [
    "# Resultado final"
   ]
  },
  {
   "cell_type": "code",
   "execution_count": 28,
   "metadata": {
    "ExecuteTime": {
     "end_time": "2021-10-20T03:08:33.601063Z",
     "start_time": "2021-10-20T03:08:33.455068Z"
    }
   },
   "outputs": [
    {
     "data": {
      "text/html": [
       "<div>\n",
       "<style scoped>\n",
       "    .dataframe tbody tr th:only-of-type {\n",
       "        vertical-align: middle;\n",
       "    }\n",
       "\n",
       "    .dataframe tbody tr th {\n",
       "        vertical-align: top;\n",
       "    }\n",
       "\n",
       "    .dataframe thead th {\n",
       "        text-align: right;\n",
       "    }\n",
       "</style>\n",
       "<table border=\"1\" class=\"dataframe\">\n",
       "  <thead>\n",
       "    <tr style=\"text-align: right;\">\n",
       "      <th></th>\n",
       "      <th>n_row</th>\n",
       "      <th>antecedents</th>\n",
       "      <th>consequents</th>\n",
       "      <th>antecedent support</th>\n",
       "      <th>consequent support</th>\n",
       "      <th>support</th>\n",
       "      <th>confidence</th>\n",
       "      <th>lift</th>\n",
       "      <th>leverage</th>\n",
       "      <th>conviction</th>\n",
       "      <th>antecedent_len</th>\n",
       "      <th>consequent_len</th>\n",
       "    </tr>\n",
       "  </thead>\n",
       "  <tbody>\n",
       "    <tr>\n",
       "      <th>0</th>\n",
       "      <td>1</td>\n",
       "      <td>{'pessoas=2', 'feridos=1', 'ilesos=1'}</td>\n",
       "      <td>{'ignorados=0', 'mortos=0', 'classificacao_aci...</td>\n",
       "      <td>0,26706545</td>\n",
       "      <td>0,73223082</td>\n",
       "      <td>0,26706545</td>\n",
       "      <td>1,0</td>\n",
       "      <td>1,36568957</td>\n",
       "      <td>0,07151189</td>\n",
       "      <td>inf</td>\n",
       "      <td>3</td>\n",
       "      <td>3</td>\n",
       "    </tr>\n",
       "    <tr>\n",
       "      <th>1</th>\n",
       "      <td>2</td>\n",
       "      <td>{'pessoas=2', 'ilesos=1', 'classificacao_acide...</td>\n",
       "      <td>{'ignorados=0', 'feridos=1', 'mortos=0'}</td>\n",
       "      <td>0,26706545</td>\n",
       "      <td>0,52568614</td>\n",
       "      <td>0,26706545</td>\n",
       "      <td>1,0</td>\n",
       "      <td>1,90227577</td>\n",
       "      <td>0,12667284</td>\n",
       "      <td>inf</td>\n",
       "      <td>3</td>\n",
       "      <td>3</td>\n",
       "    </tr>\n",
       "    <tr>\n",
       "      <th>2</th>\n",
       "      <td>3</td>\n",
       "      <td>{'pessoas=2', 'feridos=1', 'ilesos=1', 'veicul...</td>\n",
       "      <td>{'ignorados=0', 'mortos=0', 'classificacao_aci...</td>\n",
       "      <td>0,22765658</td>\n",
       "      <td>0,73223082</td>\n",
       "      <td>0,22765658</td>\n",
       "      <td>1,0</td>\n",
       "      <td>1,36568957</td>\n",
       "      <td>0,06095941</td>\n",
       "      <td>inf</td>\n",
       "      <td>4</td>\n",
       "      <td>3</td>\n",
       "    </tr>\n",
       "    <tr>\n",
       "      <th>3</th>\n",
       "      <td>4</td>\n",
       "      <td>{'pessoas=2', 'ilesos=1', 'veiculos=2', 'class...</td>\n",
       "      <td>{'ignorados=0', 'feridos=1', 'mortos=0'}</td>\n",
       "      <td>0,22765658</td>\n",
       "      <td>0,52568614</td>\n",
       "      <td>0,22765658</td>\n",
       "      <td>1,0</td>\n",
       "      <td>1,90227577</td>\n",
       "      <td>0,10798067</td>\n",
       "      <td>inf</td>\n",
       "      <td>4</td>\n",
       "      <td>3</td>\n",
       "    </tr>\n",
       "    <tr>\n",
       "      <th>4</th>\n",
       "      <td>5</td>\n",
       "      <td>{'feridos=1', 'pessoas=2', 'br=101.0', 'ilesos...</td>\n",
       "      <td>{'ignorados=0', 'mortos=0', 'classificacao_aci...</td>\n",
       "      <td>0,19528501</td>\n",
       "      <td>0,73223082</td>\n",
       "      <td>0,19528501</td>\n",
       "      <td>1,0</td>\n",
       "      <td>1,36568957</td>\n",
       "      <td>0,05229131</td>\n",
       "      <td>inf</td>\n",
       "      <td>4</td>\n",
       "      <td>3</td>\n",
       "    </tr>\n",
       "    <tr>\n",
       "      <th>5</th>\n",
       "      <td>6</td>\n",
       "      <td>{'pessoas=2', 'br=101.0', 'ilesos=1', 'classif...</td>\n",
       "      <td>{'ignorados=0', 'feridos=1', 'mortos=0'}</td>\n",
       "      <td>0,19528501</td>\n",
       "      <td>0,52568614</td>\n",
       "      <td>0,19528501</td>\n",
       "      <td>1,0</td>\n",
       "      <td>1,90227577</td>\n",
       "      <td>0,09262639</td>\n",
       "      <td>inf</td>\n",
       "      <td>4</td>\n",
       "      <td>3</td>\n",
       "    </tr>\n",
       "    <tr>\n",
       "      <th>6</th>\n",
       "      <td>7</td>\n",
       "      <td>{'feridos=1', 'mortos=0', 'pessoas=1'}</td>\n",
       "      <td>{'ignorados=0', 'ilesos=0', 'classificacao_aci...</td>\n",
       "      <td>0,18121042</td>\n",
       "      <td>0,28606615</td>\n",
       "      <td>0,18121042</td>\n",
       "      <td>1,0</td>\n",
       "      <td>3,49569496</td>\n",
       "      <td>0,12937225</td>\n",
       "      <td>inf</td>\n",
       "      <td>3</td>\n",
       "      <td>3</td>\n",
       "    </tr>\n",
       "    <tr>\n",
       "      <th>7</th>\n",
       "      <td>8</td>\n",
       "      <td>{'pessoas=1', 'feridos=1', 'classificacao_acid...</td>\n",
       "      <td>{'ignorados=0', 'mortos=0', 'ilesos=0'}</td>\n",
       "      <td>0,18121042</td>\n",
       "      <td>0,28606615</td>\n",
       "      <td>0,18121042</td>\n",
       "      <td>1,0</td>\n",
       "      <td>3,49569496</td>\n",
       "      <td>0,12937225</td>\n",
       "      <td>inf</td>\n",
       "      <td>3</td>\n",
       "      <td>3</td>\n",
       "    </tr>\n",
       "    <tr>\n",
       "      <th>8</th>\n",
       "      <td>9</td>\n",
       "      <td>{'ignorados=0', 'feridos=1', 'pessoas=1'}</td>\n",
       "      <td>{'mortos=0', 'ilesos=0', 'classificacao_aciden...</td>\n",
       "      <td>0,18121042</td>\n",
       "      <td>0,34658691</td>\n",
       "      <td>0,18121042</td>\n",
       "      <td>1,0</td>\n",
       "      <td>2,88527919</td>\n",
       "      <td>0,11840526</td>\n",
       "      <td>inf</td>\n",
       "      <td>3</td>\n",
       "      <td>3</td>\n",
       "    </tr>\n",
       "    <tr>\n",
       "      <th>9</th>\n",
       "      <td>10</td>\n",
       "      <td>{'feridos=1', 'ilesos=0', 'pessoas=1'}</td>\n",
       "      <td>{'ignorados=0', 'mortos=0', 'classificacao_aci...</td>\n",
       "      <td>0,18121042</td>\n",
       "      <td>0,73223082</td>\n",
       "      <td>0,18121042</td>\n",
       "      <td>1,0</td>\n",
       "      <td>1,36568957</td>\n",
       "      <td>0,04852256</td>\n",
       "      <td>inf</td>\n",
       "      <td>3</td>\n",
       "      <td>3</td>\n",
       "    </tr>\n",
       "  </tbody>\n",
       "</table>\n",
       "</div>"
      ],
      "text/plain": [
       "   n_row                                        antecedents  \\\n",
       "0      1             {'pessoas=2', 'feridos=1', 'ilesos=1'}   \n",
       "1      2  {'pessoas=2', 'ilesos=1', 'classificacao_acide...   \n",
       "2      3  {'pessoas=2', 'feridos=1', 'ilesos=1', 'veicul...   \n",
       "3      4  {'pessoas=2', 'ilesos=1', 'veiculos=2', 'class...   \n",
       "4      5  {'feridos=1', 'pessoas=2', 'br=101.0', 'ilesos...   \n",
       "5      6  {'pessoas=2', 'br=101.0', 'ilesos=1', 'classif...   \n",
       "6      7             {'feridos=1', 'mortos=0', 'pessoas=1'}   \n",
       "7      8  {'pessoas=1', 'feridos=1', 'classificacao_acid...   \n",
       "8      9          {'ignorados=0', 'feridos=1', 'pessoas=1'}   \n",
       "9     10             {'feridos=1', 'ilesos=0', 'pessoas=1'}   \n",
       "\n",
       "                                         consequents antecedent support  \\\n",
       "0  {'ignorados=0', 'mortos=0', 'classificacao_aci...         0,26706545   \n",
       "1           {'ignorados=0', 'feridos=1', 'mortos=0'}         0,26706545   \n",
       "2  {'ignorados=0', 'mortos=0', 'classificacao_aci...         0,22765658   \n",
       "3           {'ignorados=0', 'feridos=1', 'mortos=0'}         0,22765658   \n",
       "4  {'ignorados=0', 'mortos=0', 'classificacao_aci...         0,19528501   \n",
       "5           {'ignorados=0', 'feridos=1', 'mortos=0'}         0,19528501   \n",
       "6  {'ignorados=0', 'ilesos=0', 'classificacao_aci...         0,18121042   \n",
       "7            {'ignorados=0', 'mortos=0', 'ilesos=0'}         0,18121042   \n",
       "8  {'mortos=0', 'ilesos=0', 'classificacao_aciden...         0,18121042   \n",
       "9  {'ignorados=0', 'mortos=0', 'classificacao_aci...         0,18121042   \n",
       "\n",
       "  consequent support     support confidence        lift    leverage  \\\n",
       "0         0,73223082  0,26706545        1,0  1,36568957  0,07151189   \n",
       "1         0,52568614  0,26706545        1,0  1,90227577  0,12667284   \n",
       "2         0,73223082  0,22765658        1,0  1,36568957  0,06095941   \n",
       "3         0,52568614  0,22765658        1,0  1,90227577  0,10798067   \n",
       "4         0,73223082  0,19528501        1,0  1,36568957  0,05229131   \n",
       "5         0,52568614  0,19528501        1,0  1,90227577  0,09262639   \n",
       "6         0,28606615  0,18121042        1,0  3,49569496  0,12937225   \n",
       "7         0,28606615  0,18121042        1,0  3,49569496  0,12937225   \n",
       "8         0,34658691  0,18121042        1,0  2,88527919  0,11840526   \n",
       "9         0,73223082  0,18121042        1,0  1,36568957  0,04852256   \n",
       "\n",
       "  conviction  antecedent_len  consequent_len  \n",
       "0        inf               3               3  \n",
       "1        inf               3               3  \n",
       "2        inf               4               3  \n",
       "3        inf               4               3  \n",
       "4        inf               4               3  \n",
       "5        inf               4               3  \n",
       "6        inf               3               3  \n",
       "7        inf               3               3  \n",
       "8        inf               3               3  \n",
       "9        inf               3               3  "
      ]
     },
     "execution_count": 28,
     "metadata": {},
     "output_type": "execute_result"
    }
   ],
   "source": [
    "data.head(10)"
   ]
  },
  {
   "cell_type": "markdown",
   "metadata": {},
   "source": [
    "# Salvando o arquivo resultante"
   ]
  },
  {
   "cell_type": "code",
   "execution_count": 29,
   "metadata": {
    "ExecuteTime": {
     "end_time": "2021-10-20T03:08:33.744059Z",
     "start_time": "2021-10-20T03:08:33.613059Z"
    }
   },
   "outputs": [],
   "source": [
    "data.to_csv(nomeArq + '_Mod.csv', encoding= 'ISO-8859-1', sep= ';', index=None)"
   ]
  },
  {
   "cell_type": "code",
   "execution_count": 30,
   "metadata": {
    "ExecuteTime": {
     "end_time": "2021-10-20T03:08:33.768062Z",
     "start_time": "2021-10-20T03:08:33.750063Z"
    }
   },
   "outputs": [
    {
     "name": "stdout",
     "output_type": "stream",
     "text": [
      "ACABOU!\n"
     ]
    }
   ],
   "source": [
    "print(\"ACABOU!\")"
   ]
  }
 ],
 "metadata": {
  "kernelspec": {
   "display_name": "Python 3",
   "language": "python",
   "name": "python3"
  },
  "language_info": {
   "codemirror_mode": {
    "name": "ipython",
    "version": 3
   },
   "file_extension": ".py",
   "mimetype": "text/x-python",
   "name": "python",
   "nbconvert_exporter": "python",
   "pygments_lexer": "ipython3",
   "version": "3.8.5"
  }
 },
 "nbformat": 4,
 "nbformat_minor": 4
}
